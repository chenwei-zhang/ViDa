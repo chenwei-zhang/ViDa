{
 "cells": [
  {
   "cell_type": "code",
   "execution_count": 489,
   "metadata": {},
   "outputs": [],
   "source": [
    "import numpy as np\n",
    "import re\n",
    "import pickle\n",
    "import gzip\n",
    "\n",
    "import sys\n",
    "sys.path.append('/Users/chenwei/Desktop/Github/ViDa') \n",
    "\n",
    "import imp, vida.data_processing.utils\n",
    "imp.reload(vida.data_processing.utils)\n",
    "from vida.data_processing.utils import *\n",
    "\n",
    "import imp, vida.adjmat.dp2adj\n",
    "imp.reload(vida.adjmat.dp2adj)\n",
    "from vida.adjmat.dp2adj import *\n",
    "\n",
    "import imp, vida.data_processing.comp_time\n",
    "imp.reload(vida.data_processing.comp_time)\n",
    "from vida.data_processing.comp_time import *\n"
   ]
  },
  {
   "cell_type": "markdown",
   "metadata": {},
   "source": [
    "## three way"
   ]
  },
  {
   "cell_type": "code",
   "execution_count": 490,
   "metadata": {},
   "outputs": [],
   "source": [
    "fpath = '/Users/chenwei/Desktop/Github/ViDa//data/raw_data/Machinek-data'\n",
    "rxn = 'Machinek-PRF'\n",
    "ref_strands = 'CCCTCCACATTCAACCTCAAACTCACC+TGGTGTTTGTGGGTGTGGTGAGTTTGAGGTTGA+GGTGAGTTTGAGGTTGAATGTGGA'\n",
    "strand_a = 'CCCTCCACATTCAACCTCAAACTCACC'  # substrate_perf_seq\n",
    "strand_b = 'TGGTGTTTGTGGGTGTGGTGAGTTTGAGGTTGA'  # incumbent_perf_seq\n",
    "strand_c = 'GGTGAGTTTGAGGTTGAATGTGGA'  # invader_perf_seq\n",
    "strand_list = [strand_a, strand_b, strand_c]\n",
    "\n",
    "ref_name_list = assign_base_names(ref_strands)\n",
    "ref_name = [item for sublist in ref_name_list for item in sublist]\n"
   ]
  },
  {
   "cell_type": "code",
   "execution_count": 444,
   "metadata": {},
   "outputs": [
    {
     "data": {
      "text/plain": [
       "['CCCTCCACATTCAACCTCAAACTCACC',\n",
       " 'TGGTGTTTGTGGGTGTGGTGAGTTTGAGGTTGA',\n",
       " 'GGTGAGTTTGAGGTTGAATGTGGA']"
      ]
     },
     "execution_count": 444,
     "metadata": {},
     "output_type": "execute_result"
    }
   ],
   "source": [
    "strand_list"
   ]
  },
  {
   "cell_type": "code",
   "execution_count": 415,
   "metadata": {},
   "outputs": [],
   "source": [
    "# f = open('/Users/chenwei/Desktop/Github/ViDa/data/raw_data/Machinek-data/Machinek-PRF/Machinek-PRF-0.txt', 'r')\n",
    "# lines = f.read().splitlines()\n",
    "# part_strand = 'GGTGAGTTTGAGGTTGAATGTGGA'\n",
    "# seq_line = []\n",
    "# pattern = re.compile(r'^(.*?)\\s+t=([\\d.e+-]+) seconds, dG=([-\\d.e+]+) kcal/mol')"
   ]
  },
  {
   "cell_type": "markdown",
   "metadata": {},
   "source": [
    "### read files"
   ]
  },
  {
   "cell_type": "code",
   "execution_count": 445,
   "metadata": {},
   "outputs": [
    {
     "data": {
      "text/plain": [
       "((1, 32898), (1, 32898))"
      ]
     },
     "execution_count": 445,
     "metadata": {},
     "output_type": "execute_result"
    }
   ],
   "source": [
    "trajs_seqs, trajs_states, trajs_times, trajs_energies = read_machinek(fpath,rxn,strand_a,num_files=1)\n",
    "trajs_seqs.shape, trajs_states.shape"
   ]
  },
  {
   "cell_type": "code",
   "execution_count": 446,
   "metadata": {},
   "outputs": [
    {
     "data": {
      "text/plain": [
       "array(['GGTGAGTTTGAGGTTGAATGTGGA+CCCTCCACATTCAACCTCAAACTCACC+TGGTGTTTGTGGGTGTGGTGAGTTTGAGGTTGA',\n",
       "       'GGTGAGTTTGAGGTTGAATGTGGA+CCCTCCACATTCAACCTCAAACTCACC+TGGTGTTTGTGGGTGTGGTGAGTTTGAGGTTGA',\n",
       "       'GGTGAGTTTGAGGTTGAATGTGGA+CCCTCCACATTCAACCTCAAACTCACC+TGGTGTTTGTGGGTGTGGTGAGTTTGAGGTTGA',\n",
       "       'GGTGAGTTTGAGGTTGAATGTGGA+CCCTCCACATTCAACCTCAAACTCACC+TGGTGTTTGTGGGTGTGGTGAGTTTGAGGTTGA',\n",
       "       'GGTGAGTTTGAGGTTGAATGTGGA+CCCTCCACATTCAACCTCAAACTCACC+TGGTGTTTGTGGGTGTGGTGAGTTTGAGGTTGA',\n",
       "       'GGTGAGTTTGAGGTTGAATGTGGA+CCCTCCACATTCAACCTCAAACTCACC+TGGTGTTTGTGGGTGTGGTGAGTTTGAGGTTGA',\n",
       "       'GGTGAGTTTGAGGTTGAATGTGGA+CCCTCCACATTCAACCTCAAACTCACC+TGGTGTTTGTGGGTGTGGTGAGTTTGAGGTTGA',\n",
       "       'GGTGAGTTTGAGGTTGAATGTGGA+CCCTCCACATTCAACCTCAAACTCACC+TGGTGTTTGTGGGTGTGGTGAGTTTGAGGTTGA',\n",
       "       'GGTGAGTTTGAGGTTGAATGTGGA+CCCTCCACATTCAACCTCAAACTCACC+TGGTGTTTGTGGGTGTGGTGAGTTTGAGGTTGA',\n",
       "       'TGGTGTTTGTGGGTGTGGTGAGTTTGAGGTTGA GGTGAGTTTGAGGTTGAATGTGGA+CCCTCCACATTCAACCTCAAACTCACC'],\n",
       "      dtype=object)"
      ]
     },
     "execution_count": 446,
     "metadata": {},
     "output_type": "execute_result"
    }
   ],
   "source": [
    "trajs_seqs[0][-10:]"
   ]
  },
  {
   "cell_type": "markdown",
   "metadata": {},
   "source": [
    "### preprocess"
   ]
  },
  {
   "cell_type": "code",
   "execution_count": 491,
   "metadata": {},
   "outputs": [],
   "source": [
    "dp_arr, dp_og, pair, energy, trans_time = concat_machinek(trajs_states, trajs_times, trajs_energies)\n",
    "dp_uniq, dp_og_uniq, pair_uniq, energy_uniq, indices_uniq, indices_all = get_uniq(dp_arr, dp_og, pair, energy)\n",
    "adj_uniq, seqlabel_uniq = sim_adj_3strand_uniq(dp_arr, trajs_seqs, ref_name, ref_name_list, strand_list, indices_uniq)    "
   ]
  },
  {
   "cell_type": "markdown",
   "metadata": {},
   "source": [
    "#### adj_uqni debug"
   ]
  },
  {
   "cell_type": "code",
   "execution_count": 493,
   "metadata": {},
   "outputs": [
    {
     "data": {
      "text/plain": [
       "((1, 32898), (32898,), (1, 32898), 32898, (984, 84, 84), (984,), (32898,))"
      ]
     },
     "execution_count": 493,
     "metadata": {},
     "output_type": "execute_result"
    }
   ],
   "source": [
    "dp_arr.shape, dp_arr[0].shape, trajs_seqs.shape, len(trajs_seqs[0]), adj_uniq.shape, seqlabel_uniq.shape, indices_all.shape"
   ]
  },
  {
   "cell_type": "code",
   "execution_count": 495,
   "metadata": {},
   "outputs": [
    {
     "data": {
      "text/plain": [
       "(array(['GGTGAGTTTGAGGTTGAATGTGGA TGGTGTTTGTGGGTGTGGTGAGTTTGAGGTTGA+CCCTCCACATTCAACCTCAAACTCACC',\n",
       "        'GGTGAGTTTGAGGTTGAATGTGGA TGGTGTTTGTGGGTGTGGTGAGTTTGAGGTTGA+CCCTCCACATTCAACCTCAAACTCACC',\n",
       "        'GGTGAGTTTGAGGTTGAATGTGGA TGGTGTTTGTGGGTGTGGTGAGTTTGAGGTTGA+CCCTCCACATTCAACCTCAAACTCACC',\n",
       "        'TGGTGTTTGTGGGTGTGGTGAGTTTGAGGTTGA GGTGAGTTTGAGGTTGAATGTGGA+CCCTCCACATTCAACCTCAAACTCACC'],\n",
       "       dtype=object),\n",
       " array(['........................ ................((((((((.((((((((+..........)))))))).))))))))',\n",
       "        '........................ .................((((((((((((((((+..........)))))))))))))))).',\n",
       "        '........................ .................(((((((((((((((.+...........))))))))))))))).',\n",
       "        '................................. .((((((((((((((((((((((.+....)))))))))))))))))))))).'],\n",
       "       dtype=object))"
      ]
     },
     "execution_count": 495,
     "metadata": {},
     "output_type": "execute_result"
    }
   ],
   "source": [
    "la = 980\n",
    "lb = la+10\n",
    "\n",
    "seqlabel_uniq[la:lb], dp_og_uniq[la:lb]"
   ]
  },
  {
   "cell_type": "code",
   "execution_count": 496,
   "metadata": {},
   "outputs": [
    {
     "data": {
      "text/plain": [
       "('................................. .((((((((((((((((((((((.+....)))))))))))))))))))))).',\n",
       " array([[0, 1, 0, ..., 0, 0, 0],\n",
       "        [1, 0, 1, ..., 0, 0, 0],\n",
       "        [0, 1, 0, ..., 0, 0, 0],\n",
       "        ...,\n",
       "        [0, 0, 0, ..., 0, 1, 0],\n",
       "        [0, 0, 0, ..., 1, 0, 1],\n",
       "        [0, 0, 0, ..., 0, 1, 0]]))"
      ]
     },
     "execution_count": 496,
     "metadata": {},
     "output_type": "execute_result"
    }
   ],
   "source": [
    "dp_og_uniq[-1], adj_uniq[-1]"
   ]
  },
  {
   "cell_type": "code",
   "execution_count": 497,
   "metadata": {},
   "outputs": [
    {
     "data": {
      "text/plain": [
       "('................................. .((((((((((((((((((((((.+....)))))))))))))))))))))).',\n",
       " '..................................((((((((((((((((((((((.....)))))))))))))))))))))).',\n",
       " 'TGGTGTTTGTGGGTGTGGTGAGTTTGAGGTTGA GGTGAGTTTGAGGTTGAATGTGGA+CCCTCCACATTCAACCTCAAACTCACC')"
      ]
     },
     "execution_count": 497,
     "metadata": {},
     "output_type": "execute_result"
    }
   ],
   "source": [
    "dp_og_uniq[-1], dp_uniq[-1], seqlabel_uniq[-1]"
   ]
  },
  {
   "cell_type": "code",
   "execution_count": null,
   "metadata": {},
   "outputs": [],
   "source": [
    "\"\"\"\n",
    "## TEST 1\n",
    "## Calculate the adjacency matrix for the individual structure ##\n",
    "\n",
    "\"\"\"\n",
    "dp_structure = dp_uniq[-1]\n",
    "\n",
    "alter_name_arr = concat_disorder(trajs_seqs[0],ref_name_list, strand_list)\n",
    "\n",
    "alter_name_arr_test = alter_name_arr[-1]\n",
    "\n",
    "alter_name = np.concatenate(alter_name_arr_test)\n",
    "\n",
    "dplast = dp2adj_3strand(ref_name, alter_name, alter_name_arr_test, dp_structure)\n",
    "dplast"
   ]
  },
  {
   "cell_type": "code",
   "execution_count": null,
   "metadata": {},
   "outputs": [],
   "source": [
    "\"\"\"\n",
    "## TEST 2\n",
    "## Calculate the whole adjacency matrix than compared with uniq ones ##\n",
    "\n",
    "\"\"\"\n",
    "dppmat = sim_adj_3strand(dp_arr, trajs_seqs, ref_name, ref_name_list, strand_list)\n",
    "dppmat_uniq = dppmat[indices_uniq]\n",
    "\n",
    "np.all(adj_uniq == dppmat_uniq)"
   ]
  },
  {
   "cell_type": "markdown",
   "metadata": {},
   "source": [
    "### UNCHANGE"
   ]
  },
  {
   "cell_type": "markdown",
   "metadata": {},
   "source": [
    "### collect time"
   ]
  },
  {
   "cell_type": "code",
   "execution_count": 6,
   "metadata": {},
   "outputs": [],
   "source": [
    "hold_time, trj_id = sim_ht(trans_time)\n",
    "hold_time_uniq = mean_holdingtime(hold_time, indices_uniq, indices_all)\n",
    "cum_time_uniq,freq_uniq = cumu_holdingtime(hold_time, indices_uniq, indices_all)\n"
   ]
  },
  {
   "cell_type": "code",
   "execution_count": null,
   "metadata": {},
   "outputs": [],
   "source": []
  },
  {
   "cell_type": "markdown",
   "metadata": {},
   "source": [
    "### dp to adj"
   ]
  },
  {
   "cell_type": "code",
   "execution_count": null,
   "metadata": {},
   "outputs": [],
   "source": [
    "adj_uniq = sim_adj_3strand_uniq(dp_arr, trajs_seqs, ref_name, ref_name_list, strand_list, indices_uniq)    \n"
   ]
  },
  {
   "cell_type": "code",
   "execution_count": 43,
   "metadata": {},
   "outputs": [
    {
     "data": {
      "text/plain": [
       "(441, 72, 72)"
      ]
     },
     "execution_count": 43,
     "metadata": {},
     "output_type": "execute_result"
    }
   ],
   "source": [
    "combined_array = np.concatenate(adj, axis=0)\n",
    "combined_array.shape"
   ]
  },
  {
   "cell_type": "markdown",
   "metadata": {},
   "source": [
    "## Draw"
   ]
  },
  {
   "cell_type": "code",
   "execution_count": 60,
   "metadata": {},
   "outputs": [
    {
     "data": {
      "image/png": "[encoded data removed]",
      "text/plain": [
       "<Figure size 432x288 with 1 Axes>"
      ]
     },
     "metadata": {},
     "output_type": "display_data"
    }
   ],
   "source": [
    "import networkx as nx\n",
    "\n",
    "import matplotlib.pyplot as plt\n",
    "\n",
    "# Create a graph from the adjacency matrix\n",
    "G = nx.Graph(adj[10])\n",
    "\n",
    "# Draw the graph\n",
    "pos = nx.spring_layout(G)  # Positions for all nodes\n",
    "nx.draw(G, pos=nx.kamada_kawai_layout(G), with_labels=True, font_weight='bold', node_size=200, node_color='green', font_size=10, font_color='black')\n",
    "# nx.draw(G, with_labels=True, font_weight='bold', node_size=200, node_color='green', font_size=10, font_color='black')\n",
    "\n",
    "\n",
    "# Show the plot\n",
    "plt.show()\n"
   ]
  },
  {
   "cell_type": "code",
   "execution_count": null,
   "metadata": {},
   "outputs": [],
   "source": []
  },
  {
   "cell_type": "markdown",
   "metadata": {},
   "source": [
    "### Debug"
   ]
  },
  {
   "cell_type": "code",
   "execution_count": 2,
   "metadata": {},
   "outputs": [
    {
     "name": "stderr",
     "output_type": "stream",
     "text": [
      "/var/folders/z9/3zs_cg3x09n1q9fmthyx2x600000gn/T/ipykernel_2659/704395099.py:9: DeprecationWarning: the imp module is deprecated in favour of importlib; see the module's documentation for alternative uses\n",
      "  import imp, vida.data_processing.utils\n"
     ]
    }
   ],
   "source": [
    "import numpy as np\n",
    "import re\n",
    "import pickle\n",
    "import gzip\n",
    "\n",
    "import sys\n",
    "sys.path.append('/Users/chenwei/Desktop/Github/ViDa') \n",
    "\n",
    "import imp, vida.data_processing.utils\n",
    "imp.reload(vida.data_processing.utils)\n",
    "from vida.data_processing.utils import *\n",
    "\n",
    "import imp, vida.adjmat.dp2adj\n",
    "imp.reload(vida.adjmat.dp2adj)\n",
    "from vida.adjmat.dp2adj import *\n",
    "\n",
    "import imp, vida.data_processing.comp_time\n",
    "imp.reload(vida.data_processing.comp_time)\n",
    "from vida.data_processing.comp_time import *\n"
   ]
  },
  {
   "cell_type": "code",
   "execution_count": 12,
   "metadata": {},
   "outputs": [],
   "source": [
    "inpath = '../data/post_data/Machinek-PRF/preprocess_Machinek-PRF.npz'\n",
    "loaded_data = np.load(inpath, allow_pickle=True)\n",
    "dp_uniq = loaded_data['dp_uniq']\n",
    "dp_arr = loaded_data['dp_arr']\n",
    "indices_uniq = loaded_data['indices_uniq']\n",
    "indices_all = loaded_data['indices_all']\n",
    "trans_time = loaded_data[\"trans_time\"]\n",
    "dp_og_uniq = loaded_data[\"dp_og_uniq\"]\n",
    "\n",
    "inpath2 = '../data/post_data/Machinek-PRF/Machinek-PRF.pkl.gz'\n",
    "with gzip.open(inpath2, 'rb') as file:\n",
    "    load_data_seq = pickle.load(file)\n",
    "trajs_seqs = load_data_seq[\"trajs_seqs\"]\n",
    "ref_name = load_data_seq[\"ref_name\"]\n",
    "ref_name_list = load_data_seq[\"ref_name_list\"]\n",
    "strand_list = load_data_seq[\"strand_list\"]\n",
    "trajs_energies = load_data_seq['trajs_energies']"
   ]
  },
  {
   "cell_type": "code",
   "execution_count": 20,
   "metadata": {},
   "outputs": [
    {
     "data": {
      "text/plain": [
       "((62883, 84, 84), (62883,))"
      ]
     },
     "execution_count": 20,
     "metadata": {},
     "output_type": "execute_result"
    }
   ],
   "source": [
    "inpath3 = '../data/post_data/Machinek-PRF/adjmat_Machinek-PRF.npz'\n",
    "loaded_data3 = np.load(inpath3, allow_pickle=True)\n",
    "adj_uniq = loaded_data3['adj_uniq']\n",
    "seqlabel_uniq = loaded_data3['seqlabel_uniq']\n",
    "adj_uniq.shape, seqlabel_uniq.shape"
   ]
  },
  {
   "cell_type": "code",
   "execution_count": 16,
   "metadata": {},
   "outputs": [
    {
     "data": {
      "text/plain": [
       "(224,)"
      ]
     },
     "execution_count": 16,
     "metadata": {},
     "output_type": "execute_result"
    }
   ],
   "source": [
    "inpath4 = '../data/post_data/Machinek-PRF/time_Machinek-PRF.npz'\n",
    "loaded_data4 = np.load(inpath4, allow_pickle=True)\n",
    "trj_id = loaded_data4['trj_id']\n",
    "\n",
    "trj_id.shape"
   ]
  },
  {
   "cell_type": "code",
   "execution_count": 25,
   "metadata": {},
   "outputs": [
    {
     "data": {
      "text/plain": [
       "array(['substrate+incumbent+invader', 'substrate+incumbent+invader',\n",
       "       'substrate+incumbent+invader', ..., 'incumbent substrate+invader',\n",
       "       'incumbent substrate+invader', 'incumbent substrate+invader'],\n",
       "      dtype='<U27')"
      ]
     },
     "execution_count": 25,
     "metadata": {},
     "output_type": "execute_result"
    }
   ],
   "source": [
    "# Function to replace multiple long strings with their short notations\n",
    "def replace_strings(s):\n",
    "    s = s.replace(\"GGTGAGTTTGAGGTTGAATGTGGA\", \"invader\")\n",
    "    s = s.replace(\"TGGTGTTTGTGGGTGTGGTGAGTTTGAGGTTGA\", \"incumbent\")\n",
    "    s = s.replace(\"CCCTCCACATTCAACCTCAAACTCACC\", \"substrate\")\n",
    "    return s\n",
    "\n",
    "vectorized_replace = np.vectorize(replace_strings)\n",
    "\n",
    "arr_short = vectorized_replace(seqlabel_uniq)\n",
    "\n",
    "arr_short"
   ]
  },
  {
   "cell_type": "code",
   "execution_count": 32,
   "metadata": {},
   "outputs": [
    {
     "data": {
      "text/plain": [
       "{'incumbent invader+substrate',\n",
       " 'incumbent substrate+invader',\n",
       " 'incumbent+substrate invader',\n",
       " 'incumbent+substrate+invader',\n",
       " 'invader incumbent+substrate',\n",
       " 'invader substrate+incumbent',\n",
       " 'invader+incumbent+substrate',\n",
       " 'invader+substrate+incumbent',\n",
       " 'substrate+incumbent invader',\n",
       " 'substrate+incumbent+invader'}"
      ]
     },
     "execution_count": 32,
     "metadata": {},
     "output_type": "execute_result"
    }
   ],
   "source": [
    "set(arr_short)"
   ]
  },
  {
   "cell_type": "code",
   "execution_count": null,
   "metadata": {},
   "outputs": [],
   "source": []
  },
  {
   "cell_type": "markdown",
   "metadata": {},
   "source": [
    "### PCA Variance"
   ]
  },
  {
   "cell_type": "code",
   "execution_count": 42,
   "metadata": {},
   "outputs": [],
   "source": [
    "import matplotlib.pyplot as plt\n",
    "from sklearn.decomposition import PCA"
   ]
  },
  {
   "cell_type": "code",
   "execution_count": 54,
   "metadata": {},
   "outputs": [
    {
     "data": {
      "text/plain": [
       "(10.2237625, -9.186864, 0.24467638, 2.0874054)"
      ]
     },
     "execution_count": 54,
     "metadata": {},
     "output_type": "execute_result"
    }
   ],
   "source": [
    "# Load embeddings\n",
    "\n",
    "TNAME = '24-0214-2008'\n",
    "CKPT = 'checkpoint_epoch_39'\n",
    "# CKPT = 'model'\n",
    "\n",
    "inpath5 = f'../data/post_data/Machinek-PRF/model_config/{TNAME}/embed_{CKPT}_Machinek-PRF.npz'\n",
    "loaded_data5 = np.load(inpath5, allow_pickle=True)\n",
    "embeddings = loaded_data5['embeddings']\n",
    "embeddings.max(), embeddings.min(), embeddings.mean(), embeddings.std()"
   ]
  },
  {
   "cell_type": "code",
   "execution_count": 58,
   "metadata": {},
   "outputs": [
    {
     "data": {
      "image/png": "[encoded data removed]",
      "text/plain": [
       "<Figure size 432x288 with 1 Axes>"
      ]
     },
     "metadata": {
      "needs_background": "light"
     },
     "output_type": "display_data"
    },
    {
     "name": "stdout",
     "output_type": "stream",
     "text": [
      "[0.8808663  0.94744277 0.97890013 0.98379415 0.98729295 0.98959684\n",
      " 0.99086934 0.99179685 0.9924845  0.99311364 0.9936789  0.99421626\n",
      " 0.9947471  0.99526256 0.9957577  0.99623847 0.99670523 0.99715775\n",
      " 0.99760324 0.9980338  0.9984553  0.9988621  0.9992521  0.9996343\n",
      " 0.99999994]\n"
     ]
    }
   ],
   "source": [
    "cm = PCA(n_components=25)\n",
    "cm.fit(embeddings)\n",
    "\n",
    "PC_values = np.arange(cm.n_components_) + 1\n",
    "plt.plot(PC_values, np.cumsum(cm.explained_variance_ratio_), 'ro-', linewidth=2)\n",
    "plt.title('Scree Plot: PCA')\n",
    "plt.xlabel('Number of principal components')\n",
    "plt.ylabel('Cumulative explained variance');\n",
    "# plt.xticks(np.arange(0, data_embed.shape[-1]+1, 1))\n",
    "\n",
    "plt.show()\n",
    "\n",
    "print(np.cumsum(cm.explained_variance_ratio_))"
   ]
  },
  {
   "cell_type": "code",
   "execution_count": null,
   "metadata": {},
   "outputs": [],
   "source": []
  }
 ],
 "metadata": {
  "kernelspec": {
   "display_name": "vida",
   "language": "python",
   "name": "python3"
  },
  "language_info": {
   "codemirror_mode": {
    "name": "ipython",
    "version": 3
   },
   "file_extension": ".py",
   "mimetype": "text/x-python",
   "name": "python",
   "nbconvert_exporter": "python",
   "pygments_lexer": "ipython3",
   "version": "3.8.13"
  }
 },
 "nbformat": 4,
 "nbformat_minor": 2
}
