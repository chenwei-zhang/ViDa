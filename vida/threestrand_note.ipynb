{
 "cells": [
  {
   "cell_type": "code",
   "execution_count": 106,
   "metadata": {},
   "outputs": [],
   "source": [
    "import numpy as np\n",
    "import re\n",
    "import pickle\n",
    "import gzip\n",
    "\n",
    "import sys\n",
    "sys.path.append('/Users/chenwei/Desktop/Github/ViDa') \n",
    "\n",
    "import imp, vida.data_processing.utils\n",
    "imp.reload(vida.data_processing.utils)\n",
    "from vida.data_processing.utils import *\n",
    "\n",
    "import imp, vida.adjmat.dp2adj\n",
    "imp.reload(vida.adjmat.dp2adj)\n",
    "from vida.adjmat.dp2adj import *\n",
    "\n",
    "import imp, vida.data_processing.comp_time\n",
    "imp.reload(vida.data_processing.comp_time)\n",
    "from vida.data_processing.comp_time import *\n"
   ]
  },
  {
   "cell_type": "markdown",
   "metadata": {},
   "source": [
    "## three way"
   ]
  },
  {
   "cell_type": "code",
   "execution_count": 2,
   "metadata": {},
   "outputs": [],
   "source": [
    "fpath = '/Users/chenwei/Desktop/Github/ViDa/temp'\n",
    "rxn = 'tut06'\n",
    "ref_strands = 'CGAGGTGAGTGACGTGCGGTACCCAC+GTGGGTACCGCACGTCACTCACCTCG+CGAGGTGAGTGACGTGCGGT'\n",
    "strand_a = 'CGAGGTGAGTGACGTGCGGTACCCAC'\n",
    "strand_b = 'GTGGGTACCGCACGTCACTCACCTCG'\n",
    "strand_c = 'CGAGGTGAGTGACGTGCGGT'\n",
    "strand_list = [strand_a, strand_b, strand_c]\n",
    "\n",
    "ref_name_list = assign_base_names(ref_strands)\n",
    "ref_name = [item for sublist in ref_name_list for item in sublist]\n"
   ]
  },
  {
   "cell_type": "code",
   "execution_count": null,
   "metadata": {},
   "outputs": [],
   "source": []
  },
  {
   "cell_type": "markdown",
   "metadata": {},
   "source": [
    "### read files"
   ]
  },
  {
   "cell_type": "code",
   "execution_count": 3,
   "metadata": {},
   "outputs": [],
   "source": [
    "trajs_seqs, trajs_states, trajs_times, trajs_energies = read_machinek(fpath,rxn,strand_a,num_files=2)"
   ]
  },
  {
   "cell_type": "markdown",
   "metadata": {},
   "source": [
    "### preprocess"
   ]
  },
  {
   "cell_type": "code",
   "execution_count": 4,
   "metadata": {},
   "outputs": [],
   "source": [
    "dp_arr, dp_og, pair, energy, trans_time = concat_machinek(trajs_states, trajs_times, trajs_energies)\n",
    "dp_uniq, dp_og_uniq, pair_uniq, energy_uniq, indices_uniq, indices_all = get_uniq(dp_arr, dp_og, pair, energy)"
   ]
  },
  {
   "cell_type": "code",
   "execution_count": 5,
   "metadata": {},
   "outputs": [
    {
     "data": {
      "text/plain": [
       "((441,), (2,), (441,), (441,))"
      ]
     },
     "execution_count": 5,
     "metadata": {},
     "output_type": "execute_result"
    }
   ],
   "source": [
    "dp_og.shape, dp_arr.shape, energy.shape, trans_time.shape"
   ]
  },
  {
   "cell_type": "markdown",
   "metadata": {},
   "source": [
    "### collect time"
   ]
  },
  {
   "cell_type": "code",
   "execution_count": 6,
   "metadata": {},
   "outputs": [],
   "source": [
    "hold_time, trj_id = sim_ht(trans_time)\n",
    "hold_time_uniq = mean_holdingtime(hold_time, indices_uniq, indices_all)\n",
    "cum_time_uniq,freq_uniq = cumu_holdingtime(hold_time, indices_uniq, indices_all)\n"
   ]
  },
  {
   "cell_type": "code",
   "execution_count": null,
   "metadata": {},
   "outputs": [],
   "source": []
  },
  {
   "cell_type": "markdown",
   "metadata": {},
   "source": [
    "### dp to adj"
   ]
  },
  {
   "cell_type": "code",
   "execution_count": null,
   "metadata": {},
   "outputs": [],
   "source": [
    "adj = sim_adj_3strand(dp_arr, trajs_seqs, ref_name, ref_name_list, strand_list)\n",
    "adj_uniq = adj[indices_uniq]"
   ]
  },
  {
   "cell_type": "code",
   "execution_count": 43,
   "metadata": {},
   "outputs": [
    {
     "data": {
      "text/plain": [
       "(441, 72, 72)"
      ]
     },
     "execution_count": 43,
     "metadata": {},
     "output_type": "execute_result"
    }
   ],
   "source": [
    "combined_array = np.concatenate(adj, axis=0)\n",
    "combined_array.shape"
   ]
  },
  {
   "cell_type": "markdown",
   "metadata": {},
   "source": [
    "## Draw"
   ]
  },
  {
   "cell_type": "code",
   "execution_count": 60,
   "metadata": {},
   "outputs": [
    {
     "data": {
      "image/png": "[encoded data removed]",
      "text/plain": [
       "<Figure size 432x288 with 1 Axes>"
      ]
     },
     "metadata": {},
     "output_type": "display_data"
    }
   ],
   "source": [
    "import networkx as nx\n",
    "\n",
    "import matplotlib.pyplot as plt\n",
    "\n",
    "# Create a graph from the adjacency matrix\n",
    "G = nx.Graph(adj[10])\n",
    "\n",
    "# Draw the graph\n",
    "pos = nx.spring_layout(G)  # Positions for all nodes\n",
    "nx.draw(G, pos=nx.kamada_kawai_layout(G), with_labels=True, font_weight='bold', node_size=200, node_color='green', font_size=10, font_color='black')\n",
    "# nx.draw(G, with_labels=True, font_weight='bold', node_size=200, node_color='green', font_size=10, font_color='black')\n",
    "\n",
    "\n",
    "# Show the plot\n",
    "plt.show()\n"
   ]
  },
  {
   "cell_type": "code",
   "execution_count": null,
   "metadata": {},
   "outputs": [],
   "source": []
  },
  {
   "cell_type": "markdown",
   "metadata": {},
   "source": [
    "### Debug"
   ]
  },
  {
   "cell_type": "code",
   "execution_count": 2,
   "metadata": {},
   "outputs": [
    {
     "name": "stderr",
     "output_type": "stream",
     "text": [
      "/var/folders/z9/3zs_cg3x09n1q9fmthyx2x600000gn/T/ipykernel_25608/704395099.py:9: DeprecationWarning: the imp module is deprecated in favour of importlib; see the module's documentation for alternative uses\n",
      "  import imp, vida.data_processing.utils\n"
     ]
    }
   ],
   "source": [
    "import numpy as np\n",
    "import re\n",
    "import pickle\n",
    "import gzip\n",
    "\n",
    "import sys\n",
    "sys.path.append('/Users/chenwei/Desktop/Github/ViDa') \n",
    "\n",
    "import imp, vida.data_processing.utils\n",
    "imp.reload(vida.data_processing.utils)\n",
    "from vida.data_processing.utils import *\n",
    "\n",
    "import imp, vida.adjmat.dp2adj\n",
    "imp.reload(vida.adjmat.dp2adj)\n",
    "from vida.adjmat.dp2adj import *\n",
    "\n",
    "import imp, vida.data_processing.comp_time\n",
    "imp.reload(vida.data_processing.comp_time)\n",
    "from vida.data_processing.comp_time import *\n"
   ]
  },
  {
   "cell_type": "code",
   "execution_count": 242,
   "metadata": {},
   "outputs": [],
   "source": [
    "# inpath = '../data/post_data/Machinek-PRF/preprocess_Machinek-PRF.npz'\n",
    "# loaded_data = np.load(inpath, allow_pickle=True)\n",
    "# dp_uniq = loaded_data['dp_uniq']\n",
    "# dp_arr = loaded_data['dp_arr']\n",
    "# indices_uniq = loaded_data['indices_uniq']\n",
    "# indices_all = loaded_data['indices_all']\n",
    "# trans_time = loaded_data[\"trans_time\"]\n",
    "\n",
    "inpath2 = '../data/post_data/Machinek-PRF/Machinek-PRF.pkl.gz'\n",
    "with gzip.open(inpath2, 'rb') as file:\n",
    "    load_data_seq = pickle.load(file)\n",
    "trajs_seqs = load_data_seq[\"trajs_seqs\"]\n",
    "ref_name = load_data_seq[\"ref_name\"]\n",
    "ref_name_list = load_data_seq[\"ref_name_list\"]\n",
    "strand_list = load_data_seq[\"strand_list\"]\n",
    "trajs_energies = load_data_seq['trajs_energies']"
   ]
  },
  {
   "cell_type": "code",
   "execution_count": 241,
   "metadata": {},
   "outputs": [
    {
     "name": "stdout",
     "output_type": "stream",
     "text": [
      "12374235\n"
     ]
    }
   ],
   "source": [
    "ll = 0\n",
    "for i in range(len(trajs_energies)):\n",
    "    ll += len(trajs_energies[i])\n",
    "    \n",
    "print(ll)"
   ]
  },
  {
   "cell_type": "code",
   "execution_count": null,
   "metadata": {},
   "outputs": [],
   "source": []
  },
  {
   "cell_type": "code",
   "execution_count": 3,
   "metadata": {},
   "outputs": [
    {
     "data": {
      "text/plain": [
       "(60889, 84, 84)"
      ]
     },
     "execution_count": 3,
     "metadata": {},
     "output_type": "execute_result"
    }
   ],
   "source": [
    "inpath3 = '../data/post_data/Machinek-PRF/adjmat_Machinek-PRF.npz'\n",
    "loaded_data3 = np.load(inpath3, allow_pickle=True)\n",
    "adj_uniq = loaded_data3['adj_uniq']\n",
    "adj_uniq.shape"
   ]
  },
  {
   "cell_type": "code",
   "execution_count": 203,
   "metadata": {},
   "outputs": [
    {
     "data": {
      "text/plain": [
       "(array([[0., 1., 0., ..., 0., 0., 0.],\n",
       "        [1., 0., 1., ..., 0., 0., 0.],\n",
       "        [0., 1., 0., ..., 0., 0., 0.],\n",
       "        ...,\n",
       "        [0., 0., 0., ..., 0., 1., 0.],\n",
       "        [0., 0., 0., ..., 1., 0., 1.],\n",
       "        [0., 0., 0., ..., 0., 1., 0.]]),\n",
       " 100,\n",
       " '...........((((((((((((((((................))))))))))))))))...........(.......).....',\n",
       " '...........((((((((((((((((................))))))))))))))))...........(.......).....')"
      ]
     },
     "execution_count": 203,
     "metadata": {},
     "output_type": "execute_result"
    }
   ],
   "source": [
    "kk = 100\n",
    "\n",
    "dp_arr_part = dp_arr[:1]\n",
    "adj_all = sim_adj_3strand(dp_arr_part, trajs_seqs, ref_name, ref_name_list, strand_list)\n",
    "\n",
    "idx = np.where(indices_uniq == kk)[0][0]\n",
    "adj_uniq[idx], indices_uniq[idx], loaded_data['dp_uniq'][idx], dp_arr[0][kk]\n"
   ]
  },
  {
   "cell_type": "code",
   "execution_count": 204,
   "metadata": {},
   "outputs": [
    {
     "data": {
      "text/plain": [
       "True"
      ]
     },
     "execution_count": 204,
     "metadata": {},
     "output_type": "execute_result"
    }
   ],
   "source": [
    "np.all(adj_all[kk] == adj_uniq[idx])"
   ]
  },
  {
   "cell_type": "code",
   "execution_count": 1,
   "metadata": {},
   "outputs": [
    {
     "ename": "NameError",
     "evalue": "name 'np' is not defined",
     "output_type": "error",
     "traceback": [
      "\u001b[0;31m---------------------------------------------------------------------------\u001b[0m",
      "\u001b[0;31mNameError\u001b[0m                                 Traceback (most recent call last)",
      "Input \u001b[0;32mIn [1]\u001b[0m, in \u001b[0;36m<cell line: 2>\u001b[0;34m()\u001b[0m\n\u001b[1;32m      1\u001b[0m inpath4 \u001b[38;5;241m=\u001b[39m \u001b[38;5;124m'\u001b[39m\u001b[38;5;124m../data/post_data/Machinek-PRF/time_Machinek-PRF.npz\u001b[39m\u001b[38;5;124m'\u001b[39m\n\u001b[0;32m----> 2\u001b[0m loaded_data4 \u001b[38;5;241m=\u001b[39m \u001b[43mnp\u001b[49m\u001b[38;5;241m.\u001b[39mload(inpath4, allow_pickle\u001b[38;5;241m=\u001b[39m\u001b[38;5;28;01mTrue\u001b[39;00m)\n\u001b[1;32m      3\u001b[0m trj_id \u001b[38;5;241m=\u001b[39m loaded_data4[\u001b[38;5;124m'\u001b[39m\u001b[38;5;124mtrj_id\u001b[39m\u001b[38;5;124m'\u001b[39m]\n\u001b[1;32m      5\u001b[0m trj_id\u001b[38;5;241m.\u001b[39mshape\n",
      "\u001b[0;31mNameError\u001b[0m: name 'np' is not defined"
     ]
    }
   ],
   "source": [
    "inpath4 = '../data/post_data/Machinek-PRF/time_Machinek-PRF.npz'\n",
    "loaded_data4 = np.load(inpath4, allow_pickle=True)\n",
    "trj_id = loaded_data4['trj_id']\n",
    "\n",
    "trj_id.shape"
   ]
  },
  {
   "cell_type": "code",
   "execution_count": 215,
   "metadata": {},
   "outputs": [
    {
     "data": {
      "text/plain": [
       "array([  10769,   69832,   76024,   95153,  105671,  116359,  122771,\n",
       "        143064,  157393,  168092,  177675,  198203,  209170,  216725,\n",
       "        229690,  236399,  252364,  268621,  280048,  308170,  325078,\n",
       "        343025,  373848,  382381,  390651,  415450,  448946,  460025,\n",
       "        484213,  487049,  496763,  514344,  538694,  551116,  563269,\n",
       "        584364,  679035,  685308,  724891,  770495,  799597,  851650,\n",
       "        854054,  875085,  899263,  904968,  917799,  937813,  955707,\n",
       "        962613,  969741,  981369, 1011282, 1021329, 1030632, 1053923,\n",
       "       1074547, 1114785, 1132375, 1137271, 1146677, 1152734, 1169396,\n",
       "       1218846, 1229387, 1261568, 1288371, 1302291, 1349807, 1372197,\n",
       "       1387562, 1394378, 1405271, 1429520, 1445309, 1457295, 1476756,\n",
       "       1478977, 1493855, 1513946, 1522939, 1545575, 1556726, 1562636,\n",
       "       1596423, 1610193, 1629926, 1661246, 1699649, 1715947, 1728034,\n",
       "       1736571, 1748867, 1755575, 1811898, 1828427, 1832443, 1849746,\n",
       "       1862673, 1914650])"
      ]
     },
     "execution_count": 215,
     "metadata": {},
     "output_type": "execute_result"
    }
   ],
   "source": [
    "trj_id"
   ]
  },
  {
   "cell_type": "code",
   "execution_count": 207,
   "metadata": {},
   "outputs": [
    {
     "data": {
      "text/plain": [
       "(100,)"
      ]
     },
     "execution_count": 207,
     "metadata": {},
     "output_type": "execute_result"
    }
   ],
   "source": [
    "np.where(trans_time==0)[0].shape"
   ]
  },
  {
   "cell_type": "code",
   "execution_count": 208,
   "metadata": {},
   "outputs": [],
   "source": [
    "def sim_ht(trans_time):\n",
    "    \"\"\"calculate holding time for each trajectory\n",
    "    \"\"\"\n",
    "    hold_time = np.array([])\n",
    "    idx = np.where(trans_time==0)[0]\n",
    "    \n",
    "    for i in range(len(idx)):\n",
    "        if i < len(idx)-1:\n",
    "            temp_t = trans_time[idx[i]:idx[i+1]]\n",
    "            hold_time = np.append(hold_time,np.concatenate([np.diff(temp_t),[0]]))\n",
    "        else:\n",
    "            temp_t = trans_time[idx[i]:]\n",
    "            hold_time = np.append(hold_time,np.concatenate([np.diff(temp_t),[0]]))\n",
    "    \n",
    "    # get each individual trajectory's index\n",
    "    trj_id = np.where(hold_time==0)[0]\n",
    "\n",
    "    return hold_time, trj_id\n"
   ]
  },
  {
   "cell_type": "code",
   "execution_count": 209,
   "metadata": {},
   "outputs": [],
   "source": [
    "hold_time, trj_id = sim_ht(trans_time)"
   ]
  },
  {
   "cell_type": "code",
   "execution_count": 211,
   "metadata": {},
   "outputs": [
    {
     "data": {
      "text/plain": [
       "(1914651,)"
      ]
     },
     "execution_count": 211,
     "metadata": {},
     "output_type": "execute_result"
    }
   ],
   "source": [
    "hold_time.shape"
   ]
  },
  {
   "cell_type": "code",
   "execution_count": null,
   "metadata": {},
   "outputs": [],
   "source": [
    "idx = np.where(trans_time==0)[0]\n",
    "idx"
   ]
  },
  {
   "cell_type": "code",
   "execution_count": null,
   "metadata": {},
   "outputs": [],
   "source": [
    "trj_id[:30]"
   ]
  },
  {
   "cell_type": "code",
   "execution_count": 174,
   "metadata": {},
   "outputs": [
    {
     "data": {
      "text/plain": [
       "0.0"
      ]
     },
     "execution_count": 174,
     "metadata": {},
     "output_type": "execute_result"
    }
   ],
   "source": [
    "trans_time[10770]"
   ]
  },
  {
   "cell_type": "code",
   "execution_count": 212,
   "metadata": {},
   "outputs": [],
   "source": [
    "inpath4 = '../data/post_data/Gao-P4T4/time_Gao-P4T4.npz'\n",
    "loaded_data4 = np.load(inpath4, allow_pickle=True)\n",
    "trj_id = loaded_data4['trj_id']"
   ]
  },
  {
   "cell_type": "code",
   "execution_count": 213,
   "metadata": {},
   "outputs": [
    {
     "data": {
      "text/plain": [
       "array([   541,  20693,  21093,  31997,  33651,  35387,  55145,  58421,\n",
       "        62935,  84699,  88899,  90719,  96253, 101279, 105553, 106159,\n",
       "       112879, 113317, 113591, 113949, 115039, 118043, 119387, 119579,\n",
       "       125291, 125881, 129841, 130061, 131031, 133205, 133775, 142687,\n",
       "       147287, 154125, 156461, 178765, 179005, 181659, 203569, 208021,\n",
       "       212077, 225139, 225575, 225913, 233545, 245495, 248459, 256725,\n",
       "       258061, 264921, 270795, 273675, 277357, 280367, 283705, 294919,\n",
       "       296321, 304619, 315561, 318829, 327959, 332921, 387683, 394249,\n",
       "       395239, 400233, 402629, 403529, 428301, 442043, 448757, 452381,\n",
       "       455351, 476653, 489015, 498429, 498723, 506105, 514727, 518251,\n",
       "       521661, 522023, 525073, 526713, 543131, 556337, 556513, 556617,\n",
       "       558549, 564259, 569929, 587549, 590207, 599209, 602851, 604871,\n",
       "       605001, 606855, 607069, 621983])"
      ]
     },
     "execution_count": 213,
     "metadata": {},
     "output_type": "execute_result"
    }
   ],
   "source": [
    "trj_id"
   ]
  },
  {
   "cell_type": "code",
   "execution_count": null,
   "metadata": {},
   "outputs": [],
   "source": []
  },
  {
   "cell_type": "code",
   "execution_count": 178,
   "metadata": {},
   "outputs": [],
   "source": [
    "inpath4 = '../data/post_data/Gao-P4T4/time_Gao-P4T4.npz'\n",
    "loaded_data4 = np.load(inpath4, allow_pickle=True)\n",
    "trj_id = loaded_data4['trj_id']\n",
    "\n",
    "\n",
    "\n",
    "inpath = '../data/post_data/Gao-P4T4/preprocess_Gao-P4T4.npz'\n",
    "loaded_data = np.load(inpath, allow_pickle=True)\n",
    "dp_uniq = loaded_data['dp_uniq']\n",
    "indices_uniq = loaded_data['indices_uniq']\n",
    "indices_all = loaded_data['indices_all']\n",
    "trans_time = loaded_data[\"trans_time\"]\n"
   ]
  },
  {
   "cell_type": "code",
   "execution_count": null,
   "metadata": {},
   "outputs": [],
   "source": []
  },
  {
   "cell_type": "code",
   "execution_count": 217,
   "metadata": {},
   "outputs": [],
   "source": [
    "import torch"
   ]
  },
  {
   "cell_type": "code",
   "execution_count": 219,
   "metadata": {},
   "outputs": [
    {
     "data": {
      "text/plain": [
       "tensor([[0, 1],\n",
       "        [1, 2],\n",
       "        [2, 0],\n",
       "        [1, 3]])"
      ]
     },
     "execution_count": 219,
     "metadata": {},
     "output_type": "execute_result"
    }
   ],
   "source": [
    "edge_index = torch.tensor([[0, 1], [1, 2], [2, 0], [1, 3]], dtype=torch.long)\n",
    "edge_index"
   ]
  },
  {
   "cell_type": "code",
   "execution_count": 220,
   "metadata": {},
   "outputs": [
    {
     "data": {
      "text/plain": [
       "tensor([[0, 1, 2, 1],\n",
       "        [1, 2, 0, 3]])"
      ]
     },
     "execution_count": 220,
     "metadata": {},
     "output_type": "execute_result"
    }
   ],
   "source": [
    "edge_index.t().contiguous()"
   ]
  },
  {
   "cell_type": "code",
   "execution_count": 221,
   "metadata": {},
   "outputs": [
    {
     "data": {
      "text/plain": [
       "tensor([[0, 1, 2, 1],\n",
       "        [1, 2, 0, 3]])"
      ]
     },
     "execution_count": 221,
     "metadata": {},
     "output_type": "execute_result"
    }
   ],
   "source": [
    "edge_index.t()"
   ]
  },
  {
   "cell_type": "code",
   "execution_count": null,
   "metadata": {},
   "outputs": [],
   "source": [
    " \n",
    " "
   ]
  },
  {
   "cell_type": "code",
   "execution_count": 222,
   "metadata": {},
   "outputs": [],
   "source": [
    "i = [0,1,2,3]"
   ]
  },
  {
   "cell_type": "code",
   "execution_count": 223,
   "metadata": {},
   "outputs": [
    {
     "data": {
      "text/plain": [
       "[0, 1, 2]"
      ]
     },
     "execution_count": 223,
     "metadata": {},
     "output_type": "execute_result"
    }
   ],
   "source": [
    "i[:-1]"
   ]
  },
  {
   "cell_type": "code",
   "execution_count": 224,
   "metadata": {},
   "outputs": [
    {
     "data": {
      "text/plain": [
       "3"
      ]
     },
     "execution_count": 224,
     "metadata": {},
     "output_type": "execute_result"
    }
   ],
   "source": [
    "i[-1]"
   ]
  },
  {
   "cell_type": "code",
   "execution_count": null,
   "metadata": {},
   "outputs": [],
   "source": []
  }
 ],
 "metadata": {
  "kernelspec": {
   "display_name": "vida",
   "language": "python",
   "name": "python3"
  },
  "language_info": {
   "codemirror_mode": {
    "name": "ipython",
    "version": 3
   },
   "file_extension": ".py",
   "mimetype": "text/x-python",
   "name": "python",
   "nbconvert_exporter": "python",
   "pygments_lexer": "ipython3",
   "version": "3.8.13"
  }
 },
 "nbformat": 4,
 "nbformat_minor": 2
}
