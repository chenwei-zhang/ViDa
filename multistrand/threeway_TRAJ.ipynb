{
 "cells": [
  {
   "cell_type": "code",
   "execution_count": 10,
   "metadata": {},
   "outputs": [],
   "source": [
    "import sys\n",
    "from multistrand.objects import *\n",
    "from multistrand.options import Options, EnergyType, Literals\n",
    "from multistrand.system import SimSystem, calculate_energy"
   ]
  },
  {
   "cell_type": "code",
   "execution_count": 11,
   "metadata": {},
   "outputs": [],
   "source": [
    "def print_trajectory(o):\n",
    "    seqstring=''\n",
    "    for i in range(len(o.full_trajectory)): # go through each output microstate of the trajectory\n",
    "        time = o.full_trajectory_times[i]   # time at which this microstate is entered\n",
    "        states = o.full_trajectory[i]       # this is a list of the complexes present in this tube microstate\n",
    "        newseqs = []\n",
    "        for state in states: newseqs += [ state[3] ]   # extract the strand sequences in each complex (joined by \"+\" for multistranded complexes)\n",
    "        newseqstring = ' '.join(newseqs)    # make a space-separated string of complexes, to represent the whole tube system sequence\n",
    "        if not newseqstring == seqstring :\n",
    "            print(newseqstring)\n",
    "            seqstring=newseqstring          # because strand order can change upon association of dissociation, print it when it changes\n",
    "        structs = []\n",
    "        for state in states: structs += [ state[4] ]   # similarly extract the secondary structures for each complex\n",
    "        tubestruct = ' '.join(structs)      # give the dot-paren secondary structure for the whole test tube\n",
    "        dG=0\n",
    "        for state in states: dG += state[5]\n",
    "        print('%s t=%11.9f seconds, dG=%6.2f kcal/mol' % (tubestruct,time, dG))\n",
    "\n",
    "        # Needlessly verify that the reported trajectory energies are the Tube_Energy values\n",
    "        dGv=0\n",
    "        for state in states:\n",
    "            cs=state[3].split('+')\n",
    "            st=state[4]\n",
    "            dGv += calculate_energy( [Complex( strands=[Strand(sequence=s) for s in cs], structure=st)], o, EnergyType.tube)[0]\n",
    "        if not dGv == dG: print(\"Energy Mismatch\")"
   ]
  },
  {
   "cell_type": "code",
   "execution_count": 46,
   "metadata": {},
   "outputs": [],
   "source": [
    "def create_setup():\n",
    "    toehold_length = 7\n",
    "    toehold_seq = 'ATGTGGAGGG'\n",
    "    bm_design = \"GGTGAGTTTGAGGTTGA\"\n",
    "    incum_extra_design = \"TGGTGTTTGTGGGTGT\"\n",
    "\n",
    "    # creating Domain objects\n",
    "    toehold = Domain(name=\"toehold\", sequence=toehold_seq[0:toehold_length])\n",
    "    branch_migration = Domain(name=\"bm\", sequence=bm_design)\n",
    "\n",
    "    # invader\n",
    "    invader = branch_migration + toehold\n",
    "    invader.name = \"invader\"\n",
    "\n",
    "    # target (substrate)\n",
    "    toehold_extra = Domain(name=\"toehold_extra\", sequence=toehold_seq[toehold_length:]) \n",
    "    target = toehold_extra.C + toehold.C + branch_migration.C\n",
    "    target.name = \"target\"\n",
    "\n",
    "    # incumbent\n",
    "    incumbent_extra = Domain(name=\"incumbent_extra\", sequence=incum_extra_design)\n",
    "    incumbent = incumbent_extra+branch_migration\n",
    "    incumbent.name = \"incumbent\"\n",
    "\n",
    "    # creates the target-incumbent start complex  \n",
    "    start_complex_substrate_incumbent = Complex(strands=[target, incumbent], structure=\"..(+.)\")\n",
    "    # creates invader complex. \n",
    "    start_complex_incoming = Complex(strands=[invader], structure=\"..\") \n",
    "\n",
    "    # creates a complex for a \"succcessful displacement\" stop condition. This is the incumbent strand forming a complex of its own which means it has been displaced.\n",
    "    complete_complex_success = Complex(strands=[incumbent], structure=\"..\")\n",
    "    # success_stop_condition = StopCondition(\"SUCCESS\", [(complete_complex_success, Literals.dissoc_macrostate, 0)])\n",
    "    success_stop_condition = StopCondition(\"SUCCESS\", [(complete_complex_success, Literals.exact_macrostate, 0)])\n",
    "    \n",
    "    \n",
    "\n",
    "    # # complex to create failed displacement stop condition; incumbent falls off.   \n",
    "    # failed_complex = Complex(strands=[invader], structure=\"..\")  \n",
    "    # failed_stop_conditions = StopCondition(\"FAILURE\", [(failed_complex, Literals.dissoc_macrostate, 0)]) \n",
    "        \n",
    "        \n",
    "    o = Options(\n",
    "        simulation_mode=\"Trajectory\",   #  First Step\n",
    "        substrate_type=\"DNA\",\n",
    "        num_simulations=1, \n",
    "        simulation_time=float('inf'),  # note the float('inf') second simulation time, to make sure simulations finish\n",
    "        dangles=\"Some\", \n",
    "        temperature=4, \n",
    "        join_concentration = 100e-6, # 100 uM\n",
    "        gt_enable = False,\n",
    "        output_interval = 1, # record every 1000 steps\n",
    "        verbosity=0,\n",
    "        start_state = [start_complex_incoming, start_complex_substrate_incumbent],\n",
    "        # stop_conditions = [success_stop_condition, failed_stop_condition]\n",
    "        stop_conditions = [success_stop_condition]\n",
    "        )\n",
    "    \n",
    "    o.DNA23Metropolis()\n",
    "\n",
    "    return o"
   ]
  },
  {
   "cell_type": "code",
   "execution_count": 47,
   "metadata": {},
   "outputs": [],
   "source": [
    "stdoutOrigin=sys.stdout \n",
    "sys.stdout = open(f\"./output_trajmodel/debug-exact.txt\", \"w\")\n",
    "\n",
    "for i in range(100):\n",
    "    o = create_setup()\n",
    "    s = SimSystem(o)\n",
    "    s.start()\n",
    " \n",
    "    print(len(o.full_trajectory))\n",
    "    print(o.full_trajectory[-1])\n",
    "\n",
    "    sys.stdout.flush()  # Flush the output here\n",
    "    \n",
    "sys.stdout.close()\n",
    "sys.stdout=stdoutOrigin"
   ]
  },
  {
   "cell_type": "code",
   "execution_count": 44,
   "metadata": {},
   "outputs": [
    {
     "data": {
      "text/plain": [
       "(1677967,\n",
       " [(-4036093479859725470,\n",
       "   5,\n",
       "   '751674incumbent',\n",
       "   'TGGTGTTTGTGGGTGTGGTGAGTTTGAGGTTGA',\n",
       "   '.................................',\n",
       "   0.0,\n",
       "   0.0),\n",
       "  (-4036093479859725470,\n",
       "   4,\n",
       "   '751673invader,751674target',\n",
       "   'GGTGAGTTTGAGGTTGAATGTGGA+CCCTCCACATTCAACCTCAAACTCACC',\n",
       "   '.(((((((((((((((((((((((+...))))))))))))))))))))))).',\n",
       "   -40.085935321472945,\n",
       "   -189.62123972271485)])"
      ]
     },
     "execution_count": 44,
     "metadata": {},
     "output_type": "execute_result"
    }
   ],
   "source": [
    "len(o.full_trajectory), o.full_trajectory[-1]"
   ]
  },
  {
   "cell_type": "code",
   "execution_count": 30,
   "metadata": {},
   "outputs": [],
   "source": [
    "stdoutOrigin=sys.stdout \n",
    "# sys.stdout = open(f\"./output_trajmodel/test_interval=1-exact2.txt\", \"w\")\n",
    "sys.stdout = open(f\"./output_trajmodel/test_interval=1.txt\", \"w\")\n",
    "\n",
    "print_trajectory(o)\n",
    "sys.stdout.flush()  # Flush the output here\n",
    "sys.stdout.close()\n",
    "sys.stdout=stdoutOrigin"
   ]
  },
  {
   "cell_type": "code",
   "execution_count": 15,
   "metadata": {},
   "outputs": [
    {
     "data": {
      "text/plain": [
       "468358"
      ]
     },
     "execution_count": 15,
     "metadata": {},
     "output_type": "execute_result"
    }
   ],
   "source": [
    "len(o.full_trajectory)"
   ]
  },
  {
   "cell_type": "code",
   "execution_count": 20,
   "metadata": {},
   "outputs": [
    {
     "data": {
      "text/plain": [
       "'Energy Mismatch\\n'"
      ]
     },
     "execution_count": 20,
     "metadata": {},
     "output_type": "execute_result"
    }
   ],
   "source": [
    "file_name = f'./raw_data/Machinek-PRF-og/Machinek-PRF-{3}.txt'\n",
    "with open(file_name, 'r') as f:\n",
    "    lines = f.readlines()\n",
    "    \n",
    "lines[756]\n",
    "\n",
    "if 'Energy Mismatch' in lines[756]:\n",
    "    print  ('yes')"
   ]
  },
  {
   "cell_type": "code",
   "execution_count": null,
   "metadata": {},
   "outputs": [],
   "source": []
  },
  {
   "cell_type": "code",
   "execution_count": 26,
   "metadata": {},
   "outputs": [],
   "source": [
    "# find the files that have \"Energy Mismatch\" occurred\n",
    "\n",
    "mismatch_files = []\n",
    "\n",
    "for i in range(100):\n",
    "    file_name = f'./raw_data/Machinek-PRF-og/Machinek-PRF-{i}.txt'\n",
    "    \n",
    "    with open(file_name, 'r') as f:\n",
    "        lines = f.readlines()\n",
    "    \n",
    "    for line in lines:\n",
    "        if \"Energy Mismatch\" in line:\n",
    "            mismatch_files.append(i)\n",
    "            break    "
   ]
  },
  {
   "cell_type": "code",
   "execution_count": 27,
   "metadata": {},
   "outputs": [
    {
     "data": {
      "text/plain": [
       "[0,\n",
       " 2,\n",
       " 3,\n",
       " 5,\n",
       " 7,\n",
       " 8,\n",
       " 10,\n",
       " 11,\n",
       " 12,\n",
       " 13,\n",
       " 14,\n",
       " 15,\n",
       " 16,\n",
       " 17,\n",
       " 23,\n",
       " 24,\n",
       " 26,\n",
       " 27,\n",
       " 28,\n",
       " 31,\n",
       " 33,\n",
       " 34,\n",
       " 35,\n",
       " 36,\n",
       " 39,\n",
       " 40,\n",
       " 41,\n",
       " 46,\n",
       " 47,\n",
       " 48,\n",
       " 49,\n",
       " 50,\n",
       " 51,\n",
       " 52,\n",
       " 54,\n",
       " 55,\n",
       " 56,\n",
       " 57,\n",
       " 58,\n",
       " 60,\n",
       " 62,\n",
       " 63,\n",
       " 65,\n",
       " 66,\n",
       " 67,\n",
       " 68,\n",
       " 69,\n",
       " 70,\n",
       " 72,\n",
       " 73,\n",
       " 74,\n",
       " 76,\n",
       " 77,\n",
       " 80,\n",
       " 81,\n",
       " 82,\n",
       " 84,\n",
       " 85,\n",
       " 87,\n",
       " 88,\n",
       " 90,\n",
       " 92,\n",
       " 93,\n",
       " 94,\n",
       " 95,\n",
       " 96,\n",
       " 97,\n",
       " 98,\n",
       " 99]"
      ]
     },
     "execution_count": 27,
     "metadata": {},
     "output_type": "execute_result"
    }
   ],
   "source": [
    "mismatch_files"
   ]
  },
  {
   "cell_type": "code",
   "execution_count": null,
   "metadata": {},
   "outputs": [],
   "source": [
    "[0, 2, 3, 5, 7, 8]\n"
   ]
  }
 ],
 "metadata": {
  "kernelspec": {
   "display_name": "dna",
   "language": "python",
   "name": "python3"
  },
  "language_info": {
   "codemirror_mode": {
    "name": "ipython",
    "version": 3
   },
   "file_extension": ".py",
   "mimetype": "text/x-python",
   "name": "python",
   "nbconvert_exporter": "python",
   "pygments_lexer": "ipython3",
   "version": "3.10.13"
  }
 },
 "nbformat": 4,
 "nbformat_minor": 2
}
