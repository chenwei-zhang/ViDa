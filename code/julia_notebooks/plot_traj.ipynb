{
 "cells": [
  {
   "cell_type": "code",
   "execution_count": null,
   "metadata": {},
   "outputs": [],
   "source": [
    "using HDF5, Printf, NNlib, Statistics, Plots, JLD2, LinearAlgebra, Distributions\n",
    "\n",
    "include(\"gillespie.jl\")\n",
    "include(\"PathwayElaboration.jl\")\n",
    "include(\"occupancyPlot.jl\")"
   ]
  },
  {
   "cell_type": "code",
   "execution_count": null,
   "metadata": {},
   "outputs": [],
   "source": [
    "cd(\"/Users/chenwei/Desktop/Github/RPE/code\")\n",
    "pwd()"
   ]
  },
  {
   "cell_type": "code",
   "execution_count": null,
   "metadata": {},
   "outputs": [],
   "source": [
    "dataname = \"synthetic50\""
   ]
  },
  {
   "cell_type": "code",
   "execution_count": null,
   "metadata": {},
   "outputs": [],
   "source": [
    "## Original data\n",
    "data = load(\"data/original/$dataname.h5\")\n",
    "sep = hcat(split.(setdiff(keys(data),[\"states\"]), \"/\")...)\n",
    "# get dataset name\n",
    "data_keys = Set(String.(sep[1, :]))\n",
    "# get Si, Sf, energies, K\n",
    "data_values = Set(String.(sep[2, :]))\n",
    "# get coordinates\n",
    "states = data[\"states\"];"
   ]
  },
  {
   "cell_type": "code",
   "execution_count": null,
   "metadata": {},
   "outputs": [],
   "source": [
    "## Result CTMC\n",
    "data_hat = load(\"data/results/$dataname.h5\")\n",
    "sep_hat = hcat(split.(setdiff(keys(data_hat)), \"/\")...)\n",
    "# get dataset name (each dataset has different configuration, i.e. diff Si and Sf)\n",
    "data_keys_hat = Set(String.(sep_hat[1, :]))\n",
    "# get Khat, Shat, Si_hat, est_mfpt, obs_mfpt, Sf_hat\n",
    "data_values_hat = Set(String.(sep_hat[2, :]));"
   ]
  },
  {
   "cell_type": "code",
   "execution_count": null,
   "metadata": {},
   "outputs": [],
   "source": [
    "# Exact CTMC arguments\n",
    "Si = (data[\"side_basin2/Si\"])\n",
    "Si = Int(data[\"side_basin2/Si\"][10])\n",
    "Sf = data[\"side_basin2/Sf\"]\n",
    "Sf = Int(data[\"side_basin2/Sf\"][10])\n",
    "K = data[\"side_basin2/K\"]\n",
    "energy = data[\"side_basin2/energies\"]\n",
    "\n",
    "Si_hat = data_hat[\"side_basin2_10/Si_hat\"]\n",
    "Sf_hat = data_hat[\"side_basin2_10/Sf_hat\"]\n",
    "Shat = data_hat[\"side_basin2_10/Shat\"]\n",
    "Khat = data_hat[\"side_basin2_10/Khat\"]\n",
    "obs_mfpt = data_hat[\"side_basin2_10/obs_mfpt\"]\n",
    "est_mfpt = data_hat[\"side_basin2_10/est_mfpt\"]\n",
    "Si_hat, Sf_hat,size(Shat)\n"
   ]
  },
  {
   "cell_type": "code",
   "execution_count": null,
   "metadata": {},
   "outputs": [],
   "source": [
    "function getCoord(Shat,states,samples,Si_hat,Sf_hat)\n",
    "    d = size(states)[2]\n",
    "    l = length(Shat)    \n",
    "    states_hat = zeros(l,d)\n",
    "    for i=1:l\n",
    "        states_hat[i,:] = states[Shat[i],:]\n",
    "    end\n",
    "    \n",
    "    X=[];Y=[]\n",
    "    for Trj in samples\n",
    "        xx=[];yy=[]\n",
    "        for trj in Trj\n",
    "            x, y = states_hat[trj,:]\n",
    "            append!(xx,x)\n",
    "            append!(yy,y)\n",
    "        end\n",
    "        push!(X,xx)\n",
    "        push!(Y,yy)\n",
    "    end\n",
    "\n",
    "    x_Si,y_Si=states_hat[Si_hat,:]\n",
    "    x_Sf,y_Sf=states_hat[Sf_hat,:]\n",
    "\n",
    "    return X,Y,x_Si,y_Si,x_Sf,y_Sf\n",
    "end"
   ]
  },
  {
   "cell_type": "code",
   "execution_count": null,
   "metadata": {},
   "outputs": [],
   "source": [
    "### gillespie samples on full matrix\n",
    "N = 10 # number of samples\n",
    "samples, t_per, t_total = gillespie(Si_hat, Khat, StoppingCondition(pred=AbsorbingStates([Sf_hat])), N);"
   ]
  },
  {
   "cell_type": "code",
   "execution_count": null,
   "metadata": {},
   "outputs": [],
   "source": [
    "Max_times=[]; Max_times_ids=[]\n",
    "for i=1:N\n",
    "    maxtime = findmax(t_per[i])[1]\n",
    "    maxtimeid = samples[i][findmax(t_per[i])[2]]\n",
    "    append!(Max_times,maxtime)\n",
    "    append!(Max_times_ids,maxtimeid)\n",
    "end\n",
    "Max_times, Max_times_ids"
   ]
  },
  {
   "cell_type": "code",
   "execution_count": null,
   "metadata": {},
   "outputs": [],
   "source": [
    "trj_t1 = hcat(samples[1],t_per[1]);\n",
    "# Sort states by the maxium time\n",
    "sorted_trj_t1 = sortslices(trj_t1, dims=1, by=x->x[2],rev=true)\n",
    "# Get the coordinates of sorted states\n",
    "sort_array1 = [trunc.(Int,sorted_trj_t1[:,1])]\n",
    "X_sr,Y_sr,x_Si,y_Si,x_Sf,y_Sf = getCoord(Shat,states,sort_array1,Si_hat,Sf_hat)\n",
    "# Find the first sorted state whose time smaller than 5e-7\n",
    "pos = findfirst(x->x<5e-7, sorted_trj_t1[:,2]);"
   ]
  },
  {
   "cell_type": "code",
   "execution_count": null,
   "metadata": {},
   "outputs": [],
   "source": [
    "(x_Si,y_Si), (x_Sf,y_Sf)"
   ]
  },
  {
   "cell_type": "code",
   "execution_count": null,
   "metadata": {},
   "outputs": [],
   "source": [
    "plotlyjs()\n",
    "plot()\n",
    "# States over time\n",
    "scatter!(X_sr[1][1:pos],Y_sr[1][1:pos],sorted_trj_t1[:,2][1:pos],color=cgrad(:cool)[0.1],markersize=3,legend=false)\n",
    "scatter!(X_sr[1][pos+1:end],Y_sr[1][pos+1:end],sorted_trj_t1[:,2][pos+1:end],color=cgrad(:Blues)[0.1],markersize=2,legend=false)\n",
    "# plot!([x_Si],[y_Si], seriestype = :scatter, markersize=12, color=cgrad(:greens)[.25],\n",
    "#         series_annotations = [(\"I\",:center,8)])\n",
    "# plot!([x_Sf],[y_Sf], seriestype = :scatter, markersize=12, color=cgrad(:greens)[.25],\n",
    "#         series_annotations = [(\"F\",:center,8)], right_margin = 4Plots.mm, left_margin = 4Plots.mm)\n",
    "xlims!(-.9,50.1); ylims!(-.9,50.1)"
   ]
  },
  {
   "cell_type": "code",
   "execution_count": null,
   "metadata": {},
   "outputs": [],
   "source": [
    "gr()\n",
    "plot()\n",
    "# States over time\n",
    "scatter!(X_sr[1][1:pos],Y_sr[1][1:pos],sorted_trj_t1[:,2][1:pos],color=cgrad(:cool)[0.1],markersize=5,legend=false)\n",
    "scatter!(X_sr[1][pos+1:end],Y_sr[1][pos+1:end],sorted_trj_t1[:,2][pos+1:end],color=cgrad(:Blues)[0.1],markersize=3,legend=false)\n",
    "plot!([x_Si],[y_Si], seriestype = :scatter, markersize=12, color=cgrad(:greens)[.25],\n",
    "        series_annotations = [(\"I\",:center,8)])\n",
    "plot!([x_Sf],[y_Sf], seriestype = :scatter, markersize=12, color=cgrad(:greens)[.25],\n",
    "        series_annotations = [(\"F\",:center,8)], right_margin = 4Plots.mm, left_margin = 4Plots.mm)\n",
    "xlims!(-.9,50.1); ylims!(-.9,50.1)"
   ]
  },
  {
   "cell_type": "code",
   "execution_count": null,
   "metadata": {},
   "outputs": [],
   "source": [
    "# Get coordinates for gif plotting\n",
    "X,Y,x_Si,y_Si,x_Sf,y_Sf = getCoord(Shat,states,samples,Si_hat,Sf_hat);"
   ]
  },
  {
   "cell_type": "code",
   "execution_count": null,
   "metadata": {},
   "outputs": [],
   "source": [
    "gr()\n",
    "@gif for i in 1:length(X[1])\n",
    "    plot(X[1][1:i],Y[1][1:i],t_per[1][1:i],legend=false)\n",
    "    xlims!(-.9,50.1); ylims!(-.9,50.1);\n",
    "    plot!([x_Si],[y_Si], seriestype = :scatter, markersize=12, color=cgrad(:greens)[.25],\n",
    "    series_annotations = [(\"I\",:center,8)])\n",
    "    plot!([x_Sf],[y_Sf], seriestype = :scatter, markersize=12, color=cgrad(:greens)[.25],\n",
    "    series_annotations = [(\"F\",:center,8)], right_margin = 4Plots.mm, left_margin = 4Plots.mm)\n",
    "end"
   ]
  },
  {
   "cell_type": "code",
   "execution_count": null,
   "metadata": {},
   "outputs": [],
   "source": [
    "gr()\n",
    "plot()\n",
    "@gif for i in 1:length(X[1])\n",
    "    plot!([x_Si],[y_Si], seriestype = :scatter, markersize=12, color=cgrad(:greens)[.25],\n",
    "        series_annotations = [(\"I\",:center,8)])\n",
    "    plot!([x_Sf],[y_Sf], seriestype = :scatter, markersize=12, color=cgrad(:greens)[.25],\n",
    "        series_annotations = [(\"F\",:center,8)], right_margin = 4Plots.mm, left_margin = 4Plots.mm)\n",
    "    xlims!(-.9,50.1); ylims!(-.9,50.1);\n",
    "    if i < length(X[1])\n",
    "        if t_per[1][i] > 3e-7\n",
    "            plot!(X[1][i:i+1],Y[1][i:i+1],t_per[1][i:i+1],color=cgrad(:cool)[0.5],linewidth=3,legend=false)\n",
    "        else\n",
    "            plot!(X[1][i:i+1],Y[1][i:i+1],t_per[1][i:i+1],color=cgrad(:Blues)[0.3],legend=false)\n",
    "        end    \n",
    "    end\n",
    "end"
   ]
  },
  {
   "cell_type": "code",
   "execution_count": null,
   "metadata": {},
   "outputs": [],
   "source": [
    "gr()\n",
    "plot()\n",
    "# Trajactory (traverse states) over time\n",
    "@gif for i in 1:length(X[1])\n",
    "    plot!([x_Si],[y_Si], seriestype = :scatter, markersize=12, color=cgrad(:greens)[.25],\n",
    "        series_annotations = [(\"I\",:center,8)])\n",
    "    plot!([x_Sf],[y_Sf], seriestype = :scatter, markersize=12, color=cgrad(:greens)[.25],\n",
    "        series_annotations = [(\"F\",:center,8)], right_margin = 4Plots.mm, left_margin = 4Plots.mm)\n",
    "    xlims!(-.9,50.1); ylims!(-.9,50.1);\n",
    "    if i < length(X[1])\n",
    "        if t_per[1][i] > 5e-7\n",
    "            scatter!(X[1][i:i+1],Y[1][i:i+1],t_per[1][i:i+1],color=cgrad(:rainbow)[0.9],\n",
    "            markershape=:star4, markersize=8,legend=false)\n",
    "        else\n",
    "            scatter!(X[1][i:i+1],Y[1][i:i+1],t_per[1][i:i+1],color=cgrad(:BrBG_6)[0.5],\n",
    "            legend=false)\n",
    "        end    \n",
    "    end\n",
    "end"
   ]
  },
  {
   "cell_type": "code",
   "execution_count": null,
   "metadata": {},
   "outputs": [],
   "source": [
    "gr()\n",
    "plot()\n",
    "# Trajactory (traverse states) over time\n",
    "@gif for i in 1:length(X[1])\n",
    "    plot!([x_Si],[y_Si], seriestype = :scatter, markersize=12, color=cgrad(:greens)[.25],\n",
    "        series_annotations = [(\"I\",:center,8)])\n",
    "    plot!([x_Sf],[y_Sf], seriestype = :scatter, markersize=12, color=cgrad(:greens)[.25],\n",
    "        series_annotations = [(\"F\",:center,8)], right_margin = 4Plots.mm, left_margin = 4Plots.mm)\n",
    "    xlims!(-.9,50.1); ylims!(-.9,50.1);\n",
    "    if i < length(X[1])\n",
    "        if t_per[1][i+1] > 5e-7\n",
    "            scatter!(X[1][i:i+1],Y[1][i:i+1],t_per[1][i:i+1],color=cgrad(:rainbow)[0.9],\n",
    "            markershape=:star5, markersize=8,legend=false)\n",
    "        else\n",
    "            scatter!(X[1][i:i+1],Y[1][i:i+1],t_per[1][i:i+1],color=cgrad(:BrBG_6)[0.5],\n",
    "            legend=false)\n",
    "        end    \n",
    "    end\n",
    "end"
   ]
  },
  {
   "cell_type": "code",
   "execution_count": null,
   "metadata": {},
   "outputs": [],
   "source": [
    "plot()\n",
    "@gif for i in 1:length(X[1])\n",
    "    plot!([x_Si],[y_Si], seriestype = :scatter, markersize=12, color=cgrad(:greens)[.25],\n",
    "        series_annotations = [(\"I\",:center,8)])\n",
    "    plot!([x_Sf],[y_Sf], seriestype = :scatter, markersize=12, color=cgrad(:greens)[.25],\n",
    "        series_annotations = [(\"F\",:center,8)], right_margin = 4Plots.mm, left_margin = 4Plots.mm)\n",
    "    xlims!(-.9,50.1); ylims!(-.9,50.1);\n",
    "\n",
    "    if i < length(X[1])\n",
    "        plot!(X[1][i:i+1],Y[1][i:i+1],color=cgrad(:Purples)[0+i/length(X[1])],legend=false)\n",
    "    end\n",
    "end"
   ]
  },
  {
   "cell_type": "code",
   "execution_count": null,
   "metadata": {},
   "outputs": [],
   "source": [
    "plot()\n",
    "@gif for i in 1:length(X[1])\n",
    "    plot!([x_Si],[y_Si], seriestype = :scatter, markersize=12, color=cgrad(:greens)[.25],\n",
    "        series_annotations = [(\"I\",:center,8)])\n",
    "    plot!([x_Sf],[y_Sf], seriestype = :scatter, markersize=12, color=cgrad(:greens)[.25],\n",
    "        series_annotations = [(\"F\",:center,8)], right_margin = 4Plots.mm, left_margin = 4Plots.mm)\n",
    "    xlims!(-.9,50.1); ylims!(-.9,50.1);\n",
    "\n",
    "\n",
    "\n",
    "    if i < length(X[1])\n",
    "        if t_per[1][i] > 5e-7\n",
    "            plot!(X[1][i:i+1],Y[1][i:i+1],color=:red,linewidth=5,legend=false)\n",
    "        else\n",
    "            plot!(X[1][i:i+1],Y[1][i:i+1],color=:grey,legend=false)\n",
    "        end\n",
    "    end\n",
    "end"
   ]
  },
  {
   "cell_type": "code",
   "execution_count": null,
   "metadata": {},
   "outputs": [],
   "source": []
  }
 ],
 "metadata": {
  "kernelspec": {
   "display_name": "Julia 1.7.1",
   "language": "julia",
   "name": "julia-1.7"
  },
  "language_info": {
   "codemirror_mode": {
    "name": "ipython",
    "version": 3
   },
   "file_extension": ".py",
   "mimetype": "text/x-python",
   "name": "julia",
   "nbconvert_exporter": "python",
   "pygments_lexer": "ipython3",
   "version": "3.8.13"
  },
  "vscode": {
   "interpreter": {
    "hash": "960be4cf653645892f8c5040dafd36ede801108a57618a05d934dc04f8033a0a"
   }
  }
 },
 "nbformat": 4,
 "nbformat_minor": 2
}
