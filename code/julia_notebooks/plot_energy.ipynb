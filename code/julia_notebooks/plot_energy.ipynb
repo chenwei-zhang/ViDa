{
 "cells": [
  {
   "cell_type": "markdown",
   "metadata": {},
   "source": [
    "# Plot embedded data"
   ]
  },
  {
   "cell_type": "code",
   "execution_count": null,
   "metadata": {},
   "outputs": [],
   "source": [
    "using NPZ, Printf, NNlib, Statistics, Plots, JLD2, LinearAlgebra, Distributions"
   ]
  },
  {
   "cell_type": "code",
   "execution_count": null,
   "metadata": {},
   "outputs": [],
   "source": [
    "fname = \"assos_PT0_1sim_20C_51_1985epoch\"\n",
    "# fname = \"assos_PT3_1sim_20C_21_60epoch\"\n",
    "\n",
    "data_npz =npzread(\"data/helix_assos/$fname.npz\")"
   ]
  },
  {
   "cell_type": "markdown",
   "metadata": {},
   "source": [
    "## PCA Vis"
   ]
  },
  {
   "cell_type": "markdown",
   "metadata": {},
   "source": [
    "#### 1. Plot PCA with 2 components X,Y-axes and energy as Z-axis with color"
   ]
  },
  {
   "cell_type": "code",
   "execution_count": null,
   "metadata": {},
   "outputs": [],
   "source": [
    "# X=data_npz[\"pca_all_coords\"][:,1]; Y=data_npz[\"pca_all_coords\"][:,2]; Z=data_npz[\"pca_all_coords\"][:,3]; energy = data_npz[\"SIM_G\"];\n",
    "X=data_npz[\"pca_coords\"][:,1]; Y=data_npz[\"pca_coords\"][:,2]; Z=data_npz[\"pca_coords\"][:,3]; \n",
    "energy = data_npz[\"SIM_G_uniq\"]; occp=data_npz[\"occp\"]\n",
    "\n",
    "size(X), size(Y), size(Z), size(energy), size(occp)"
   ]
  },
  {
   "cell_type": "code",
   "execution_count": null,
   "metadata": {},
   "outputs": [],
   "source": [
    "# 2D\n",
    "plotlyjs()\n",
    "plot()\n",
    "\n",
    "scatter!(X,Y,zcolor=energy,m=cgrad(:plasma),markerstrokewidth=0,markersize=4,legend=false)\n",
    "\n",
    "plot!([X[1]],[Y[1]], seriestype = :scatter, markersize=8, color=cgrad(:greens)[.25],\n",
    "        series_annotations = [(\"I\",:center,10)])\n",
    "plot!([X[end]],[Y[end]], seriestype = :scatter, markersize=8, color=cgrad(:greens)[.25],\n",
    "        series_annotations = [(\"F\",:center,10)])\n",
    "\n",
    "xlims!(minimum(X)*1.05,maximum(X)*1.05) \n",
    "ylims!(minimum(Y)*1.05,maximum(Y)*1.05)\n",
    "\n",
    "plot!(xlabel=\"X\", ylabel=\"Y\")\n",
    "\n",
    "# savefig(\"../plot/helix_assos/$(fname)_PCA.png\")"
   ]
  },
  {
   "cell_type": "code",
   "execution_count": null,
   "metadata": {},
   "outputs": [],
   "source": [
    "# 2D landscape gif\n",
    "gr()\n",
    "plot()\n",
    "\n",
    "scatter!(X,Y,zcolor=energy,\n",
    "        m=cgrad(:plasma),markerstrokewidth=0,markersize=6,legend=false)\n",
    "\n",
    "xlims!(minimum(X)*1.05,maximum(X)*1.05) \n",
    "ylims!(minimum(Y)*1.05,maximum(Y)*1.05)\n",
    "\n",
    "plot!(xlabel=\"X\", ylabel=\"Y\")\n",
    "\n",
    "anim = @animate for i in 1:length(X)\n",
    " \n",
    "    plot!([X[1]],[Y[1]], seriestype = :scatter, markersize=8, color=cgrad(:greens)[.25],\n",
    "        series_annotations = [(\"I\",:center,10)])\n",
    "    plot!([X[end]],[Y[end]], seriestype = :scatter, markersize=8, color=cgrad(:greens)[.25],\n",
    "        series_annotations = [(\"F\",:center,10)])\n",
    "\n",
    "    scatter!([X[i]],[Y[i]],color=palette(:grays)[1],\n",
    "            markersize=5,markerstrokewidth=0,\n",
    "            legend=false,)#fps=5)\n",
    "end every 20\n",
    "\n",
    "gif(anim, \"../plot/helix_assos/$(fname)_PCA.gif\", fps=2)"
   ]
  },
  {
   "cell_type": "code",
   "execution_count": null,
   "metadata": {},
   "outputs": [],
   "source": [
    "# 2D landscape gif\n",
    "gr()\n",
    "plot()\n",
    "\n",
    "scatter!(X,Y,zcolor=energy,\n",
    "        m=cgrad(:plasma),markerstrokewidth=0,markersize=6,legend=false)\n",
    "\n",
    "X = vcat(X,repeat([X[end]],20))\n",
    "Y = vcat(Y,repeat([Y[end]],20))\n",
    "energy = vcat(energy,repeat([energy[end]],20))\n",
    "\n",
    "xlims!(minimum(X)*1.05,maximum(X)*1.05) \n",
    "ylims!(minimum(Y)*1.05,maximum(Y)*1.05)\n",
    "\n",
    "plot!(xlabel=\"X\", ylabel=\"Y\")\n",
    "\n",
    "anim = @animate for i in 1:length(X)\n",
    " \n",
    "    plot!([X[1]],[Y[1]], seriestype = :scatter, markersize=8, color=cgrad(:greens)[.25],\n",
    "        series_annotations = [(\"I\",:center,10)])\n",
    "    plot!([X[end]],[Y[end]], seriestype = :scatter, markersize=8, color=cgrad(:greens)[.25],\n",
    "        series_annotations = [(\"F\",:center,10)])\n",
    "\n",
    "    scatter!([X[i]],[Y[i]],color=palette(:grays)[1],\n",
    "            markersize=5,markerstrokewidth=0,\n",
    "            legend=false,)#fps=5)\n",
    "end every 20\n",
    "\n",
    "gif(anim, \"../plot/helix_assos/$(fname)_PCA_vcat.gif\", fps=2)"
   ]
  },
  {
   "cell_type": "code",
   "execution_count": null,
   "metadata": {},
   "outputs": [],
   "source": [
    "# 3D\n",
    "gr()\n",
    "plot()\n",
    "\n",
    "scatter!(X,Y,energy,zcolor=energy,m=cgrad(:plasma),markerstrokewidth=0,markersize=4,legend=false)\n",
    "\n",
    "plot!([X[1]],[Y[1]],[Z[1]], seriestype = :scatter, markersize=7,\n",
    "        color=color=palette(:lighttest)[4],markershape=:diamond,opacity=0.8) # Green for Si\n",
    "plot!([X[end]],[Y[end]],[Z[end]], seriestype = :scatter, markersize=7,\n",
    "        color=color=palette(:lighttest)[7],markershape=:diamond,opacity=0.8) # Red for Sf\n",
    "\n",
    "xlims!(minimum(X)*1.05,maximum(X)*1.05) \n",
    "ylims!(minimum(Y)*1.05,maximum(Y)*1.05)\n",
    "zlims!(minimum(energy)*1.05,maximum(energy)*1.05)\n",
    "\n",
    "plot!(xlabel=\"X\", ylabel=\"Y\", zlabel = \"Energy\")\n"
   ]
  },
  {
   "cell_type": "markdown",
   "metadata": {},
   "source": [
    "#### 2. Plot PCA with 3 components X,Y,Z-axes, and energy as color "
   ]
  },
  {
   "cell_type": "code",
   "execution_count": null,
   "metadata": {},
   "outputs": [],
   "source": [
    "# 3D\n",
    "plotlyjs()\n",
    "plot()\n",
    "\n",
    "scatter!(X,Y,Z,zcolor=energy,m=cgrad(:plasma),markerstrokewidth=0,markersize=2,legend=false)\n",
    "\n",
    "plot!([X[1]],[Y[1]],[Z[1]], seriestype = :scatter, markersize=3,\n",
    "        color=palette(:lighttest)[4],markershape=:diamond,opacity=0.8) # Green for Si\n",
    "plot!([X[end]],[Y[end]],[Z[end]], seriestype = :scatter, markersize=3,\n",
    "        color=palette(:lighttest)[7],markershape=:diamond,opacity=0.8) # Red for Sf\n",
    "\n",
    "xlims!(minimum(X)*1.05,maximum(X)*1.05) \n",
    "ylims!(minimum(Y)*1.05,maximum(Y)*1.05)\n",
    "zlims!(minimum(Z)*1.05,maximum(Z)*1.05)\n",
    "\n",
    "plot!(xlabel=\"X\", ylabel=\"Y\", zlabel = \"Z\")\n"
   ]
  },
  {
   "cell_type": "code",
   "execution_count": null,
   "metadata": {},
   "outputs": [],
   "source": [
    "# 3D landscape gif\n",
    "gr()\n",
    "plot()\n",
    "\n",
    "scatter!(X,Y,Z,zcolor=energy,m=cgrad(:plasma),markerstrokewidth=0,markersize=6,legend=false)\n",
    "\n",
    "anim = @animate for i in 1:length(X)\n",
    "\n",
    "    plot!([X[1]],[Y[1]],[Z[1]], seriestype = :scatter, markersize=8,\n",
    "        color=palette(:lighttest)[4],markershape=:diamond,opacity=1,\n",
    "        markerstrokewidth=0) # Green for Si\n",
    "    plot!([X[end]],[Y[end]],[Z[end]], seriestype = :scatter, markersize=8,\n",
    "        color=palette(:lighttest)[7],markershape=:diamond,opacity=1,\n",
    "        markerstrokewidth=0) # Red for Sf\n",
    "    scatter!([X[i]],[Y[i]],[Z[i]],color=palette(:grays)[1],\n",
    "            markersize=5.5,markerstrokewidth=0,\n",
    "            legend=false,)#fps=5)\n",
    "\n",
    "    xlims!(minimum(X)*1.05,maximum(X)*1.05) \n",
    "    ylims!(minimum(Y)*1.05,maximum(Y)*1.05)\n",
    "    zlims!(minimum(Z)*1.05,maximum(Z)*1.05)\n",
    "\n",
    "    plot!(xlabel=\"X\", ylabel=\"Y\", zlabel = \"Z\")\n",
    "    \n",
    "end every 100\n",
    "\n",
    "gif(anim,\"../plot/helix_assos/$(fname)_PCA_3D_Z.gif\", fps=2)"
   ]
  },
  {
   "cell_type": "code",
   "execution_count": null,
   "metadata": {},
   "outputs": [],
   "source": [
    "# 3D landscape gif\n",
    "gr()\n",
    "plot()\n",
    "\n",
    "scatter!(X,Y,Z,zcolor=energy,m=cgrad(:plasma),markerstrokewidth=0,markersize=6,legend=false)\n",
    "\n",
    "X = vcat(X,repeat([X[end]],20))\n",
    "Y = vcat(Y,repeat([Y[end]],20))\n",
    "Z = vcat(Z,repeat([Z[end]],20))\n",
    "energy = vcat(energy,repeat([energy[end]],20))\n",
    "\n",
    "anim = @animate for i in 1:length(X)\n",
    "\n",
    "    plot!([X[1]],[Y[1]],[Z[1]], seriestype = :scatter, markersize=8,\n",
    "        color=palette(:lighttest)[4],markershape=:diamond,opacity=1,\n",
    "        markerstrokewidth=0) # Green for Si\n",
    "    plot!([X[end]],[Y[end]],[Z[end]], seriestype = :scatter, markersize=8,\n",
    "        color=palette(:lighttest)[7],markershape=:diamond,opacity=1,\n",
    "        markerstrokewidth=0) # Red for Sf\n",
    "    scatter!([X[i]],[Y[i]],[Z[i]],color=palette(:grays)[1],\n",
    "            markersize=5.5,markerstrokewidth=0,\n",
    "            legend=false,)#fps=5)\n",
    "\n",
    "    xlims!(minimum(X)*1.05,maximum(X)*1.05) \n",
    "    ylims!(minimum(Y)*1.05,maximum(Y)*1.05)\n",
    "    zlims!(minimum(Z)*1.05,maximum(Z)*1.05)\n",
    "\n",
    "    plot!(xlabel=\"X\", ylabel=\"Y\", zlabel = \"Z\")\n",
    "    \n",
    "end every 20\n",
    "\n",
    "gif(anim,\"../plot/helix_assos/$(fname)_PCA_3D_Z_vcat.gif\", fps=2)"
   ]
  },
  {
   "cell_type": "markdown",
   "metadata": {},
   "source": [
    "## PHATE Vis"
   ]
  },
  {
   "cell_type": "code",
   "execution_count": null,
   "metadata": {},
   "outputs": [],
   "source": [
    "X = data_npz[\"phate_coords\"][:,1]; Y = data_npz[\"phate_coords\"][:,2]; Z = data_npz[\"SIM_G_uniq\"];"
   ]
  },
  {
   "cell_type": "code",
   "execution_count": null,
   "metadata": {},
   "outputs": [],
   "source": [
    "# 2D\n",
    "plotlyjs()\n",
    "plot()\n",
    "\n",
    "scatter!(X,Y,zcolor=Z,m=cgrad(:plasma),markerstrokewidth=0,markersize=4,legend=false)\n",
    "\n",
    "plot!([X[1]],[Y[1]], seriestype = :scatter, markersize=8, color=cgrad(:greens)[.25],\n",
    "        series_annotations = [(\"I\",:center,10)])\n",
    "plot!([X[end]],[Y[end]], seriestype = :scatter, markersize=8, color=cgrad(:greens)[.25],\n",
    "        series_annotations = [(\"F\",:center,10)])\n",
    "\n",
    "plot!(xlabel=\"X\", ylabel=\"Y\")\n",
    "\n",
    "# savefig(\"../plot/helix_assos/$(fname)_PHATE.png\")"
   ]
  },
  {
   "cell_type": "code",
   "execution_count": null,
   "metadata": {},
   "outputs": [],
   "source": [
    "# 2D landscape gif\n",
    "gr()\n",
    "plot()\n",
    "\n",
    "scatter!(X,Y,zcolor=Z,m=cgrad(:plasma),markerstrokewidth=0,markersize=6,legend=false)\n",
    "\n",
    "xlims!(minimum(X)*1.05,maximum(X)*1.05) \n",
    "ylims!(minimum(Y)*1.05,maximum(Y)*1.05)\n",
    "\n",
    "plot!(xlabel=\"X\", ylabel=\"Y\")\n",
    "\n",
    "anim = @animate for i in 1:length(X)\n",
    "\n",
    "    plot!([X[1]],[Y[1]], seriestype = :scatter, markersize=8, color=cgrad(:greens)[.25],\n",
    "        series_annotations = [(\"I\",:center,10)])\n",
    "    plot!([X[end]],[Y[end]], seriestype = :scatter, markersize=8, color=cgrad(:greens)[.25],\n",
    "        series_annotations = [(\"F\",:center,10)])\n",
    "    \n",
    "    scatter!([X[i]],[Y[i]],color=palette(:grays)[1],\n",
    "            markersize=5,markerstrokewidth=0,\n",
    "            legend=false,)#fps=5) \n",
    "end every 20\n",
    "\n",
    "gif(anim,\"../plot/helix_assos/$(fname)_PHATE.gif\", fps=2)"
   ]
  },
  {
   "cell_type": "code",
   "execution_count": null,
   "metadata": {},
   "outputs": [],
   "source": [
    "# 2D landscape gif\n",
    "gr()\n",
    "plot()\n",
    "\n",
    "scatter!(X,Y,zcolor=Z,m=cgrad(:plasma),markerstrokewidth=0,markersize=6,legend=false)\n",
    "\n",
    "X = vcat(X,repeat([X[end]],20))\n",
    "Y = vcat(Y,repeat([Y[end]],20))\n",
    "energy = vcat(energy,repeat([energy[end]],20))\n",
    "\n",
    "xlims!(minimum(X)*1.05,maximum(X)*1.05) \n",
    "ylims!(minimum(Y)*1.05,maximum(Y)*1.05)\n",
    "\n",
    "plot!(xlabel=\"X\", ylabel=\"Y\")\n",
    "\n",
    "anim = @animate for i in 1:length(X)\n",
    "\n",
    "    plot!([X[1]],[Y[1]], seriestype = :scatter, markersize=8, color=cgrad(:greens)[.25],\n",
    "        series_annotations = [(\"I\",:center,10)])\n",
    "    plot!([X[end]],[Y[end]], seriestype = :scatter, markersize=8, color=cgrad(:greens)[.25],\n",
    "        series_annotations = [(\"F\",:center,10)])\n",
    "    \n",
    "    scatter!([X[i]],[Y[i]],color=palette(:grays)[1],\n",
    "            markersize=5,markerstrokewidth=0,\n",
    "            legend=false,)#fps=5) \n",
    "end every 20\n",
    "\n",
    "gif(anim,\"../plot/helix_assos/$(fname)_PHATE_vcat.gif\", fps=2)\n"
   ]
  },
  {
   "cell_type": "code",
   "execution_count": null,
   "metadata": {},
   "outputs": [],
   "source": []
  }
 ],
 "metadata": {
  "kernelspec": {
   "display_name": "Julia 1.7.1",
   "language": "julia",
   "name": "julia-1.7"
  },
  "language_info": {
   "file_extension": ".jl",
   "mimetype": "application/julia",
   "name": "julia",
   "version": "1.7.1"
  },
  "vscode": {
   "interpreter": {
    "hash": "960be4cf653645892f8c5040dafd36ede801108a57618a05d934dc04f8033a0a"
   }
  }
 },
 "nbformat": 4,
 "nbformat_minor": 2
}
