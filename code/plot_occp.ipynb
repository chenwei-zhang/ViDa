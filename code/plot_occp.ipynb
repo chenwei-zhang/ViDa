{
 "cells": [
  {
   "cell_type": "markdown",
   "metadata": {},
   "source": [
    "# Plot embedded data"
   ]
  },
  {
   "cell_type": "code",
   "execution_count": 1,
   "metadata": {},
   "outputs": [],
   "source": [
    "using NPZ, Printf, NNlib, Statistics, Plots, JLD2, LinearAlgebra, Distributions"
   ]
  },
  {
   "cell_type": "markdown",
   "metadata": {},
   "source": [
    "## PCA Vis"
   ]
  },
  {
   "cell_type": "code",
   "execution_count": 2,
   "metadata": {},
   "outputs": [
    {
     "data": {
      "text/plain": [
       "Dict{String, Array} with 6 entries:\n",
       "  \"time_fract\" => [0.0121251, 0.00127632, 0.0382897, 0.000638162, 0.00191449, 0…\n",
       "  \"time_HT\"    => [1.0e-9, 2.0e-9, 6.0e-8, 1.0e-9, 0.0, 1.0e-9, 0.0, 1.0e-9, 0.…\n",
       "  \"energy\"     => [0.0, 1.8, 0.1, 3.6, 1.8, 1.5, -0.4, 1.0, 2.6, -1.5  …  1.5, …\n",
       "  \"occp\"       => [0.00986193, 0.00394477, 0.00197239, 0.00197239, 0.00986193, …\n",
       "  \"time_count\" => [1.9e-8, 2.0e-9, 6.0e-8, 1.0e-9, 3.0e-9, 8.0e-9, 1.94e-7, 1.2…\n",
       "  \"pca\"        => Float32[4.64775 0.732769 -0.367821; -2.65496 -4.12409 2.99347…"
      ]
     },
     "metadata": {},
     "output_type": "display_data"
    }
   ],
   "source": [
    "data_pca = npzread(\"data/I1_sim1_pca_uniq.npy\")"
   ]
  },
  {
   "cell_type": "code",
   "execution_count": 3,
   "metadata": {},
   "outputs": [],
   "source": [
    "X = data_pca[\"pca\"][:,1]; Y = data_pca[\"pca\"][:,2]; Z = data_pca[\"pca\"][:,3]\n",
    "time_fract = data_pca[\"time_fract\"]; time_HT = data_pca[\"time_HT\"]\n",
    "energy = data_pca[\"energy\"]\n",
    "occp = data_pca[\"occp\"];"
   ]
  },
  {
   "cell_type": "markdown",
   "metadata": {},
   "source": [
    "#### Plot PCA with 2 components X,Y-axes and occupancy density as Z-axis with color"
   ]
  },
  {
   "cell_type": "code",
   "execution_count": 11,
   "metadata": {},
   "outputs": [
    {
     "data": {
      "application/vnd.plotly.v1+json": {
       "data": [
        {
         "colorbar": {
          "title": ""
         },
         "legendgroup": "y1",
         "marker": {
          "color": "rgba(238, 238, 238, 1.000)",
          "line": {
           "color": "rgba(0, 0, 0, 1.000)",
           "width": 0
          },
          "size": 10,
          "symbol": "circle"
         },
         "mode": "markers",
         "name": "y1",
         "showlegend": true,
         "type": "scatter",
         "x": [
          4.6477523
         ],
         "xaxis": "x",
         "y": [
          0.7327694
         ],
         "yaxis": "y",
         "zmax": 0.398422090729783,
         "zmin": 0.0019723865877712033
        },
        {
         "colorbar": {
          "title": ""
         },
         "legendgroup": "y1",
         "marker": {
          "color": "rgba(241, 241, 241, 1.000)",
          "line": {
           "color": "rgba(0, 0, 0, 1.000)",
           "width": 0
          },
          "size": 10,
          "symbol": "circle"
         },
         "mode": "markers",
         "name": "y1",
         "showlegend": false,
         "type": "scatter",
         "x": [
          -2.654956
         ],
         "xaxis": "x",
         "y": [
          -4.1240873
         ],
         "yaxis": "y",
         "zmax": 0.398422090729783,
         "zmin": 0.0019723865877712033
        },
        {
         "colorbar": {
          "title": ""
         },
         "legendgroup": "y1",
         "marker": {
          "color": "rgba(242, 242, 242, 1.000)",
          "line": {
           "color": "rgba(0, 0, 0, 1.000)",
           "width": 0
          },
          "size": 10,
          "symbol": "circle"
         },
         "mode": "markers",
         "name": "y1",
         "showlegend": false,
         "type": "scatter",
         "x": [
          -2.6563451
         ],
         "xaxis": "x",
         "y": [
          1.2832105
         ],
         "yaxis": "y",
         "zmax": 0.398422090729783,
         "zmin": 0.0019723865877712033
        },
        {
         "colorbar": {
          "title": ""
         },
         "legendgroup": "y1",
         "marker": {
          "color": "rgba(242, 242, 242, 1.000)",
          "line": {
           "color": "rgba(0, 0, 0, 1.000)",
           "width": 0
          },
          "size": 10,
          "symbol": "circle"
         },
         "mode": "markers",
         "name": "y1",
         "showlegend": false,
         "type": "scatter",
         "x": [
          -3.7430313
         ],
         "xaxis": "x",
         "y": [
          3.155671
         ],
         "yaxis": "y",
         "zmax": 0.398422090729783,
         "zmin": 0.0019723865877712033
        },
        {
         "colorbar": {
          "title": ""
         },
         "legendgroup": "y1",
         "marker": {
          "color": "rgba(238, 238, 238, 1.000)",
          "line": {
           "color": "rgba(0, 0, 0, 1.000)",
           "width": 0
          },
          "size": 10,
          "symbol": "circle"
         },
         "mode": "markers",
         "name": "y1",
         "showlegend": false,
         "type": "scatter",
         "x": [
          -0.84640163
         ],
         "xaxis": "x",
         "y": [
          -0.5130267
         ],
         "yaxis": "y",
         "zmax": 0.398422090729783,
         "zmin": 0.0019723865877712033
        },
        {
         "colorbar": {
          "title": ""
         },
         "legendgroup": "y1",
         "marker": {
          "color": "rgba(234, 234, 234, 1.000)",
          "line": {
           "color": "rgba(0, 0, 0, 1.000)",
           "width": 0
          },
          "size": 10,
          "symbol": "circle"
         },
         "mode": "markers",
         "name": "y1",
         "showlegend": false,
         "type": "scatter",
         "x": [
          0.043282423
         ],
         "xaxis": "x",
         "y": [
          0.20759551
         ],
         "yaxis": "y",
         "zmax": 0.398422090729783,
         "zmin": 0.0019723865877712033
        },
        {
         "colorbar": {
          "title": ""
         },
         "legendgroup": "y1",
         "marker": {
          "color": "rgba(84, 84, 84, 1.000)",
          "line": {
           "color": "rgba(0, 0, 0, 1.000)",
           "width": 0
          },
          "size": 10,
          "symbol": "circle"
         },
         "mode": "markers",
         "name": "y1",
         "showlegend": false,
         "type": "scatter",
         "x": [
          7.1832905
         ],
         "xaxis": "x",
         "y": [
          -5.3880253
         ],
         "yaxis": "y",
         "zmax": 0.398422090729783,
         "zmin": 0.0019723865877712033
        },
        {
         "colorbar": {
          "title": ""
         },
         "legendgroup": "y1",
         "marker": {
          "color": "rgba(210, 210, 210, 1.000)",
          "line": {
           "color": "rgba(0, 0, 0, 1.000)",
           "width": 0
          },
          "size": 10,
          "symbol": "circle"
         },
         "mode": "markers",
         "name": "y1",
         "showlegend": false,
         "type": "scatter",
         "x": [
          2.6338522
         ],
         "xaxis": "x",
         "y": [
          -5.2244754
         ],
         "yaxis": "y",
         "zmax": 0.398422090729783,
         "zmin": 0.0019723865877712033
        },
        {
         "colorbar": {
          "title": ""
         },
         "legendgroup": "y1",
         "marker": {
          "color": "rgba(240, 240, 240, 1.000)",
          "line": {
           "color": "rgba(0, 0, 0, 1.000)",
           "width": 0
          },
          "size": 10,
          "symbol": "circle"
         },
         "mode": "markers",
         "name": "y1",
         "showlegend": false,
         "type": "scatter",
         "x": [
          -5.8187604
         ],
         "xaxis": "x",
         "y": [
          -5.229411
         ],
         "yaxis": "y",
         "zmax": 0.398422090729783,
         "zmin": 0.0019723865877712033
        },
        {
         "colorbar": {
          "title": ""
         },
         "legendgroup": "y1",
         "marker": {
          "color": "rgba(13, 13, 13, 1.000)",
          "line": {
           "color": "rgba(0, 0, 0, 1.000)",
           "width": 0
          },
          "size": 10,
          "symbol": "circle"
         },
         "mode": "markers",
         "name": "y1",
         "showlegend": false,
         "type": "scatter",
         "x": [
          5.503725
         ],
         "xaxis": "x",
         "y": [
          8.042411
         ],
         "yaxis": "y",
         "zmax": 0.398422090729783,
         "zmin": 0.0019723865877712033
        },
        {
         "colorbar": {
          "title": ""
         },
         "legendgroup": "y1",
         "marker": {
          "color": "rgba(138, 138, 138, 1.000)",
          "line": {
           "color": "rgba(0, 0, 0, 1.000)",
           "width": 0
          },
          "size": 10,
          "symbol": "circle"
         },
         "mode": "markers",
         "name": "y1",
         "showlegend": false,
         "type": "scatter",
         "x": [
          5.083676
         ],
         "xaxis": "x",
         "y": [
          5.6259074
         ],
         "yaxis": "y",
         "zmax": 0.398422090729783,
         "zmin": 0.0019723865877712033
        },
        {
         "colorbar": {
          "title": ""
         },
         "legendgroup": "y1",
         "marker": {
          "color": "rgba(239, 239, 239, 1.000)",
          "line": {
           "color": "rgba(0, 0, 0, 1.000)",
           "width": 0
          },
          "size": 10,
          "symbol": "circle"
         },
         "mode": "markers",
         "name": "y1",
         "showlegend": false,
         "type": "scatter",
         "x": [
          -1.9416994
         ],
         "xaxis": "x",
         "y": [
          6.0487847
         ],
         "yaxis": "y",
         "zmax": 0.398422090729783,
         "zmin": 0.0019723865877712033
        },
        {
         "colorbar": {
          "title": ""
         },
         "legendgroup": "y1",
         "marker": {
          "color": "rgba(240, 240, 240, 1.000)",
          "line": {
           "color": "rgba(0, 0, 0, 1.000)",
           "width": 0
          },
          "size": 10,
          "symbol": "circle"
         },
         "mode": "markers",
         "name": "y1",
         "showlegend": false,
         "type": "scatter",
         "x": [
          -2.4972928
         ],
         "xaxis": "x",
         "y": [
          7.491962
         ],
         "yaxis": "y",
         "zmax": 0.398422090729783,
         "zmin": 0.0019723865877712033
        },
        {
         "colorbar": {
          "title": ""
         },
         "legendgroup": "y1",
         "marker": {
          "color": "rgba(240, 240, 240, 1.000)",
          "line": {
           "color": "rgba(0, 0, 0, 1.000)",
           "width": 0
          },
          "size": 10,
          "symbol": "circle"
         },
         "mode": "markers",
         "name": "y1",
         "showlegend": false,
         "type": "scatter",
         "x": [
          -6.995915
         ],
         "xaxis": "x",
         "y": [
          -3.4359667
         ],
         "yaxis": "y",
         "zmax": 0.398422090729783,
         "zmin": 0.0019723865877712033
        },
        {
         "colorbar": {
          "title": ""
         },
         "legendgroup": "y1",
         "marker": {
          "color": "rgba(240, 240, 240, 1.000)",
          "line": {
           "color": "rgba(0, 0, 0, 1.000)",
           "width": 0
          },
          "size": 10,
          "symbol": "circle"
         },
         "mode": "markers",
         "name": "y1",
         "showlegend": false,
         "type": "scatter",
         "x": [
          -6.506847
         ],
         "xaxis": "x",
         "y": [
          5.7132754
         ],
         "yaxis": "y",
         "zmax": 0.398422090729783,
         "zmin": 0.0019723865877712033
        },
        {
         "colorbar": {
          "title": ""
         },
         "legendgroup": "y1",
         "marker": {
          "color": "rgba(242, 242, 242, 1.000)",
          "line": {
           "color": "rgba(0, 0, 0, 1.000)",
           "width": 0
          },
          "size": 10,
          "symbol": "circle"
         },
         "mode": "markers",
         "name": "y1",
         "showlegend": false,
         "type": "scatter",
         "x": [
          -1.7377863
         ],
         "xaxis": "x",
         "y": [
          -3.4376783
         ],
         "yaxis": "y",
         "zmax": 0.398422090729783,
         "zmin": 0.0019723865877712033
        },
        {
         "colorbar": {
          "title": ""
         },
         "legendgroup": "y1",
         "marker": {
          "color": "rgba(242, 242, 242, 1.000)",
          "line": {
           "color": "rgba(0, 0, 0, 1.000)",
           "width": 0
          },
          "size": 10,
          "symbol": "circle"
         },
         "mode": "markers",
         "name": "y1",
         "showlegend": false,
         "type": "scatter",
         "x": [
          -8.41499
         ],
         "xaxis": "x",
         "y": [
          -3.85644
         ],
         "yaxis": "y",
         "zmax": 0.398422090729783,
         "zmin": 0.0019723865877712033
        },
        {
         "colorbar": {
          "title": ""
         },
         "legendgroup": "y1",
         "marker": {
          "color": "rgba(242, 242, 242, 1.000)",
          "line": {
           "color": "rgba(0, 0, 0, 1.000)",
           "width": 0
          },
          "size": 10,
          "symbol": "circle"
         },
         "mode": "markers",
         "name": "y1",
         "showlegend": false,
         "type": "scatter",
         "x": [
          -3.6207879
         ],
         "xaxis": "x",
         "y": [
          -0.8424102
         ],
         "yaxis": "y",
         "zmax": 0.398422090729783,
         "zmin": 0.0019723865877712033
        },
        {
         "colorbar": {
          "title": ""
         },
         "legendgroup": "y1",
         "marker": {
          "color": "rgba(242, 242, 242, 1.000)",
          "line": {
           "color": "rgba(0, 0, 0, 1.000)",
           "width": 0
          },
          "size": 10,
          "symbol": "circle"
         },
         "mode": "markers",
         "name": "y1",
         "showlegend": false,
         "type": "scatter",
         "x": [
          3.7488408
         ],
         "xaxis": "x",
         "y": [
          -2.1662424
         ],
         "yaxis": "y",
         "zmax": 0.398422090729783,
         "zmin": 0.0019723865877712033
        },
        {
         "colorbar": {
          "title": ""
         },
         "legendgroup": "y1",
         "marker": {
          "color": "rgba(242, 242, 242, 1.000)",
          "line": {
           "color": "rgba(0, 0, 0, 1.000)",
           "width": 0
          },
          "size": 10,
          "symbol": "circle"
         },
         "mode": "markers",
         "name": "y1",
         "showlegend": false,
         "type": "scatter",
         "x": [
          8.134184
         ],
         "xaxis": "x",
         "y": [
          -1.0907334
         ],
         "yaxis": "y",
         "zmax": 0.398422090729783,
         "zmin": 0.0019723865877712033
        },
        {
         "colorbar": {
          "title": ""
         },
         "legendgroup": "y1",
         "marker": {
          "color": "rgba(242, 242, 242, 1.000)",
          "line": {
           "color": "rgba(0, 0, 0, 1.000)",
           "width": 0
          },
          "size": 10,
          "symbol": "circle"
         },
         "mode": "markers",
         "name": "y1",
         "showlegend": false,
         "type": "scatter",
         "x": [
          10.456216
         ],
         "xaxis": "x",
         "y": [
          -2.9930956
         ],
         "yaxis": "y",
         "zmax": 0.398422090729783,
         "zmin": 0.0019723865877712033
        },
        {
         "colorbar": {
          "title": ""
         },
         "hoverinfo": "none",
         "marker": {
          "cmax": 0.398422090729783,
          "cmin": 0.0019723865877712033,
          "color": [
           0.5
          ],
          "colorscale": [
           [
            0,
            "rgba(242, 242, 242, 1.000)"
           ],
           [
            1,
            "rgba(13, 13, 13, 1.000)"
           ]
          ],
          "opacity": 1e-10,
          "showscale": true,
          "size": 1e-10
         },
         "mode": "markers",
         "name": "y1",
         "showlegend": false,
         "type": "scatter",
         "x": [
          4.6477523
         ],
         "xaxis": "x",
         "y": [
          0.7327694
         ],
         "yaxis": "y",
         "zmax": 0.398422090729783,
         "zmin": 0.0019723865877712033
        },
        {
         "colorbar": {
          "title": ""
         },
         "legendgroup": "y2",
         "marker": {
          "color": "rgba(76, 204, 76, 0.200)",
          "line": {
           "color": "rgba(0, 0, 0, 0.200)",
           "width": 0
          },
          "size": 14,
          "symbol": "diamond"
         },
         "mode": "markers",
         "name": "y2",
         "showlegend": true,
         "type": "scatter",
         "x": [
          4.6477523
         ],
         "xaxis": "x",
         "y": [
          0.7327694
         ],
         "yaxis": "y",
         "zmax": 0.398422090729783,
         "zmin": 0.0019723865877712033
        },
        {
         "colorbar": {
          "title": ""
         },
         "legendgroup": "y3",
         "marker": {
          "color": "rgba(255, 76, 76, 0.200)",
          "line": {
           "color": "rgba(0, 0, 0, 0.200)",
           "width": 0
          },
          "size": 14,
          "symbol": "diamond"
         },
         "mode": "markers",
         "name": "y3",
         "showlegend": true,
         "type": "scatter",
         "x": [
          10.456216
         ],
         "xaxis": "x",
         "y": [
          -2.9930956
         ],
         "yaxis": "y",
         "zmax": 0.398422090729783,
         "zmin": 0.0019723865877712033
        }
       ],
       "layout": {
        "annotations": [],
        "height": 400,
        "margin": {
         "b": 20,
         "l": 0,
         "r": 0,
         "t": 20
        },
        "paper_bgcolor": "rgba(255, 255, 255, 1.000)",
        "plot_bgcolor": "rgba(255, 255, 255, 1.000)",
        "showlegend": false,
        "width": 600,
        "xaxis": {
         "anchor": "y",
         "domain": [
          0.061654272382618835,
          0.9934383202099737
         ],
         "gridcolor": "rgba(0, 0, 0, 0.100)",
         "gridwidth": 0.5,
         "linecolor": "rgba(0, 0, 0, 1.000)",
         "mirror": false,
         "range": [
          -9,
          11
         ],
         "showgrid": true,
         "showline": true,
         "showticklabels": true,
         "tickangle": 0,
         "tickcolor": "rgb(0, 0, 0)",
         "tickfont": {
          "color": "rgba(0, 0, 0, 1.000)",
          "family": "sans-serif",
          "size": 11
         },
         "tickmode": "array",
         "ticks": "inside",
         "ticktext": [
          "-5",
          "0",
          "5",
          "10"
         ],
         "tickvals": [
          -5,
          0,
          5,
          10
         ],
         "title": "X",
         "titlefont": {
          "color": "rgba(0, 0, 0, 1.000)",
          "family": "sans-serif",
          "size": 15
         },
         "type": "-",
         "visible": true,
         "zeroline": false,
         "zerolinecolor": "rgba(0, 0, 0, 1.000)"
        },
        "yaxis": {
         "anchor": "x",
         "domain": [
          0.07581474190726165,
          0.9901574803149606
         ],
         "gridcolor": "rgba(0, 0, 0, 0.100)",
         "gridwidth": 0.5,
         "linecolor": "rgba(0, 0, 0, 1.000)",
         "mirror": false,
         "range": [
          -6,
          9
         ],
         "showgrid": true,
         "showline": true,
         "showticklabels": true,
         "tickangle": 0,
         "tickcolor": "rgb(0, 0, 0)",
         "tickfont": {
          "color": "rgba(0, 0, 0, 1.000)",
          "family": "sans-serif",
          "size": 11
         },
         "tickmode": "array",
         "ticks": "inside",
         "ticktext": [
          "-6",
          "-3",
          "0",
          "3",
          "6",
          "9"
         ],
         "tickvals": [
          -6,
          -3,
          0,
          3,
          6,
          9
         ],
         "title": "Y",
         "titlefont": {
          "color": "rgba(0, 0, 0, 1.000)",
          "family": "sans-serif",
          "size": 15
         },
         "type": "-",
         "visible": true,
         "zeroline": false,
         "zerolinecolor": "rgba(0, 0, 0, 1.000)"
        }
       }
      },
      "image/png": "[encoded data removed]",
      "image/svg+xml": "<svg class=\"main-svg\" xmlns=\"http://www.w3.org/2000/svg\" xmlns:xlink=\"http://www.w3.org/1999/xlink\" width=\"700\" height=\"500\" style=\"\" viewBox=\"0 0 700 500\"><rect x=\"0\" y=\"0\" width=\"700\" height=\"500\" style=\"fill: rgb(255, 255, 255); fill-opacity: 1;\"/><defs id=\"defs-c61fb4\"><g class=\"clips\"><clipPath id=\"clipc61fb4xyplot\" class=\"plotclip\"><rect width=\"512.4812263050452\" height=\"356.5936679790026\"/></clipPath><clipPath class=\"axesclip\" id=\"clipc61fb4x\"><rect x=\"83.90984981044036\" y=\"0\" width=\"512.4812263050452\" height=\"500\"/></clipPath><clipPath class=\"axesclip\" id=\"clipc61fb4y\"><rect x=\"0\" y=\"63.83858267716535\" width=\"700\" height=\"356.5936679790026\"/></clipPath><clipPath class=\"axesclip\" id=\"clipc61fb4xy\"><rect x=\"83.90984981044036\" y=\"63.83858267716535\" width=\"512.4812263050452\" height=\"356.5936679790026\"/></clipPath></g><g class=\"gradients\"><linearGradient x1=\"0\" x2=\"0\" y1=\"1\" y2=\"0\" id=\"gc61fb4-cb3c4f60\"><stop offset=\"0%\" stop-color=\"rgb(242, 242, 242)\" stop-opacity=\"1\"/><stop offset=\"100%\" stop-color=\"rgb(13, 13, 13)\" stop-opacity=\"1\"/></linearGradient></g></defs><g class=\"bglayer\"/><g class=\"layer-below\"><g class=\"imagelayer\"/><g class=\"shapelayer\"/></g><g class=\"cartesianlayer\"><g class=\"subplot xy\"><g class=\"layer-subplot\"><g class=\"shapelayer\"/><g class=\"imagelayer\"/></g><g class=\"gridlayer\"><g class=\"x\"><path class=\"xgrid crisp\" transform=\"translate(186.40984981044036,0)\" d=\"M0,63.83858267716535v356.5936679790026\" style=\"stroke: rgb(0, 0, 0); stroke-opacity: 0.1; stroke-width: 0.5px;\"/><path class=\"xgrid crisp\" transform=\"translate(314.5298498104404,0)\" d=\"M0,63.83858267716535v356.5936679790026\" style=\"stroke: rgb(0, 0, 0); stroke-opacity: 0.1; stroke-width: 0.5px;\"/><path class=\"xgrid crisp\" transform=\"translate(442.6498498104404,0)\" d=\"M0,63.83858267716535v356.5936679790026\" style=\"stroke: rgb(0, 0, 0); stroke-opacity: 0.1; stroke-width: 0.5px;\"/><path class=\"xgrid crisp\" transform=\"translate(570.7698498104404,0)\" d=\"M0,63.83858267716535v356.5936679790026\" style=\"stroke: rgb(0, 0, 0); stroke-opacity: 0.1; stroke-width: 0.5px;\"/></g><g class=\"y\"><path class=\"ygrid crisp\" transform=\"translate(0,349.1085826771653)\" d=\"M83.90984981044036,0h512.4812263050452\" style=\"stroke: rgb(0, 0, 0); stroke-opacity: 0.1; stroke-width: 0.5px;\"/><path class=\"ygrid crisp\" transform=\"translate(0,277.79858267716537)\" d=\"M83.90984981044036,0h512.4812263050452\" style=\"stroke: rgb(0, 0, 0); stroke-opacity: 0.1; stroke-width: 0.5px;\"/><path class=\"ygrid crisp\" transform=\"translate(0,206.47858267716532)\" d=\"M83.90984981044036,0h512.4812263050452\" style=\"stroke: rgb(0, 0, 0); stroke-opacity: 0.1; stroke-width: 0.5px;\"/><path class=\"ygrid crisp\" transform=\"translate(0,135.15858267716533)\" d=\"M83.90984981044036,0h512.4812263050452\" style=\"stroke: rgb(0, 0, 0); stroke-opacity: 0.1; stroke-width: 0.5px;\"/></g></g><g class=\"zerolinelayer\"/><path class=\"xlines-below\"/><path class=\"ylines-below\"/><g class=\"overlines-below\"/><g class=\"xaxislayer-below\"/><g class=\"yaxislayer-below\"/><g class=\"overaxes-below\"/><g class=\"plot\" transform=\"translate(83.90984981044036,63.83858267716535)\" clip-path=\"url('#clipc61fb4xyplot')\"><g class=\"scatterlayer mlayer\"><g class=\"trace scatter traced6b772\" style=\"stroke-miterlimit: 2; opacity: 1;\"><g class=\"fills\"/><g class=\"errorbars\"/><g class=\"lines\"/><g class=\"points\"><path class=\"point\" transform=\"translate(349.71,196.54)\" d=\"M5,0A5,5 0 1,1 0,-5A5,5 0 0,1 5,0Z\" style=\"opacity: 1; stroke-width: 0px; fill: rgb(238, 238, 238); fill-opacity: 1;\"/></g><g class=\"text\"/></g><g class=\"trace scatter trace90775c\" style=\"stroke-miterlimit: 2; opacity: 1;\"><g class=\"fills\"/><g class=\"errorbars\"/><g class=\"lines\"/><g class=\"points\"><path class=\"point\" transform=\"translate(162.59,312)\" d=\"M5,0A5,5 0 1,1 0,-5A5,5 0 0,1 5,0Z\" style=\"opacity: 1; stroke-width: 0px; fill: rgb(241, 241, 241); fill-opacity: 1;\"/></g><g class=\"text\"/></g><g class=\"trace scatter trace5b6ed9\" style=\"stroke-miterlimit: 2; opacity: 1;\"><g class=\"fills\"/><g class=\"errorbars\"/><g class=\"lines\"/><g class=\"points\"><path class=\"point\" transform=\"translate(162.55,183.45)\" d=\"M5,0A5,5 0 1,1 0,-5A5,5 0 0,1 5,0Z\" style=\"opacity: 1; stroke-width: 0px; fill: rgb(242, 242, 242); fill-opacity: 1;\"/></g><g class=\"text\"/></g><g class=\"trace scatter tracef43e49\" style=\"stroke-miterlimit: 2; opacity: 1;\"><g class=\"fills\"/><g class=\"errorbars\"/><g class=\"lines\"/><g class=\"points\"><path class=\"point\" transform=\"translate(134.7,138.94)\" d=\"M5,0A5,5 0 1,1 0,-5A5,5 0 0,1 5,0Z\" style=\"opacity: 1; stroke-width: 0px; fill: rgb(242, 242, 242); fill-opacity: 1;\"/></g><g class=\"text\"/></g><g class=\"trace scatter trace711dd2\" style=\"stroke-miterlimit: 2; opacity: 1;\"><g class=\"fills\"/><g class=\"errorbars\"/><g class=\"lines\"/><g class=\"points\"><path class=\"point\" transform=\"translate(208.93,226.15)\" d=\"M5,0A5,5 0 1,1 0,-5A5,5 0 0,1 5,0Z\" style=\"opacity: 1; stroke-width: 0px; fill: rgb(238, 238, 238); fill-opacity: 1;\"/></g><g class=\"text\"/></g><g class=\"trace scatter tracee6d209\" style=\"stroke-miterlimit: 2; opacity: 1;\"><g class=\"fills\"/><g class=\"errorbars\"/><g class=\"lines\"/><g class=\"points\"><path class=\"point\" transform=\"translate(231.73,209.02)\" d=\"M5,0A5,5 0 1,1 0,-5A5,5 0 0,1 5,0Z\" style=\"opacity: 1; stroke-width: 0px; fill: rgb(234, 234, 234); fill-opacity: 1;\"/></g><g class=\"text\"/></g><g class=\"trace scatter trace204e66\" style=\"stroke-miterlimit: 2; opacity: 1;\"><g class=\"fills\"/><g class=\"errorbars\"/><g class=\"lines\"/><g class=\"points\"><path class=\"point\" transform=\"translate(414.68,342.05)\" d=\"M5,0A5,5 0 1,1 0,-5A5,5 0 0,1 5,0Z\" style=\"opacity: 1; stroke-width: 0px; fill: rgb(84, 84, 84); fill-opacity: 1;\"/></g><g class=\"text\"/></g><g class=\"trace scatter trace8cc0f3\" style=\"stroke-miterlimit: 2; opacity: 1;\"><g class=\"fills\"/><g class=\"errorbars\"/><g class=\"lines\"/><g class=\"points\"><path class=\"point\" transform=\"translate(298.11,338.16)\" d=\"M5,0A5,5 0 1,1 0,-5A5,5 0 0,1 5,0Z\" style=\"opacity: 1; stroke-width: 0px; fill: rgb(210, 210, 210); fill-opacity: 1;\"/></g><g class=\"text\"/></g><g class=\"trace scatter trace0c5b71\" style=\"stroke-miterlimit: 2; opacity: 1;\"><g class=\"fills\"/><g class=\"errorbars\"/><g class=\"lines\"/><g class=\"points\"><path class=\"point\" transform=\"translate(81.52,338.27)\" d=\"M5,0A5,5 0 1,1 0,-5A5,5 0 0,1 5,0Z\" style=\"opacity: 1; stroke-width: 0px; fill: rgb(240, 240, 240); fill-opacity: 1;\"/></g><g class=\"text\"/></g><g class=\"trace scatter tracea3ec13\" style=\"stroke-miterlimit: 2; opacity: 1;\"><g class=\"fills\"/><g class=\"errorbars\"/><g class=\"lines\"/><g class=\"points\"><path class=\"point\" transform=\"translate(371.64,22.76)\" d=\"M5,0A5,5 0 1,1 0,-5A5,5 0 0,1 5,0Z\" style=\"opacity: 1; stroke-width: 0px; fill: rgb(13, 13, 13); fill-opacity: 1;\"/></g><g class=\"text\"/></g><g class=\"trace scatter traceb6944e\" style=\"stroke-miterlimit: 2; opacity: 1;\"><g class=\"fills\"/><g class=\"errorbars\"/><g class=\"lines\"/><g class=\"points\"><path class=\"point\" transform=\"translate(360.88,80.21)\" d=\"M5,0A5,5 0 1,1 0,-5A5,5 0 0,1 5,0Z\" style=\"opacity: 1; stroke-width: 0px; fill: rgb(138, 138, 138); fill-opacity: 1;\"/></g><g class=\"text\"/></g><g class=\"trace scatter trace7317aa\" style=\"stroke-miterlimit: 2; opacity: 1;\"><g class=\"fills\"/><g class=\"errorbars\"/><g class=\"lines\"/><g class=\"points\"><path class=\"point\" transform=\"translate(180.86,70.16)\" d=\"M5,0A5,5 0 1,1 0,-5A5,5 0 0,1 5,0Z\" style=\"opacity: 1; stroke-width: 0px; fill: rgb(239, 239, 239); fill-opacity: 1;\"/></g><g class=\"text\"/></g><g class=\"trace scatter traceab1b2c\" style=\"stroke-miterlimit: 2; opacity: 1;\"><g class=\"fills\"/><g class=\"errorbars\"/><g class=\"lines\"/><g class=\"points\"><path class=\"point\" transform=\"translate(166.63,35.85)\" d=\"M5,0A5,5 0 1,1 0,-5A5,5 0 0,1 5,0Z\" style=\"opacity: 1; stroke-width: 0px; fill: rgb(240, 240, 240); fill-opacity: 1;\"/></g><g class=\"text\"/></g><g class=\"trace scatter trace7f6d9c\" style=\"stroke-miterlimit: 2; opacity: 1;\"><g class=\"fills\"/><g class=\"errorbars\"/><g class=\"lines\"/><g class=\"points\"><path class=\"point\" transform=\"translate(51.35,295.64)\" d=\"M5,0A5,5 0 1,1 0,-5A5,5 0 0,1 5,0Z\" style=\"opacity: 1; stroke-width: 0px; fill: rgb(240, 240, 240); fill-opacity: 1;\"/></g><g class=\"text\"/></g><g class=\"trace scatter trace03f7f7\" style=\"stroke-miterlimit: 2; opacity: 1;\"><g class=\"fills\"/><g class=\"errorbars\"/><g class=\"lines\"/><g class=\"points\"><path class=\"point\" transform=\"translate(63.88,78.14)\" d=\"M5,0A5,5 0 1,1 0,-5A5,5 0 0,1 5,0Z\" style=\"opacity: 1; stroke-width: 0px; fill: rgb(240, 240, 240); fill-opacity: 1;\"/></g><g class=\"text\"/></g><g class=\"trace scatter trace8b30f5\" style=\"stroke-miterlimit: 2; opacity: 1;\"><g class=\"fills\"/><g class=\"errorbars\"/><g class=\"lines\"/><g class=\"points\"><path class=\"point\" transform=\"translate(186.09,295.68)\" d=\"M5,0A5,5 0 1,1 0,-5A5,5 0 0,1 5,0Z\" style=\"opacity: 1; stroke-width: 0px; fill: rgb(242, 242, 242); fill-opacity: 1;\"/></g><g class=\"text\"/></g><g class=\"trace scatter trace4323e8\" style=\"stroke-miterlimit: 2; opacity: 1;\"><g class=\"fills\"/><g class=\"errorbars\"/><g class=\"lines\"/><g class=\"points\"><path class=\"point\" transform=\"translate(14.99,305.64)\" d=\"M5,0A5,5 0 1,1 0,-5A5,5 0 0,1 5,0Z\" style=\"opacity: 1; stroke-width: 0px; fill: rgb(242, 242, 242); fill-opacity: 1;\"/></g><g class=\"text\"/></g><g class=\"trace scatter trace085b6e\" style=\"stroke-miterlimit: 2; opacity: 1;\"><g class=\"fills\"/><g class=\"errorbars\"/><g class=\"lines\"/><g class=\"points\"><path class=\"point\" transform=\"translate(137.84,233.98)\" d=\"M5,0A5,5 0 1,1 0,-5A5,5 0 0,1 5,0Z\" style=\"opacity: 1; stroke-width: 0px; fill: rgb(242, 242, 242); fill-opacity: 1;\"/></g><g class=\"text\"/></g><g class=\"trace scatter trace5143d5\" style=\"stroke-miterlimit: 2; opacity: 1;\"><g class=\"fills\"/><g class=\"errorbars\"/><g class=\"lines\"/><g class=\"points\"><path class=\"point\" transform=\"translate(326.68,265.45)\" d=\"M5,0A5,5 0 1,1 0,-5A5,5 0 0,1 5,0Z\" style=\"opacity: 1; stroke-width: 0px; fill: rgb(242, 242, 242); fill-opacity: 1;\"/></g><g class=\"text\"/></g><g class=\"trace scatter trace88ef3f\" style=\"stroke-miterlimit: 2; opacity: 1;\"><g class=\"fills\"/><g class=\"errorbars\"/><g class=\"lines\"/><g class=\"points\"><path class=\"point\" transform=\"translate(439.05,239.89)\" d=\"M5,0A5,5 0 1,1 0,-5A5,5 0 0,1 5,0Z\" style=\"opacity: 1; stroke-width: 0px; fill: rgb(242, 242, 242); fill-opacity: 1;\"/></g><g class=\"text\"/></g><g class=\"trace scatter trace19f17c\" style=\"stroke-miterlimit: 2; opacity: 1;\"><g class=\"fills\"/><g class=\"errorbars\"/><g class=\"lines\"/><g class=\"points\"><path class=\"point\" transform=\"translate(498.55,285.11)\" d=\"M5,0A5,5 0 1,1 0,-5A5,5 0 0,1 5,0Z\" style=\"opacity: 1; stroke-width: 0px; fill: rgb(242, 242, 242); fill-opacity: 1;\"/></g><g class=\"text\"/></g><g class=\"trace scatter trace3c4f60\" style=\"stroke-miterlimit: 2; opacity: 1;\"><g class=\"fills\"/><g class=\"errorbars\"/><g class=\"lines\"/><g class=\"points\"><path class=\"point\" transform=\"translate(349.71,196.54)\" d=\"M0,0A0,0 0 1,1 0,-0A0,0 0 0,1 0,0Z\" style=\"opacity: 1e-10; stroke-width: 0px; fill: rgb(13, 13, 13); fill-opacity: 1;\"/></g><g class=\"text\"/></g><g class=\"trace scatter tracecf3e48\" style=\"stroke-miterlimit: 2; opacity: 1;\"><g class=\"fills\"/><g class=\"errorbars\"/><g class=\"lines\"/><g class=\"points\"><path class=\"point\" transform=\"translate(349.71,196.54)\" d=\"M9.1,0L0,9.1L-9.1,0L0,-9.1Z\" style=\"opacity: 1; stroke-width: 0px; fill: rgb(76, 204, 76); fill-opacity: 0.2;\"/></g><g class=\"text\"/></g><g class=\"trace scatter trace436a6f\" style=\"stroke-miterlimit: 2; opacity: 1;\"><g class=\"fills\"/><g class=\"errorbars\"/><g class=\"lines\"/><g class=\"points\"><path class=\"point\" transform=\"translate(498.55,285.11)\" d=\"M9.1,0L0,9.1L-9.1,0L0,-9.1Z\" style=\"opacity: 1; stroke-width: 0px; fill: rgb(255, 76, 76); fill-opacity: 0.2;\"/></g><g class=\"text\"/></g></g></g><g class=\"overplot\"/><path class=\"xlines-above crisp\" d=\"M82.90984981044036,420.9322506561679H596.3910761154856\" style=\"fill: none; stroke-width: 1px; stroke: rgb(0, 0, 0); stroke-opacity: 1;\"/><path class=\"ylines-above crisp\" d=\"M83.40984981044036,63.83858267716535V420.4322506561679\" style=\"fill: none; stroke-width: 1px; stroke: rgb(0, 0, 0); stroke-opacity: 1;\"/><g class=\"overlines-above\"/><g class=\"xaxislayer-above\"><path class=\"xtick ticks crisp\" d=\"M0,420.4322506561679v-5\" transform=\"translate(186.40984981044036,0)\" style=\"stroke: rgb(0, 0, 0); stroke-opacity: 1; stroke-width: 1px;\"/><path class=\"xtick ticks crisp\" d=\"M0,420.4322506561679v-5\" transform=\"translate(314.5298498104404,0)\" style=\"stroke: rgb(0, 0, 0); stroke-opacity: 1; stroke-width: 1px;\"/><path class=\"xtick ticks crisp\" d=\"M0,420.4322506561679v-5\" transform=\"translate(442.6498498104404,0)\" style=\"stroke: rgb(0, 0, 0); stroke-opacity: 1; stroke-width: 1px;\"/><path class=\"xtick ticks crisp\" d=\"M0,420.4322506561679v-5\" transform=\"translate(570.7698498104404,0)\" style=\"stroke: rgb(0, 0, 0); stroke-opacity: 1; stroke-width: 1px;\"/><g class=\"xtick\"><text text-anchor=\"middle\" x=\"0\" y=\"434.6322506561679\" transform=\"translate(186.40984981044036,0)\" style=\"font-family: sans-serif; font-size: 11px; fill: rgb(0, 0, 0); fill-opacity: 1; white-space: pre;\">-5</text></g><g class=\"xtick\"><text text-anchor=\"middle\" x=\"0\" y=\"434.6322506561679\" transform=\"translate(314.5298498104404,0)\" style=\"font-family: sans-serif; font-size: 11px; fill: rgb(0, 0, 0); fill-opacity: 1; white-space: pre;\">0</text></g><g class=\"xtick\"><text text-anchor=\"middle\" x=\"0\" y=\"434.6322506561679\" transform=\"translate(442.6498498104404,0)\" style=\"font-family: sans-serif; font-size: 11px; fill: rgb(0, 0, 0); fill-opacity: 1; white-space: pre;\">5</text></g><g class=\"xtick\"><text text-anchor=\"middle\" x=\"0\" y=\"434.6322506561679\" transform=\"translate(570.7698498104404,0)\" style=\"font-family: sans-serif; font-size: 11px; fill: rgb(0, 0, 0); fill-opacity: 1; white-space: pre;\">10</text></g></g><g class=\"yaxislayer-above\"><path class=\"ytick ticks crisp\" d=\"M83.90984981044036,0h5\" transform=\"translate(0,349.1085826771653)\" style=\"stroke: rgb(0, 0, 0); stroke-opacity: 1; stroke-width: 1px;\"/><path class=\"ytick ticks crisp\" d=\"M83.90984981044036,0h5\" transform=\"translate(0,277.79858267716537)\" style=\"stroke: rgb(0, 0, 0); stroke-opacity: 1; stroke-width: 1px;\"/><path class=\"ytick ticks crisp\" d=\"M83.90984981044036,0h5\" transform=\"translate(0,206.47858267716532)\" style=\"stroke: rgb(0, 0, 0); stroke-opacity: 1; stroke-width: 1px;\"/><path class=\"ytick ticks crisp\" d=\"M83.90984981044036,0h5\" transform=\"translate(0,135.15858267716533)\" style=\"stroke: rgb(0, 0, 0); stroke-opacity: 1; stroke-width: 1px;\"/><g class=\"ytick\"><text text-anchor=\"end\" x=\"80.70984981044036\" y=\"3.8499999999999996\" transform=\"translate(0,420.4285826771653)\" style=\"font-family: sans-serif; font-size: 11px; fill: rgb(0, 0, 0); fill-opacity: 1; white-space: pre;\">-6</text></g><g class=\"ytick\"><text text-anchor=\"end\" x=\"80.70984981044036\" y=\"3.8499999999999996\" transform=\"translate(0,349.1085826771653)\" style=\"font-family: sans-serif; font-size: 11px; fill: rgb(0, 0, 0); fill-opacity: 1; white-space: pre;\">-3</text></g><g class=\"ytick\"><text text-anchor=\"end\" x=\"80.70984981044036\" y=\"3.8499999999999996\" transform=\"translate(0,277.79858267716537)\" style=\"font-family: sans-serif; font-size: 11px; fill: rgb(0, 0, 0); fill-opacity: 1; white-space: pre;\">0</text></g><g class=\"ytick\"><text text-anchor=\"end\" x=\"80.70984981044036\" y=\"3.8499999999999996\" transform=\"translate(0,206.47858267716532)\" style=\"font-family: sans-serif; font-size: 11px; fill: rgb(0, 0, 0); fill-opacity: 1; white-space: pre;\">3</text></g><g class=\"ytick\"><text text-anchor=\"end\" x=\"80.70984981044036\" y=\"3.8499999999999996\" transform=\"translate(0,135.15858267716533)\" style=\"font-family: sans-serif; font-size: 11px; fill: rgb(0, 0, 0); fill-opacity: 1; white-space: pre;\">6</text></g><g class=\"ytick\"><text text-anchor=\"end\" x=\"80.70984981044036\" y=\"3.8499999999999996\" transform=\"translate(0,63.83858267716535)\" style=\"font-family: sans-serif; font-size: 11px; fill: rgb(0, 0, 0); fill-opacity: 1; white-space: pre;\">9</text></g></g><g class=\"overaxes-above\"/></g></g><g class=\"polarlayer\"/><g class=\"ternarylayer\"/><g class=\"geolayer\"/><g class=\"funnelarealayer\"/><g class=\"pielayer\"/><g class=\"treemaplayer\"/><g class=\"sunburstlayer\"/><g class=\"glimages\"/><defs id=\"topdefs-c61fb4\"><g class=\"clips\"/></defs><g class=\"layer-above\"><g class=\"imagelayer\"/><g class=\"shapelayer\"/></g><g class=\"infolayer\"><g class=\"cb3c4f60 colorbar\" transform=\"translate(50,60)\"><rect class=\"cbbg\" x=\"561\" y=\"0\" width=\"77.265625\" height=\"390\" style=\"fill: rgb(0, 0, 0); fill-opacity: 0; stroke: rgb(68, 68, 68); stroke-opacity: 1; stroke-width: 0;\"/><g class=\"cbfills\" transform=\"translate(0,10)\"><rect class=\"cbfill\" x=\"571\" width=\"30\" y=\"0\" height=\"370\" style=\"fill: url('#gc61fb4-cb3c4f60');\"/></g><g class=\"cblines\" transform=\"translate(0,10)\"/><g class=\"cbaxis crisp\" transform=\"translate(0,-60)\"><g class=\"ycb3c4f60tick\"><text text-anchor=\"start\" x=\"603.9\" y=\"4.199999999999999\" transform=\"translate(0,395.18)\" style=\"font-family: 'Open Sans', verdana, arial, sans-serif; font-size: 12px; fill: rgb(42, 63, 95); fill-opacity: 1; white-space: pre;\">0.05</text></g><g class=\"ycb3c4f60tick\"><text text-anchor=\"start\" x=\"603.9\" y=\"4.199999999999999\" transform=\"translate(0,348.51)\" style=\"font-family: 'Open Sans', verdana, arial, sans-serif; font-size: 12px; fill: rgb(42, 63, 95); fill-opacity: 1; white-space: pre;\">0.1</text></g><g class=\"ycb3c4f60tick\"><text text-anchor=\"start\" x=\"603.9\" y=\"4.199999999999999\" transform=\"translate(0,301.85)\" style=\"font-family: 'Open Sans', verdana, arial, sans-serif; font-size: 12px; fill: rgb(42, 63, 95); fill-opacity: 1; white-space: pre;\">0.15</text></g><g class=\"ycb3c4f60tick\"><text text-anchor=\"start\" x=\"603.9\" y=\"4.199999999999999\" transform=\"translate(0,255.18)\" style=\"font-family: 'Open Sans', verdana, arial, sans-serif; font-size: 12px; fill: rgb(42, 63, 95); fill-opacity: 1; white-space: pre;\">0.2</text></g><g class=\"ycb3c4f60tick\"><text text-anchor=\"start\" x=\"603.9\" y=\"4.199999999999999\" transform=\"translate(0,208.52)\" style=\"font-family: 'Open Sans', verdana, arial, sans-serif; font-size: 12px; fill: rgb(42, 63, 95); fill-opacity: 1; white-space: pre;\">0.25</text></g><g class=\"ycb3c4f60tick\"><text text-anchor=\"start\" x=\"603.9\" y=\"4.199999999999999\" transform=\"translate(0,161.86)\" style=\"font-family: 'Open Sans', verdana, arial, sans-serif; font-size: 12px; fill: rgb(42, 63, 95); fill-opacity: 1; white-space: pre;\">0.3</text></g><g class=\"ycb3c4f60tick\"><text text-anchor=\"start\" x=\"603.9\" y=\"4.199999999999999\" transform=\"translate(0,115.19)\" style=\"font-family: 'Open Sans', verdana, arial, sans-serif; font-size: 12px; fill: rgb(42, 63, 95); fill-opacity: 1; white-space: pre;\">0.35</text></g></g><g class=\"cbtitleunshift\" transform=\"translate(-50,-60)\"><g class=\"cbtitle\"/></g><rect class=\"cboutline\" x=\"571\" y=\"10\" width=\"30\" height=\"370\" style=\"stroke: rgb(68, 68, 68); stroke-opacity: 1; fill: none; stroke-width: 0;\"/></g><g class=\"g-gtitle\"/><g class=\"g-xtitle\"><text class=\"xtitle\" x=\"340.15046296296293\" y=\"462.640625\" text-anchor=\"middle\" style=\"font-family: sans-serif; font-size: 15px; fill: rgb(0, 0, 0); opacity: 1; font-weight: normal; white-space: pre;\">X</text></g><g class=\"g-ytitle\"><text class=\"ytitle\" transform=\"rotate(-90,45.421875,242.13541666666663)\" x=\"45.421875\" y=\"242.13541666666663\" text-anchor=\"middle\" style=\"font-family: sans-serif; font-size: 15px; fill: rgb(0, 0, 0); opacity: 1; font-weight: normal; white-space: pre;\">Y</text></g></g></svg>",
      "text/html": [
       "<script src=\"https://cdn.plot.ly/plotly-2.6.3.min.js\"></script>    <div id=\"81ee2da2-837d-4c2a-8ae1-a7e624385e61\" style=\"width:600px;height:400px;\"></div>\n",
       "    <script>\n",
       "    \n",
       "        Plotly.newPlot('81ee2da2-837d-4c2a-8ae1-a7e624385e61', [\n",
       "    {\n",
       "        \"xaxis\": \"x\",\n",
       "        \"colorbar\": {\n",
       "            \"title\": \"\"\n",
       "        },\n",
       "        \"yaxis\": \"y\",\n",
       "        \"x\": [\n",
       "            4.6477523\n",
       "        ],\n",
       "        \"showlegend\": true,\n",
       "        \"mode\": \"markers\",\n",
       "        \"name\": \"y1\",\n",
       "        \"zmin\": 0.0019723865877712033,\n",
       "        \"legendgroup\": \"y1\",\n",
       "        \"marker\": {\n",
       "            \"symbol\": \"circle\",\n",
       "            \"color\": \"rgba(238, 238, 238, 1.000)\",\n",
       "            \"line\": {\n",
       "                \"color\": \"rgba(0, 0, 0, 1.000)\",\n",
       "                \"width\": 0\n",
       "            },\n",
       "            \"size\": 10\n",
       "        },\n",
       "        \"zmax\": 0.398422090729783,\n",
       "        \"y\": [\n",
       "            0.7327694\n",
       "        ],\n",
       "        \"type\": \"scatter\"\n",
       "    },\n",
       "    {\n",
       "        \"xaxis\": \"x\",\n",
       "        \"colorbar\": {\n",
       "            \"title\": \"\"\n",
       "        },\n",
       "        \"yaxis\": \"y\",\n",
       "        \"x\": [\n",
       "            -2.654956\n",
       "        ],\n",
       "        \"showlegend\": false,\n",
       "        \"mode\": \"markers\",\n",
       "        \"name\": \"y1\",\n",
       "        \"zmin\": 0.0019723865877712033,\n",
       "        \"legendgroup\": \"y1\",\n",
       "        \"marker\": {\n",
       "            \"symbol\": \"circle\",\n",
       "            \"color\": \"rgba(241, 241, 241, 1.000)\",\n",
       "            \"line\": {\n",
       "                \"color\": \"rgba(0, 0, 0, 1.000)\",\n",
       "                \"width\": 0\n",
       "            },\n",
       "            \"size\": 10\n",
       "        },\n",
       "        \"zmax\": 0.398422090729783,\n",
       "        \"y\": [\n",
       "            -4.1240873\n",
       "        ],\n",
       "        \"type\": \"scatter\"\n",
       "    },\n",
       "    {\n",
       "        \"xaxis\": \"x\",\n",
       "        \"colorbar\": {\n",
       "            \"title\": \"\"\n",
       "        },\n",
       "        \"yaxis\": \"y\",\n",
       "        \"x\": [\n",
       "            -2.6563451\n",
       "        ],\n",
       "        \"showlegend\": false,\n",
       "        \"mode\": \"markers\",\n",
       "        \"name\": \"y1\",\n",
       "        \"zmin\": 0.0019723865877712033,\n",
       "        \"legendgroup\": \"y1\",\n",
       "        \"marker\": {\n",
       "            \"symbol\": \"circle\",\n",
       "            \"color\": \"rgba(242, 242, 242, 1.000)\",\n",
       "            \"line\": {\n",
       "                \"color\": \"rgba(0, 0, 0, 1.000)\",\n",
       "                \"width\": 0\n",
       "            },\n",
       "            \"size\": 10\n",
       "        },\n",
       "        \"zmax\": 0.398422090729783,\n",
       "        \"y\": [\n",
       "            1.2832105\n",
       "        ],\n",
       "        \"type\": \"scatter\"\n",
       "    },\n",
       "    {\n",
       "        \"xaxis\": \"x\",\n",
       "        \"colorbar\": {\n",
       "            \"title\": \"\"\n",
       "        },\n",
       "        \"yaxis\": \"y\",\n",
       "        \"x\": [\n",
       "            -3.7430313\n",
       "        ],\n",
       "        \"showlegend\": false,\n",
       "        \"mode\": \"markers\",\n",
       "        \"name\": \"y1\",\n",
       "        \"zmin\": 0.0019723865877712033,\n",
       "        \"legendgroup\": \"y1\",\n",
       "        \"marker\": {\n",
       "            \"symbol\": \"circle\",\n",
       "            \"color\": \"rgba(242, 242, 242, 1.000)\",\n",
       "            \"line\": {\n",
       "                \"color\": \"rgba(0, 0, 0, 1.000)\",\n",
       "                \"width\": 0\n",
       "            },\n",
       "            \"size\": 10\n",
       "        },\n",
       "        \"zmax\": 0.398422090729783,\n",
       "        \"y\": [\n",
       "            3.155671\n",
       "        ],\n",
       "        \"type\": \"scatter\"\n",
       "    },\n",
       "    {\n",
       "        \"xaxis\": \"x\",\n",
       "        \"colorbar\": {\n",
       "            \"title\": \"\"\n",
       "        },\n",
       "        \"yaxis\": \"y\",\n",
       "        \"x\": [\n",
       "            -0.84640163\n",
       "        ],\n",
       "        \"showlegend\": false,\n",
       "        \"mode\": \"markers\",\n",
       "        \"name\": \"y1\",\n",
       "        \"zmin\": 0.0019723865877712033,\n",
       "        \"legendgroup\": \"y1\",\n",
       "        \"marker\": {\n",
       "            \"symbol\": \"circle\",\n",
       "            \"color\": \"rgba(238, 238, 238, 1.000)\",\n",
       "            \"line\": {\n",
       "                \"color\": \"rgba(0, 0, 0, 1.000)\",\n",
       "                \"width\": 0\n",
       "            },\n",
       "            \"size\": 10\n",
       "        },\n",
       "        \"zmax\": 0.398422090729783,\n",
       "        \"y\": [\n",
       "            -0.5130267\n",
       "        ],\n",
       "        \"type\": \"scatter\"\n",
       "    },\n",
       "    {\n",
       "        \"xaxis\": \"x\",\n",
       "        \"colorbar\": {\n",
       "            \"title\": \"\"\n",
       "        },\n",
       "        \"yaxis\": \"y\",\n",
       "        \"x\": [\n",
       "            0.043282423\n",
       "        ],\n",
       "        \"showlegend\": false,\n",
       "        \"mode\": \"markers\",\n",
       "        \"name\": \"y1\",\n",
       "        \"zmin\": 0.0019723865877712033,\n",
       "        \"legendgroup\": \"y1\",\n",
       "        \"marker\": {\n",
       "            \"symbol\": \"circle\",\n",
       "            \"color\": \"rgba(234, 234, 234, 1.000)\",\n",
       "            \"line\": {\n",
       "                \"color\": \"rgba(0, 0, 0, 1.000)\",\n",
       "                \"width\": 0\n",
       "            },\n",
       "            \"size\": 10\n",
       "        },\n",
       "        \"zmax\": 0.398422090729783,\n",
       "        \"y\": [\n",
       "            0.20759551\n",
       "        ],\n",
       "        \"type\": \"scatter\"\n",
       "    },\n",
       "    {\n",
       "        \"xaxis\": \"x\",\n",
       "        \"colorbar\": {\n",
       "            \"title\": \"\"\n",
       "        },\n",
       "        \"yaxis\": \"y\",\n",
       "        \"x\": [\n",
       "            7.1832905\n",
       "        ],\n",
       "        \"showlegend\": false,\n",
       "        \"mode\": \"markers\",\n",
       "        \"name\": \"y1\",\n",
       "        \"zmin\": 0.0019723865877712033,\n",
       "        \"legendgroup\": \"y1\",\n",
       "        \"marker\": {\n",
       "            \"symbol\": \"circle\",\n",
       "            \"color\": \"rgba(84, 84, 84, 1.000)\",\n",
       "            \"line\": {\n",
       "                \"color\": \"rgba(0, 0, 0, 1.000)\",\n",
       "                \"width\": 0\n",
       "            },\n",
       "            \"size\": 10\n",
       "        },\n",
       "        \"zmax\": 0.398422090729783,\n",
       "        \"y\": [\n",
       "            -5.3880253\n",
       "        ],\n",
       "        \"type\": \"scatter\"\n",
       "    },\n",
       "    {\n",
       "        \"xaxis\": \"x\",\n",
       "        \"colorbar\": {\n",
       "            \"title\": \"\"\n",
       "        },\n",
       "        \"yaxis\": \"y\",\n",
       "        \"x\": [\n",
       "            2.6338522\n",
       "        ],\n",
       "        \"showlegend\": false,\n",
       "        \"mode\": \"markers\",\n",
       "        \"name\": \"y1\",\n",
       "        \"zmin\": 0.0019723865877712033,\n",
       "        \"legendgroup\": \"y1\",\n",
       "        \"marker\": {\n",
       "            \"symbol\": \"circle\",\n",
       "            \"color\": \"rgba(210, 210, 210, 1.000)\",\n",
       "            \"line\": {\n",
       "                \"color\": \"rgba(0, 0, 0, 1.000)\",\n",
       "                \"width\": 0\n",
       "            },\n",
       "            \"size\": 10\n",
       "        },\n",
       "        \"zmax\": 0.398422090729783,\n",
       "        \"y\": [\n",
       "            -5.2244754\n",
       "        ],\n",
       "        \"type\": \"scatter\"\n",
       "    },\n",
       "    {\n",
       "        \"xaxis\": \"x\",\n",
       "        \"colorbar\": {\n",
       "            \"title\": \"\"\n",
       "        },\n",
       "        \"yaxis\": \"y\",\n",
       "        \"x\": [\n",
       "            -5.8187604\n",
       "        ],\n",
       "        \"showlegend\": false,\n",
       "        \"mode\": \"markers\",\n",
       "        \"name\": \"y1\",\n",
       "        \"zmin\": 0.0019723865877712033,\n",
       "        \"legendgroup\": \"y1\",\n",
       "        \"marker\": {\n",
       "            \"symbol\": \"circle\",\n",
       "            \"color\": \"rgba(240, 240, 240, 1.000)\",\n",
       "            \"line\": {\n",
       "                \"color\": \"rgba(0, 0, 0, 1.000)\",\n",
       "                \"width\": 0\n",
       "            },\n",
       "            \"size\": 10\n",
       "        },\n",
       "        \"zmax\": 0.398422090729783,\n",
       "        \"y\": [\n",
       "            -5.229411\n",
       "        ],\n",
       "        \"type\": \"scatter\"\n",
       "    },\n",
       "    {\n",
       "        \"xaxis\": \"x\",\n",
       "        \"colorbar\": {\n",
       "            \"title\": \"\"\n",
       "        },\n",
       "        \"yaxis\": \"y\",\n",
       "        \"x\": [\n",
       "            5.503725\n",
       "        ],\n",
       "        \"showlegend\": false,\n",
       "        \"mode\": \"markers\",\n",
       "        \"name\": \"y1\",\n",
       "        \"zmin\": 0.0019723865877712033,\n",
       "        \"legendgroup\": \"y1\",\n",
       "        \"marker\": {\n",
       "            \"symbol\": \"circle\",\n",
       "            \"color\": \"rgba(13, 13, 13, 1.000)\",\n",
       "            \"line\": {\n",
       "                \"color\": \"rgba(0, 0, 0, 1.000)\",\n",
       "                \"width\": 0\n",
       "            },\n",
       "            \"size\": 10\n",
       "        },\n",
       "        \"zmax\": 0.398422090729783,\n",
       "        \"y\": [\n",
       "            8.042411\n",
       "        ],\n",
       "        \"type\": \"scatter\"\n",
       "    },\n",
       "    {\n",
       "        \"xaxis\": \"x\",\n",
       "        \"colorbar\": {\n",
       "            \"title\": \"\"\n",
       "        },\n",
       "        \"yaxis\": \"y\",\n",
       "        \"x\": [\n",
       "            5.083676\n",
       "        ],\n",
       "        \"showlegend\": false,\n",
       "        \"mode\": \"markers\",\n",
       "        \"name\": \"y1\",\n",
       "        \"zmin\": 0.0019723865877712033,\n",
       "        \"legendgroup\": \"y1\",\n",
       "        \"marker\": {\n",
       "            \"symbol\": \"circle\",\n",
       "            \"color\": \"rgba(138, 138, 138, 1.000)\",\n",
       "            \"line\": {\n",
       "                \"color\": \"rgba(0, 0, 0, 1.000)\",\n",
       "                \"width\": 0\n",
       "            },\n",
       "            \"size\": 10\n",
       "        },\n",
       "        \"zmax\": 0.398422090729783,\n",
       "        \"y\": [\n",
       "            5.6259074\n",
       "        ],\n",
       "        \"type\": \"scatter\"\n",
       "    },\n",
       "    {\n",
       "        \"xaxis\": \"x\",\n",
       "        \"colorbar\": {\n",
       "            \"title\": \"\"\n",
       "        },\n",
       "        \"yaxis\": \"y\",\n",
       "        \"x\": [\n",
       "            -1.9416994\n",
       "        ],\n",
       "        \"showlegend\": false,\n",
       "        \"mode\": \"markers\",\n",
       "        \"name\": \"y1\",\n",
       "        \"zmin\": 0.0019723865877712033,\n",
       "        \"legendgroup\": \"y1\",\n",
       "        \"marker\": {\n",
       "            \"symbol\": \"circle\",\n",
       "            \"color\": \"rgba(239, 239, 239, 1.000)\",\n",
       "            \"line\": {\n",
       "                \"color\": \"rgba(0, 0, 0, 1.000)\",\n",
       "                \"width\": 0\n",
       "            },\n",
       "            \"size\": 10\n",
       "        },\n",
       "        \"zmax\": 0.398422090729783,\n",
       "        \"y\": [\n",
       "            6.0487847\n",
       "        ],\n",
       "        \"type\": \"scatter\"\n",
       "    },\n",
       "    {\n",
       "        \"xaxis\": \"x\",\n",
       "        \"colorbar\": {\n",
       "            \"title\": \"\"\n",
       "        },\n",
       "        \"yaxis\": \"y\",\n",
       "        \"x\": [\n",
       "            -2.4972928\n",
       "        ],\n",
       "        \"showlegend\": false,\n",
       "        \"mode\": \"markers\",\n",
       "        \"name\": \"y1\",\n",
       "        \"zmin\": 0.0019723865877712033,\n",
       "        \"legendgroup\": \"y1\",\n",
       "        \"marker\": {\n",
       "            \"symbol\": \"circle\",\n",
       "            \"color\": \"rgba(240, 240, 240, 1.000)\",\n",
       "            \"line\": {\n",
       "                \"color\": \"rgba(0, 0, 0, 1.000)\",\n",
       "                \"width\": 0\n",
       "            },\n",
       "            \"size\": 10\n",
       "        },\n",
       "        \"zmax\": 0.398422090729783,\n",
       "        \"y\": [\n",
       "            7.491962\n",
       "        ],\n",
       "        \"type\": \"scatter\"\n",
       "    },\n",
       "    {\n",
       "        \"xaxis\": \"x\",\n",
       "        \"colorbar\": {\n",
       "            \"title\": \"\"\n",
       "        },\n",
       "        \"yaxis\": \"y\",\n",
       "        \"x\": [\n",
       "            -6.995915\n",
       "        ],\n",
       "        \"showlegend\": false,\n",
       "        \"mode\": \"markers\",\n",
       "        \"name\": \"y1\",\n",
       "        \"zmin\": 0.0019723865877712033,\n",
       "        \"legendgroup\": \"y1\",\n",
       "        \"marker\": {\n",
       "            \"symbol\": \"circle\",\n",
       "            \"color\": \"rgba(240, 240, 240, 1.000)\",\n",
       "            \"line\": {\n",
       "                \"color\": \"rgba(0, 0, 0, 1.000)\",\n",
       "                \"width\": 0\n",
       "            },\n",
       "            \"size\": 10\n",
       "        },\n",
       "        \"zmax\": 0.398422090729783,\n",
       "        \"y\": [\n",
       "            -3.4359667\n",
       "        ],\n",
       "        \"type\": \"scatter\"\n",
       "    },\n",
       "    {\n",
       "        \"xaxis\": \"x\",\n",
       "        \"colorbar\": {\n",
       "            \"title\": \"\"\n",
       "        },\n",
       "        \"yaxis\": \"y\",\n",
       "        \"x\": [\n",
       "            -6.506847\n",
       "        ],\n",
       "        \"showlegend\": false,\n",
       "        \"mode\": \"markers\",\n",
       "        \"name\": \"y1\",\n",
       "        \"zmin\": 0.0019723865877712033,\n",
       "        \"legendgroup\": \"y1\",\n",
       "        \"marker\": {\n",
       "            \"symbol\": \"circle\",\n",
       "            \"color\": \"rgba(240, 240, 240, 1.000)\",\n",
       "            \"line\": {\n",
       "                \"color\": \"rgba(0, 0, 0, 1.000)\",\n",
       "                \"width\": 0\n",
       "            },\n",
       "            \"size\": 10\n",
       "        },\n",
       "        \"zmax\": 0.398422090729783,\n",
       "        \"y\": [\n",
       "            5.7132754\n",
       "        ],\n",
       "        \"type\": \"scatter\"\n",
       "    },\n",
       "    {\n",
       "        \"xaxis\": \"x\",\n",
       "        \"colorbar\": {\n",
       "            \"title\": \"\"\n",
       "        },\n",
       "        \"yaxis\": \"y\",\n",
       "        \"x\": [\n",
       "            -1.7377863\n",
       "        ],\n",
       "        \"showlegend\": false,\n",
       "        \"mode\": \"markers\",\n",
       "        \"name\": \"y1\",\n",
       "        \"zmin\": 0.0019723865877712033,\n",
       "        \"legendgroup\": \"y1\",\n",
       "        \"marker\": {\n",
       "            \"symbol\": \"circle\",\n",
       "            \"color\": \"rgba(242, 242, 242, 1.000)\",\n",
       "            \"line\": {\n",
       "                \"color\": \"rgba(0, 0, 0, 1.000)\",\n",
       "                \"width\": 0\n",
       "            },\n",
       "            \"size\": 10\n",
       "        },\n",
       "        \"zmax\": 0.398422090729783,\n",
       "        \"y\": [\n",
       "            -3.4376783\n",
       "        ],\n",
       "        \"type\": \"scatter\"\n",
       "    },\n",
       "    {\n",
       "        \"xaxis\": \"x\",\n",
       "        \"colorbar\": {\n",
       "            \"title\": \"\"\n",
       "        },\n",
       "        \"yaxis\": \"y\",\n",
       "        \"x\": [\n",
       "            -8.41499\n",
       "        ],\n",
       "        \"showlegend\": false,\n",
       "        \"mode\": \"markers\",\n",
       "        \"name\": \"y1\",\n",
       "        \"zmin\": 0.0019723865877712033,\n",
       "        \"legendgroup\": \"y1\",\n",
       "        \"marker\": {\n",
       "            \"symbol\": \"circle\",\n",
       "            \"color\": \"rgba(242, 242, 242, 1.000)\",\n",
       "            \"line\": {\n",
       "                \"color\": \"rgba(0, 0, 0, 1.000)\",\n",
       "                \"width\": 0\n",
       "            },\n",
       "            \"size\": 10\n",
       "        },\n",
       "        \"zmax\": 0.398422090729783,\n",
       "        \"y\": [\n",
       "            -3.85644\n",
       "        ],\n",
       "        \"type\": \"scatter\"\n",
       "    },\n",
       "    {\n",
       "        \"xaxis\": \"x\",\n",
       "        \"colorbar\": {\n",
       "            \"title\": \"\"\n",
       "        },\n",
       "        \"yaxis\": \"y\",\n",
       "        \"x\": [\n",
       "            -3.6207879\n",
       "        ],\n",
       "        \"showlegend\": false,\n",
       "        \"mode\": \"markers\",\n",
       "        \"name\": \"y1\",\n",
       "        \"zmin\": 0.0019723865877712033,\n",
       "        \"legendgroup\": \"y1\",\n",
       "        \"marker\": {\n",
       "            \"symbol\": \"circle\",\n",
       "            \"color\": \"rgba(242, 242, 242, 1.000)\",\n",
       "            \"line\": {\n",
       "                \"color\": \"rgba(0, 0, 0, 1.000)\",\n",
       "                \"width\": 0\n",
       "            },\n",
       "            \"size\": 10\n",
       "        },\n",
       "        \"zmax\": 0.398422090729783,\n",
       "        \"y\": [\n",
       "            -0.8424102\n",
       "        ],\n",
       "        \"type\": \"scatter\"\n",
       "    },\n",
       "    {\n",
       "        \"xaxis\": \"x\",\n",
       "        \"colorbar\": {\n",
       "            \"title\": \"\"\n",
       "        },\n",
       "        \"yaxis\": \"y\",\n",
       "        \"x\": [\n",
       "            3.7488408\n",
       "        ],\n",
       "        \"showlegend\": false,\n",
       "        \"mode\": \"markers\",\n",
       "        \"name\": \"y1\",\n",
       "        \"zmin\": 0.0019723865877712033,\n",
       "        \"legendgroup\": \"y1\",\n",
       "        \"marker\": {\n",
       "            \"symbol\": \"circle\",\n",
       "            \"color\": \"rgba(242, 242, 242, 1.000)\",\n",
       "            \"line\": {\n",
       "                \"color\": \"rgba(0, 0, 0, 1.000)\",\n",
       "                \"width\": 0\n",
       "            },\n",
       "            \"size\": 10\n",
       "        },\n",
       "        \"zmax\": 0.398422090729783,\n",
       "        \"y\": [\n",
       "            -2.1662424\n",
       "        ],\n",
       "        \"type\": \"scatter\"\n",
       "    },\n",
       "    {\n",
       "        \"xaxis\": \"x\",\n",
       "        \"colorbar\": {\n",
       "            \"title\": \"\"\n",
       "        },\n",
       "        \"yaxis\": \"y\",\n",
       "        \"x\": [\n",
       "            8.134184\n",
       "        ],\n",
       "        \"showlegend\": false,\n",
       "        \"mode\": \"markers\",\n",
       "        \"name\": \"y1\",\n",
       "        \"zmin\": 0.0019723865877712033,\n",
       "        \"legendgroup\": \"y1\",\n",
       "        \"marker\": {\n",
       "            \"symbol\": \"circle\",\n",
       "            \"color\": \"rgba(242, 242, 242, 1.000)\",\n",
       "            \"line\": {\n",
       "                \"color\": \"rgba(0, 0, 0, 1.000)\",\n",
       "                \"width\": 0\n",
       "            },\n",
       "            \"size\": 10\n",
       "        },\n",
       "        \"zmax\": 0.398422090729783,\n",
       "        \"y\": [\n",
       "            -1.0907334\n",
       "        ],\n",
       "        \"type\": \"scatter\"\n",
       "    },\n",
       "    {\n",
       "        \"xaxis\": \"x\",\n",
       "        \"colorbar\": {\n",
       "            \"title\": \"\"\n",
       "        },\n",
       "        \"yaxis\": \"y\",\n",
       "        \"x\": [\n",
       "            10.456216\n",
       "        ],\n",
       "        \"showlegend\": false,\n",
       "        \"mode\": \"markers\",\n",
       "        \"name\": \"y1\",\n",
       "        \"zmin\": 0.0019723865877712033,\n",
       "        \"legendgroup\": \"y1\",\n",
       "        \"marker\": {\n",
       "            \"symbol\": \"circle\",\n",
       "            \"color\": \"rgba(242, 242, 242, 1.000)\",\n",
       "            \"line\": {\n",
       "                \"color\": \"rgba(0, 0, 0, 1.000)\",\n",
       "                \"width\": 0\n",
       "            },\n",
       "            \"size\": 10\n",
       "        },\n",
       "        \"zmax\": 0.398422090729783,\n",
       "        \"y\": [\n",
       "            -2.9930956\n",
       "        ],\n",
       "        \"type\": \"scatter\"\n",
       "    },\n",
       "    {\n",
       "        \"xaxis\": \"x\",\n",
       "        \"colorbar\": {\n",
       "            \"title\": \"\"\n",
       "        },\n",
       "        \"yaxis\": \"y\",\n",
       "        \"x\": [\n",
       "            4.6477523\n",
       "        ],\n",
       "        \"showlegend\": false,\n",
       "        \"mode\": \"markers\",\n",
       "        \"name\": \"y1\",\n",
       "        \"zmin\": 0.0019723865877712033,\n",
       "        \"marker\": {\n",
       "            \"color\": [\n",
       "                0.5\n",
       "            ],\n",
       "            \"cmin\": 0.0019723865877712033,\n",
       "            \"opacity\": 1.0e-10,\n",
       "            \"size\": 1.0e-10,\n",
       "            \"colorscale\": [\n",
       "                [\n",
       "                    0.0,\n",
       "                    \"rgba(242, 242, 242, 1.000)\"\n",
       "                ],\n",
       "                [\n",
       "                    1.0,\n",
       "                    \"rgba(13, 13, 13, 1.000)\"\n",
       "                ]\n",
       "            ],\n",
       "            \"cmax\": 0.398422090729783,\n",
       "            \"showscale\": true\n",
       "        },\n",
       "        \"zmax\": 0.398422090729783,\n",
       "        \"y\": [\n",
       "            0.7327694\n",
       "        ],\n",
       "        \"type\": \"scatter\",\n",
       "        \"hoverinfo\": \"none\"\n",
       "    },\n",
       "    {\n",
       "        \"xaxis\": \"x\",\n",
       "        \"colorbar\": {\n",
       "            \"title\": \"\"\n",
       "        },\n",
       "        \"yaxis\": \"y\",\n",
       "        \"x\": [\n",
       "            4.6477523\n",
       "        ],\n",
       "        \"showlegend\": true,\n",
       "        \"mode\": \"markers\",\n",
       "        \"name\": \"y2\",\n",
       "        \"zmin\": 0.0019723865877712033,\n",
       "        \"legendgroup\": \"y2\",\n",
       "        \"marker\": {\n",
       "            \"symbol\": \"diamond\",\n",
       "            \"color\": \"rgba(76, 204, 76, 0.200)\",\n",
       "            \"line\": {\n",
       "                \"color\": \"rgba(0, 0, 0, 0.200)\",\n",
       "                \"width\": 0\n",
       "            },\n",
       "            \"size\": 14\n",
       "        },\n",
       "        \"zmax\": 0.398422090729783,\n",
       "        \"y\": [\n",
       "            0.7327694\n",
       "        ],\n",
       "        \"type\": \"scatter\"\n",
       "    },\n",
       "    {\n",
       "        \"xaxis\": \"x\",\n",
       "        \"colorbar\": {\n",
       "            \"title\": \"\"\n",
       "        },\n",
       "        \"yaxis\": \"y\",\n",
       "        \"x\": [\n",
       "            10.456216\n",
       "        ],\n",
       "        \"showlegend\": true,\n",
       "        \"mode\": \"markers\",\n",
       "        \"name\": \"y3\",\n",
       "        \"zmin\": 0.0019723865877712033,\n",
       "        \"legendgroup\": \"y3\",\n",
       "        \"marker\": {\n",
       "            \"symbol\": \"diamond\",\n",
       "            \"color\": \"rgba(255, 76, 76, 0.200)\",\n",
       "            \"line\": {\n",
       "                \"color\": \"rgba(0, 0, 0, 0.200)\",\n",
       "                \"width\": 0\n",
       "            },\n",
       "            \"size\": 14\n",
       "        },\n",
       "        \"zmax\": 0.398422090729783,\n",
       "        \"y\": [\n",
       "            -2.9930956\n",
       "        ],\n",
       "        \"type\": \"scatter\"\n",
       "    }\n",
       "]\n",
       ", {\n",
       "    \"showlegend\": false,\n",
       "    \"xaxis\": {\n",
       "        \"showticklabels\": true,\n",
       "        \"gridwidth\": 0.5,\n",
       "        \"tickvals\": [\n",
       "            -5.0,\n",
       "            0.0,\n",
       "            5.0,\n",
       "            10.0\n",
       "        ],\n",
       "        \"range\": [\n",
       "            -9.0,\n",
       "            11.0\n",
       "        ],\n",
       "        \"domain\": [\n",
       "            0.061654272382618835,\n",
       "            0.9934383202099737\n",
       "        ],\n",
       "        \"mirror\": false,\n",
       "        \"tickangle\": 0,\n",
       "        \"showline\": true,\n",
       "        \"ticktext\": [\n",
       "            \"-5\",\n",
       "            \"0\",\n",
       "            \"5\",\n",
       "            \"10\"\n",
       "        ],\n",
       "        \"zeroline\": false,\n",
       "        \"tickfont\": {\n",
       "            \"color\": \"rgba(0, 0, 0, 1.000)\",\n",
       "            \"family\": \"sans-serif\",\n",
       "            \"size\": 11\n",
       "        },\n",
       "        \"zerolinecolor\": \"rgba(0, 0, 0, 1.000)\",\n",
       "        \"anchor\": \"y\",\n",
       "        \"visible\": true,\n",
       "        \"ticks\": \"inside\",\n",
       "        \"tickmode\": \"array\",\n",
       "        \"linecolor\": \"rgba(0, 0, 0, 1.000)\",\n",
       "        \"showgrid\": true,\n",
       "        \"title\": \"X\",\n",
       "        \"gridcolor\": \"rgba(0, 0, 0, 0.100)\",\n",
       "        \"titlefont\": {\n",
       "            \"color\": \"rgba(0, 0, 0, 1.000)\",\n",
       "            \"family\": \"sans-serif\",\n",
       "            \"size\": 15\n",
       "        },\n",
       "        \"tickcolor\": \"rgb(0, 0, 0)\",\n",
       "        \"type\": \"-\"\n",
       "    },\n",
       "    \"paper_bgcolor\": \"rgba(255, 255, 255, 1.000)\",\n",
       "    \"annotations\": [],\n",
       "    \"height\": 400,\n",
       "    \"margin\": {\n",
       "        \"l\": 0,\n",
       "        \"b\": 20,\n",
       "        \"r\": 0,\n",
       "        \"t\": 20\n",
       "    },\n",
       "    \"plot_bgcolor\": \"rgba(255, 255, 255, 1.000)\",\n",
       "    \"yaxis\": {\n",
       "        \"showticklabels\": true,\n",
       "        \"gridwidth\": 0.5,\n",
       "        \"tickvals\": [\n",
       "            -6.0,\n",
       "            -3.0,\n",
       "            0.0,\n",
       "            3.0,\n",
       "            6.0,\n",
       "            9.0\n",
       "        ],\n",
       "        \"range\": [\n",
       "            -6.0,\n",
       "            9.0\n",
       "        ],\n",
       "        \"domain\": [\n",
       "            0.07581474190726165,\n",
       "            0.9901574803149606\n",
       "        ],\n",
       "        \"mirror\": false,\n",
       "        \"tickangle\": 0,\n",
       "        \"showline\": true,\n",
       "        \"ticktext\": [\n",
       "            \"-6\",\n",
       "            \"-3\",\n",
       "            \"0\",\n",
       "            \"3\",\n",
       "            \"6\",\n",
       "            \"9\"\n",
       "        ],\n",
       "        \"zeroline\": false,\n",
       "        \"tickfont\": {\n",
       "            \"color\": \"rgba(0, 0, 0, 1.000)\",\n",
       "            \"family\": \"sans-serif\",\n",
       "            \"size\": 11\n",
       "        },\n",
       "        \"zerolinecolor\": \"rgba(0, 0, 0, 1.000)\",\n",
       "        \"anchor\": \"x\",\n",
       "        \"visible\": true,\n",
       "        \"ticks\": \"inside\",\n",
       "        \"tickmode\": \"array\",\n",
       "        \"linecolor\": \"rgba(0, 0, 0, 1.000)\",\n",
       "        \"showgrid\": true,\n",
       "        \"title\": \"Y\",\n",
       "        \"gridcolor\": \"rgba(0, 0, 0, 0.100)\",\n",
       "        \"titlefont\": {\n",
       "            \"color\": \"rgba(0, 0, 0, 1.000)\",\n",
       "            \"family\": \"sans-serif\",\n",
       "            \"size\": 15\n",
       "        },\n",
       "        \"tickcolor\": \"rgb(0, 0, 0)\",\n",
       "        \"type\": \"-\"\n",
       "    },\n",
       "    \"width\": 600\n",
       "}\n",
       ");\n",
       "\n",
       "    \n",
       "    </script>\n"
      ]
     },
     "metadata": {},
     "output_type": "display_data"
    }
   ],
   "source": [
    "# 2D\n",
    "plotlyjs()\n",
    "plot()\n",
    "\n",
    "scatter!(X,Y,zcolor=occp,m=cgrad(:grays,rev=true),markerstrokewidth=0,markersize=5,legend=false)\n",
    "\n",
    "plot!([X[1]],[Y[1]], seriestype = :scatter, markersize=7,markerstrokewidth=0,\n",
    "        color=color=palette(:lighttest)[4],markershape=:diamond,opacity=0.2) # Green for Si\n",
    "plot!([X[end]],[Y[end]], seriestype = :scatter, markersize=7,markerstrokewidth=0,\n",
    "        color=color=palette(:lighttest)[7],markershape=:diamond,opacity=0.2) # Red for Sf\n",
    "\n",
    "xlims!(floor(minimum(X)),ceil(maximum(X)))\n",
    "ylims!(floor(minimum(Y)),ceil(maximum(Y)))\n",
    "\n",
    "plot!(xlabel=\"X\", ylabel=\"Y\")"
   ]
  },
  {
   "cell_type": "code",
   "execution_count": 14,
   "metadata": {},
   "outputs": [
    {
     "data": {
      "application/vnd.plotly.v1+json": {
       "data": [
        {
         "colorbar": {
          "title": ""
         },
         "legendgroup": "y1",
         "marker": {
          "color": "rgba(238, 238, 238, 1.000)",
          "line": {
           "color": "rgba(0, 0, 0, 1.000)",
           "width": 0
          },
          "size": 5,
          "symbol": "circle"
         },
         "mode": "markers",
         "name": "y1",
         "scene": "scene",
         "showlegend": true,
         "type": "scatter3d",
         "x": [
          4.6477523
         ],
         "xaxis": "x",
         "y": [
          0.7327694
         ],
         "yaxis": "y",
         "z": [
          0.009861932938856016
         ],
         "zaxis": "z",
         "zmax": 0.398422090729783,
         "zmin": 0.0019723865877712033
        },
        {
         "colorbar": {
          "title": ""
         },
         "legendgroup": "y1",
         "marker": {
          "color": "rgba(241, 241, 241, 1.000)",
          "line": {
           "color": "rgba(0, 0, 0, 1.000)",
           "width": 0
          },
          "size": 5,
          "symbol": "circle"
         },
         "mode": "markers",
         "name": "y1",
         "scene": "scene",
         "showlegend": false,
         "type": "scatter3d",
         "x": [
          -2.654956
         ],
         "xaxis": "x",
         "y": [
          -4.1240873
         ],
         "yaxis": "y",
         "z": [
          0.0039447731755424065
         ],
         "zaxis": "z",
         "zmax": 0.398422090729783,
         "zmin": 0.0019723865877712033
        },
        {
         "colorbar": {
          "title": ""
         },
         "legendgroup": "y1",
         "marker": {
          "color": "rgba(242, 242, 242, 1.000)",
          "line": {
           "color": "rgba(0, 0, 0, 1.000)",
           "width": 0
          },
          "size": 5,
          "symbol": "circle"
         },
         "mode": "markers",
         "name": "y1",
         "scene": "scene",
         "showlegend": false,
         "type": "scatter3d",
         "x": [
          -2.6563451
         ],
         "xaxis": "x",
         "y": [
          1.2832105
         ],
         "yaxis": "y",
         "z": [
          0.0019723865877712033
         ],
         "zaxis": "z",
         "zmax": 0.398422090729783,
         "zmin": 0.0019723865877712033
        },
        {
         "colorbar": {
          "title": ""
         },
         "legendgroup": "y1",
         "marker": {
          "color": "rgba(242, 242, 242, 1.000)",
          "line": {
           "color": "rgba(0, 0, 0, 1.000)",
           "width": 0
          },
          "size": 5,
          "symbol": "circle"
         },
         "mode": "markers",
         "name": "y1",
         "scene": "scene",
         "showlegend": false,
         "type": "scatter3d",
         "x": [
          -3.7430313
         ],
         "xaxis": "x",
         "y": [
          3.155671
         ],
         "yaxis": "y",
         "z": [
          0.0019723865877712033
         ],
         "zaxis": "z",
         "zmax": 0.398422090729783,
         "zmin": 0.0019723865877712033
        },
        {
         "colorbar": {
          "title": ""
         },
         "legendgroup": "y1",
         "marker": {
          "color": "rgba(238, 238, 238, 1.000)",
          "line": {
           "color": "rgba(0, 0, 0, 1.000)",
           "width": 0
          },
          "size": 5,
          "symbol": "circle"
         },
         "mode": "markers",
         "name": "y1",
         "scene": "scene",
         "showlegend": false,
         "type": "scatter3d",
         "x": [
          -0.84640163
         ],
         "xaxis": "x",
         "y": [
          -0.5130267
         ],
         "yaxis": "y",
         "z": [
          0.009861932938856016
         ],
         "zaxis": "z",
         "zmax": 0.398422090729783,
         "zmin": 0.0019723865877712033
        },
        {
         "colorbar": {
          "title": ""
         },
         "legendgroup": "y1",
         "marker": {
          "color": "rgba(234, 234, 234, 1.000)",
          "line": {
           "color": "rgba(0, 0, 0, 1.000)",
           "width": 0
          },
          "size": 5,
          "symbol": "circle"
         },
         "mode": "markers",
         "name": "y1",
         "scene": "scene",
         "showlegend": false,
         "type": "scatter3d",
         "x": [
          0.043282423
         ],
         "xaxis": "x",
         "y": [
          0.20759551
         ],
         "yaxis": "y",
         "z": [
          0.015779092702169626
         ],
         "zaxis": "z",
         "zmax": 0.398422090729783,
         "zmin": 0.0019723865877712033
        },
        {
         "colorbar": {
          "title": ""
         },
         "legendgroup": "y1",
         "marker": {
          "color": "rgba(84, 84, 84, 1.000)",
          "line": {
           "color": "rgba(0, 0, 0, 1.000)",
           "width": 0
          },
          "size": 5,
          "symbol": "circle"
         },
         "mode": "markers",
         "name": "y1",
         "scene": "scene",
         "showlegend": false,
         "type": "scatter3d",
         "x": [
          7.1832905
         ],
         "xaxis": "x",
         "y": [
          -5.3880253
         ],
         "yaxis": "y",
         "z": [
          0.27613412228796846
         ],
         "zaxis": "z",
         "zmax": 0.398422090729783,
         "zmin": 0.0019723865877712033
        },
        {
         "colorbar": {
          "title": ""
         },
         "legendgroup": "y1",
         "marker": {
          "color": "rgba(210, 210, 210, 1.000)",
          "line": {
           "color": "rgba(0, 0, 0, 1.000)",
           "width": 0
          },
          "size": 5,
          "symbol": "circle"
         },
         "mode": "markers",
         "name": "y1",
         "scene": "scene",
         "showlegend": false,
         "type": "scatter3d",
         "x": [
          2.6338522
         ],
         "xaxis": "x",
         "y": [
          -5.2244754
         ],
         "yaxis": "y",
         "z": [
          0.05719921104536489
         ],
         "zaxis": "z",
         "zmax": 0.398422090729783,
         "zmin": 0.0019723865877712033
        },
        {
         "colorbar": {
          "title": ""
         },
         "legendgroup": "y1",
         "marker": {
          "color": "rgba(240, 240, 240, 1.000)",
          "line": {
           "color": "rgba(0, 0, 0, 1.000)",
           "width": 0
          },
          "size": 5,
          "symbol": "circle"
         },
         "mode": "markers",
         "name": "y1",
         "scene": "scene",
         "showlegend": false,
         "type": "scatter3d",
         "x": [
          -5.8187604
         ],
         "xaxis": "x",
         "y": [
          -5.229411
         ],
         "yaxis": "y",
         "z": [
          0.005917159763313609
         ],
         "zaxis": "z",
         "zmax": 0.398422090729783,
         "zmin": 0.0019723865877712033
        },
        {
         "colorbar": {
          "title": ""
         },
         "legendgroup": "y1",
         "marker": {
          "color": "rgba(13, 13, 13, 1.000)",
          "line": {
           "color": "rgba(0, 0, 0, 1.000)",
           "width": 0
          },
          "size": 5,
          "symbol": "circle"
         },
         "mode": "markers",
         "name": "y1",
         "scene": "scene",
         "showlegend": false,
         "type": "scatter3d",
         "x": [
          5.503725
         ],
         "xaxis": "x",
         "y": [
          8.042411
         ],
         "yaxis": "y",
         "z": [
          0.398422090729783
         ],
         "zaxis": "z",
         "zmax": 0.398422090729783,
         "zmin": 0.0019723865877712033
        },
        {
         "colorbar": {
          "title": ""
         },
         "legendgroup": "y1",
         "marker": {
          "color": "rgba(138, 138, 138, 1.000)",
          "line": {
           "color": "rgba(0, 0, 0, 1.000)",
           "width": 0
          },
          "size": 5,
          "symbol": "circle"
         },
         "mode": "markers",
         "name": "y1",
         "scene": "scene",
         "showlegend": false,
         "type": "scatter3d",
         "x": [
          5.083676
         ],
         "xaxis": "x",
         "y": [
          5.6259074
         ],
         "yaxis": "y",
         "z": [
          0.1814595660749507
         ],
         "zaxis": "z",
         "zmax": 0.398422090729783,
         "zmin": 0.0019723865877712033
        },
        {
         "colorbar": {
          "title": ""
         },
         "legendgroup": "y1",
         "marker": {
          "color": "rgba(239, 239, 239, 1.000)",
          "line": {
           "color": "rgba(0, 0, 0, 1.000)",
           "width": 0
          },
          "size": 5,
          "symbol": "circle"
         },
         "mode": "markers",
         "name": "y1",
         "scene": "scene",
         "showlegend": false,
         "type": "scatter3d",
         "x": [
          -1.9416994
         ],
         "xaxis": "x",
         "y": [
          6.0487847
         ],
         "yaxis": "y",
         "z": [
          0.007889546351084813
         ],
         "zaxis": "z",
         "zmax": 0.398422090729783,
         "zmin": 0.0019723865877712033
        },
        {
         "colorbar": {
          "title": ""
         },
         "legendgroup": "y1",
         "marker": {
          "color": "rgba(240, 240, 240, 1.000)",
          "line": {
           "color": "rgba(0, 0, 0, 1.000)",
           "width": 0
          },
          "size": 5,
          "symbol": "circle"
         },
         "mode": "markers",
         "name": "y1",
         "scene": "scene",
         "showlegend": false,
         "type": "scatter3d",
         "x": [
          -2.4972928
         ],
         "xaxis": "x",
         "y": [
          7.491962
         ],
         "yaxis": "y",
         "z": [
          0.005917159763313609
         ],
         "zaxis": "z",
         "zmax": 0.398422090729783,
         "zmin": 0.0019723865877712033
        },
        {
         "colorbar": {
          "title": ""
         },
         "legendgroup": "y1",
         "marker": {
          "color": "rgba(240, 240, 240, 1.000)",
          "line": {
           "color": "rgba(0, 0, 0, 1.000)",
           "width": 0
          },
          "size": 5,
          "symbol": "circle"
         },
         "mode": "markers",
         "name": "y1",
         "scene": "scene",
         "showlegend": false,
         "type": "scatter3d",
         "x": [
          -6.995915
         ],
         "xaxis": "x",
         "y": [
          -3.4359667
         ],
         "yaxis": "y",
         "z": [
          0.005917159763313609
         ],
         "zaxis": "z",
         "zmax": 0.398422090729783,
         "zmin": 0.0019723865877712033
        },
        {
         "colorbar": {
          "title": ""
         },
         "legendgroup": "y1",
         "marker": {
          "color": "rgba(240, 240, 240, 1.000)",
          "line": {
           "color": "rgba(0, 0, 0, 1.000)",
           "width": 0
          },
          "size": 5,
          "symbol": "circle"
         },
         "mode": "markers",
         "name": "y1",
         "scene": "scene",
         "showlegend": false,
         "type": "scatter3d",
         "x": [
          -6.506847
         ],
         "xaxis": "x",
         "y": [
          5.7132754
         ],
         "yaxis": "y",
         "z": [
          0.005917159763313609
         ],
         "zaxis": "z",
         "zmax": 0.398422090729783,
         "zmin": 0.0019723865877712033
        },
        {
         "colorbar": {
          "title": ""
         },
         "legendgroup": "y1",
         "marker": {
          "color": "rgba(242, 242, 242, 1.000)",
          "line": {
           "color": "rgba(0, 0, 0, 1.000)",
           "width": 0
          },
          "size": 5,
          "symbol": "circle"
         },
         "mode": "markers",
         "name": "y1",
         "scene": "scene",
         "showlegend": false,
         "type": "scatter3d",
         "x": [
          -1.7377863
         ],
         "xaxis": "x",
         "y": [
          -3.4376783
         ],
         "yaxis": "y",
         "z": [
          0.0019723865877712033
         ],
         "zaxis": "z",
         "zmax": 0.398422090729783,
         "zmin": 0.0019723865877712033
        },
        {
         "colorbar": {
          "title": ""
         },
         "legendgroup": "y1",
         "marker": {
          "color": "rgba(242, 242, 242, 1.000)",
          "line": {
           "color": "rgba(0, 0, 0, 1.000)",
           "width": 0
          },
          "size": 5,
          "symbol": "circle"
         },
         "mode": "markers",
         "name": "y1",
         "scene": "scene",
         "showlegend": false,
         "type": "scatter3d",
         "x": [
          -8.41499
         ],
         "xaxis": "x",
         "y": [
          -3.85644
         ],
         "yaxis": "y",
         "z": [
          0.0019723865877712033
         ],
         "zaxis": "z",
         "zmax": 0.398422090729783,
         "zmin": 0.0019723865877712033
        },
        {
         "colorbar": {
          "title": ""
         },
         "legendgroup": "y1",
         "marker": {
          "color": "rgba(242, 242, 242, 1.000)",
          "line": {
           "color": "rgba(0, 0, 0, 1.000)",
           "width": 0
          },
          "size": 5,
          "symbol": "circle"
         },
         "mode": "markers",
         "name": "y1",
         "scene": "scene",
         "showlegend": false,
         "type": "scatter3d",
         "x": [
          -3.6207879
         ],
         "xaxis": "x",
         "y": [
          -0.8424102
         ],
         "yaxis": "y",
         "z": [
          0.0019723865877712033
         ],
         "zaxis": "z",
         "zmax": 0.398422090729783,
         "zmin": 0.0019723865877712033
        },
        {
         "colorbar": {
          "title": ""
         },
         "legendgroup": "y1",
         "marker": {
          "color": "rgba(242, 242, 242, 1.000)",
          "line": {
           "color": "rgba(0, 0, 0, 1.000)",
           "width": 0
          },
          "size": 5,
          "symbol": "circle"
         },
         "mode": "markers",
         "name": "y1",
         "scene": "scene",
         "showlegend": false,
         "type": "scatter3d",
         "x": [
          3.7488408
         ],
         "xaxis": "x",
         "y": [
          -2.1662424
         ],
         "yaxis": "y",
         "z": [
          0.0019723865877712033
         ],
         "zaxis": "z",
         "zmax": 0.398422090729783,
         "zmin": 0.0019723865877712033
        },
        {
         "colorbar": {
          "title": ""
         },
         "legendgroup": "y1",
         "marker": {
          "color": "rgba(242, 242, 242, 1.000)",
          "line": {
           "color": "rgba(0, 0, 0, 1.000)",
           "width": 0
          },
          "size": 5,
          "symbol": "circle"
         },
         "mode": "markers",
         "name": "y1",
         "scene": "scene",
         "showlegend": false,
         "type": "scatter3d",
         "x": [
          8.134184
         ],
         "xaxis": "x",
         "y": [
          -1.0907334
         ],
         "yaxis": "y",
         "z": [
          0.0019723865877712033
         ],
         "zaxis": "z",
         "zmax": 0.398422090729783,
         "zmin": 0.0019723865877712033
        },
        {
         "colorbar": {
          "title": ""
         },
         "legendgroup": "y1",
         "marker": {
          "color": "rgba(242, 242, 242, 1.000)",
          "line": {
           "color": "rgba(0, 0, 0, 1.000)",
           "width": 0
          },
          "size": 5,
          "symbol": "circle"
         },
         "mode": "markers",
         "name": "y1",
         "scene": "scene",
         "showlegend": false,
         "type": "scatter3d",
         "x": [
          10.456216
         ],
         "xaxis": "x",
         "y": [
          -2.9930956
         ],
         "yaxis": "y",
         "z": [
          0.0019723865877712033
         ],
         "zaxis": "z",
         "zmax": 0.398422090729783,
         "zmin": 0.0019723865877712033
        },
        {
         "colorbar": {
          "title": ""
         },
         "hoverinfo": "none",
         "marker": {
          "cmax": 0.398422090729783,
          "cmin": 0.0019723865877712033,
          "color": [
           0.5
          ],
          "colorscale": [
           [
            0,
            "rgba(242, 242, 242, 1.000)"
           ],
           [
            1,
            "rgba(13, 13, 13, 1.000)"
           ]
          ],
          "opacity": 1e-10,
          "showscale": true,
          "size": 1e-10
         },
         "mode": "markers",
         "name": "y1",
         "scene": "scene",
         "showlegend": false,
         "type": "scatter3d",
         "x": [
          4.6477523
         ],
         "xaxis": "x",
         "y": [
          0.7327694
         ],
         "yaxis": "y",
         "z": [
          0.009861932938856016
         ],
         "zaxis": "z",
         "zmax": 0.398422090729783,
         "zmin": 0.0019723865877712033
        },
        {
         "colorbar": {
          "title": ""
         },
         "legendgroup": "y2",
         "marker": {
          "color": "rgba(76, 204, 76, 0.800)",
          "line": {
           "color": "rgba(0, 0, 0, 0.800)",
           "width": 1
          },
          "size": 6,
          "symbol": "diamond"
         },
         "mode": "markers",
         "name": "y2",
         "scene": "scene",
         "showlegend": true,
         "type": "scatter3d",
         "x": [
          4.6477523
         ],
         "xaxis": "x",
         "y": [
          0.7327694
         ],
         "yaxis": "y",
         "z": [
          0.009861932938856016
         ],
         "zaxis": "z",
         "zmax": 0.398422090729783,
         "zmin": 0.0019723865877712033
        },
        {
         "colorbar": {
          "title": ""
         },
         "legendgroup": "y3",
         "marker": {
          "color": "rgba(255, 76, 76, 0.800)",
          "line": {
           "color": "rgba(0, 0, 0, 0.800)",
           "width": 1
          },
          "size": 6,
          "symbol": "diamond"
         },
         "mode": "markers",
         "name": "y3",
         "scene": "scene",
         "showlegend": true,
         "type": "scatter3d",
         "x": [
          10.456216
         ],
         "xaxis": "x",
         "y": [
          -2.9930956
         ],
         "yaxis": "y",
         "z": [
          0.0019723865877712033
         ],
         "zaxis": "z",
         "zmax": 0.398422090729783,
         "zmin": 0.0019723865877712033
        }
       ],
       "layout": {
        "annotations": [],
        "height": 400,
        "margin": {
         "b": 20,
         "l": 0,
         "r": 0,
         "t": 20
        },
        "paper_bgcolor": "rgba(255, 255, 255, 1.000)",
        "plot_bgcolor": "rgba(255, 255, 255, 1.000)",
        "scene": {
         "camera": {
          "eye": {
           "x": 1.12583302491977,
           "y": -1.9499999999999997,
           "z": 1.3
          }
         },
         "domain": {
          "x": [
           0.061654272382618835,
           0.9934383202099737
          ],
          "y": [
           0.07581474190726165,
           0.9901574803149606
          ]
         },
         "xaxis": {
          "gridcolor": "rgba(0, 0, 0, 0.100)",
          "gridwidth": 0.5,
          "linecolor": "rgba(0, 0, 0, 1.000)",
          "mirror": false,
          "range": [
           -8.499140329360962,
           10.560778017044067
          ],
          "showgrid": true,
          "showline": true,
          "showticklabels": true,
          "tickangle": 0,
          "tickcolor": "rgb(0, 0, 0)",
          "tickfont": {
           "color": "rgba(0, 0, 0, 1.000)",
           "family": "sans-serif",
           "size": 11
          },
          "tickmode": "array",
          "ticks": "inside",
          "ticktext": [
           "-5",
           "0",
           "5",
           "10"
          ],
          "tickvals": [
           -5,
           0,
           5,
           10
          ],
          "title": "X",
          "titlefont": {
           "color": "rgba(0, 0, 0, 1.000)",
           "family": "sans-serif",
           "size": 15
          },
          "type": "-",
          "visible": true,
          "zeroline": false,
          "zerolinecolor": "rgba(0, 0, 0, 1.000)"
         },
         "yaxis": {
          "gridcolor": "rgba(0, 0, 0, 0.100)",
          "gridwidth": 0.5,
          "linecolor": "rgba(0, 0, 0, 1.000)",
          "mirror": false,
          "range": [
           -5.441905536651611,
           8.122834959030152
          ],
          "showgrid": true,
          "showline": true,
          "showticklabels": true,
          "tickangle": 0,
          "tickcolor": "rgb(0, 0, 0)",
          "tickfont": {
           "color": "rgba(0, 0, 0, 1.000)",
           "family": "sans-serif",
           "size": 11
          },
          "tickmode": "array",
          "ticks": "inside",
          "ticktext": [
           "-3",
           "0",
           "3",
           "6"
          ],
          "tickvals": [
           -3,
           0,
           3,
           6
          ],
          "title": "Y",
          "titlefont": {
           "color": "rgba(0, 0, 0, 1.000)",
           "family": "sans-serif",
           "size": 15
          },
          "type": "-",
          "visible": true,
          "zeroline": false,
          "zerolinecolor": "rgba(0, 0, 0, 1.000)"
         },
         "zaxis": {
          "gridcolor": "rgba(0, 0, 0, 0.100)",
          "gridwidth": 0.5,
          "linecolor": "rgba(0, 0, 0, 1.000)",
          "mirror": false,
          "range": [
           0.0019921104536489154,
           0.40240631163708085
          ],
          "showgrid": true,
          "showline": true,
          "showticklabels": true,
          "tickangle": 0,
          "tickcolor": "rgb(0, 0, 0)",
          "tickfont": {
           "color": "rgba(0, 0, 0, 1.000)",
           "family": "sans-serif",
           "size": 11
          },
          "tickmode": "array",
          "ticks": "inside",
          "ticktext": [
           "0.1",
           "0.2",
           "0.3",
           "0.4"
          ],
          "tickvals": [
           0.1,
           0.2,
           0.30000000000000004,
           0.4
          ],
          "title": "Occupancy density",
          "titlefont": {
           "color": "rgba(0, 0, 0, 1.000)",
           "family": "sans-serif",
           "size": 15
          },
          "type": "-",
          "visible": true,
          "zeroline": false,
          "zerolinecolor": "rgba(0, 0, 0, 1.000)"
         }
        },
        "showlegend": false,
        "width": 600
       }
      },
      "image/png": "[encoded data removed]",
      "image/svg+xml": "<svg class=\"main-svg\" xmlns=\"http://www.w3.org/2000/svg\" xmlns:xlink=\"http://www.w3.org/1999/xlink\" width=\"700\" height=\"500\" style=\"\" viewBox=\"0 0 700 500\"><rect x=\"0\" y=\"0\" width=\"700\" height=\"500\" style=\"fill: rgb(255, 255, 255); fill-opacity: 1;\"/><defs id=\"defs-79c906\"><g class=\"clips\"/><g class=\"gradients\"><linearGradient x1=\"0\" x2=\"0\" y1=\"1\" y2=\"0\" id=\"g79c906-cbc525f5-marker\"><stop offset=\"0%\" stop-color=\"rgb(242, 242, 242)\" stop-opacity=\"1\"/><stop offset=\"100%\" stop-color=\"rgb(13, 13, 13)\" stop-opacity=\"1\"/></linearGradient></g></defs><g class=\"bglayer\"/><g class=\"layer-below\"><g class=\"imagelayer\"/><g class=\"shapelayer\"/></g><g class=\"cartesianlayer\"/><g class=\"polarlayer\"/><g class=\"ternarylayer\"/><g class=\"geolayer\"/><g class=\"funnelarealayer\"/><g class=\"pielayer\"/><g class=\"treemaplayer\"/><g class=\"sunburstlayer\"/><g class=\"glimages\"><image xmlns=\"http://www.w3.org/2000/svg\" xlink:href=\"data:image/png;base64,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\" x=\"83.90984981044036\" y=\"63.83858267716535\" width=\"512.4812263050452\" height=\"356.5936679790026\" preserveAspectRatio=\"none\"/></g><defs id=\"topdefs-79c906\"><g class=\"clips\"/></defs><g class=\"layer-above\"><g class=\"imagelayer\"/><g class=\"shapelayer\"/></g><g class=\"infolayer\"><g class=\"cbc525f5-marker colorbar\" transform=\"translate(50,60)\"><rect class=\"cbbg\" x=\"561\" y=\"0\" width=\"77.265625\" height=\"390\" style=\"fill: rgb(0, 0, 0); fill-opacity: 0; stroke: rgb(68, 68, 68); stroke-opacity: 1; stroke-width: 0;\"/><g class=\"cbfills\" transform=\"translate(0,10)\"><rect class=\"cbfill\" x=\"571\" width=\"30\" y=\"0\" height=\"370\" style=\"fill: url('#g79c906-cbc525f5-marker');\"/></g><g class=\"cblines\" transform=\"translate(0,10)\"/><g class=\"cbaxis crisp\" transform=\"translate(0,-60)\"><g class=\"ycbc525f5-markertick\"><text text-anchor=\"start\" x=\"603.9\" y=\"4.199999999999999\" transform=\"translate(0,395.18)\" style=\"font-family: 'Open Sans', verdana, arial, sans-serif; font-size: 12px; fill: rgb(42, 63, 95); fill-opacity: 1; white-space: pre;\">0.05</text></g><g class=\"ycbc525f5-markertick\"><text text-anchor=\"start\" x=\"603.9\" y=\"4.199999999999999\" transform=\"translate(0,348.51)\" style=\"font-family: 'Open Sans', verdana, arial, sans-serif; font-size: 12px; fill: rgb(42, 63, 95); fill-opacity: 1; white-space: pre;\">0.1</text></g><g class=\"ycbc525f5-markertick\"><text text-anchor=\"start\" x=\"603.9\" y=\"4.199999999999999\" transform=\"translate(0,301.85)\" style=\"font-family: 'Open Sans', verdana, arial, sans-serif; font-size: 12px; fill: rgb(42, 63, 95); fill-opacity: 1; white-space: pre;\">0.15</text></g><g class=\"ycbc525f5-markertick\"><text text-anchor=\"start\" x=\"603.9\" y=\"4.199999999999999\" transform=\"translate(0,255.18)\" style=\"font-family: 'Open Sans', verdana, arial, sans-serif; font-size: 12px; fill: rgb(42, 63, 95); fill-opacity: 1; white-space: pre;\">0.2</text></g><g class=\"ycbc525f5-markertick\"><text text-anchor=\"start\" x=\"603.9\" y=\"4.199999999999999\" transform=\"translate(0,208.52)\" style=\"font-family: 'Open Sans', verdana, arial, sans-serif; font-size: 12px; fill: rgb(42, 63, 95); fill-opacity: 1; white-space: pre;\">0.25</text></g><g class=\"ycbc525f5-markertick\"><text text-anchor=\"start\" x=\"603.9\" y=\"4.199999999999999\" transform=\"translate(0,161.86)\" style=\"font-family: 'Open Sans', verdana, arial, sans-serif; font-size: 12px; fill: rgb(42, 63, 95); fill-opacity: 1; white-space: pre;\">0.3</text></g><g class=\"ycbc525f5-markertick\"><text text-anchor=\"start\" x=\"603.9\" y=\"4.199999999999999\" transform=\"translate(0,115.19)\" style=\"font-family: 'Open Sans', verdana, arial, sans-serif; font-size: 12px; fill: rgb(42, 63, 95); fill-opacity: 1; white-space: pre;\">0.35</text></g></g><g class=\"cbtitleunshift\" transform=\"translate(-50,-60)\"><g class=\"cbtitle\"/></g><rect class=\"cboutline\" x=\"571\" y=\"10\" width=\"30\" height=\"370\" style=\"stroke: rgb(68, 68, 68); stroke-opacity: 1; fill: none; stroke-width: 0;\"/></g><g class=\"g-gtitle\"/></g></svg>",
      "text/html": [
       "<script src=\"https://cdn.plot.ly/plotly-2.6.3.min.js\"></script>    <div id=\"0e2e382f-2509-49a4-9a12-dcedac4a59af\" style=\"width:600px;height:400px;\"></div>\n",
       "    <script>\n",
       "    \n",
       "        Plotly.newPlot('0e2e382f-2509-49a4-9a12-dcedac4a59af', [\n",
       "    {\n",
       "        \"xaxis\": \"x\",\n",
       "        \"colorbar\": {\n",
       "            \"title\": \"\"\n",
       "        },\n",
       "        \"yaxis\": \"y\",\n",
       "        \"zaxis\": \"z\",\n",
       "        \"x\": [\n",
       "            4.6477523\n",
       "        ],\n",
       "        \"showlegend\": true,\n",
       "        \"mode\": \"markers\",\n",
       "        \"name\": \"y1\",\n",
       "        \"zmin\": 0.0019723865877712033,\n",
       "        \"legendgroup\": \"y1\",\n",
       "        \"z\": [\n",
       "            0.009861932938856016\n",
       "        ],\n",
       "        \"marker\": {\n",
       "            \"symbol\": \"circle\",\n",
       "            \"color\": \"rgba(238, 238, 238, 1.000)\",\n",
       "            \"line\": {\n",
       "                \"color\": \"rgba(0, 0, 0, 1.000)\",\n",
       "                \"width\": 0\n",
       "            },\n",
       "            \"size\": 5.0\n",
       "        },\n",
       "        \"zmax\": 0.398422090729783,\n",
       "        \"y\": [\n",
       "            0.7327694\n",
       "        ],\n",
       "        \"type\": \"scatter3d\",\n",
       "        \"scene\": \"scene\"\n",
       "    },\n",
       "    {\n",
       "        \"xaxis\": \"x\",\n",
       "        \"colorbar\": {\n",
       "            \"title\": \"\"\n",
       "        },\n",
       "        \"yaxis\": \"y\",\n",
       "        \"zaxis\": \"z\",\n",
       "        \"x\": [\n",
       "            -2.654956\n",
       "        ],\n",
       "        \"showlegend\": false,\n",
       "        \"mode\": \"markers\",\n",
       "        \"name\": \"y1\",\n",
       "        \"zmin\": 0.0019723865877712033,\n",
       "        \"legendgroup\": \"y1\",\n",
       "        \"z\": [\n",
       "            0.0039447731755424065\n",
       "        ],\n",
       "        \"marker\": {\n",
       "            \"symbol\": \"circle\",\n",
       "            \"color\": \"rgba(241, 241, 241, 1.000)\",\n",
       "            \"line\": {\n",
       "                \"color\": \"rgba(0, 0, 0, 1.000)\",\n",
       "                \"width\": 0\n",
       "            },\n",
       "            \"size\": 5.0\n",
       "        },\n",
       "        \"zmax\": 0.398422090729783,\n",
       "        \"y\": [\n",
       "            -4.1240873\n",
       "        ],\n",
       "        \"type\": \"scatter3d\",\n",
       "        \"scene\": \"scene\"\n",
       "    },\n",
       "    {\n",
       "        \"xaxis\": \"x\",\n",
       "        \"colorbar\": {\n",
       "            \"title\": \"\"\n",
       "        },\n",
       "        \"yaxis\": \"y\",\n",
       "        \"zaxis\": \"z\",\n",
       "        \"x\": [\n",
       "            -2.6563451\n",
       "        ],\n",
       "        \"showlegend\": false,\n",
       "        \"mode\": \"markers\",\n",
       "        \"name\": \"y1\",\n",
       "        \"zmin\": 0.0019723865877712033,\n",
       "        \"legendgroup\": \"y1\",\n",
       "        \"z\": [\n",
       "            0.0019723865877712033\n",
       "        ],\n",
       "        \"marker\": {\n",
       "            \"symbol\": \"circle\",\n",
       "            \"color\": \"rgba(242, 242, 242, 1.000)\",\n",
       "            \"line\": {\n",
       "                \"color\": \"rgba(0, 0, 0, 1.000)\",\n",
       "                \"width\": 0\n",
       "            },\n",
       "            \"size\": 5.0\n",
       "        },\n",
       "        \"zmax\": 0.398422090729783,\n",
       "        \"y\": [\n",
       "            1.2832105\n",
       "        ],\n",
       "        \"type\": \"scatter3d\",\n",
       "        \"scene\": \"scene\"\n",
       "    },\n",
       "    {\n",
       "        \"xaxis\": \"x\",\n",
       "        \"colorbar\": {\n",
       "            \"title\": \"\"\n",
       "        },\n",
       "        \"yaxis\": \"y\",\n",
       "        \"zaxis\": \"z\",\n",
       "        \"x\": [\n",
       "            -3.7430313\n",
       "        ],\n",
       "        \"showlegend\": false,\n",
       "        \"mode\": \"markers\",\n",
       "        \"name\": \"y1\",\n",
       "        \"zmin\": 0.0019723865877712033,\n",
       "        \"legendgroup\": \"y1\",\n",
       "        \"z\": [\n",
       "            0.0019723865877712033\n",
       "        ],\n",
       "        \"marker\": {\n",
       "            \"symbol\": \"circle\",\n",
       "            \"color\": \"rgba(242, 242, 242, 1.000)\",\n",
       "            \"line\": {\n",
       "                \"color\": \"rgba(0, 0, 0, 1.000)\",\n",
       "                \"width\": 0\n",
       "            },\n",
       "            \"size\": 5.0\n",
       "        },\n",
       "        \"zmax\": 0.398422090729783,\n",
       "        \"y\": [\n",
       "            3.155671\n",
       "        ],\n",
       "        \"type\": \"scatter3d\",\n",
       "        \"scene\": \"scene\"\n",
       "    },\n",
       "    {\n",
       "        \"xaxis\": \"x\",\n",
       "        \"colorbar\": {\n",
       "            \"title\": \"\"\n",
       "        },\n",
       "        \"yaxis\": \"y\",\n",
       "        \"zaxis\": \"z\",\n",
       "        \"x\": [\n",
       "            -0.84640163\n",
       "        ],\n",
       "        \"showlegend\": false,\n",
       "        \"mode\": \"markers\",\n",
       "        \"name\": \"y1\",\n",
       "        \"zmin\": 0.0019723865877712033,\n",
       "        \"legendgroup\": \"y1\",\n",
       "        \"z\": [\n",
       "            0.009861932938856016\n",
       "        ],\n",
       "        \"marker\": {\n",
       "            \"symbol\": \"circle\",\n",
       "            \"color\": \"rgba(238, 238, 238, 1.000)\",\n",
       "            \"line\": {\n",
       "                \"color\": \"rgba(0, 0, 0, 1.000)\",\n",
       "                \"width\": 0\n",
       "            },\n",
       "            \"size\": 5.0\n",
       "        },\n",
       "        \"zmax\": 0.398422090729783,\n",
       "        \"y\": [\n",
       "            -0.5130267\n",
       "        ],\n",
       "        \"type\": \"scatter3d\",\n",
       "        \"scene\": \"scene\"\n",
       "    },\n",
       "    {\n",
       "        \"xaxis\": \"x\",\n",
       "        \"colorbar\": {\n",
       "            \"title\": \"\"\n",
       "        },\n",
       "        \"yaxis\": \"y\",\n",
       "        \"zaxis\": \"z\",\n",
       "        \"x\": [\n",
       "            0.043282423\n",
       "        ],\n",
       "        \"showlegend\": false,\n",
       "        \"mode\": \"markers\",\n",
       "        \"name\": \"y1\",\n",
       "        \"zmin\": 0.0019723865877712033,\n",
       "        \"legendgroup\": \"y1\",\n",
       "        \"z\": [\n",
       "            0.015779092702169626\n",
       "        ],\n",
       "        \"marker\": {\n",
       "            \"symbol\": \"circle\",\n",
       "            \"color\": \"rgba(234, 234, 234, 1.000)\",\n",
       "            \"line\": {\n",
       "                \"color\": \"rgba(0, 0, 0, 1.000)\",\n",
       "                \"width\": 0\n",
       "            },\n",
       "            \"size\": 5.0\n",
       "        },\n",
       "        \"zmax\": 0.398422090729783,\n",
       "        \"y\": [\n",
       "            0.20759551\n",
       "        ],\n",
       "        \"type\": \"scatter3d\",\n",
       "        \"scene\": \"scene\"\n",
       "    },\n",
       "    {\n",
       "        \"xaxis\": \"x\",\n",
       "        \"colorbar\": {\n",
       "            \"title\": \"\"\n",
       "        },\n",
       "        \"yaxis\": \"y\",\n",
       "        \"zaxis\": \"z\",\n",
       "        \"x\": [\n",
       "            7.1832905\n",
       "        ],\n",
       "        \"showlegend\": false,\n",
       "        \"mode\": \"markers\",\n",
       "        \"name\": \"y1\",\n",
       "        \"zmin\": 0.0019723865877712033,\n",
       "        \"legendgroup\": \"y1\",\n",
       "        \"z\": [\n",
       "            0.27613412228796846\n",
       "        ],\n",
       "        \"marker\": {\n",
       "            \"symbol\": \"circle\",\n",
       "            \"color\": \"rgba(84, 84, 84, 1.000)\",\n",
       "            \"line\": {\n",
       "                \"color\": \"rgba(0, 0, 0, 1.000)\",\n",
       "                \"width\": 0\n",
       "            },\n",
       "            \"size\": 5.0\n",
       "        },\n",
       "        \"zmax\": 0.398422090729783,\n",
       "        \"y\": [\n",
       "            -5.3880253\n",
       "        ],\n",
       "        \"type\": \"scatter3d\",\n",
       "        \"scene\": \"scene\"\n",
       "    },\n",
       "    {\n",
       "        \"xaxis\": \"x\",\n",
       "        \"colorbar\": {\n",
       "            \"title\": \"\"\n",
       "        },\n",
       "        \"yaxis\": \"y\",\n",
       "        \"zaxis\": \"z\",\n",
       "        \"x\": [\n",
       "            2.6338522\n",
       "        ],\n",
       "        \"showlegend\": false,\n",
       "        \"mode\": \"markers\",\n",
       "        \"name\": \"y1\",\n",
       "        \"zmin\": 0.0019723865877712033,\n",
       "        \"legendgroup\": \"y1\",\n",
       "        \"z\": [\n",
       "            0.05719921104536489\n",
       "        ],\n",
       "        \"marker\": {\n",
       "            \"symbol\": \"circle\",\n",
       "            \"color\": \"rgba(210, 210, 210, 1.000)\",\n",
       "            \"line\": {\n",
       "                \"color\": \"rgba(0, 0, 0, 1.000)\",\n",
       "                \"width\": 0\n",
       "            },\n",
       "            \"size\": 5.0\n",
       "        },\n",
       "        \"zmax\": 0.398422090729783,\n",
       "        \"y\": [\n",
       "            -5.2244754\n",
       "        ],\n",
       "        \"type\": \"scatter3d\",\n",
       "        \"scene\": \"scene\"\n",
       "    },\n",
       "    {\n",
       "        \"xaxis\": \"x\",\n",
       "        \"colorbar\": {\n",
       "            \"title\": \"\"\n",
       "        },\n",
       "        \"yaxis\": \"y\",\n",
       "        \"zaxis\": \"z\",\n",
       "        \"x\": [\n",
       "            -5.8187604\n",
       "        ],\n",
       "        \"showlegend\": false,\n",
       "        \"mode\": \"markers\",\n",
       "        \"name\": \"y1\",\n",
       "        \"zmin\": 0.0019723865877712033,\n",
       "        \"legendgroup\": \"y1\",\n",
       "        \"z\": [\n",
       "            0.005917159763313609\n",
       "        ],\n",
       "        \"marker\": {\n",
       "            \"symbol\": \"circle\",\n",
       "            \"color\": \"rgba(240, 240, 240, 1.000)\",\n",
       "            \"line\": {\n",
       "                \"color\": \"rgba(0, 0, 0, 1.000)\",\n",
       "                \"width\": 0\n",
       "            },\n",
       "            \"size\": 5.0\n",
       "        },\n",
       "        \"zmax\": 0.398422090729783,\n",
       "        \"y\": [\n",
       "            -5.229411\n",
       "        ],\n",
       "        \"type\": \"scatter3d\",\n",
       "        \"scene\": \"scene\"\n",
       "    },\n",
       "    {\n",
       "        \"xaxis\": \"x\",\n",
       "        \"colorbar\": {\n",
       "            \"title\": \"\"\n",
       "        },\n",
       "        \"yaxis\": \"y\",\n",
       "        \"zaxis\": \"z\",\n",
       "        \"x\": [\n",
       "            5.503725\n",
       "        ],\n",
       "        \"showlegend\": false,\n",
       "        \"mode\": \"markers\",\n",
       "        \"name\": \"y1\",\n",
       "        \"zmin\": 0.0019723865877712033,\n",
       "        \"legendgroup\": \"y1\",\n",
       "        \"z\": [\n",
       "            0.398422090729783\n",
       "        ],\n",
       "        \"marker\": {\n",
       "            \"symbol\": \"circle\",\n",
       "            \"color\": \"rgba(13, 13, 13, 1.000)\",\n",
       "            \"line\": {\n",
       "                \"color\": \"rgba(0, 0, 0, 1.000)\",\n",
       "                \"width\": 0\n",
       "            },\n",
       "            \"size\": 5.0\n",
       "        },\n",
       "        \"zmax\": 0.398422090729783,\n",
       "        \"y\": [\n",
       "            8.042411\n",
       "        ],\n",
       "        \"type\": \"scatter3d\",\n",
       "        \"scene\": \"scene\"\n",
       "    },\n",
       "    {\n",
       "        \"xaxis\": \"x\",\n",
       "        \"colorbar\": {\n",
       "            \"title\": \"\"\n",
       "        },\n",
       "        \"yaxis\": \"y\",\n",
       "        \"zaxis\": \"z\",\n",
       "        \"x\": [\n",
       "            5.083676\n",
       "        ],\n",
       "        \"showlegend\": false,\n",
       "        \"mode\": \"markers\",\n",
       "        \"name\": \"y1\",\n",
       "        \"zmin\": 0.0019723865877712033,\n",
       "        \"legendgroup\": \"y1\",\n",
       "        \"z\": [\n",
       "            0.1814595660749507\n",
       "        ],\n",
       "        \"marker\": {\n",
       "            \"symbol\": \"circle\",\n",
       "            \"color\": \"rgba(138, 138, 138, 1.000)\",\n",
       "            \"line\": {\n",
       "                \"color\": \"rgba(0, 0, 0, 1.000)\",\n",
       "                \"width\": 0\n",
       "            },\n",
       "            \"size\": 5.0\n",
       "        },\n",
       "        \"zmax\": 0.398422090729783,\n",
       "        \"y\": [\n",
       "            5.6259074\n",
       "        ],\n",
       "        \"type\": \"scatter3d\",\n",
       "        \"scene\": \"scene\"\n",
       "    },\n",
       "    {\n",
       "        \"xaxis\": \"x\",\n",
       "        \"colorbar\": {\n",
       "            \"title\": \"\"\n",
       "        },\n",
       "        \"yaxis\": \"y\",\n",
       "        \"zaxis\": \"z\",\n",
       "        \"x\": [\n",
       "            -1.9416994\n",
       "        ],\n",
       "        \"showlegend\": false,\n",
       "        \"mode\": \"markers\",\n",
       "        \"name\": \"y1\",\n",
       "        \"zmin\": 0.0019723865877712033,\n",
       "        \"legendgroup\": \"y1\",\n",
       "        \"z\": [\n",
       "            0.007889546351084813\n",
       "        ],\n",
       "        \"marker\": {\n",
       "            \"symbol\": \"circle\",\n",
       "            \"color\": \"rgba(239, 239, 239, 1.000)\",\n",
       "            \"line\": {\n",
       "                \"color\": \"rgba(0, 0, 0, 1.000)\",\n",
       "                \"width\": 0\n",
       "            },\n",
       "            \"size\": 5.0\n",
       "        },\n",
       "        \"zmax\": 0.398422090729783,\n",
       "        \"y\": [\n",
       "            6.0487847\n",
       "        ],\n",
       "        \"type\": \"scatter3d\",\n",
       "        \"scene\": \"scene\"\n",
       "    },\n",
       "    {\n",
       "        \"xaxis\": \"x\",\n",
       "        \"colorbar\": {\n",
       "            \"title\": \"\"\n",
       "        },\n",
       "        \"yaxis\": \"y\",\n",
       "        \"zaxis\": \"z\",\n",
       "        \"x\": [\n",
       "            -2.4972928\n",
       "        ],\n",
       "        \"showlegend\": false,\n",
       "        \"mode\": \"markers\",\n",
       "        \"name\": \"y1\",\n",
       "        \"zmin\": 0.0019723865877712033,\n",
       "        \"legendgroup\": \"y1\",\n",
       "        \"z\": [\n",
       "            0.005917159763313609\n",
       "        ],\n",
       "        \"marker\": {\n",
       "            \"symbol\": \"circle\",\n",
       "            \"color\": \"rgba(240, 240, 240, 1.000)\",\n",
       "            \"line\": {\n",
       "                \"color\": \"rgba(0, 0, 0, 1.000)\",\n",
       "                \"width\": 0\n",
       "            },\n",
       "            \"size\": 5.0\n",
       "        },\n",
       "        \"zmax\": 0.398422090729783,\n",
       "        \"y\": [\n",
       "            7.491962\n",
       "        ],\n",
       "        \"type\": \"scatter3d\",\n",
       "        \"scene\": \"scene\"\n",
       "    },\n",
       "    {\n",
       "        \"xaxis\": \"x\",\n",
       "        \"colorbar\": {\n",
       "            \"title\": \"\"\n",
       "        },\n",
       "        \"yaxis\": \"y\",\n",
       "        \"zaxis\": \"z\",\n",
       "        \"x\": [\n",
       "            -6.995915\n",
       "        ],\n",
       "        \"showlegend\": false,\n",
       "        \"mode\": \"markers\",\n",
       "        \"name\": \"y1\",\n",
       "        \"zmin\": 0.0019723865877712033,\n",
       "        \"legendgroup\": \"y1\",\n",
       "        \"z\": [\n",
       "            0.005917159763313609\n",
       "        ],\n",
       "        \"marker\": {\n",
       "            \"symbol\": \"circle\",\n",
       "            \"color\": \"rgba(240, 240, 240, 1.000)\",\n",
       "            \"line\": {\n",
       "                \"color\": \"rgba(0, 0, 0, 1.000)\",\n",
       "                \"width\": 0\n",
       "            },\n",
       "            \"size\": 5.0\n",
       "        },\n",
       "        \"zmax\": 0.398422090729783,\n",
       "        \"y\": [\n",
       "            -3.4359667\n",
       "        ],\n",
       "        \"type\": \"scatter3d\",\n",
       "        \"scene\": \"scene\"\n",
       "    },\n",
       "    {\n",
       "        \"xaxis\": \"x\",\n",
       "        \"colorbar\": {\n",
       "            \"title\": \"\"\n",
       "        },\n",
       "        \"yaxis\": \"y\",\n",
       "        \"zaxis\": \"z\",\n",
       "        \"x\": [\n",
       "            -6.506847\n",
       "        ],\n",
       "        \"showlegend\": false,\n",
       "        \"mode\": \"markers\",\n",
       "        \"name\": \"y1\",\n",
       "        \"zmin\": 0.0019723865877712033,\n",
       "        \"legendgroup\": \"y1\",\n",
       "        \"z\": [\n",
       "            0.005917159763313609\n",
       "        ],\n",
       "        \"marker\": {\n",
       "            \"symbol\": \"circle\",\n",
       "            \"color\": \"rgba(240, 240, 240, 1.000)\",\n",
       "            \"line\": {\n",
       "                \"color\": \"rgba(0, 0, 0, 1.000)\",\n",
       "                \"width\": 0\n",
       "            },\n",
       "            \"size\": 5.0\n",
       "        },\n",
       "        \"zmax\": 0.398422090729783,\n",
       "        \"y\": [\n",
       "            5.7132754\n",
       "        ],\n",
       "        \"type\": \"scatter3d\",\n",
       "        \"scene\": \"scene\"\n",
       "    },\n",
       "    {\n",
       "        \"xaxis\": \"x\",\n",
       "        \"colorbar\": {\n",
       "            \"title\": \"\"\n",
       "        },\n",
       "        \"yaxis\": \"y\",\n",
       "        \"zaxis\": \"z\",\n",
       "        \"x\": [\n",
       "            -1.7377863\n",
       "        ],\n",
       "        \"showlegend\": false,\n",
       "        \"mode\": \"markers\",\n",
       "        \"name\": \"y1\",\n",
       "        \"zmin\": 0.0019723865877712033,\n",
       "        \"legendgroup\": \"y1\",\n",
       "        \"z\": [\n",
       "            0.0019723865877712033\n",
       "        ],\n",
       "        \"marker\": {\n",
       "            \"symbol\": \"circle\",\n",
       "            \"color\": \"rgba(242, 242, 242, 1.000)\",\n",
       "            \"line\": {\n",
       "                \"color\": \"rgba(0, 0, 0, 1.000)\",\n",
       "                \"width\": 0\n",
       "            },\n",
       "            \"size\": 5.0\n",
       "        },\n",
       "        \"zmax\": 0.398422090729783,\n",
       "        \"y\": [\n",
       "            -3.4376783\n",
       "        ],\n",
       "        \"type\": \"scatter3d\",\n",
       "        \"scene\": \"scene\"\n",
       "    },\n",
       "    {\n",
       "        \"xaxis\": \"x\",\n",
       "        \"colorbar\": {\n",
       "            \"title\": \"\"\n",
       "        },\n",
       "        \"yaxis\": \"y\",\n",
       "        \"zaxis\": \"z\",\n",
       "        \"x\": [\n",
       "            -8.41499\n",
       "        ],\n",
       "        \"showlegend\": false,\n",
       "        \"mode\": \"markers\",\n",
       "        \"name\": \"y1\",\n",
       "        \"zmin\": 0.0019723865877712033,\n",
       "        \"legendgroup\": \"y1\",\n",
       "        \"z\": [\n",
       "            0.0019723865877712033\n",
       "        ],\n",
       "        \"marker\": {\n",
       "            \"symbol\": \"circle\",\n",
       "            \"color\": \"rgba(242, 242, 242, 1.000)\",\n",
       "            \"line\": {\n",
       "                \"color\": \"rgba(0, 0, 0, 1.000)\",\n",
       "                \"width\": 0\n",
       "            },\n",
       "            \"size\": 5.0\n",
       "        },\n",
       "        \"zmax\": 0.398422090729783,\n",
       "        \"y\": [\n",
       "            -3.85644\n",
       "        ],\n",
       "        \"type\": \"scatter3d\",\n",
       "        \"scene\": \"scene\"\n",
       "    },\n",
       "    {\n",
       "        \"xaxis\": \"x\",\n",
       "        \"colorbar\": {\n",
       "            \"title\": \"\"\n",
       "        },\n",
       "        \"yaxis\": \"y\",\n",
       "        \"zaxis\": \"z\",\n",
       "        \"x\": [\n",
       "            -3.6207879\n",
       "        ],\n",
       "        \"showlegend\": false,\n",
       "        \"mode\": \"markers\",\n",
       "        \"name\": \"y1\",\n",
       "        \"zmin\": 0.0019723865877712033,\n",
       "        \"legendgroup\": \"y1\",\n",
       "        \"z\": [\n",
       "            0.0019723865877712033\n",
       "        ],\n",
       "        \"marker\": {\n",
       "            \"symbol\": \"circle\",\n",
       "            \"color\": \"rgba(242, 242, 242, 1.000)\",\n",
       "            \"line\": {\n",
       "                \"color\": \"rgba(0, 0, 0, 1.000)\",\n",
       "                \"width\": 0\n",
       "            },\n",
       "            \"size\": 5.0\n",
       "        },\n",
       "        \"zmax\": 0.398422090729783,\n",
       "        \"y\": [\n",
       "            -0.8424102\n",
       "        ],\n",
       "        \"type\": \"scatter3d\",\n",
       "        \"scene\": \"scene\"\n",
       "    },\n",
       "    {\n",
       "        \"xaxis\": \"x\",\n",
       "        \"colorbar\": {\n",
       "            \"title\": \"\"\n",
       "        },\n",
       "        \"yaxis\": \"y\",\n",
       "        \"zaxis\": \"z\",\n",
       "        \"x\": [\n",
       "            3.7488408\n",
       "        ],\n",
       "        \"showlegend\": false,\n",
       "        \"mode\": \"markers\",\n",
       "        \"name\": \"y1\",\n",
       "        \"zmin\": 0.0019723865877712033,\n",
       "        \"legendgroup\": \"y1\",\n",
       "        \"z\": [\n",
       "            0.0019723865877712033\n",
       "        ],\n",
       "        \"marker\": {\n",
       "            \"symbol\": \"circle\",\n",
       "            \"color\": \"rgba(242, 242, 242, 1.000)\",\n",
       "            \"line\": {\n",
       "                \"color\": \"rgba(0, 0, 0, 1.000)\",\n",
       "                \"width\": 0\n",
       "            },\n",
       "            \"size\": 5.0\n",
       "        },\n",
       "        \"zmax\": 0.398422090729783,\n",
       "        \"y\": [\n",
       "            -2.1662424\n",
       "        ],\n",
       "        \"type\": \"scatter3d\",\n",
       "        \"scene\": \"scene\"\n",
       "    },\n",
       "    {\n",
       "        \"xaxis\": \"x\",\n",
       "        \"colorbar\": {\n",
       "            \"title\": \"\"\n",
       "        },\n",
       "        \"yaxis\": \"y\",\n",
       "        \"zaxis\": \"z\",\n",
       "        \"x\": [\n",
       "            8.134184\n",
       "        ],\n",
       "        \"showlegend\": false,\n",
       "        \"mode\": \"markers\",\n",
       "        \"name\": \"y1\",\n",
       "        \"zmin\": 0.0019723865877712033,\n",
       "        \"legendgroup\": \"y1\",\n",
       "        \"z\": [\n",
       "            0.0019723865877712033\n",
       "        ],\n",
       "        \"marker\": {\n",
       "            \"symbol\": \"circle\",\n",
       "            \"color\": \"rgba(242, 242, 242, 1.000)\",\n",
       "            \"line\": {\n",
       "                \"color\": \"rgba(0, 0, 0, 1.000)\",\n",
       "                \"width\": 0\n",
       "            },\n",
       "            \"size\": 5.0\n",
       "        },\n",
       "        \"zmax\": 0.398422090729783,\n",
       "        \"y\": [\n",
       "            -1.0907334\n",
       "        ],\n",
       "        \"type\": \"scatter3d\",\n",
       "        \"scene\": \"scene\"\n",
       "    },\n",
       "    {\n",
       "        \"xaxis\": \"x\",\n",
       "        \"colorbar\": {\n",
       "            \"title\": \"\"\n",
       "        },\n",
       "        \"yaxis\": \"y\",\n",
       "        \"zaxis\": \"z\",\n",
       "        \"x\": [\n",
       "            10.456216\n",
       "        ],\n",
       "        \"showlegend\": false,\n",
       "        \"mode\": \"markers\",\n",
       "        \"name\": \"y1\",\n",
       "        \"zmin\": 0.0019723865877712033,\n",
       "        \"legendgroup\": \"y1\",\n",
       "        \"z\": [\n",
       "            0.0019723865877712033\n",
       "        ],\n",
       "        \"marker\": {\n",
       "            \"symbol\": \"circle\",\n",
       "            \"color\": \"rgba(242, 242, 242, 1.000)\",\n",
       "            \"line\": {\n",
       "                \"color\": \"rgba(0, 0, 0, 1.000)\",\n",
       "                \"width\": 0\n",
       "            },\n",
       "            \"size\": 5.0\n",
       "        },\n",
       "        \"zmax\": 0.398422090729783,\n",
       "        \"y\": [\n",
       "            -2.9930956\n",
       "        ],\n",
       "        \"type\": \"scatter3d\",\n",
       "        \"scene\": \"scene\"\n",
       "    },\n",
       "    {\n",
       "        \"xaxis\": \"x\",\n",
       "        \"colorbar\": {\n",
       "            \"title\": \"\"\n",
       "        },\n",
       "        \"yaxis\": \"y\",\n",
       "        \"zaxis\": \"z\",\n",
       "        \"x\": [\n",
       "            4.6477523\n",
       "        ],\n",
       "        \"showlegend\": false,\n",
       "        \"mode\": \"markers\",\n",
       "        \"name\": \"y1\",\n",
       "        \"zmin\": 0.0019723865877712033,\n",
       "        \"z\": [\n",
       "            0.009861932938856016\n",
       "        ],\n",
       "        \"marker\": {\n",
       "            \"color\": [\n",
       "                0.5\n",
       "            ],\n",
       "            \"cmin\": 0.0019723865877712033,\n",
       "            \"opacity\": 1.0e-10,\n",
       "            \"size\": 1.0e-10,\n",
       "            \"colorscale\": [\n",
       "                [\n",
       "                    0.0,\n",
       "                    \"rgba(242, 242, 242, 1.000)\"\n",
       "                ],\n",
       "                [\n",
       "                    1.0,\n",
       "                    \"rgba(13, 13, 13, 1.000)\"\n",
       "                ]\n",
       "            ],\n",
       "            \"cmax\": 0.398422090729783,\n",
       "            \"showscale\": true\n",
       "        },\n",
       "        \"zmax\": 0.398422090729783,\n",
       "        \"y\": [\n",
       "            0.7327694\n",
       "        ],\n",
       "        \"type\": \"scatter3d\",\n",
       "        \"scene\": \"scene\",\n",
       "        \"hoverinfo\": \"none\"\n",
       "    },\n",
       "    {\n",
       "        \"xaxis\": \"x\",\n",
       "        \"colorbar\": {\n",
       "            \"title\": \"\"\n",
       "        },\n",
       "        \"yaxis\": \"y\",\n",
       "        \"zaxis\": \"z\",\n",
       "        \"x\": [\n",
       "            4.6477523\n",
       "        ],\n",
       "        \"showlegend\": true,\n",
       "        \"mode\": \"markers\",\n",
       "        \"name\": \"y2\",\n",
       "        \"zmin\": 0.0019723865877712033,\n",
       "        \"legendgroup\": \"y2\",\n",
       "        \"z\": [\n",
       "            0.009861932938856016\n",
       "        ],\n",
       "        \"marker\": {\n",
       "            \"symbol\": \"diamond\",\n",
       "            \"color\": \"rgba(76, 204, 76, 0.800)\",\n",
       "            \"line\": {\n",
       "                \"color\": \"rgba(0, 0, 0, 0.800)\",\n",
       "                \"width\": 1\n",
       "            },\n",
       "            \"size\": 6\n",
       "        },\n",
       "        \"zmax\": 0.398422090729783,\n",
       "        \"y\": [\n",
       "            0.7327694\n",
       "        ],\n",
       "        \"type\": \"scatter3d\",\n",
       "        \"scene\": \"scene\"\n",
       "    },\n",
       "    {\n",
       "        \"xaxis\": \"x\",\n",
       "        \"colorbar\": {\n",
       "            \"title\": \"\"\n",
       "        },\n",
       "        \"yaxis\": \"y\",\n",
       "        \"zaxis\": \"z\",\n",
       "        \"x\": [\n",
       "            10.456216\n",
       "        ],\n",
       "        \"showlegend\": true,\n",
       "        \"mode\": \"markers\",\n",
       "        \"name\": \"y3\",\n",
       "        \"zmin\": 0.0019723865877712033,\n",
       "        \"legendgroup\": \"y3\",\n",
       "        \"z\": [\n",
       "            0.0019723865877712033\n",
       "        ],\n",
       "        \"marker\": {\n",
       "            \"symbol\": \"diamond\",\n",
       "            \"color\": \"rgba(255, 76, 76, 0.800)\",\n",
       "            \"line\": {\n",
       "                \"color\": \"rgba(0, 0, 0, 0.800)\",\n",
       "                \"width\": 1\n",
       "            },\n",
       "            \"size\": 6\n",
       "        },\n",
       "        \"zmax\": 0.398422090729783,\n",
       "        \"y\": [\n",
       "            -2.9930956\n",
       "        ],\n",
       "        \"type\": \"scatter3d\",\n",
       "        \"scene\": \"scene\"\n",
       "    }\n",
       "]\n",
       ", {\n",
       "    \"showlegend\": false,\n",
       "    \"paper_bgcolor\": \"rgba(255, 255, 255, 1.000)\",\n",
       "    \"annotations\": [],\n",
       "    \"height\": 400,\n",
       "    \"margin\": {\n",
       "        \"l\": 0,\n",
       "        \"b\": 20,\n",
       "        \"r\": 0,\n",
       "        \"t\": 20\n",
       "    },\n",
       "    \"plot_bgcolor\": \"rgba(255, 255, 255, 1.000)\",\n",
       "    \"scene\": {\n",
       "        \"camera\": {\n",
       "            \"eye\": {\n",
       "                \"y\": -1.9499999999999997,\n",
       "                \"z\": 1.3,\n",
       "                \"x\": 1.12583302491977\n",
       "            }\n",
       "        },\n",
       "        \"xaxis\": {\n",
       "            \"tickangle\": 0,\n",
       "            \"showline\": true,\n",
       "            \"gridcolor\": \"rgba(0, 0, 0, 0.100)\",\n",
       "            \"showticklabels\": true,\n",
       "            \"gridwidth\": 0.5,\n",
       "            \"titlefont\": {\n",
       "                \"color\": \"rgba(0, 0, 0, 1.000)\",\n",
       "                \"family\": \"sans-serif\",\n",
       "                \"size\": 15\n",
       "            },\n",
       "            \"visible\": true,\n",
       "            \"ticks\": \"inside\",\n",
       "            \"range\": [\n",
       "                -8.499140329360962,\n",
       "                10.560778017044067\n",
       "            ],\n",
       "            \"tickmode\": \"array\",\n",
       "            \"tickvals\": [\n",
       "                -5.0,\n",
       "                0.0,\n",
       "                5.0,\n",
       "                10.0\n",
       "            ],\n",
       "            \"tickcolor\": \"rgb(0, 0, 0)\",\n",
       "            \"ticktext\": [\n",
       "                \"-5\",\n",
       "                \"0\",\n",
       "                \"5\",\n",
       "                \"10\"\n",
       "            ],\n",
       "            \"linecolor\": \"rgba(0, 0, 0, 1.000)\",\n",
       "            \"showgrid\": true,\n",
       "            \"zeroline\": false,\n",
       "            \"type\": \"-\",\n",
       "            \"tickfont\": {\n",
       "                \"color\": \"rgba(0, 0, 0, 1.000)\",\n",
       "                \"family\": \"sans-serif\",\n",
       "                \"size\": 11\n",
       "            },\n",
       "            \"title\": \"X\",\n",
       "            \"zerolinecolor\": \"rgba(0, 0, 0, 1.000)\",\n",
       "            \"mirror\": false\n",
       "        },\n",
       "        \"domain\": {\n",
       "            \"y\": [\n",
       "                0.07581474190726165,\n",
       "                0.9901574803149606\n",
       "            ],\n",
       "            \"x\": [\n",
       "                0.061654272382618835,\n",
       "                0.9934383202099737\n",
       "            ]\n",
       "        },\n",
       "        \"yaxis\": {\n",
       "            \"tickangle\": 0,\n",
       "            \"showline\": true,\n",
       "            \"gridcolor\": \"rgba(0, 0, 0, 0.100)\",\n",
       "            \"showticklabels\": true,\n",
       "            \"gridwidth\": 0.5,\n",
       "            \"titlefont\": {\n",
       "                \"color\": \"rgba(0, 0, 0, 1.000)\",\n",
       "                \"family\": \"sans-serif\",\n",
       "                \"size\": 15\n",
       "            },\n",
       "            \"visible\": true,\n",
       "            \"ticks\": \"inside\",\n",
       "            \"range\": [\n",
       "                -5.441905536651611,\n",
       "                8.122834959030152\n",
       "            ],\n",
       "            \"tickmode\": \"array\",\n",
       "            \"tickvals\": [\n",
       "                -3.0,\n",
       "                0.0,\n",
       "                3.0,\n",
       "                6.0\n",
       "            ],\n",
       "            \"tickcolor\": \"rgb(0, 0, 0)\",\n",
       "            \"ticktext\": [\n",
       "                \"-3\",\n",
       "                \"0\",\n",
       "                \"3\",\n",
       "                \"6\"\n",
       "            ],\n",
       "            \"linecolor\": \"rgba(0, 0, 0, 1.000)\",\n",
       "            \"showgrid\": true,\n",
       "            \"zeroline\": false,\n",
       "            \"type\": \"-\",\n",
       "            \"tickfont\": {\n",
       "                \"color\": \"rgba(0, 0, 0, 1.000)\",\n",
       "                \"family\": \"sans-serif\",\n",
       "                \"size\": 11\n",
       "            },\n",
       "            \"title\": \"Y\",\n",
       "            \"zerolinecolor\": \"rgba(0, 0, 0, 1.000)\",\n",
       "            \"mirror\": false\n",
       "        },\n",
       "        \"zaxis\": {\n",
       "            \"tickangle\": 0,\n",
       "            \"showline\": true,\n",
       "            \"gridcolor\": \"rgba(0, 0, 0, 0.100)\",\n",
       "            \"showticklabels\": true,\n",
       "            \"gridwidth\": 0.5,\n",
       "            \"titlefont\": {\n",
       "                \"color\": \"rgba(0, 0, 0, 1.000)\",\n",
       "                \"family\": \"sans-serif\",\n",
       "                \"size\": 15\n",
       "            },\n",
       "            \"visible\": true,\n",
       "            \"ticks\": \"inside\",\n",
       "            \"range\": [\n",
       "                0.0019921104536489154,\n",
       "                0.40240631163708085\n",
       "            ],\n",
       "            \"tickmode\": \"array\",\n",
       "            \"tickvals\": [\n",
       "                0.1,\n",
       "                0.2,\n",
       "                0.30000000000000004,\n",
       "                0.4\n",
       "            ],\n",
       "            \"tickcolor\": \"rgb(0, 0, 0)\",\n",
       "            \"ticktext\": [\n",
       "                \"0.1\",\n",
       "                \"0.2\",\n",
       "                \"0.3\",\n",
       "                \"0.4\"\n",
       "            ],\n",
       "            \"linecolor\": \"rgba(0, 0, 0, 1.000)\",\n",
       "            \"showgrid\": true,\n",
       "            \"zeroline\": false,\n",
       "            \"type\": \"-\",\n",
       "            \"tickfont\": {\n",
       "                \"color\": \"rgba(0, 0, 0, 1.000)\",\n",
       "                \"family\": \"sans-serif\",\n",
       "                \"size\": 11\n",
       "            },\n",
       "            \"title\": \"Occupancy density\",\n",
       "            \"zerolinecolor\": \"rgba(0, 0, 0, 1.000)\",\n",
       "            \"mirror\": false\n",
       "        }\n",
       "    },\n",
       "    \"width\": 600\n",
       "}\n",
       ");\n",
       "\n",
       "    \n",
       "    </script>\n"
      ]
     },
     "metadata": {},
     "output_type": "display_data"
    }
   ],
   "source": [
    "# 3D\n",
    "plotlyjs()\n",
    "plot()\n",
    "\n",
    "scatter!(X,Y,occp,zcolor=occp,m=cgrad(:grays,rev=true),markerstrokewidth=0,markersize=2.5,legend=false)\n",
    "\n",
    "plot!([X[1]],[Y[1]],[occp[1]], seriestype = :scatter, markersize=3,\n",
    "        color=color=palette(:lighttest)[4],markershape=:diamond,opacity=0.8) # Green for Si\n",
    "plot!([X[end]],[Y[end]],[occp[end]], seriestype = :scatter, markersize=3,\n",
    "        color=color=palette(:lighttest)[7],markershape=:diamond,opacity=0.8) # Red for Sf\n",
    "\n",
    "xlims!(minimum(X)*1.01,maximum(X)*1.01) \n",
    "ylims!(minimum(Y)*1.01,maximum(Y)*1.01)\n",
    "zlims!(minimum(occp)*1.01,maximum(occp)*1.01)\n",
    "\n",
    "plot!(xlabel=\"X\", ylabel=\"Y\", zlabel = \"Occupancy density\")\n",
    "\n"
   ]
  },
  {
   "cell_type": "markdown",
   "metadata": {},
   "source": [
    "#### Plot PCA with 3 components X,Y,Z-axes, and occupancy density as color "
   ]
  },
  {
   "cell_type": "code",
   "execution_count": 16,
   "metadata": {},
   "outputs": [
    {
     "data": {
      "application/vnd.plotly.v1+json": {
       "data": [
        {
         "colorbar": {
          "title": ""
         },
         "legendgroup": "y1",
         "marker": {
          "color": "rgba(238, 238, 238, 1.000)",
          "line": {
           "color": "rgba(0, 0, 0, 1.000)",
           "width": 0
          },
          "size": 5,
          "symbol": "circle"
         },
         "mode": "markers",
         "name": "y1",
         "scene": "scene",
         "showlegend": true,
         "type": "scatter3d",
         "x": [
          4.6477523
         ],
         "xaxis": "x",
         "y": [
          0.7327694
         ],
         "yaxis": "y",
         "z": [
          -0.36782113
         ],
         "zaxis": "z",
         "zmax": 0.398422090729783,
         "zmin": 0.0019723865877712033
        },
        {
         "colorbar": {
          "title": ""
         },
         "legendgroup": "y1",
         "marker": {
          "color": "rgba(241, 241, 241, 1.000)",
          "line": {
           "color": "rgba(0, 0, 0, 1.000)",
           "width": 0
          },
          "size": 5,
          "symbol": "circle"
         },
         "mode": "markers",
         "name": "y1",
         "scene": "scene",
         "showlegend": false,
         "type": "scatter3d",
         "x": [
          -2.654956
         ],
         "xaxis": "x",
         "y": [
          -4.1240873
         ],
         "yaxis": "y",
         "z": [
          2.9934683
         ],
         "zaxis": "z",
         "zmax": 0.398422090729783,
         "zmin": 0.0019723865877712033
        },
        {
         "colorbar": {
          "title": ""
         },
         "legendgroup": "y1",
         "marker": {
          "color": "rgba(242, 242, 242, 1.000)",
          "line": {
           "color": "rgba(0, 0, 0, 1.000)",
           "width": 0
          },
          "size": 5,
          "symbol": "circle"
         },
         "mode": "markers",
         "name": "y1",
         "scene": "scene",
         "showlegend": false,
         "type": "scatter3d",
         "x": [
          -2.6563451
         ],
         "xaxis": "x",
         "y": [
          1.2832105
         ],
         "yaxis": "y",
         "z": [
          3.296371
         ],
         "zaxis": "z",
         "zmax": 0.398422090729783,
         "zmin": 0.0019723865877712033
        },
        {
         "colorbar": {
          "title": ""
         },
         "legendgroup": "y1",
         "marker": {
          "color": "rgba(242, 242, 242, 1.000)",
          "line": {
           "color": "rgba(0, 0, 0, 1.000)",
           "width": 0
          },
          "size": 5,
          "symbol": "circle"
         },
         "mode": "markers",
         "name": "y1",
         "scene": "scene",
         "showlegend": false,
         "type": "scatter3d",
         "x": [
          -3.7430313
         ],
         "xaxis": "x",
         "y": [
          3.155671
         ],
         "yaxis": "y",
         "z": [
          -2.0184505
         ],
         "zaxis": "z",
         "zmax": 0.398422090729783,
         "zmin": 0.0019723865877712033
        },
        {
         "colorbar": {
          "title": ""
         },
         "legendgroup": "y1",
         "marker": {
          "color": "rgba(238, 238, 238, 1.000)",
          "line": {
           "color": "rgba(0, 0, 0, 1.000)",
           "width": 0
          },
          "size": 5,
          "symbol": "circle"
         },
         "mode": "markers",
         "name": "y1",
         "scene": "scene",
         "showlegend": false,
         "type": "scatter3d",
         "x": [
          -0.84640163
         ],
         "xaxis": "x",
         "y": [
          -0.5130267
         ],
         "yaxis": "y",
         "z": [
          -3.8671963
         ],
         "zaxis": "z",
         "zmax": 0.398422090729783,
         "zmin": 0.0019723865877712033
        },
        {
         "colorbar": {
          "title": ""
         },
         "legendgroup": "y1",
         "marker": {
          "color": "rgba(234, 234, 234, 1.000)",
          "line": {
           "color": "rgba(0, 0, 0, 1.000)",
           "width": 0
          },
          "size": 5,
          "symbol": "circle"
         },
         "mode": "markers",
         "name": "y1",
         "scene": "scene",
         "showlegend": false,
         "type": "scatter3d",
         "x": [
          0.043282423
         ],
         "xaxis": "x",
         "y": [
          0.20759551
         ],
         "yaxis": "y",
         "z": [
          -2.4238262
         ],
         "zaxis": "z",
         "zmax": 0.398422090729783,
         "zmin": 0.0019723865877712033
        },
        {
         "colorbar": {
          "title": ""
         },
         "legendgroup": "y1",
         "marker": {
          "color": "rgba(84, 84, 84, 1.000)",
          "line": {
           "color": "rgba(0, 0, 0, 1.000)",
           "width": 0
          },
          "size": 5,
          "symbol": "circle"
         },
         "mode": "markers",
         "name": "y1",
         "scene": "scene",
         "showlegend": false,
         "type": "scatter3d",
         "x": [
          7.1832905
         ],
         "xaxis": "x",
         "y": [
          -5.3880253
         ],
         "yaxis": "y",
         "z": [
          1.8478727
         ],
         "zaxis": "z",
         "zmax": 0.398422090729783,
         "zmin": 0.0019723865877712033
        },
        {
         "colorbar": {
          "title": ""
         },
         "legendgroup": "y1",
         "marker": {
          "color": "rgba(210, 210, 210, 1.000)",
          "line": {
           "color": "rgba(0, 0, 0, 1.000)",
           "width": 0
          },
          "size": 5,
          "symbol": "circle"
         },
         "mode": "markers",
         "name": "y1",
         "scene": "scene",
         "showlegend": false,
         "type": "scatter3d",
         "x": [
          2.6338522
         ],
         "xaxis": "x",
         "y": [
          -5.2244754
         ],
         "yaxis": "y",
         "z": [
          7.4180756
         ],
         "zaxis": "z",
         "zmax": 0.398422090729783,
         "zmin": 0.0019723865877712033
        },
        {
         "colorbar": {
          "title": ""
         },
         "legendgroup": "y1",
         "marker": {
          "color": "rgba(240, 240, 240, 1.000)",
          "line": {
           "color": "rgba(0, 0, 0, 1.000)",
           "width": 0
          },
          "size": 5,
          "symbol": "circle"
         },
         "mode": "markers",
         "name": "y1",
         "scene": "scene",
         "showlegend": false,
         "type": "scatter3d",
         "x": [
          -5.8187604
         ],
         "xaxis": "x",
         "y": [
          -5.229411
         ],
         "yaxis": "y",
         "z": [
          2.2593338
         ],
         "zaxis": "z",
         "zmax": 0.398422090729783,
         "zmin": 0.0019723865877712033
        },
        {
         "colorbar": {
          "title": ""
         },
         "legendgroup": "y1",
         "marker": {
          "color": "rgba(13, 13, 13, 1.000)",
          "line": {
           "color": "rgba(0, 0, 0, 1.000)",
           "width": 0
          },
          "size": 5,
          "symbol": "circle"
         },
         "mode": "markers",
         "name": "y1",
         "scene": "scene",
         "showlegend": false,
         "type": "scatter3d",
         "x": [
          5.503725
         ],
         "xaxis": "x",
         "y": [
          8.042411
         ],
         "yaxis": "y",
         "z": [
          4.0293527
         ],
         "zaxis": "z",
         "zmax": 0.398422090729783,
         "zmin": 0.0019723865877712033
        },
        {
         "colorbar": {
          "title": ""
         },
         "legendgroup": "y1",
         "marker": {
          "color": "rgba(138, 138, 138, 1.000)",
          "line": {
           "color": "rgba(0, 0, 0, 1.000)",
           "width": 0
          },
          "size": 5,
          "symbol": "circle"
         },
         "mode": "markers",
         "name": "y1",
         "scene": "scene",
         "showlegend": false,
         "type": "scatter3d",
         "x": [
          5.083676
         ],
         "xaxis": "x",
         "y": [
          5.6259074
         ],
         "yaxis": "y",
         "z": [
          6.016221
         ],
         "zaxis": "z",
         "zmax": 0.398422090729783,
         "zmin": 0.0019723865877712033
        },
        {
         "colorbar": {
          "title": ""
         },
         "legendgroup": "y1",
         "marker": {
          "color": "rgba(239, 239, 239, 1.000)",
          "line": {
           "color": "rgba(0, 0, 0, 1.000)",
           "width": 0
          },
          "size": 5,
          "symbol": "circle"
         },
         "mode": "markers",
         "name": "y1",
         "scene": "scene",
         "showlegend": false,
         "type": "scatter3d",
         "x": [
          -1.9416994
         ],
         "xaxis": "x",
         "y": [
          6.0487847
         ],
         "yaxis": "y",
         "z": [
          -0.510438
         ],
         "zaxis": "z",
         "zmax": 0.398422090729783,
         "zmin": 0.0019723865877712033
        },
        {
         "colorbar": {
          "title": ""
         },
         "legendgroup": "y1",
         "marker": {
          "color": "rgba(240, 240, 240, 1.000)",
          "line": {
           "color": "rgba(0, 0, 0, 1.000)",
           "width": 0
          },
          "size": 5,
          "symbol": "circle"
         },
         "mode": "markers",
         "name": "y1",
         "scene": "scene",
         "showlegend": false,
         "type": "scatter3d",
         "x": [
          -2.4972928
         ],
         "xaxis": "x",
         "y": [
          7.491962
         ],
         "yaxis": "y",
         "z": [
          0.9615725
         ],
         "zaxis": "z",
         "zmax": 0.398422090729783,
         "zmin": 0.0019723865877712033
        },
        {
         "colorbar": {
          "title": ""
         },
         "legendgroup": "y1",
         "marker": {
          "color": "rgba(240, 240, 240, 1.000)",
          "line": {
           "color": "rgba(0, 0, 0, 1.000)",
           "width": 0
          },
          "size": 5,
          "symbol": "circle"
         },
         "mode": "markers",
         "name": "y1",
         "scene": "scene",
         "showlegend": false,
         "type": "scatter3d",
         "x": [
          -6.995915
         ],
         "xaxis": "x",
         "y": [
          -3.4359667
         ],
         "yaxis": "y",
         "z": [
          0.35764804
         ],
         "zaxis": "z",
         "zmax": 0.398422090729783,
         "zmin": 0.0019723865877712033
        },
        {
         "colorbar": {
          "title": ""
         },
         "legendgroup": "y1",
         "marker": {
          "color": "rgba(240, 240, 240, 1.000)",
          "line": {
           "color": "rgba(0, 0, 0, 1.000)",
           "width": 0
          },
          "size": 5,
          "symbol": "circle"
         },
         "mode": "markers",
         "name": "y1",
         "scene": "scene",
         "showlegend": false,
         "type": "scatter3d",
         "x": [
          -6.506847
         ],
         "xaxis": "x",
         "y": [
          5.7132754
         ],
         "yaxis": "y",
         "z": [
          -3.7729304
         ],
         "zaxis": "z",
         "zmax": 0.398422090729783,
         "zmin": 0.0019723865877712033
        },
        {
         "colorbar": {
          "title": ""
         },
         "legendgroup": "y1",
         "marker": {
          "color": "rgba(242, 242, 242, 1.000)",
          "line": {
           "color": "rgba(0, 0, 0, 1.000)",
           "width": 0
          },
          "size": 5,
          "symbol": "circle"
         },
         "mode": "markers",
         "name": "y1",
         "scene": "scene",
         "showlegend": false,
         "type": "scatter3d",
         "x": [
          -1.7377863
         ],
         "xaxis": "x",
         "y": [
          -3.4376783
         ],
         "yaxis": "y",
         "z": [
          -0.18772978
         ],
         "zaxis": "z",
         "zmax": 0.398422090729783,
         "zmin": 0.0019723865877712033
        },
        {
         "colorbar": {
          "title": ""
         },
         "legendgroup": "y1",
         "marker": {
          "color": "rgba(242, 242, 242, 1.000)",
          "line": {
           "color": "rgba(0, 0, 0, 1.000)",
           "width": 0
          },
          "size": 5,
          "symbol": "circle"
         },
         "mode": "markers",
         "name": "y1",
         "scene": "scene",
         "showlegend": false,
         "type": "scatter3d",
         "x": [
          -8.41499
         ],
         "xaxis": "x",
         "y": [
          -3.85644
         ],
         "yaxis": "y",
         "z": [
          1.3045138
         ],
         "zaxis": "z",
         "zmax": 0.398422090729783,
         "zmin": 0.0019723865877712033
        },
        {
         "colorbar": {
          "title": ""
         },
         "legendgroup": "y1",
         "marker": {
          "color": "rgba(242, 242, 242, 1.000)",
          "line": {
           "color": "rgba(0, 0, 0, 1.000)",
           "width": 0
          },
          "size": 5,
          "symbol": "circle"
         },
         "mode": "markers",
         "name": "y1",
         "scene": "scene",
         "showlegend": false,
         "type": "scatter3d",
         "x": [
          -3.6207879
         ],
         "xaxis": "x",
         "y": [
          -0.8424102
         ],
         "yaxis": "y",
         "z": [
          -4.6966124
         ],
         "zaxis": "z",
         "zmax": 0.398422090729783,
         "zmin": 0.0019723865877712033
        },
        {
         "colorbar": {
          "title": ""
         },
         "legendgroup": "y1",
         "marker": {
          "color": "rgba(242, 242, 242, 1.000)",
          "line": {
           "color": "rgba(0, 0, 0, 1.000)",
           "width": 0
          },
          "size": 5,
          "symbol": "circle"
         },
         "mode": "markers",
         "name": "y1",
         "scene": "scene",
         "showlegend": false,
         "type": "scatter3d",
         "x": [
          3.7488408
         ],
         "xaxis": "x",
         "y": [
          -2.1662424
         ],
         "yaxis": "y",
         "z": [
          -4.699639
         ],
         "zaxis": "z",
         "zmax": 0.398422090729783,
         "zmin": 0.0019723865877712033
        },
        {
         "colorbar": {
          "title": ""
         },
         "legendgroup": "y1",
         "marker": {
          "color": "rgba(242, 242, 242, 1.000)",
          "line": {
           "color": "rgba(0, 0, 0, 1.000)",
           "width": 0
          },
          "size": 5,
          "symbol": "circle"
         },
         "mode": "markers",
         "name": "y1",
         "scene": "scene",
         "showlegend": false,
         "type": "scatter3d",
         "x": [
          8.134184
         ],
         "xaxis": "x",
         "y": [
          -1.0907334
         ],
         "yaxis": "y",
         "z": [
          -3.837222
         ],
         "zaxis": "z",
         "zmax": 0.398422090729783,
         "zmin": 0.0019723865877712033
        },
        {
         "colorbar": {
          "title": ""
         },
         "legendgroup": "y1",
         "marker": {
          "color": "rgba(242, 242, 242, 1.000)",
          "line": {
           "color": "rgba(0, 0, 0, 1.000)",
           "width": 0
          },
          "size": 5,
          "symbol": "circle"
         },
         "mode": "markers",
         "name": "y1",
         "scene": "scene",
         "showlegend": false,
         "type": "scatter3d",
         "x": [
          10.456216
         ],
         "xaxis": "x",
         "y": [
          -2.9930956
         ],
         "yaxis": "y",
         "z": [
          -4.102564
         ],
         "zaxis": "z",
         "zmax": 0.398422090729783,
         "zmin": 0.0019723865877712033
        },
        {
         "colorbar": {
          "title": ""
         },
         "hoverinfo": "none",
         "marker": {
          "cmax": 0.398422090729783,
          "cmin": 0.0019723865877712033,
          "color": [
           0.5
          ],
          "colorscale": [
           [
            0,
            "rgba(242, 242, 242, 1.000)"
           ],
           [
            1,
            "rgba(13, 13, 13, 1.000)"
           ]
          ],
          "opacity": 1e-10,
          "showscale": true,
          "size": 1e-10
         },
         "mode": "markers",
         "name": "y1",
         "scene": "scene",
         "showlegend": false,
         "type": "scatter3d",
         "x": [
          4.6477523
         ],
         "xaxis": "x",
         "y": [
          0.7327694
         ],
         "yaxis": "y",
         "z": [
          -0.36782113
         ],
         "zaxis": "z",
         "zmax": 0.398422090729783,
         "zmin": 0.0019723865877712033
        },
        {
         "colorbar": {
          "title": ""
         },
         "legendgroup": "y2",
         "marker": {
          "color": "rgba(76, 204, 76, 0.800)",
          "line": {
           "color": "rgba(0, 0, 0, 0.800)",
           "width": 1
          },
          "size": 6,
          "symbol": "diamond"
         },
         "mode": "markers",
         "name": "y2",
         "scene": "scene",
         "showlegend": true,
         "type": "scatter3d",
         "x": [
          4.6477523
         ],
         "xaxis": "x",
         "y": [
          0.7327694
         ],
         "yaxis": "y",
         "z": [
          -0.36782113
         ],
         "zaxis": "z",
         "zmax": 0.398422090729783,
         "zmin": 0.0019723865877712033
        },
        {
         "colorbar": {
          "title": ""
         },
         "legendgroup": "y3",
         "marker": {
          "color": "rgba(255, 76, 76, 0.800)",
          "line": {
           "color": "rgba(0, 0, 0, 0.800)",
           "width": 1
          },
          "size": 6,
          "symbol": "diamond"
         },
         "mode": "markers",
         "name": "y3",
         "scene": "scene",
         "showlegend": true,
         "type": "scatter3d",
         "x": [
          10.456216
         ],
         "xaxis": "x",
         "y": [
          -2.9930956
         ],
         "yaxis": "y",
         "z": [
          -4.102564
         ],
         "zaxis": "z",
         "zmax": 0.398422090729783,
         "zmin": 0.0019723865877712033
        }
       ],
       "layout": {
        "annotations": [],
        "height": 400,
        "margin": {
         "b": 20,
         "l": 0,
         "r": 0,
         "t": 20
        },
        "paper_bgcolor": "rgba(255, 255, 255, 1.000)",
        "plot_bgcolor": "rgba(255, 255, 255, 1.000)",
        "scene": {
         "camera": {
          "eye": {
           "x": 1.12583302491977,
           "y": -1.9499999999999997,
           "z": 1.3
          }
         },
         "domain": {
          "x": [
           0.061654272382618835,
           0.9934383202099737
          ],
          "y": [
           0.07581474190726165,
           0.9901574803149606
          ]
         },
         "xaxis": {
          "gridcolor": "rgba(0, 0, 0, 0.100)",
          "gridwidth": 0.5,
          "linecolor": "rgba(0, 0, 0, 1.000)",
          "mirror": false,
          "range": [
           -8.499140329360962,
           10.560778017044067
          ],
          "showgrid": true,
          "showline": true,
          "showticklabels": true,
          "tickangle": 0,
          "tickcolor": "rgb(0, 0, 0)",
          "tickfont": {
           "color": "rgba(0, 0, 0, 1.000)",
           "family": "sans-serif",
           "size": 11
          },
          "tickmode": "array",
          "ticks": "inside",
          "ticktext": [
           "-5",
           "0",
           "5",
           "10"
          ],
          "tickvals": [
           -5,
           0,
           5,
           10
          ],
          "title": "X",
          "titlefont": {
           "color": "rgba(0, 0, 0, 1.000)",
           "family": "sans-serif",
           "size": 15
          },
          "type": "-",
          "visible": true,
          "zeroline": false,
          "zerolinecolor": "rgba(0, 0, 0, 1.000)"
         },
         "yaxis": {
          "gridcolor": "rgba(0, 0, 0, 0.100)",
          "gridwidth": 0.5,
          "linecolor": "rgba(0, 0, 0, 1.000)",
          "mirror": false,
          "range": [
           -5.441905536651611,
           8.122834959030152
          ],
          "showgrid": true,
          "showline": true,
          "showticklabels": true,
          "tickangle": 0,
          "tickcolor": "rgb(0, 0, 0)",
          "tickfont": {
           "color": "rgba(0, 0, 0, 1.000)",
           "family": "sans-serif",
           "size": 11
          },
          "tickmode": "array",
          "ticks": "inside",
          "ticktext": [
           "-3",
           "0",
           "3",
           "6"
          ],
          "tickvals": [
           -3,
           0,
           3,
           6
          ],
          "title": "Y",
          "titlefont": {
           "color": "rgba(0, 0, 0, 1.000)",
           "family": "sans-serif",
           "size": 15
          },
          "type": "-",
          "visible": true,
          "zeroline": false,
          "zerolinecolor": "rgba(0, 0, 0, 1.000)"
         },
         "zaxis": {
          "gridcolor": "rgba(0, 0, 0, 0.100)",
          "gridwidth": 0.5,
          "linecolor": "rgba(0, 0, 0, 1.000)",
          "mirror": false,
          "range": [
           -4.746635231971741,
           7.492256317138672
          ],
          "showgrid": true,
          "showline": true,
          "showticklabels": true,
          "tickangle": 0,
          "tickcolor": "rgb(0, 0, 0)",
          "tickfont": {
           "color": "rgba(0, 0, 0, 1.000)",
           "family": "sans-serif",
           "size": 11
          },
          "tickmode": "array",
          "ticks": "inside",
          "ticktext": [
           "-2.5",
           "0.0",
           "2.5",
           "5.0"
          ],
          "tickvals": [
           -2.5,
           0,
           2.5,
           5
          ],
          "title": "Z",
          "titlefont": {
           "color": "rgba(0, 0, 0, 1.000)",
           "family": "sans-serif",
           "size": 15
          },
          "type": "-",
          "visible": true,
          "zeroline": false,
          "zerolinecolor": "rgba(0, 0, 0, 1.000)"
         }
        },
        "showlegend": false,
        "width": 600
       }
      },
      "image/png": "[encoded data removed]",
      "image/svg+xml": "<svg class=\"main-svg\" xmlns=\"http://www.w3.org/2000/svg\" xmlns:xlink=\"http://www.w3.org/1999/xlink\" width=\"700\" height=\"500\" style=\"\" viewBox=\"0 0 700 500\"><rect x=\"0\" y=\"0\" width=\"700\" height=\"500\" style=\"fill: rgb(255, 255, 255); fill-opacity: 1;\"/><defs id=\"defs-ca56b3\"><g class=\"clips\"/><g class=\"gradients\"><linearGradient x1=\"0\" x2=\"0\" y1=\"1\" y2=\"0\" id=\"gca56b3-cbed8dc2-marker\"><stop offset=\"0%\" stop-color=\"rgb(242, 242, 242)\" stop-opacity=\"1\"/><stop offset=\"100%\" stop-color=\"rgb(13, 13, 13)\" stop-opacity=\"1\"/></linearGradient></g></defs><g class=\"bglayer\"/><g class=\"layer-below\"><g class=\"imagelayer\"/><g class=\"shapelayer\"/></g><g class=\"cartesianlayer\"/><g class=\"polarlayer\"/><g class=\"ternarylayer\"/><g class=\"geolayer\"/><g class=\"funnelarealayer\"/><g class=\"pielayer\"/><g class=\"treemaplayer\"/><g class=\"sunburstlayer\"/><g class=\"glimages\"><image xmlns=\"http://www.w3.org/2000/svg\" xlink:href=\"data:image/png;base64,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\" x=\"83.90984981044036\" y=\"63.83858267716535\" width=\"512.4812263050452\" height=\"356.5936679790026\" preserveAspectRatio=\"none\"/></g><defs id=\"topdefs-ca56b3\"><g class=\"clips\"/></defs><g class=\"layer-above\"><g class=\"imagelayer\"/><g class=\"shapelayer\"/></g><g class=\"infolayer\"><g class=\"cbed8dc2-marker colorbar\" transform=\"translate(50,60)\"><rect class=\"cbbg\" x=\"561\" y=\"0\" width=\"77.265625\" height=\"390\" style=\"fill: rgb(0, 0, 0); fill-opacity: 0; stroke: rgb(68, 68, 68); stroke-opacity: 1; stroke-width: 0;\"/><g class=\"cbfills\" transform=\"translate(0,10)\"><rect class=\"cbfill\" x=\"571\" width=\"30\" y=\"0\" height=\"370\" style=\"fill: url('#gca56b3-cbed8dc2-marker');\"/></g><g class=\"cblines\" transform=\"translate(0,10)\"/><g class=\"cbaxis crisp\" transform=\"translate(0,-60)\"><g class=\"ycbed8dc2-markertick\"><text text-anchor=\"start\" x=\"603.9\" y=\"4.199999999999999\" transform=\"translate(0,395.18)\" style=\"font-family: 'Open Sans', verdana, arial, sans-serif; font-size: 12px; fill: rgb(42, 63, 95); fill-opacity: 1; white-space: pre;\">0.05</text></g><g class=\"ycbed8dc2-markertick\"><text text-anchor=\"start\" x=\"603.9\" y=\"4.199999999999999\" transform=\"translate(0,348.51)\" style=\"font-family: 'Open Sans', verdana, arial, sans-serif; font-size: 12px; fill: rgb(42, 63, 95); fill-opacity: 1; white-space: pre;\">0.1</text></g><g class=\"ycbed8dc2-markertick\"><text text-anchor=\"start\" x=\"603.9\" y=\"4.199999999999999\" transform=\"translate(0,301.85)\" style=\"font-family: 'Open Sans', verdana, arial, sans-serif; font-size: 12px; fill: rgb(42, 63, 95); fill-opacity: 1; white-space: pre;\">0.15</text></g><g class=\"ycbed8dc2-markertick\"><text text-anchor=\"start\" x=\"603.9\" y=\"4.199999999999999\" transform=\"translate(0,255.18)\" style=\"font-family: 'Open Sans', verdana, arial, sans-serif; font-size: 12px; fill: rgb(42, 63, 95); fill-opacity: 1; white-space: pre;\">0.2</text></g><g class=\"ycbed8dc2-markertick\"><text text-anchor=\"start\" x=\"603.9\" y=\"4.199999999999999\" transform=\"translate(0,208.52)\" style=\"font-family: 'Open Sans', verdana, arial, sans-serif; font-size: 12px; fill: rgb(42, 63, 95); fill-opacity: 1; white-space: pre;\">0.25</text></g><g class=\"ycbed8dc2-markertick\"><text text-anchor=\"start\" x=\"603.9\" y=\"4.199999999999999\" transform=\"translate(0,161.86)\" style=\"font-family: 'Open Sans', verdana, arial, sans-serif; font-size: 12px; fill: rgb(42, 63, 95); fill-opacity: 1; white-space: pre;\">0.3</text></g><g class=\"ycbed8dc2-markertick\"><text text-anchor=\"start\" x=\"603.9\" y=\"4.199999999999999\" transform=\"translate(0,115.19)\" style=\"font-family: 'Open Sans', verdana, arial, sans-serif; font-size: 12px; fill: rgb(42, 63, 95); fill-opacity: 1; white-space: pre;\">0.35</text></g></g><g class=\"cbtitleunshift\" transform=\"translate(-50,-60)\"><g class=\"cbtitle\"/></g><rect class=\"cboutline\" x=\"571\" y=\"10\" width=\"30\" height=\"370\" style=\"stroke: rgb(68, 68, 68); stroke-opacity: 1; fill: none; stroke-width: 0;\"/></g><g class=\"g-gtitle\"/></g></svg>",
      "text/html": [
       "<script src=\"https://cdn.plot.ly/plotly-2.6.3.min.js\"></script>    <div id=\"6b1964e6-33c9-4bce-8a5c-ab9731a483f6\" style=\"width:600px;height:400px;\"></div>\n",
       "    <script>\n",
       "    \n",
       "        Plotly.newPlot('6b1964e6-33c9-4bce-8a5c-ab9731a483f6', [\n",
       "    {\n",
       "        \"xaxis\": \"x\",\n",
       "        \"colorbar\": {\n",
       "            \"title\": \"\"\n",
       "        },\n",
       "        \"yaxis\": \"y\",\n",
       "        \"zaxis\": \"z\",\n",
       "        \"x\": [\n",
       "            4.6477523\n",
       "        ],\n",
       "        \"showlegend\": true,\n",
       "        \"mode\": \"markers\",\n",
       "        \"name\": \"y1\",\n",
       "        \"zmin\": 0.0019723865877712033,\n",
       "        \"legendgroup\": \"y1\",\n",
       "        \"z\": [\n",
       "            -0.36782113\n",
       "        ],\n",
       "        \"marker\": {\n",
       "            \"symbol\": \"circle\",\n",
       "            \"color\": \"rgba(238, 238, 238, 1.000)\",\n",
       "            \"line\": {\n",
       "                \"color\": \"rgba(0, 0, 0, 1.000)\",\n",
       "                \"width\": 0\n",
       "            },\n",
       "            \"size\": 5.0\n",
       "        },\n",
       "        \"zmax\": 0.398422090729783,\n",
       "        \"y\": [\n",
       "            0.7327694\n",
       "        ],\n",
       "        \"type\": \"scatter3d\",\n",
       "        \"scene\": \"scene\"\n",
       "    },\n",
       "    {\n",
       "        \"xaxis\": \"x\",\n",
       "        \"colorbar\": {\n",
       "            \"title\": \"\"\n",
       "        },\n",
       "        \"yaxis\": \"y\",\n",
       "        \"zaxis\": \"z\",\n",
       "        \"x\": [\n",
       "            -2.654956\n",
       "        ],\n",
       "        \"showlegend\": false,\n",
       "        \"mode\": \"markers\",\n",
       "        \"name\": \"y1\",\n",
       "        \"zmin\": 0.0019723865877712033,\n",
       "        \"legendgroup\": \"y1\",\n",
       "        \"z\": [\n",
       "            2.9934683\n",
       "        ],\n",
       "        \"marker\": {\n",
       "            \"symbol\": \"circle\",\n",
       "            \"color\": \"rgba(241, 241, 241, 1.000)\",\n",
       "            \"line\": {\n",
       "                \"color\": \"rgba(0, 0, 0, 1.000)\",\n",
       "                \"width\": 0\n",
       "            },\n",
       "            \"size\": 5.0\n",
       "        },\n",
       "        \"zmax\": 0.398422090729783,\n",
       "        \"y\": [\n",
       "            -4.1240873\n",
       "        ],\n",
       "        \"type\": \"scatter3d\",\n",
       "        \"scene\": \"scene\"\n",
       "    },\n",
       "    {\n",
       "        \"xaxis\": \"x\",\n",
       "        \"colorbar\": {\n",
       "            \"title\": \"\"\n",
       "        },\n",
       "        \"yaxis\": \"y\",\n",
       "        \"zaxis\": \"z\",\n",
       "        \"x\": [\n",
       "            -2.6563451\n",
       "        ],\n",
       "        \"showlegend\": false,\n",
       "        \"mode\": \"markers\",\n",
       "        \"name\": \"y1\",\n",
       "        \"zmin\": 0.0019723865877712033,\n",
       "        \"legendgroup\": \"y1\",\n",
       "        \"z\": [\n",
       "            3.296371\n",
       "        ],\n",
       "        \"marker\": {\n",
       "            \"symbol\": \"circle\",\n",
       "            \"color\": \"rgba(242, 242, 242, 1.000)\",\n",
       "            \"line\": {\n",
       "                \"color\": \"rgba(0, 0, 0, 1.000)\",\n",
       "                \"width\": 0\n",
       "            },\n",
       "            \"size\": 5.0\n",
       "        },\n",
       "        \"zmax\": 0.398422090729783,\n",
       "        \"y\": [\n",
       "            1.2832105\n",
       "        ],\n",
       "        \"type\": \"scatter3d\",\n",
       "        \"scene\": \"scene\"\n",
       "    },\n",
       "    {\n",
       "        \"xaxis\": \"x\",\n",
       "        \"colorbar\": {\n",
       "            \"title\": \"\"\n",
       "        },\n",
       "        \"yaxis\": \"y\",\n",
       "        \"zaxis\": \"z\",\n",
       "        \"x\": [\n",
       "            -3.7430313\n",
       "        ],\n",
       "        \"showlegend\": false,\n",
       "        \"mode\": \"markers\",\n",
       "        \"name\": \"y1\",\n",
       "        \"zmin\": 0.0019723865877712033,\n",
       "        \"legendgroup\": \"y1\",\n",
       "        \"z\": [\n",
       "            -2.0184505\n",
       "        ],\n",
       "        \"marker\": {\n",
       "            \"symbol\": \"circle\",\n",
       "            \"color\": \"rgba(242, 242, 242, 1.000)\",\n",
       "            \"line\": {\n",
       "                \"color\": \"rgba(0, 0, 0, 1.000)\",\n",
       "                \"width\": 0\n",
       "            },\n",
       "            \"size\": 5.0\n",
       "        },\n",
       "        \"zmax\": 0.398422090729783,\n",
       "        \"y\": [\n",
       "            3.155671\n",
       "        ],\n",
       "        \"type\": \"scatter3d\",\n",
       "        \"scene\": \"scene\"\n",
       "    },\n",
       "    {\n",
       "        \"xaxis\": \"x\",\n",
       "        \"colorbar\": {\n",
       "            \"title\": \"\"\n",
       "        },\n",
       "        \"yaxis\": \"y\",\n",
       "        \"zaxis\": \"z\",\n",
       "        \"x\": [\n",
       "            -0.84640163\n",
       "        ],\n",
       "        \"showlegend\": false,\n",
       "        \"mode\": \"markers\",\n",
       "        \"name\": \"y1\",\n",
       "        \"zmin\": 0.0019723865877712033,\n",
       "        \"legendgroup\": \"y1\",\n",
       "        \"z\": [\n",
       "            -3.8671963\n",
       "        ],\n",
       "        \"marker\": {\n",
       "            \"symbol\": \"circle\",\n",
       "            \"color\": \"rgba(238, 238, 238, 1.000)\",\n",
       "            \"line\": {\n",
       "                \"color\": \"rgba(0, 0, 0, 1.000)\",\n",
       "                \"width\": 0\n",
       "            },\n",
       "            \"size\": 5.0\n",
       "        },\n",
       "        \"zmax\": 0.398422090729783,\n",
       "        \"y\": [\n",
       "            -0.5130267\n",
       "        ],\n",
       "        \"type\": \"scatter3d\",\n",
       "        \"scene\": \"scene\"\n",
       "    },\n",
       "    {\n",
       "        \"xaxis\": \"x\",\n",
       "        \"colorbar\": {\n",
       "            \"title\": \"\"\n",
       "        },\n",
       "        \"yaxis\": \"y\",\n",
       "        \"zaxis\": \"z\",\n",
       "        \"x\": [\n",
       "            0.043282423\n",
       "        ],\n",
       "        \"showlegend\": false,\n",
       "        \"mode\": \"markers\",\n",
       "        \"name\": \"y1\",\n",
       "        \"zmin\": 0.0019723865877712033,\n",
       "        \"legendgroup\": \"y1\",\n",
       "        \"z\": [\n",
       "            -2.4238262\n",
       "        ],\n",
       "        \"marker\": {\n",
       "            \"symbol\": \"circle\",\n",
       "            \"color\": \"rgba(234, 234, 234, 1.000)\",\n",
       "            \"line\": {\n",
       "                \"color\": \"rgba(0, 0, 0, 1.000)\",\n",
       "                \"width\": 0\n",
       "            },\n",
       "            \"size\": 5.0\n",
       "        },\n",
       "        \"zmax\": 0.398422090729783,\n",
       "        \"y\": [\n",
       "            0.20759551\n",
       "        ],\n",
       "        \"type\": \"scatter3d\",\n",
       "        \"scene\": \"scene\"\n",
       "    },\n",
       "    {\n",
       "        \"xaxis\": \"x\",\n",
       "        \"colorbar\": {\n",
       "            \"title\": \"\"\n",
       "        },\n",
       "        \"yaxis\": \"y\",\n",
       "        \"zaxis\": \"z\",\n",
       "        \"x\": [\n",
       "            7.1832905\n",
       "        ],\n",
       "        \"showlegend\": false,\n",
       "        \"mode\": \"markers\",\n",
       "        \"name\": \"y1\",\n",
       "        \"zmin\": 0.0019723865877712033,\n",
       "        \"legendgroup\": \"y1\",\n",
       "        \"z\": [\n",
       "            1.8478727\n",
       "        ],\n",
       "        \"marker\": {\n",
       "            \"symbol\": \"circle\",\n",
       "            \"color\": \"rgba(84, 84, 84, 1.000)\",\n",
       "            \"line\": {\n",
       "                \"color\": \"rgba(0, 0, 0, 1.000)\",\n",
       "                \"width\": 0\n",
       "            },\n",
       "            \"size\": 5.0\n",
       "        },\n",
       "        \"zmax\": 0.398422090729783,\n",
       "        \"y\": [\n",
       "            -5.3880253\n",
       "        ],\n",
       "        \"type\": \"scatter3d\",\n",
       "        \"scene\": \"scene\"\n",
       "    },\n",
       "    {\n",
       "        \"xaxis\": \"x\",\n",
       "        \"colorbar\": {\n",
       "            \"title\": \"\"\n",
       "        },\n",
       "        \"yaxis\": \"y\",\n",
       "        \"zaxis\": \"z\",\n",
       "        \"x\": [\n",
       "            2.6338522\n",
       "        ],\n",
       "        \"showlegend\": false,\n",
       "        \"mode\": \"markers\",\n",
       "        \"name\": \"y1\",\n",
       "        \"zmin\": 0.0019723865877712033,\n",
       "        \"legendgroup\": \"y1\",\n",
       "        \"z\": [\n",
       "            7.4180756\n",
       "        ],\n",
       "        \"marker\": {\n",
       "            \"symbol\": \"circle\",\n",
       "            \"color\": \"rgba(210, 210, 210, 1.000)\",\n",
       "            \"line\": {\n",
       "                \"color\": \"rgba(0, 0, 0, 1.000)\",\n",
       "                \"width\": 0\n",
       "            },\n",
       "            \"size\": 5.0\n",
       "        },\n",
       "        \"zmax\": 0.398422090729783,\n",
       "        \"y\": [\n",
       "            -5.2244754\n",
       "        ],\n",
       "        \"type\": \"scatter3d\",\n",
       "        \"scene\": \"scene\"\n",
       "    },\n",
       "    {\n",
       "        \"xaxis\": \"x\",\n",
       "        \"colorbar\": {\n",
       "            \"title\": \"\"\n",
       "        },\n",
       "        \"yaxis\": \"y\",\n",
       "        \"zaxis\": \"z\",\n",
       "        \"x\": [\n",
       "            -5.8187604\n",
       "        ],\n",
       "        \"showlegend\": false,\n",
       "        \"mode\": \"markers\",\n",
       "        \"name\": \"y1\",\n",
       "        \"zmin\": 0.0019723865877712033,\n",
       "        \"legendgroup\": \"y1\",\n",
       "        \"z\": [\n",
       "            2.2593338\n",
       "        ],\n",
       "        \"marker\": {\n",
       "            \"symbol\": \"circle\",\n",
       "            \"color\": \"rgba(240, 240, 240, 1.000)\",\n",
       "            \"line\": {\n",
       "                \"color\": \"rgba(0, 0, 0, 1.000)\",\n",
       "                \"width\": 0\n",
       "            },\n",
       "            \"size\": 5.0\n",
       "        },\n",
       "        \"zmax\": 0.398422090729783,\n",
       "        \"y\": [\n",
       "            -5.229411\n",
       "        ],\n",
       "        \"type\": \"scatter3d\",\n",
       "        \"scene\": \"scene\"\n",
       "    },\n",
       "    {\n",
       "        \"xaxis\": \"x\",\n",
       "        \"colorbar\": {\n",
       "            \"title\": \"\"\n",
       "        },\n",
       "        \"yaxis\": \"y\",\n",
       "        \"zaxis\": \"z\",\n",
       "        \"x\": [\n",
       "            5.503725\n",
       "        ],\n",
       "        \"showlegend\": false,\n",
       "        \"mode\": \"markers\",\n",
       "        \"name\": \"y1\",\n",
       "        \"zmin\": 0.0019723865877712033,\n",
       "        \"legendgroup\": \"y1\",\n",
       "        \"z\": [\n",
       "            4.0293527\n",
       "        ],\n",
       "        \"marker\": {\n",
       "            \"symbol\": \"circle\",\n",
       "            \"color\": \"rgba(13, 13, 13, 1.000)\",\n",
       "            \"line\": {\n",
       "                \"color\": \"rgba(0, 0, 0, 1.000)\",\n",
       "                \"width\": 0\n",
       "            },\n",
       "            \"size\": 5.0\n",
       "        },\n",
       "        \"zmax\": 0.398422090729783,\n",
       "        \"y\": [\n",
       "            8.042411\n",
       "        ],\n",
       "        \"type\": \"scatter3d\",\n",
       "        \"scene\": \"scene\"\n",
       "    },\n",
       "    {\n",
       "        \"xaxis\": \"x\",\n",
       "        \"colorbar\": {\n",
       "            \"title\": \"\"\n",
       "        },\n",
       "        \"yaxis\": \"y\",\n",
       "        \"zaxis\": \"z\",\n",
       "        \"x\": [\n",
       "            5.083676\n",
       "        ],\n",
       "        \"showlegend\": false,\n",
       "        \"mode\": \"markers\",\n",
       "        \"name\": \"y1\",\n",
       "        \"zmin\": 0.0019723865877712033,\n",
       "        \"legendgroup\": \"y1\",\n",
       "        \"z\": [\n",
       "            6.016221\n",
       "        ],\n",
       "        \"marker\": {\n",
       "            \"symbol\": \"circle\",\n",
       "            \"color\": \"rgba(138, 138, 138, 1.000)\",\n",
       "            \"line\": {\n",
       "                \"color\": \"rgba(0, 0, 0, 1.000)\",\n",
       "                \"width\": 0\n",
       "            },\n",
       "            \"size\": 5.0\n",
       "        },\n",
       "        \"zmax\": 0.398422090729783,\n",
       "        \"y\": [\n",
       "            5.6259074\n",
       "        ],\n",
       "        \"type\": \"scatter3d\",\n",
       "        \"scene\": \"scene\"\n",
       "    },\n",
       "    {\n",
       "        \"xaxis\": \"x\",\n",
       "        \"colorbar\": {\n",
       "            \"title\": \"\"\n",
       "        },\n",
       "        \"yaxis\": \"y\",\n",
       "        \"zaxis\": \"z\",\n",
       "        \"x\": [\n",
       "            -1.9416994\n",
       "        ],\n",
       "        \"showlegend\": false,\n",
       "        \"mode\": \"markers\",\n",
       "        \"name\": \"y1\",\n",
       "        \"zmin\": 0.0019723865877712033,\n",
       "        \"legendgroup\": \"y1\",\n",
       "        \"z\": [\n",
       "            -0.510438\n",
       "        ],\n",
       "        \"marker\": {\n",
       "            \"symbol\": \"circle\",\n",
       "            \"color\": \"rgba(239, 239, 239, 1.000)\",\n",
       "            \"line\": {\n",
       "                \"color\": \"rgba(0, 0, 0, 1.000)\",\n",
       "                \"width\": 0\n",
       "            },\n",
       "            \"size\": 5.0\n",
       "        },\n",
       "        \"zmax\": 0.398422090729783,\n",
       "        \"y\": [\n",
       "            6.0487847\n",
       "        ],\n",
       "        \"type\": \"scatter3d\",\n",
       "        \"scene\": \"scene\"\n",
       "    },\n",
       "    {\n",
       "        \"xaxis\": \"x\",\n",
       "        \"colorbar\": {\n",
       "            \"title\": \"\"\n",
       "        },\n",
       "        \"yaxis\": \"y\",\n",
       "        \"zaxis\": \"z\",\n",
       "        \"x\": [\n",
       "            -2.4972928\n",
       "        ],\n",
       "        \"showlegend\": false,\n",
       "        \"mode\": \"markers\",\n",
       "        \"name\": \"y1\",\n",
       "        \"zmin\": 0.0019723865877712033,\n",
       "        \"legendgroup\": \"y1\",\n",
       "        \"z\": [\n",
       "            0.9615725\n",
       "        ],\n",
       "        \"marker\": {\n",
       "            \"symbol\": \"circle\",\n",
       "            \"color\": \"rgba(240, 240, 240, 1.000)\",\n",
       "            \"line\": {\n",
       "                \"color\": \"rgba(0, 0, 0, 1.000)\",\n",
       "                \"width\": 0\n",
       "            },\n",
       "            \"size\": 5.0\n",
       "        },\n",
       "        \"zmax\": 0.398422090729783,\n",
       "        \"y\": [\n",
       "            7.491962\n",
       "        ],\n",
       "        \"type\": \"scatter3d\",\n",
       "        \"scene\": \"scene\"\n",
       "    },\n",
       "    {\n",
       "        \"xaxis\": \"x\",\n",
       "        \"colorbar\": {\n",
       "            \"title\": \"\"\n",
       "        },\n",
       "        \"yaxis\": \"y\",\n",
       "        \"zaxis\": \"z\",\n",
       "        \"x\": [\n",
       "            -6.995915\n",
       "        ],\n",
       "        \"showlegend\": false,\n",
       "        \"mode\": \"markers\",\n",
       "        \"name\": \"y1\",\n",
       "        \"zmin\": 0.0019723865877712033,\n",
       "        \"legendgroup\": \"y1\",\n",
       "        \"z\": [\n",
       "            0.35764804\n",
       "        ],\n",
       "        \"marker\": {\n",
       "            \"symbol\": \"circle\",\n",
       "            \"color\": \"rgba(240, 240, 240, 1.000)\",\n",
       "            \"line\": {\n",
       "                \"color\": \"rgba(0, 0, 0, 1.000)\",\n",
       "                \"width\": 0\n",
       "            },\n",
       "            \"size\": 5.0\n",
       "        },\n",
       "        \"zmax\": 0.398422090729783,\n",
       "        \"y\": [\n",
       "            -3.4359667\n",
       "        ],\n",
       "        \"type\": \"scatter3d\",\n",
       "        \"scene\": \"scene\"\n",
       "    },\n",
       "    {\n",
       "        \"xaxis\": \"x\",\n",
       "        \"colorbar\": {\n",
       "            \"title\": \"\"\n",
       "        },\n",
       "        \"yaxis\": \"y\",\n",
       "        \"zaxis\": \"z\",\n",
       "        \"x\": [\n",
       "            -6.506847\n",
       "        ],\n",
       "        \"showlegend\": false,\n",
       "        \"mode\": \"markers\",\n",
       "        \"name\": \"y1\",\n",
       "        \"zmin\": 0.0019723865877712033,\n",
       "        \"legendgroup\": \"y1\",\n",
       "        \"z\": [\n",
       "            -3.7729304\n",
       "        ],\n",
       "        \"marker\": {\n",
       "            \"symbol\": \"circle\",\n",
       "            \"color\": \"rgba(240, 240, 240, 1.000)\",\n",
       "            \"line\": {\n",
       "                \"color\": \"rgba(0, 0, 0, 1.000)\",\n",
       "                \"width\": 0\n",
       "            },\n",
       "            \"size\": 5.0\n",
       "        },\n",
       "        \"zmax\": 0.398422090729783,\n",
       "        \"y\": [\n",
       "            5.7132754\n",
       "        ],\n",
       "        \"type\": \"scatter3d\",\n",
       "        \"scene\": \"scene\"\n",
       "    },\n",
       "    {\n",
       "        \"xaxis\": \"x\",\n",
       "        \"colorbar\": {\n",
       "            \"title\": \"\"\n",
       "        },\n",
       "        \"yaxis\": \"y\",\n",
       "        \"zaxis\": \"z\",\n",
       "        \"x\": [\n",
       "            -1.7377863\n",
       "        ],\n",
       "        \"showlegend\": false,\n",
       "        \"mode\": \"markers\",\n",
       "        \"name\": \"y1\",\n",
       "        \"zmin\": 0.0019723865877712033,\n",
       "        \"legendgroup\": \"y1\",\n",
       "        \"z\": [\n",
       "            -0.18772978\n",
       "        ],\n",
       "        \"marker\": {\n",
       "            \"symbol\": \"circle\",\n",
       "            \"color\": \"rgba(242, 242, 242, 1.000)\",\n",
       "            \"line\": {\n",
       "                \"color\": \"rgba(0, 0, 0, 1.000)\",\n",
       "                \"width\": 0\n",
       "            },\n",
       "            \"size\": 5.0\n",
       "        },\n",
       "        \"zmax\": 0.398422090729783,\n",
       "        \"y\": [\n",
       "            -3.4376783\n",
       "        ],\n",
       "        \"type\": \"scatter3d\",\n",
       "        \"scene\": \"scene\"\n",
       "    },\n",
       "    {\n",
       "        \"xaxis\": \"x\",\n",
       "        \"colorbar\": {\n",
       "            \"title\": \"\"\n",
       "        },\n",
       "        \"yaxis\": \"y\",\n",
       "        \"zaxis\": \"z\",\n",
       "        \"x\": [\n",
       "            -8.41499\n",
       "        ],\n",
       "        \"showlegend\": false,\n",
       "        \"mode\": \"markers\",\n",
       "        \"name\": \"y1\",\n",
       "        \"zmin\": 0.0019723865877712033,\n",
       "        \"legendgroup\": \"y1\",\n",
       "        \"z\": [\n",
       "            1.3045138\n",
       "        ],\n",
       "        \"marker\": {\n",
       "            \"symbol\": \"circle\",\n",
       "            \"color\": \"rgba(242, 242, 242, 1.000)\",\n",
       "            \"line\": {\n",
       "                \"color\": \"rgba(0, 0, 0, 1.000)\",\n",
       "                \"width\": 0\n",
       "            },\n",
       "            \"size\": 5.0\n",
       "        },\n",
       "        \"zmax\": 0.398422090729783,\n",
       "        \"y\": [\n",
       "            -3.85644\n",
       "        ],\n",
       "        \"type\": \"scatter3d\",\n",
       "        \"scene\": \"scene\"\n",
       "    },\n",
       "    {\n",
       "        \"xaxis\": \"x\",\n",
       "        \"colorbar\": {\n",
       "            \"title\": \"\"\n",
       "        },\n",
       "        \"yaxis\": \"y\",\n",
       "        \"zaxis\": \"z\",\n",
       "        \"x\": [\n",
       "            -3.6207879\n",
       "        ],\n",
       "        \"showlegend\": false,\n",
       "        \"mode\": \"markers\",\n",
       "        \"name\": \"y1\",\n",
       "        \"zmin\": 0.0019723865877712033,\n",
       "        \"legendgroup\": \"y1\",\n",
       "        \"z\": [\n",
       "            -4.6966124\n",
       "        ],\n",
       "        \"marker\": {\n",
       "            \"symbol\": \"circle\",\n",
       "            \"color\": \"rgba(242, 242, 242, 1.000)\",\n",
       "            \"line\": {\n",
       "                \"color\": \"rgba(0, 0, 0, 1.000)\",\n",
       "                \"width\": 0\n",
       "            },\n",
       "            \"size\": 5.0\n",
       "        },\n",
       "        \"zmax\": 0.398422090729783,\n",
       "        \"y\": [\n",
       "            -0.8424102\n",
       "        ],\n",
       "        \"type\": \"scatter3d\",\n",
       "        \"scene\": \"scene\"\n",
       "    },\n",
       "    {\n",
       "        \"xaxis\": \"x\",\n",
       "        \"colorbar\": {\n",
       "            \"title\": \"\"\n",
       "        },\n",
       "        \"yaxis\": \"y\",\n",
       "        \"zaxis\": \"z\",\n",
       "        \"x\": [\n",
       "            3.7488408\n",
       "        ],\n",
       "        \"showlegend\": false,\n",
       "        \"mode\": \"markers\",\n",
       "        \"name\": \"y1\",\n",
       "        \"zmin\": 0.0019723865877712033,\n",
       "        \"legendgroup\": \"y1\",\n",
       "        \"z\": [\n",
       "            -4.699639\n",
       "        ],\n",
       "        \"marker\": {\n",
       "            \"symbol\": \"circle\",\n",
       "            \"color\": \"rgba(242, 242, 242, 1.000)\",\n",
       "            \"line\": {\n",
       "                \"color\": \"rgba(0, 0, 0, 1.000)\",\n",
       "                \"width\": 0\n",
       "            },\n",
       "            \"size\": 5.0\n",
       "        },\n",
       "        \"zmax\": 0.398422090729783,\n",
       "        \"y\": [\n",
       "            -2.1662424\n",
       "        ],\n",
       "        \"type\": \"scatter3d\",\n",
       "        \"scene\": \"scene\"\n",
       "    },\n",
       "    {\n",
       "        \"xaxis\": \"x\",\n",
       "        \"colorbar\": {\n",
       "            \"title\": \"\"\n",
       "        },\n",
       "        \"yaxis\": \"y\",\n",
       "        \"zaxis\": \"z\",\n",
       "        \"x\": [\n",
       "            8.134184\n",
       "        ],\n",
       "        \"showlegend\": false,\n",
       "        \"mode\": \"markers\",\n",
       "        \"name\": \"y1\",\n",
       "        \"zmin\": 0.0019723865877712033,\n",
       "        \"legendgroup\": \"y1\",\n",
       "        \"z\": [\n",
       "            -3.837222\n",
       "        ],\n",
       "        \"marker\": {\n",
       "            \"symbol\": \"circle\",\n",
       "            \"color\": \"rgba(242, 242, 242, 1.000)\",\n",
       "            \"line\": {\n",
       "                \"color\": \"rgba(0, 0, 0, 1.000)\",\n",
       "                \"width\": 0\n",
       "            },\n",
       "            \"size\": 5.0\n",
       "        },\n",
       "        \"zmax\": 0.398422090729783,\n",
       "        \"y\": [\n",
       "            -1.0907334\n",
       "        ],\n",
       "        \"type\": \"scatter3d\",\n",
       "        \"scene\": \"scene\"\n",
       "    },\n",
       "    {\n",
       "        \"xaxis\": \"x\",\n",
       "        \"colorbar\": {\n",
       "            \"title\": \"\"\n",
       "        },\n",
       "        \"yaxis\": \"y\",\n",
       "        \"zaxis\": \"z\",\n",
       "        \"x\": [\n",
       "            10.456216\n",
       "        ],\n",
       "        \"showlegend\": false,\n",
       "        \"mode\": \"markers\",\n",
       "        \"name\": \"y1\",\n",
       "        \"zmin\": 0.0019723865877712033,\n",
       "        \"legendgroup\": \"y1\",\n",
       "        \"z\": [\n",
       "            -4.102564\n",
       "        ],\n",
       "        \"marker\": {\n",
       "            \"symbol\": \"circle\",\n",
       "            \"color\": \"rgba(242, 242, 242, 1.000)\",\n",
       "            \"line\": {\n",
       "                \"color\": \"rgba(0, 0, 0, 1.000)\",\n",
       "                \"width\": 0\n",
       "            },\n",
       "            \"size\": 5.0\n",
       "        },\n",
       "        \"zmax\": 0.398422090729783,\n",
       "        \"y\": [\n",
       "            -2.9930956\n",
       "        ],\n",
       "        \"type\": \"scatter3d\",\n",
       "        \"scene\": \"scene\"\n",
       "    },\n",
       "    {\n",
       "        \"xaxis\": \"x\",\n",
       "        \"colorbar\": {\n",
       "            \"title\": \"\"\n",
       "        },\n",
       "        \"yaxis\": \"y\",\n",
       "        \"zaxis\": \"z\",\n",
       "        \"x\": [\n",
       "            4.6477523\n",
       "        ],\n",
       "        \"showlegend\": false,\n",
       "        \"mode\": \"markers\",\n",
       "        \"name\": \"y1\",\n",
       "        \"zmin\": 0.0019723865877712033,\n",
       "        \"z\": [\n",
       "            -0.36782113\n",
       "        ],\n",
       "        \"marker\": {\n",
       "            \"color\": [\n",
       "                0.5\n",
       "            ],\n",
       "            \"cmin\": 0.0019723865877712033,\n",
       "            \"opacity\": 1.0e-10,\n",
       "            \"size\": 1.0e-10,\n",
       "            \"colorscale\": [\n",
       "                [\n",
       "                    0.0,\n",
       "                    \"rgba(242, 242, 242, 1.000)\"\n",
       "                ],\n",
       "                [\n",
       "                    1.0,\n",
       "                    \"rgba(13, 13, 13, 1.000)\"\n",
       "                ]\n",
       "            ],\n",
       "            \"cmax\": 0.398422090729783,\n",
       "            \"showscale\": true\n",
       "        },\n",
       "        \"zmax\": 0.398422090729783,\n",
       "        \"y\": [\n",
       "            0.7327694\n",
       "        ],\n",
       "        \"type\": \"scatter3d\",\n",
       "        \"scene\": \"scene\",\n",
       "        \"hoverinfo\": \"none\"\n",
       "    },\n",
       "    {\n",
       "        \"xaxis\": \"x\",\n",
       "        \"colorbar\": {\n",
       "            \"title\": \"\"\n",
       "        },\n",
       "        \"yaxis\": \"y\",\n",
       "        \"zaxis\": \"z\",\n",
       "        \"x\": [\n",
       "            4.6477523\n",
       "        ],\n",
       "        \"showlegend\": true,\n",
       "        \"mode\": \"markers\",\n",
       "        \"name\": \"y2\",\n",
       "        \"zmin\": 0.0019723865877712033,\n",
       "        \"legendgroup\": \"y2\",\n",
       "        \"z\": [\n",
       "            -0.36782113\n",
       "        ],\n",
       "        \"marker\": {\n",
       "            \"symbol\": \"diamond\",\n",
       "            \"color\": \"rgba(76, 204, 76, 0.800)\",\n",
       "            \"line\": {\n",
       "                \"color\": \"rgba(0, 0, 0, 0.800)\",\n",
       "                \"width\": 1\n",
       "            },\n",
       "            \"size\": 6\n",
       "        },\n",
       "        \"zmax\": 0.398422090729783,\n",
       "        \"y\": [\n",
       "            0.7327694\n",
       "        ],\n",
       "        \"type\": \"scatter3d\",\n",
       "        \"scene\": \"scene\"\n",
       "    },\n",
       "    {\n",
       "        \"xaxis\": \"x\",\n",
       "        \"colorbar\": {\n",
       "            \"title\": \"\"\n",
       "        },\n",
       "        \"yaxis\": \"y\",\n",
       "        \"zaxis\": \"z\",\n",
       "        \"x\": [\n",
       "            10.456216\n",
       "        ],\n",
       "        \"showlegend\": true,\n",
       "        \"mode\": \"markers\",\n",
       "        \"name\": \"y3\",\n",
       "        \"zmin\": 0.0019723865877712033,\n",
       "        \"legendgroup\": \"y3\",\n",
       "        \"z\": [\n",
       "            -4.102564\n",
       "        ],\n",
       "        \"marker\": {\n",
       "            \"symbol\": \"diamond\",\n",
       "            \"color\": \"rgba(255, 76, 76, 0.800)\",\n",
       "            \"line\": {\n",
       "                \"color\": \"rgba(0, 0, 0, 0.800)\",\n",
       "                \"width\": 1\n",
       "            },\n",
       "            \"size\": 6\n",
       "        },\n",
       "        \"zmax\": 0.398422090729783,\n",
       "        \"y\": [\n",
       "            -2.9930956\n",
       "        ],\n",
       "        \"type\": \"scatter3d\",\n",
       "        \"scene\": \"scene\"\n",
       "    }\n",
       "]\n",
       ", {\n",
       "    \"showlegend\": false,\n",
       "    \"paper_bgcolor\": \"rgba(255, 255, 255, 1.000)\",\n",
       "    \"annotations\": [],\n",
       "    \"height\": 400,\n",
       "    \"margin\": {\n",
       "        \"l\": 0,\n",
       "        \"b\": 20,\n",
       "        \"r\": 0,\n",
       "        \"t\": 20\n",
       "    },\n",
       "    \"plot_bgcolor\": \"rgba(255, 255, 255, 1.000)\",\n",
       "    \"scene\": {\n",
       "        \"camera\": {\n",
       "            \"eye\": {\n",
       "                \"y\": -1.9499999999999997,\n",
       "                \"z\": 1.3,\n",
       "                \"x\": 1.12583302491977\n",
       "            }\n",
       "        },\n",
       "        \"xaxis\": {\n",
       "            \"tickangle\": 0,\n",
       "            \"showline\": true,\n",
       "            \"gridcolor\": \"rgba(0, 0, 0, 0.100)\",\n",
       "            \"showticklabels\": true,\n",
       "            \"gridwidth\": 0.5,\n",
       "            \"titlefont\": {\n",
       "                \"color\": \"rgba(0, 0, 0, 1.000)\",\n",
       "                \"family\": \"sans-serif\",\n",
       "                \"size\": 15\n",
       "            },\n",
       "            \"visible\": true,\n",
       "            \"ticks\": \"inside\",\n",
       "            \"range\": [\n",
       "                -8.499140329360962,\n",
       "                10.560778017044067\n",
       "            ],\n",
       "            \"tickmode\": \"array\",\n",
       "            \"tickvals\": [\n",
       "                -5.0,\n",
       "                0.0,\n",
       "                5.0,\n",
       "                10.0\n",
       "            ],\n",
       "            \"tickcolor\": \"rgb(0, 0, 0)\",\n",
       "            \"ticktext\": [\n",
       "                \"-5\",\n",
       "                \"0\",\n",
       "                \"5\",\n",
       "                \"10\"\n",
       "            ],\n",
       "            \"linecolor\": \"rgba(0, 0, 0, 1.000)\",\n",
       "            \"showgrid\": true,\n",
       "            \"zeroline\": false,\n",
       "            \"type\": \"-\",\n",
       "            \"tickfont\": {\n",
       "                \"color\": \"rgba(0, 0, 0, 1.000)\",\n",
       "                \"family\": \"sans-serif\",\n",
       "                \"size\": 11\n",
       "            },\n",
       "            \"title\": \"X\",\n",
       "            \"zerolinecolor\": \"rgba(0, 0, 0, 1.000)\",\n",
       "            \"mirror\": false\n",
       "        },\n",
       "        \"domain\": {\n",
       "            \"y\": [\n",
       "                0.07581474190726165,\n",
       "                0.9901574803149606\n",
       "            ],\n",
       "            \"x\": [\n",
       "                0.061654272382618835,\n",
       "                0.9934383202099737\n",
       "            ]\n",
       "        },\n",
       "        \"yaxis\": {\n",
       "            \"tickangle\": 0,\n",
       "            \"showline\": true,\n",
       "            \"gridcolor\": \"rgba(0, 0, 0, 0.100)\",\n",
       "            \"showticklabels\": true,\n",
       "            \"gridwidth\": 0.5,\n",
       "            \"titlefont\": {\n",
       "                \"color\": \"rgba(0, 0, 0, 1.000)\",\n",
       "                \"family\": \"sans-serif\",\n",
       "                \"size\": 15\n",
       "            },\n",
       "            \"visible\": true,\n",
       "            \"ticks\": \"inside\",\n",
       "            \"range\": [\n",
       "                -5.441905536651611,\n",
       "                8.122834959030152\n",
       "            ],\n",
       "            \"tickmode\": \"array\",\n",
       "            \"tickvals\": [\n",
       "                -3.0,\n",
       "                0.0,\n",
       "                3.0,\n",
       "                6.0\n",
       "            ],\n",
       "            \"tickcolor\": \"rgb(0, 0, 0)\",\n",
       "            \"ticktext\": [\n",
       "                \"-3\",\n",
       "                \"0\",\n",
       "                \"3\",\n",
       "                \"6\"\n",
       "            ],\n",
       "            \"linecolor\": \"rgba(0, 0, 0, 1.000)\",\n",
       "            \"showgrid\": true,\n",
       "            \"zeroline\": false,\n",
       "            \"type\": \"-\",\n",
       "            \"tickfont\": {\n",
       "                \"color\": \"rgba(0, 0, 0, 1.000)\",\n",
       "                \"family\": \"sans-serif\",\n",
       "                \"size\": 11\n",
       "            },\n",
       "            \"title\": \"Y\",\n",
       "            \"zerolinecolor\": \"rgba(0, 0, 0, 1.000)\",\n",
       "            \"mirror\": false\n",
       "        },\n",
       "        \"zaxis\": {\n",
       "            \"tickangle\": 0,\n",
       "            \"showline\": true,\n",
       "            \"gridcolor\": \"rgba(0, 0, 0, 0.100)\",\n",
       "            \"showticklabels\": true,\n",
       "            \"gridwidth\": 0.5,\n",
       "            \"titlefont\": {\n",
       "                \"color\": \"rgba(0, 0, 0, 1.000)\",\n",
       "                \"family\": \"sans-serif\",\n",
       "                \"size\": 15\n",
       "            },\n",
       "            \"visible\": true,\n",
       "            \"ticks\": \"inside\",\n",
       "            \"range\": [\n",
       "                -4.746635231971741,\n",
       "                7.492256317138672\n",
       "            ],\n",
       "            \"tickmode\": \"array\",\n",
       "            \"tickvals\": [\n",
       "                -2.5,\n",
       "                0.0,\n",
       "                2.5,\n",
       "                5.0\n",
       "            ],\n",
       "            \"tickcolor\": \"rgb(0, 0, 0)\",\n",
       "            \"ticktext\": [\n",
       "                \"-2.5\",\n",
       "                \"0.0\",\n",
       "                \"2.5\",\n",
       "                \"5.0\"\n",
       "            ],\n",
       "            \"linecolor\": \"rgba(0, 0, 0, 1.000)\",\n",
       "            \"showgrid\": true,\n",
       "            \"zeroline\": false,\n",
       "            \"type\": \"-\",\n",
       "            \"tickfont\": {\n",
       "                \"color\": \"rgba(0, 0, 0, 1.000)\",\n",
       "                \"family\": \"sans-serif\",\n",
       "                \"size\": 11\n",
       "            },\n",
       "            \"title\": \"Z\",\n",
       "            \"zerolinecolor\": \"rgba(0, 0, 0, 1.000)\",\n",
       "            \"mirror\": false\n",
       "        }\n",
       "    },\n",
       "    \"width\": 600\n",
       "}\n",
       ");\n",
       "\n",
       "    \n",
       "    </script>\n"
      ]
     },
     "metadata": {},
     "output_type": "display_data"
    }
   ],
   "source": [
    "# 3D\n",
    "plotlyjs()\n",
    "plot()\n",
    "\n",
    "scatter!(X,Y,Z,zcolor=occp,m=cgrad(:grays,rev=true),markerstrokewidth=0,markersize=2.5,legend=false)\n",
    "\n",
    "plot!([X[1]],[Y[1]],[Z[1]], seriestype = :scatter, markersize=3,\n",
    "        color=palette(:lighttest)[4],markershape=:diamond,opacity=0.8) # Green for Si\n",
    "plot!([X[end]],[Y[end]],[Z[end]], seriestype = :scatter, markersize=3,\n",
    "        color=palette(:lighttest)[7],markershape=:diamond,opacity=0.8) # Red for Sf\n",
    "\n",
    "xlims!(minimum(X)*1.01,maximum(X)*1.01) \n",
    "ylims!(minimum(Y)*1.01,maximum(Y)*1.01)\n",
    "zlims!(minimum(Z)*1.01,maximum(Z)*1.01)\n",
    "\n",
    "plot!(xlabel=\"X\", ylabel=\"Y\", zlabel = \"Z\")\n"
   ]
  },
  {
   "cell_type": "code",
   "execution_count": null,
   "metadata": {},
   "outputs": [],
   "source": []
  },
  {
   "cell_type": "markdown",
   "metadata": {},
   "source": [
    "## PHATE Vis"
   ]
  },
  {
   "cell_type": "code",
   "execution_count": 18,
   "metadata": {},
   "outputs": [
    {
     "data": {
      "text/plain": [
       "Dict{String, Array{Float64}} with 6 entries:\n",
       "  \"time_fract\" => [0.0121251, 0.00127632, 0.0382897, 0.000638162, 0.00191449, 0…\n",
       "  \"time_HT\"    => [1.0e-9, 2.0e-9, 6.0e-8, 1.0e-9, 0.0, 1.0e-9, 0.0, 1.0e-9, 0.…\n",
       "  \"energy\"     => [0.0, 1.8, 0.1, 3.6, 1.8, 1.5, -0.4, 1.0, 2.6, -1.5  …  1.5, …\n",
       "  \"occp\"       => [0.00986193, 0.00394477, 0.00197239, 0.00197239, 0.00986193, …\n",
       "  \"time_count\" => [1.9e-8, 2.0e-9, 6.0e-8, 1.0e-9, 3.0e-9, 8.0e-9, 1.94e-7, 1.2…\n",
       "  \"phate\"      => [0.172399 -0.0113706; -0.165165 0.136805; … ; 0.331399 0.0010…"
      ]
     },
     "metadata": {},
     "output_type": "display_data"
    }
   ],
   "source": [
    "data_phate = npzread(\"data/I1_sim1_phate_uniq.npy\")"
   ]
  },
  {
   "cell_type": "code",
   "execution_count": 19,
   "metadata": {},
   "outputs": [],
   "source": [
    "X = data_phate[\"phate\"][:,1]; Y = data_phate[\"phate\"][:,2]\n",
    "time_fract = data_phate[\"time_fract\"]; time_HT = data_phate[\"time_HT\"]\n",
    "energy = data_phate[\"energy\"]\n",
    "occp = data_phate[\"occp\"];"
   ]
  },
  {
   "cell_type": "code",
   "execution_count": 21,
   "metadata": {},
   "outputs": [
    {
     "data": {
      "application/vnd.plotly.v1+json": {
       "data": [
        {
         "colorbar": {
          "title": ""
         },
         "legendgroup": "y1",
         "marker": {
          "color": "rgba(238, 238, 238, 1.000)",
          "line": {
           "color": "rgba(0, 0, 0, 1.000)",
           "width": 0
          },
          "size": 10,
          "symbol": "circle"
         },
         "mode": "markers",
         "name": "y1",
         "showlegend": true,
         "type": "scatter",
         "x": [
          0.17239873159266156
         ],
         "xaxis": "x",
         "y": [
          -0.011370552769986109
         ],
         "yaxis": "y",
         "zmax": 0.398422090729783,
         "zmin": 0.0019723865877712033
        },
        {
         "colorbar": {
          "title": ""
         },
         "legendgroup": "y1",
         "marker": {
          "color": "rgba(241, 241, 241, 1.000)",
          "line": {
           "color": "rgba(0, 0, 0, 1.000)",
           "width": 0
          },
          "size": 10,
          "symbol": "circle"
         },
         "mode": "markers",
         "name": "y1",
         "showlegend": false,
         "type": "scatter",
         "x": [
          -0.16516518691245405
         ],
         "xaxis": "x",
         "y": [
          0.13680491636011768
         ],
         "yaxis": "y",
         "zmax": 0.398422090729783,
         "zmin": 0.0019723865877712033
        },
        {
         "colorbar": {
          "title": ""
         },
         "legendgroup": "y1",
         "marker": {
          "color": "rgba(242, 242, 242, 1.000)",
          "line": {
           "color": "rgba(0, 0, 0, 1.000)",
           "width": 0
          },
          "size": 10,
          "symbol": "circle"
         },
         "mode": "markers",
         "name": "y1",
         "showlegend": false,
         "type": "scatter",
         "x": [
          -0.09862311595720927
         ],
         "xaxis": "x",
         "y": [
          -0.0034369841308780815
         ],
         "yaxis": "y",
         "zmax": 0.398422090729783,
         "zmin": 0.0019723865877712033
        },
        {
         "colorbar": {
          "title": ""
         },
         "legendgroup": "y1",
         "marker": {
          "color": "rgba(242, 242, 242, 1.000)",
          "line": {
           "color": "rgba(0, 0, 0, 1.000)",
           "width": 0
          },
          "size": 10,
          "symbol": "circle"
         },
         "mode": "markers",
         "name": "y1",
         "showlegend": false,
         "type": "scatter",
         "x": [
          -0.12751346107846745
         ],
         "xaxis": "x",
         "y": [
          -0.08983404112111884
         ],
         "yaxis": "y",
         "zmax": 0.398422090729783,
         "zmin": 0.0019723865877712033
        },
        {
         "colorbar": {
          "title": ""
         },
         "legendgroup": "y1",
         "marker": {
          "color": "rgba(238, 238, 238, 1.000)",
          "line": {
           "color": "rgba(0, 0, 0, 1.000)",
           "width": 0
          },
          "size": 10,
          "symbol": "circle"
         },
         "mode": "markers",
         "name": "y1",
         "showlegend": false,
         "type": "scatter",
         "x": [
          0.10050782546592402
         ],
         "xaxis": "x",
         "y": [
          0.014990966154367524
         ],
         "yaxis": "y",
         "zmax": 0.398422090729783,
         "zmin": 0.0019723865877712033
        },
        {
         "colorbar": {
          "title": ""
         },
         "legendgroup": "y1",
         "marker": {
          "color": "rgba(234, 234, 234, 1.000)",
          "line": {
           "color": "rgba(0, 0, 0, 1.000)",
           "width": 0
          },
          "size": 10,
          "symbol": "circle"
         },
         "mode": "markers",
         "name": "y1",
         "showlegend": false,
         "type": "scatter",
         "x": [
          0.09537656615869902
         ],
         "xaxis": "x",
         "y": [
          0.008717197363667792
         ],
         "yaxis": "y",
         "zmax": 0.398422090729783,
         "zmin": 0.0019723865877712033
        },
        {
         "colorbar": {
          "title": ""
         },
         "legendgroup": "y1",
         "marker": {
          "color": "rgba(84, 84, 84, 1.000)",
          "line": {
           "color": "rgba(0, 0, 0, 1.000)",
           "width": 0
          },
          "size": 10,
          "symbol": "circle"
         },
         "mode": "markers",
         "name": "y1",
         "showlegend": false,
         "type": "scatter",
         "x": [
          0.34157167533757343
         ],
         "xaxis": "x",
         "y": [
          0.005591730225528068
         ],
         "yaxis": "y",
         "zmax": 0.398422090729783,
         "zmin": 0.0019723865877712033
        },
        {
         "colorbar": {
          "title": ""
         },
         "legendgroup": "y1",
         "marker": {
          "color": "rgba(210, 210, 210, 1.000)",
          "line": {
           "color": "rgba(0, 0, 0, 1.000)",
           "width": 0
          },
          "size": 10,
          "symbol": "circle"
         },
         "mode": "markers",
         "name": "y1",
         "showlegend": false,
         "type": "scatter",
         "x": [
          -0.09900201271608612
         ],
         "xaxis": "x",
         "y": [
          0.10846105133896386
         ],
         "yaxis": "y",
         "zmax": 0.398422090729783,
         "zmin": 0.0019723865877712033
        },
        {
         "colorbar": {
          "title": ""
         },
         "legendgroup": "y1",
         "marker": {
          "color": "rgba(240, 240, 240, 1.000)",
          "line": {
           "color": "rgba(0, 0, 0, 1.000)",
           "width": 0
          },
          "size": 10,
          "symbol": "circle"
         },
         "mode": "markers",
         "name": "y1",
         "showlegend": false,
         "type": "scatter",
         "x": [
          -0.1581881286387548
         ],
         "xaxis": "x",
         "y": [
          0.14356147777851183
         ],
         "yaxis": "y",
         "zmax": 0.398422090729783,
         "zmin": 0.0019723865877712033
        },
        {
         "colorbar": {
          "title": ""
         },
         "legendgroup": "y1",
         "marker": {
          "color": "rgba(13, 13, 13, 1.000)",
          "line": {
           "color": "rgba(0, 0, 0, 1.000)",
           "width": 0
          },
          "size": 10,
          "symbol": "circle"
         },
         "mode": "markers",
         "name": "y1",
         "showlegend": false,
         "type": "scatter",
         "x": [
          -0.12445798730172442
         ],
         "xaxis": "x",
         "y": [
          -0.14305654994648345
         ],
         "yaxis": "y",
         "zmax": 0.398422090729783,
         "zmin": 0.0019723865877712033
        },
        {
         "colorbar": {
          "title": ""
         },
         "legendgroup": "y1",
         "marker": {
          "color": "rgba(138, 138, 138, 1.000)",
          "line": {
           "color": "rgba(0, 0, 0, 1.000)",
           "width": 0
          },
          "size": 10,
          "symbol": "circle"
         },
         "mode": "markers",
         "name": "y1",
         "showlegend": false,
         "type": "scatter",
         "x": [
          -0.0669333825714802
         ],
         "xaxis": "x",
         "y": [
          -0.11766928801576787
         ],
         "yaxis": "y",
         "zmax": 0.398422090729783,
         "zmin": 0.0019723865877712033
        },
        {
         "colorbar": {
          "title": ""
         },
         "legendgroup": "y1",
         "marker": {
          "color": "rgba(239, 239, 239, 1.000)",
          "line": {
           "color": "rgba(0, 0, 0, 1.000)",
           "width": 0
          },
          "size": 10,
          "symbol": "circle"
         },
         "mode": "markers",
         "name": "y1",
         "showlegend": false,
         "type": "scatter",
         "x": [
          -0.14898740510997996
         ],
         "xaxis": "x",
         "y": [
          -0.1444708358876986
         ],
         "yaxis": "y",
         "zmax": 0.398422090729783,
         "zmin": 0.0019723865877712033
        },
        {
         "colorbar": {
          "title": ""
         },
         "legendgroup": "y1",
         "marker": {
          "color": "rgba(240, 240, 240, 1.000)",
          "line": {
           "color": "rgba(0, 0, 0, 1.000)",
           "width": 0
          },
          "size": 10,
          "symbol": "circle"
         },
         "mode": "markers",
         "name": "y1",
         "showlegend": false,
         "type": "scatter",
         "x": [
          -0.16965401087225085
         ],
         "xaxis": "x",
         "y": [
          -0.14750691936877147
         ],
         "yaxis": "y",
         "zmax": 0.398422090729783,
         "zmin": 0.0019723865877712033
        },
        {
         "colorbar": {
          "title": ""
         },
         "legendgroup": "y1",
         "marker": {
          "color": "rgba(240, 240, 240, 1.000)",
          "line": {
           "color": "rgba(0, 0, 0, 1.000)",
           "width": 0
          },
          "size": 10,
          "symbol": "circle"
         },
         "mode": "markers",
         "name": "y1",
         "showlegend": false,
         "type": "scatter",
         "x": [
          -0.16992951342159374
         ],
         "xaxis": "x",
         "y": [
          0.13779031913030584
         ],
         "yaxis": "y",
         "zmax": 0.398422090729783,
         "zmin": 0.0019723865877712033
        },
        {
         "colorbar": {
          "title": ""
         },
         "legendgroup": "y1",
         "marker": {
          "color": "rgba(240, 240, 240, 1.000)",
          "line": {
           "color": "rgba(0, 0, 0, 1.000)",
           "width": 0
          },
          "size": 10,
          "symbol": "circle"
         },
         "mode": "markers",
         "name": "y1",
         "showlegend": false,
         "type": "scatter",
         "x": [
          -0.15440798977197287
         ],
         "xaxis": "x",
         "y": [
          -0.132821983978835
         ],
         "yaxis": "y",
         "zmax": 0.398422090729783,
         "zmin": 0.0019723865877712033
        },
        {
         "colorbar": {
          "title": ""
         },
         "legendgroup": "y1",
         "marker": {
          "color": "rgba(242, 242, 242, 1.000)",
          "line": {
           "color": "rgba(0, 0, 0, 1.000)",
           "width": 0
          },
          "size": 10,
          "symbol": "circle"
         },
         "mode": "markers",
         "name": "y1",
         "showlegend": false,
         "type": "scatter",
         "x": [
          -0.013970340213282858
         ],
         "xaxis": "x",
         "y": [
          0.07875287173870898
         ],
         "yaxis": "y",
         "zmax": 0.398422090729783,
         "zmin": 0.0019723865877712033
        },
        {
         "colorbar": {
          "title": ""
         },
         "legendgroup": "y1",
         "marker": {
          "color": "rgba(242, 242, 242, 1.000)",
          "line": {
           "color": "rgba(0, 0, 0, 1.000)",
           "width": 0
          },
          "size": 10,
          "symbol": "circle"
         },
         "mode": "markers",
         "name": "y1",
         "showlegend": false,
         "type": "scatter",
         "x": [
          -0.19274557194002553
         ],
         "xaxis": "x",
         "y": [
          0.14988128293342642
         ],
         "yaxis": "y",
         "zmax": 0.398422090729783,
         "zmin": 0.0019723865877712033
        },
        {
         "colorbar": {
          "title": ""
         },
         "legendgroup": "y1",
         "marker": {
          "color": "rgba(242, 242, 242, 1.000)",
          "line": {
           "color": "rgba(0, 0, 0, 1.000)",
           "width": 0
          },
          "size": 10,
          "symbol": "circle"
         },
         "mode": "markers",
         "name": "y1",
         "showlegend": false,
         "type": "scatter",
         "x": [
          -0.022147425192061806
         ],
         "xaxis": "x",
         "y": [
          -0.002155675767910818
         ],
         "yaxis": "y",
         "zmax": 0.398422090729783,
         "zmin": 0.0019723865877712033
        },
        {
         "colorbar": {
          "title": ""
         },
         "legendgroup": "y1",
         "marker": {
          "color": "rgba(242, 242, 242, 1.000)",
          "line": {
           "color": "rgba(0, 0, 0, 1.000)",
           "width": 0
          },
          "size": 10,
          "symbol": "circle"
         },
         "mode": "markers",
         "name": "y1",
         "showlegend": false,
         "type": "scatter",
         "x": [
          0.29997251018361626
         ],
         "xaxis": "x",
         "y": [
          0.0037845240717888913
         ],
         "yaxis": "y",
         "zmax": 0.398422090729783,
         "zmin": 0.0019723865877712033
        },
        {
         "colorbar": {
          "title": ""
         },
         "legendgroup": "y1",
         "marker": {
          "color": "rgba(242, 242, 242, 1.000)",
          "line": {
           "color": "rgba(0, 0, 0, 1.000)",
           "width": 0
          },
          "size": 10,
          "symbol": "circle"
         },
         "mode": "markers",
         "name": "y1",
         "showlegend": false,
         "type": "scatter",
         "x": [
          0.33139943268351707
         ],
         "xaxis": "x",
         "y": [
          0.0010453182877318223
         ],
         "yaxis": "y",
         "zmax": 0.398422090729783,
         "zmin": 0.0019723865877712033
        },
        {
         "colorbar": {
          "title": ""
         },
         "legendgroup": "y1",
         "marker": {
          "color": "rgba(242, 242, 242, 1.000)",
          "line": {
           "color": "rgba(0, 0, 0, 1.000)",
           "width": 0
          },
          "size": 10,
          "symbol": "circle"
         },
         "mode": "markers",
         "name": "y1",
         "showlegend": false,
         "type": "scatter",
         "x": [
          0.3704987902753526
         ],
         "xaxis": "x",
         "y": [
          0.0029411756043315374
         ],
         "yaxis": "y",
         "zmax": 0.398422090729783,
         "zmin": 0.0019723865877712033
        },
        {
         "colorbar": {
          "title": ""
         },
         "hoverinfo": "none",
         "marker": {
          "cmax": 0.398422090729783,
          "cmin": 0.0019723865877712033,
          "color": [
           0.5
          ],
          "colorscale": [
           [
            0,
            "rgba(242, 242, 242, 1.000)"
           ],
           [
            1,
            "rgba(13, 13, 13, 1.000)"
           ]
          ],
          "opacity": 1e-10,
          "showscale": true,
          "size": 1e-10
         },
         "mode": "markers",
         "name": "y1",
         "showlegend": false,
         "type": "scatter",
         "x": [
          0.17239873159266156
         ],
         "xaxis": "x",
         "y": [
          -0.011370552769986109
         ],
         "yaxis": "y",
         "zmax": 0.398422090729783,
         "zmin": 0.0019723865877712033
        },
        {
         "colorbar": {
          "title": ""
         },
         "legendgroup": "y2",
         "marker": {
          "color": "rgba(76, 204, 76, 0.300)",
          "line": {
           "color": "rgba(0, 0, 0, 0.300)",
           "width": 0
          },
          "size": 14,
          "symbol": "diamond"
         },
         "mode": "markers",
         "name": "y2",
         "showlegend": true,
         "type": "scatter",
         "x": [
          0.17239873159266156
         ],
         "xaxis": "x",
         "y": [
          -0.011370552769986109
         ],
         "yaxis": "y",
         "zmax": 0.398422090729783,
         "zmin": 0.0019723865877712033
        },
        {
         "colorbar": {
          "title": ""
         },
         "legendgroup": "y3",
         "marker": {
          "color": "rgba(255, 76, 76, 0.300)",
          "line": {
           "color": "rgba(0, 0, 0, 0.300)",
           "width": 0
          },
          "size": 14,
          "symbol": "diamond"
         },
         "mode": "markers",
         "name": "y3",
         "showlegend": true,
         "type": "scatter",
         "x": [
          0.3704987902753526
         ],
         "xaxis": "x",
         "y": [
          0.0029411756043315374
         ],
         "yaxis": "y",
         "zmax": 0.398422090729783,
         "zmin": 0.0019723865877712033
        }
       ],
       "layout": {
        "annotations": [],
        "height": 400,
        "margin": {
         "b": 20,
         "l": 0,
         "r": 0,
         "t": 20
        },
        "paper_bgcolor": "rgba(255, 255, 255, 1.000)",
        "plot_bgcolor": "rgba(255, 255, 255, 1.000)",
        "showlegend": false,
        "width": 600,
        "xaxis": {
         "anchor": "y",
         "domain": [
          0.10609871682706327,
          0.9934383202099737
         ],
         "gridcolor": "rgba(0, 0, 0, 0.100)",
         "gridwidth": 0.5,
         "linecolor": "rgba(0, 0, 0, 1.000)",
         "mirror": false,
         "range": [
          -0.20964290280648687,
          0.38739612114181393
         ],
         "showgrid": true,
         "showline": true,
         "showticklabels": true,
         "tickangle": 0,
         "tickcolor": "rgb(0, 0, 0)",
         "tickfont": {
          "color": "rgba(0, 0, 0, 1.000)",
          "family": "sans-serif",
          "size": 11
         },
         "tickmode": "array",
         "ticks": "inside",
         "ticktext": [
          "-0.2",
          "-0.1",
          "0.0",
          "0.1",
          "0.2",
          "0.3"
         ],
         "tickvals": [
          -0.2,
          -0.1,
          0,
          0.1,
          0.2,
          0.30000000000000004
         ],
         "title": "X",
         "titlefont": {
          "color": "rgba(0, 0, 0, 1.000)",
          "family": "sans-serif",
          "size": 15
         },
         "type": "-",
         "visible": true,
         "zeroline": false,
         "zerolinecolor": "rgba(0, 0, 0, 1.000)"
        },
        "yaxis": {
         "anchor": "x",
         "domain": [
          0.07581474190726165,
          0.9901574803149606
         ],
         "gridcolor": "rgba(0, 0, 0, 0.100)",
         "gridwidth": 0.5,
         "linecolor": "rgba(0, 0, 0, 1.000)",
         "mirror": false,
         "range": [
          -0.1564285654378374,
          0.15880292900249235
         ],
         "showgrid": true,
         "showline": true,
         "showticklabels": true,
         "tickangle": 0,
         "tickcolor": "rgb(0, 0, 0)",
         "tickfont": {
          "color": "rgba(0, 0, 0, 1.000)",
          "family": "sans-serif",
          "size": 11
         },
         "tickmode": "array",
         "ticks": "inside",
         "ticktext": [
          "-0.15",
          "-0.10",
          "-0.05",
          "0.00",
          "0.05",
          "0.10",
          "0.15"
         ],
         "tickvals": [
          -0.15000000000000002,
          -0.1,
          -0.05,
          0,
          0.05,
          0.1,
          0.15000000000000002
         ],
         "title": "Y",
         "titlefont": {
          "color": "rgba(0, 0, 0, 1.000)",
          "family": "sans-serif",
          "size": 15
         },
         "type": "-",
         "visible": true,
         "zeroline": false,
         "zerolinecolor": "rgba(0, 0, 0, 1.000)"
        }
       }
      },
      "image/png": "[encoded data removed]",
      "image/svg+xml": "<svg class=\"main-svg\" xmlns=\"http://www.w3.org/2000/svg\" xmlns:xlink=\"http://www.w3.org/1999/xlink\" width=\"700\" height=\"500\" style=\"\" viewBox=\"0 0 700 500\"><rect x=\"0\" y=\"0\" width=\"700\" height=\"500\" style=\"fill: rgb(255, 255, 255); fill-opacity: 1;\"/><defs id=\"defs-792ba0\"><g class=\"clips\"><clipPath id=\"clip792ba0xyplot\" class=\"plotclip\"><rect width=\"488.03678186060074\" height=\"356.5936679790026\"/></clipPath><clipPath class=\"axesclip\" id=\"clip792ba0x\"><rect x=\"108.35429425488479\" y=\"0\" width=\"488.03678186060074\" height=\"500\"/></clipPath><clipPath class=\"axesclip\" id=\"clip792ba0y\"><rect x=\"0\" y=\"63.83858267716535\" width=\"700\" height=\"356.5936679790026\"/></clipPath><clipPath class=\"axesclip\" id=\"clip792ba0xy\"><rect x=\"108.35429425488479\" y=\"63.83858267716535\" width=\"488.03678186060074\" height=\"356.5936679790026\"/></clipPath></g><g class=\"gradients\"><linearGradient x1=\"0\" x2=\"0\" y1=\"1\" y2=\"0\" id=\"g792ba0-cb17fb99\"><stop offset=\"0%\" stop-color=\"rgb(242, 242, 242)\" stop-opacity=\"1\"/><stop offset=\"100%\" stop-color=\"rgb(13, 13, 13)\" stop-opacity=\"1\"/></linearGradient></g></defs><g class=\"bglayer\"/><g class=\"layer-below\"><g class=\"imagelayer\"/><g class=\"shapelayer\"/></g><g class=\"cartesianlayer\"><g class=\"subplot xy\"><g class=\"layer-subplot\"><g class=\"shapelayer\"/><g class=\"imagelayer\"/></g><g class=\"gridlayer\"><g class=\"x\"><path class=\"xgrid crisp\" transform=\"translate(116.23429425488479,0)\" d=\"M0,63.83858267716535v356.5936679790026\" style=\"stroke: rgb(0, 0, 0); stroke-opacity: 0.1; stroke-width: 0.5px;\"/><path class=\"xgrid crisp\" transform=\"translate(197.9842942548848,0)\" d=\"M0,63.83858267716535v356.5936679790026\" style=\"stroke: rgb(0, 0, 0); stroke-opacity: 0.1; stroke-width: 0.5px;\"/><path class=\"xgrid crisp\" transform=\"translate(279.7242942548848,0)\" d=\"M0,63.83858267716535v356.5936679790026\" style=\"stroke: rgb(0, 0, 0); stroke-opacity: 0.1; stroke-width: 0.5px;\"/><path class=\"xgrid crisp\" transform=\"translate(361.4642942548848,0)\" d=\"M0,63.83858267716535v356.5936679790026\" style=\"stroke: rgb(0, 0, 0); stroke-opacity: 0.1; stroke-width: 0.5px;\"/><path class=\"xgrid crisp\" transform=\"translate(443.2042942548848,0)\" d=\"M0,63.83858267716535v356.5936679790026\" style=\"stroke: rgb(0, 0, 0); stroke-opacity: 0.1; stroke-width: 0.5px;\"/><path class=\"xgrid crisp\" transform=\"translate(524.9542942548849,0)\" d=\"M0,63.83858267716535v356.5936679790026\" style=\"stroke: rgb(0, 0, 0); stroke-opacity: 0.1; stroke-width: 0.5px;\"/></g><g class=\"y\"><path class=\"ygrid crisp\" transform=\"translate(0,413.1585826771653)\" d=\"M108.35429425488479,0h488.03678186060074\" style=\"stroke: rgb(0, 0, 0); stroke-opacity: 0.1; stroke-width: 0.5px;\"/><path class=\"ygrid crisp\" transform=\"translate(0,356.5985826771653)\" d=\"M108.35429425488479,0h488.03678186060074\" style=\"stroke: rgb(0, 0, 0); stroke-opacity: 0.1; stroke-width: 0.5px;\"/><path class=\"ygrid crisp\" transform=\"translate(0,300.0385826771653)\" d=\"M108.35429425488479,0h488.03678186060074\" style=\"stroke: rgb(0, 0, 0); stroke-opacity: 0.1; stroke-width: 0.5px;\"/><path class=\"ygrid crisp\" transform=\"translate(0,243.47858267716532)\" d=\"M108.35429425488479,0h488.03678186060074\" style=\"stroke: rgb(0, 0, 0); stroke-opacity: 0.1; stroke-width: 0.5px;\"/><path class=\"ygrid crisp\" transform=\"translate(0,186.91858267716535)\" d=\"M108.35429425488479,0h488.03678186060074\" style=\"stroke: rgb(0, 0, 0); stroke-opacity: 0.1; stroke-width: 0.5px;\"/><path class=\"ygrid crisp\" transform=\"translate(0,130.35858267716534)\" d=\"M108.35429425488479,0h488.03678186060074\" style=\"stroke: rgb(0, 0, 0); stroke-opacity: 0.1; stroke-width: 0.5px;\"/><path class=\"ygrid crisp\" transform=\"translate(0,73.79858267716534)\" d=\"M108.35429425488479,0h488.03678186060074\" style=\"stroke: rgb(0, 0, 0); stroke-opacity: 0.1; stroke-width: 0.5px;\"/></g></g><g class=\"zerolinelayer\"/><path class=\"xlines-below\"/><path class=\"ylines-below\"/><g class=\"overlines-below\"/><g class=\"xaxislayer-below\"/><g class=\"yaxislayer-below\"/><g class=\"overaxes-below\"/><g class=\"plot\" transform=\"translate(108.35429425488479,63.83858267716535)\" clip-path=\"url('#clip792ba0xyplot')\"><g class=\"scatterlayer mlayer\"><g class=\"trace scatter tracece5ed7\" style=\"stroke-miterlimit: 2; opacity: 1;\"><g class=\"fills\"/><g class=\"errorbars\"/><g class=\"lines\"/><g class=\"points\"><path class=\"point\" transform=\"translate(312.29,192.5)\" d=\"M5,0A5,5 0 1,1 0,-5A5,5 0 0,1 5,0Z\" style=\"opacity: 1; stroke-width: 0px; fill: rgb(238, 238, 238); fill-opacity: 1;\"/></g><g class=\"text\"/></g><g class=\"trace scatter tracecb3af4\" style=\"stroke-miterlimit: 2; opacity: 1;\"><g class=\"fills\"/><g class=\"errorbars\"/><g class=\"lines\"/><g class=\"points\"><path class=\"point\" transform=\"translate(36.36,24.88)\" d=\"M5,0A5,5 0 1,1 0,-5A5,5 0 0,1 5,0Z\" style=\"opacity: 1; stroke-width: 0px; fill: rgb(241, 241, 241); fill-opacity: 1;\"/></g><g class=\"text\"/></g><g class=\"trace scatter trace3d6fc4\" style=\"stroke-miterlimit: 2; opacity: 1;\"><g class=\"fills\"/><g class=\"errorbars\"/><g class=\"lines\"/><g class=\"points\"><path class=\"point\" transform=\"translate(90.75,183.53)\" d=\"M5,0A5,5 0 1,1 0,-5A5,5 0 0,1 5,0Z\" style=\"opacity: 1; stroke-width: 0px; fill: rgb(242, 242, 242); fill-opacity: 1;\"/></g><g class=\"text\"/></g><g class=\"trace scatter trace93ef9e\" style=\"stroke-miterlimit: 2; opacity: 1;\"><g class=\"fills\"/><g class=\"errorbars\"/><g class=\"lines\"/><g class=\"points\"><path class=\"point\" transform=\"translate(67.13,281.26)\" d=\"M5,0A5,5 0 1,1 0,-5A5,5 0 0,1 5,0Z\" style=\"opacity: 1; stroke-width: 0px; fill: rgb(242, 242, 242); fill-opacity: 1;\"/></g><g class=\"text\"/></g><g class=\"trace scatter tracea69926\" style=\"stroke-miterlimit: 2; opacity: 1;\"><g class=\"fills\"/><g class=\"errorbars\"/><g class=\"lines\"/><g class=\"points\"><path class=\"point\" transform=\"translate(253.53,162.68)\" d=\"M5,0A5,5 0 1,1 0,-5A5,5 0 0,1 5,0Z\" style=\"opacity: 1; stroke-width: 0px; fill: rgb(238, 238, 238); fill-opacity: 1;\"/></g><g class=\"text\"/></g><g class=\"trace scatter trace764f20\" style=\"stroke-miterlimit: 2; opacity: 1;\"><g class=\"fills\"/><g class=\"errorbars\"/><g class=\"lines\"/><g class=\"points\"><path class=\"point\" transform=\"translate(249.33,169.78)\" d=\"M5,0A5,5 0 1,1 0,-5A5,5 0 0,1 5,0Z\" style=\"opacity: 1; stroke-width: 0px; fill: rgb(234, 234, 234); fill-opacity: 1;\"/></g><g class=\"text\"/></g><g class=\"trace scatter trace0260b0\" style=\"stroke-miterlimit: 2; opacity: 1;\"><g class=\"fills\"/><g class=\"errorbars\"/><g class=\"lines\"/><g class=\"points\"><path class=\"point\" transform=\"translate(450.58,173.31)\" d=\"M5,0A5,5 0 1,1 0,-5A5,5 0 0,1 5,0Z\" style=\"opacity: 1; stroke-width: 0px; fill: rgb(84, 84, 84); fill-opacity: 1;\"/></g><g class=\"text\"/></g><g class=\"trace scatter trace511a6b\" style=\"stroke-miterlimit: 2; opacity: 1;\"><g class=\"fills\"/><g class=\"errorbars\"/><g class=\"lines\"/><g class=\"points\"><path class=\"point\" transform=\"translate(90.44,56.95)\" d=\"M5,0A5,5 0 1,1 0,-5A5,5 0 0,1 5,0Z\" style=\"opacity: 1; stroke-width: 0px; fill: rgb(210, 210, 210); fill-opacity: 1;\"/></g><g class=\"text\"/></g><g class=\"trace scatter trace316f6b\" style=\"stroke-miterlimit: 2; opacity: 1;\"><g class=\"fills\"/><g class=\"errorbars\"/><g class=\"lines\"/><g class=\"points\"><path class=\"point\" transform=\"translate(42.06,17.24)\" d=\"M5,0A5,5 0 1,1 0,-5A5,5 0 0,1 5,0Z\" style=\"opacity: 1; stroke-width: 0px; fill: rgb(240, 240, 240); fill-opacity: 1;\"/></g><g class=\"text\"/></g><g class=\"trace scatter trace62057f\" style=\"stroke-miterlimit: 2; opacity: 1;\"><g class=\"fills\"/><g class=\"errorbars\"/><g class=\"lines\"/><g class=\"points\"><path class=\"point\" transform=\"translate(69.63,341.47)\" d=\"M5,0A5,5 0 1,1 0,-5A5,5 0 0,1 5,0Z\" style=\"opacity: 1; stroke-width: 0px; fill: rgb(13, 13, 13); fill-opacity: 1;\"/></g><g class=\"text\"/></g><g class=\"trace scatter traced0978d\" style=\"stroke-miterlimit: 2; opacity: 1;\"><g class=\"fills\"/><g class=\"errorbars\"/><g class=\"lines\"/><g class=\"points\"><path class=\"point\" transform=\"translate(116.65,312.75)\" d=\"M5,0A5,5 0 1,1 0,-5A5,5 0 0,1 5,0Z\" style=\"opacity: 1; stroke-width: 0px; fill: rgb(138, 138, 138); fill-opacity: 1;\"/></g><g class=\"text\"/></g><g class=\"trace scatter tracea2f671\" style=\"stroke-miterlimit: 2; opacity: 1;\"><g class=\"fills\"/><g class=\"errorbars\"/><g class=\"lines\"/><g class=\"points\"><path class=\"point\" transform=\"translate(49.58,343.07)\" d=\"M5,0A5,5 0 1,1 0,-5A5,5 0 0,1 5,0Z\" style=\"opacity: 1; stroke-width: 0px; fill: rgb(239, 239, 239); fill-opacity: 1;\"/></g><g class=\"text\"/></g><g class=\"trace scatter tracee7f807\" style=\"stroke-miterlimit: 2; opacity: 1;\"><g class=\"fills\"/><g class=\"errorbars\"/><g class=\"lines\"/><g class=\"points\"><path class=\"point\" transform=\"translate(32.69,346.5)\" d=\"M5,0A5,5 0 1,1 0,-5A5,5 0 0,1 5,0Z\" style=\"opacity: 1; stroke-width: 0px; fill: rgb(240, 240, 240); fill-opacity: 1;\"/></g><g class=\"text\"/></g><g class=\"trace scatter trace8b6f41\" style=\"stroke-miterlimit: 2; opacity: 1;\"><g class=\"fills\"/><g class=\"errorbars\"/><g class=\"lines\"/><g class=\"points\"><path class=\"point\" transform=\"translate(32.46,23.77)\" d=\"M5,0A5,5 0 1,1 0,-5A5,5 0 0,1 5,0Z\" style=\"opacity: 1; stroke-width: 0px; fill: rgb(240, 240, 240); fill-opacity: 1;\"/></g><g class=\"text\"/></g><g class=\"trace scatter trace0d3bf6\" style=\"stroke-miterlimit: 2; opacity: 1;\"><g class=\"fills\"/><g class=\"errorbars\"/><g class=\"lines\"/><g class=\"points\"><path class=\"point\" transform=\"translate(45.15,329.89)\" d=\"M5,0A5,5 0 1,1 0,-5A5,5 0 0,1 5,0Z\" style=\"opacity: 1; stroke-width: 0px; fill: rgb(240, 240, 240); fill-opacity: 1;\"/></g><g class=\"text\"/></g><g class=\"trace scatter tracea8a7a4\" style=\"stroke-miterlimit: 2; opacity: 1;\"><g class=\"fills\"/><g class=\"errorbars\"/><g class=\"lines\"/><g class=\"points\"><path class=\"point\" transform=\"translate(159.95,90.55)\" d=\"M5,0A5,5 0 1,1 0,-5A5,5 0 0,1 5,0Z\" style=\"opacity: 1; stroke-width: 0px; fill: rgb(242, 242, 242); fill-opacity: 1;\"/></g><g class=\"text\"/></g><g class=\"trace scatter tracecb0a3e\" style=\"stroke-miterlimit: 2; opacity: 1;\"><g class=\"fills\"/><g class=\"errorbars\"/><g class=\"lines\"/><g class=\"points\"><path class=\"point\" transform=\"translate(13.81,10.09)\" d=\"M5,0A5,5 0 1,1 0,-5A5,5 0 0,1 5,0Z\" style=\"opacity: 1; stroke-width: 0px; fill: rgb(242, 242, 242); fill-opacity: 1;\"/></g><g class=\"text\"/></g><g class=\"trace scatter trace2733db\" style=\"stroke-miterlimit: 2; opacity: 1;\"><g class=\"fills\"/><g class=\"errorbars\"/><g class=\"lines\"/><g class=\"points\"><path class=\"point\" transform=\"translate(153.26,182.08)\" d=\"M5,0A5,5 0 1,1 0,-5A5,5 0 0,1 5,0Z\" style=\"opacity: 1; stroke-width: 0px; fill: rgb(242, 242, 242); fill-opacity: 1;\"/></g><g class=\"text\"/></g><g class=\"trace scatter tracebe030f\" style=\"stroke-miterlimit: 2; opacity: 1;\"><g class=\"fills\"/><g class=\"errorbars\"/><g class=\"lines\"/><g class=\"points\"><path class=\"point\" transform=\"translate(416.57,175.36)\" d=\"M5,0A5,5 0 1,1 0,-5A5,5 0 0,1 5,0Z\" style=\"opacity: 1; stroke-width: 0px; fill: rgb(242, 242, 242); fill-opacity: 1;\"/></g><g class=\"text\"/></g><g class=\"trace scatter tracea71d02\" style=\"stroke-miterlimit: 2; opacity: 1;\"><g class=\"fills\"/><g class=\"errorbars\"/><g class=\"lines\"/><g class=\"points\"><path class=\"point\" transform=\"translate(442.26,178.46)\" d=\"M5,0A5,5 0 1,1 0,-5A5,5 0 0,1 5,0Z\" style=\"opacity: 1; stroke-width: 0px; fill: rgb(242, 242, 242); fill-opacity: 1;\"/></g><g class=\"text\"/></g><g class=\"trace scatter tracebbc2e6\" style=\"stroke-miterlimit: 2; opacity: 1;\"><g class=\"fills\"/><g class=\"errorbars\"/><g class=\"lines\"/><g class=\"points\"><path class=\"point\" transform=\"translate(474.22,176.31)\" d=\"M5,0A5,5 0 1,1 0,-5A5,5 0 0,1 5,0Z\" style=\"opacity: 1; stroke-width: 0px; fill: rgb(242, 242, 242); fill-opacity: 1;\"/></g><g class=\"text\"/></g><g class=\"trace scatter trace17fb99\" style=\"stroke-miterlimit: 2; opacity: 1;\"><g class=\"fills\"/><g class=\"errorbars\"/><g class=\"lines\"/><g class=\"points\"><path class=\"point\" transform=\"translate(312.29,192.5)\" d=\"M0,0A0,0 0 1,1 0,-0A0,0 0 0,1 0,0Z\" style=\"opacity: 1e-10; stroke-width: 0px; fill: rgb(13, 13, 13); fill-opacity: 1;\"/></g><g class=\"text\"/></g><g class=\"trace scatter trace230047\" style=\"stroke-miterlimit: 2; opacity: 1;\"><g class=\"fills\"/><g class=\"errorbars\"/><g class=\"lines\"/><g class=\"points\"><path class=\"point\" transform=\"translate(312.29,192.5)\" d=\"M9.1,0L0,9.1L-9.1,0L0,-9.1Z\" style=\"opacity: 1; stroke-width: 0px; fill: rgb(76, 204, 76); fill-opacity: 0.3;\"/></g><g class=\"text\"/></g><g class=\"trace scatter trace765ec9\" style=\"stroke-miterlimit: 2; opacity: 1;\"><g class=\"fills\"/><g class=\"errorbars\"/><g class=\"lines\"/><g class=\"points\"><path class=\"point\" transform=\"translate(474.22,176.31)\" d=\"M9.1,0L0,9.1L-9.1,0L0,-9.1Z\" style=\"opacity: 1; stroke-width: 0px; fill: rgb(255, 76, 76); fill-opacity: 0.3;\"/></g><g class=\"text\"/></g></g></g><g class=\"overplot\"/><path class=\"xlines-above crisp\" d=\"M107.35429425488479,420.9322506561679H596.3910761154855\" style=\"fill: none; stroke-width: 1px; stroke: rgb(0, 0, 0); stroke-opacity: 1;\"/><path class=\"ylines-above crisp\" d=\"M107.85429425488479,63.83858267716535V420.4322506561679\" style=\"fill: none; stroke-width: 1px; stroke: rgb(0, 0, 0); stroke-opacity: 1;\"/><g class=\"overlines-above\"/><g class=\"xaxislayer-above\"><path class=\"xtick ticks crisp\" d=\"M0,420.4322506561679v-5\" transform=\"translate(116.23429425488479,0)\" style=\"stroke: rgb(0, 0, 0); stroke-opacity: 1; stroke-width: 1px;\"/><path class=\"xtick ticks crisp\" d=\"M0,420.4322506561679v-5\" transform=\"translate(197.9842942548848,0)\" style=\"stroke: rgb(0, 0, 0); stroke-opacity: 1; stroke-width: 1px;\"/><path class=\"xtick ticks crisp\" d=\"M0,420.4322506561679v-5\" transform=\"translate(279.7242942548848,0)\" style=\"stroke: rgb(0, 0, 0); stroke-opacity: 1; stroke-width: 1px;\"/><path class=\"xtick ticks crisp\" d=\"M0,420.4322506561679v-5\" transform=\"translate(361.4642942548848,0)\" style=\"stroke: rgb(0, 0, 0); stroke-opacity: 1; stroke-width: 1px;\"/><path class=\"xtick ticks crisp\" d=\"M0,420.4322506561679v-5\" transform=\"translate(443.2042942548848,0)\" style=\"stroke: rgb(0, 0, 0); stroke-opacity: 1; stroke-width: 1px;\"/><path class=\"xtick ticks crisp\" d=\"M0,420.4322506561679v-5\" transform=\"translate(524.9542942548849,0)\" style=\"stroke: rgb(0, 0, 0); stroke-opacity: 1; stroke-width: 1px;\"/><g class=\"xtick\"><text text-anchor=\"middle\" x=\"0\" y=\"434.6322506561679\" transform=\"translate(116.23429425488479,0)\" style=\"font-family: sans-serif; font-size: 11px; fill: rgb(0, 0, 0); fill-opacity: 1; white-space: pre;\">-0.2</text></g><g class=\"xtick\"><text text-anchor=\"middle\" x=\"0\" y=\"434.6322506561679\" transform=\"translate(197.9842942548848,0)\" style=\"font-family: sans-serif; font-size: 11px; fill: rgb(0, 0, 0); fill-opacity: 1; white-space: pre;\">-0.1</text></g><g class=\"xtick\"><text text-anchor=\"middle\" x=\"0\" y=\"434.6322506561679\" transform=\"translate(279.7242942548848,0)\" style=\"font-family: sans-serif; font-size: 11px; fill: rgb(0, 0, 0); fill-opacity: 1; white-space: pre;\">0.0</text></g><g class=\"xtick\"><text text-anchor=\"middle\" x=\"0\" y=\"434.6322506561679\" transform=\"translate(361.4642942548848,0)\" style=\"font-family: sans-serif; font-size: 11px; fill: rgb(0, 0, 0); fill-opacity: 1; white-space: pre;\">0.1</text></g><g class=\"xtick\"><text text-anchor=\"middle\" x=\"0\" y=\"434.6322506561679\" transform=\"translate(443.2042942548848,0)\" style=\"font-family: sans-serif; font-size: 11px; fill: rgb(0, 0, 0); fill-opacity: 1; white-space: pre;\">0.2</text></g><g class=\"xtick\"><text text-anchor=\"middle\" x=\"0\" y=\"434.6322506561679\" transform=\"translate(524.9542942548849,0)\" style=\"font-family: sans-serif; font-size: 11px; fill: rgb(0, 0, 0); fill-opacity: 1; white-space: pre;\">0.3</text></g></g><g class=\"yaxislayer-above\"><path class=\"ytick ticks crisp\" d=\"M108.35429425488479,0h5\" transform=\"translate(0,413.1585826771653)\" style=\"stroke: rgb(0, 0, 0); stroke-opacity: 1; stroke-width: 1px;\"/><path class=\"ytick ticks crisp\" d=\"M108.35429425488479,0h5\" transform=\"translate(0,356.5985826771653)\" style=\"stroke: rgb(0, 0, 0); stroke-opacity: 1; stroke-width: 1px;\"/><path class=\"ytick ticks crisp\" d=\"M108.35429425488479,0h5\" transform=\"translate(0,300.0385826771653)\" style=\"stroke: rgb(0, 0, 0); stroke-opacity: 1; stroke-width: 1px;\"/><path class=\"ytick ticks crisp\" d=\"M108.35429425488479,0h5\" transform=\"translate(0,243.47858267716532)\" style=\"stroke: rgb(0, 0, 0); stroke-opacity: 1; stroke-width: 1px;\"/><path class=\"ytick ticks crisp\" d=\"M108.35429425488479,0h5\" transform=\"translate(0,186.91858267716535)\" style=\"stroke: rgb(0, 0, 0); stroke-opacity: 1; stroke-width: 1px;\"/><path class=\"ytick ticks crisp\" d=\"M108.35429425488479,0h5\" transform=\"translate(0,130.35858267716534)\" style=\"stroke: rgb(0, 0, 0); stroke-opacity: 1; stroke-width: 1px;\"/><path class=\"ytick ticks crisp\" d=\"M108.35429425488479,0h5\" transform=\"translate(0,73.79858267716534)\" style=\"stroke: rgb(0, 0, 0); stroke-opacity: 1; stroke-width: 1px;\"/><g class=\"ytick\"><text text-anchor=\"end\" x=\"105.15429425488479\" y=\"3.8499999999999996\" transform=\"translate(0,413.1585826771653)\" style=\"font-family: sans-serif; font-size: 11px; fill: rgb(0, 0, 0); fill-opacity: 1; white-space: pre;\">-0.15</text></g><g class=\"ytick\"><text text-anchor=\"end\" x=\"105.15429425488479\" y=\"3.8499999999999996\" transform=\"translate(0,356.5985826771653)\" style=\"font-family: sans-serif; font-size: 11px; fill: rgb(0, 0, 0); fill-opacity: 1; white-space: pre;\">-0.10</text></g><g class=\"ytick\"><text text-anchor=\"end\" x=\"105.15429425488479\" y=\"3.8499999999999996\" transform=\"translate(0,300.0385826771653)\" style=\"font-family: sans-serif; font-size: 11px; fill: rgb(0, 0, 0); fill-opacity: 1; white-space: pre;\">-0.05</text></g><g class=\"ytick\"><text text-anchor=\"end\" x=\"105.15429425488479\" y=\"3.8499999999999996\" transform=\"translate(0,243.47858267716532)\" style=\"font-family: sans-serif; font-size: 11px; fill: rgb(0, 0, 0); fill-opacity: 1; white-space: pre;\">0.00</text></g><g class=\"ytick\"><text text-anchor=\"end\" x=\"105.15429425488479\" y=\"3.8499999999999996\" transform=\"translate(0,186.91858267716535)\" style=\"font-family: sans-serif; font-size: 11px; fill: rgb(0, 0, 0); fill-opacity: 1; white-space: pre;\">0.05</text></g><g class=\"ytick\"><text text-anchor=\"end\" x=\"105.15429425488479\" y=\"3.8499999999999996\" transform=\"translate(0,130.35858267716534)\" style=\"font-family: sans-serif; font-size: 11px; fill: rgb(0, 0, 0); fill-opacity: 1; white-space: pre;\">0.10</text></g><g class=\"ytick\"><text text-anchor=\"end\" x=\"105.15429425488479\" y=\"3.8499999999999996\" transform=\"translate(0,73.79858267716534)\" style=\"font-family: sans-serif; font-size: 11px; fill: rgb(0, 0, 0); fill-opacity: 1; white-space: pre;\">0.15</text></g></g><g class=\"overaxes-above\"/></g></g><g class=\"polarlayer\"/><g class=\"ternarylayer\"/><g class=\"geolayer\"/><g class=\"funnelarealayer\"/><g class=\"pielayer\"/><g class=\"treemaplayer\"/><g class=\"sunburstlayer\"/><g class=\"glimages\"/><defs id=\"topdefs-792ba0\"><g class=\"clips\"/></defs><g class=\"layer-above\"><g class=\"imagelayer\"/><g class=\"shapelayer\"/></g><g class=\"infolayer\"><g class=\"cb17fb99 colorbar\" transform=\"translate(50,60)\"><rect class=\"cbbg\" x=\"561\" y=\"0\" width=\"77.265625\" height=\"390\" style=\"fill: rgb(0, 0, 0); fill-opacity: 0; stroke: rgb(68, 68, 68); stroke-opacity: 1; stroke-width: 0;\"/><g class=\"cbfills\" transform=\"translate(0,10)\"><rect class=\"cbfill\" x=\"571\" width=\"30\" y=\"0\" height=\"370\" style=\"fill: url('#g792ba0-cb17fb99');\"/></g><g class=\"cblines\" transform=\"translate(0,10)\"/><g class=\"cbaxis crisp\" transform=\"translate(0,-60)\"><g class=\"ycb17fb99tick\"><text text-anchor=\"start\" x=\"603.9\" y=\"4.199999999999999\" transform=\"translate(0,395.18)\" style=\"font-family: 'Open Sans', verdana, arial, sans-serif; font-size: 12px; fill: rgb(42, 63, 95); fill-opacity: 1; white-space: pre;\">0.05</text></g><g class=\"ycb17fb99tick\"><text text-anchor=\"start\" x=\"603.9\" y=\"4.199999999999999\" transform=\"translate(0,348.51)\" style=\"font-family: 'Open Sans', verdana, arial, sans-serif; font-size: 12px; fill: rgb(42, 63, 95); fill-opacity: 1; white-space: pre;\">0.1</text></g><g class=\"ycb17fb99tick\"><text text-anchor=\"start\" x=\"603.9\" y=\"4.199999999999999\" transform=\"translate(0,301.85)\" style=\"font-family: 'Open Sans', verdana, arial, sans-serif; font-size: 12px; fill: rgb(42, 63, 95); fill-opacity: 1; white-space: pre;\">0.15</text></g><g class=\"ycb17fb99tick\"><text text-anchor=\"start\" x=\"603.9\" y=\"4.199999999999999\" transform=\"translate(0,255.18)\" style=\"font-family: 'Open Sans', verdana, arial, sans-serif; font-size: 12px; fill: rgb(42, 63, 95); fill-opacity: 1; white-space: pre;\">0.2</text></g><g class=\"ycb17fb99tick\"><text text-anchor=\"start\" x=\"603.9\" y=\"4.199999999999999\" transform=\"translate(0,208.52)\" style=\"font-family: 'Open Sans', verdana, arial, sans-serif; font-size: 12px; fill: rgb(42, 63, 95); fill-opacity: 1; white-space: pre;\">0.25</text></g><g class=\"ycb17fb99tick\"><text text-anchor=\"start\" x=\"603.9\" y=\"4.199999999999999\" transform=\"translate(0,161.86)\" style=\"font-family: 'Open Sans', verdana, arial, sans-serif; font-size: 12px; fill: rgb(42, 63, 95); fill-opacity: 1; white-space: pre;\">0.3</text></g><g class=\"ycb17fb99tick\"><text text-anchor=\"start\" x=\"603.9\" y=\"4.199999999999999\" transform=\"translate(0,115.19)\" style=\"font-family: 'Open Sans', verdana, arial, sans-serif; font-size: 12px; fill: rgb(42, 63, 95); fill-opacity: 1; white-space: pre;\">0.35</text></g></g><g class=\"cbtitleunshift\" transform=\"translate(-50,-60)\"><g class=\"cbtitle\"/></g><rect class=\"cboutline\" x=\"571\" y=\"10\" width=\"30\" height=\"370\" style=\"stroke: rgb(68, 68, 68); stroke-opacity: 1; fill: none; stroke-width: 0;\"/></g><g class=\"g-gtitle\"/><g class=\"g-xtitle\"><text class=\"xtitle\" x=\"352.37268518518516\" y=\"462.640625\" text-anchor=\"middle\" style=\"font-family: sans-serif; font-size: 15px; fill: rgb(0, 0, 0); opacity: 1; font-weight: normal; white-space: pre;\">X</text></g><g class=\"g-ytitle\"><text class=\"ytitle\" transform=\"rotate(-90,54.578125,242.13541666666663)\" x=\"54.578125\" y=\"242.13541666666663\" text-anchor=\"middle\" style=\"font-family: sans-serif; font-size: 15px; fill: rgb(0, 0, 0); opacity: 1; font-weight: normal; white-space: pre;\">Y</text></g></g></svg>",
      "text/html": [
       "<script src=\"https://cdn.plot.ly/plotly-2.6.3.min.js\"></script>    <div id=\"f4a1b262-04db-4506-807a-9f40279c92b8\" style=\"width:600px;height:400px;\"></div>\n",
       "    <script>\n",
       "    \n",
       "        Plotly.newPlot('f4a1b262-04db-4506-807a-9f40279c92b8', [\n",
       "    {\n",
       "        \"xaxis\": \"x\",\n",
       "        \"colorbar\": {\n",
       "            \"title\": \"\"\n",
       "        },\n",
       "        \"yaxis\": \"y\",\n",
       "        \"x\": [\n",
       "            0.17239873159266156\n",
       "        ],\n",
       "        \"showlegend\": true,\n",
       "        \"mode\": \"markers\",\n",
       "        \"name\": \"y1\",\n",
       "        \"zmin\": 0.0019723865877712033,\n",
       "        \"legendgroup\": \"y1\",\n",
       "        \"marker\": {\n",
       "            \"symbol\": \"circle\",\n",
       "            \"color\": \"rgba(238, 238, 238, 1.000)\",\n",
       "            \"line\": {\n",
       "                \"color\": \"rgba(0, 0, 0, 1.000)\",\n",
       "                \"width\": 0\n",
       "            },\n",
       "            \"size\": 10\n",
       "        },\n",
       "        \"zmax\": 0.398422090729783,\n",
       "        \"y\": [\n",
       "            -0.011370552769986109\n",
       "        ],\n",
       "        \"type\": \"scatter\"\n",
       "    },\n",
       "    {\n",
       "        \"xaxis\": \"x\",\n",
       "        \"colorbar\": {\n",
       "            \"title\": \"\"\n",
       "        },\n",
       "        \"yaxis\": \"y\",\n",
       "        \"x\": [\n",
       "            -0.16516518691245405\n",
       "        ],\n",
       "        \"showlegend\": false,\n",
       "        \"mode\": \"markers\",\n",
       "        \"name\": \"y1\",\n",
       "        \"zmin\": 0.0019723865877712033,\n",
       "        \"legendgroup\": \"y1\",\n",
       "        \"marker\": {\n",
       "            \"symbol\": \"circle\",\n",
       "            \"color\": \"rgba(241, 241, 241, 1.000)\",\n",
       "            \"line\": {\n",
       "                \"color\": \"rgba(0, 0, 0, 1.000)\",\n",
       "                \"width\": 0\n",
       "            },\n",
       "            \"size\": 10\n",
       "        },\n",
       "        \"zmax\": 0.398422090729783,\n",
       "        \"y\": [\n",
       "            0.13680491636011768\n",
       "        ],\n",
       "        \"type\": \"scatter\"\n",
       "    },\n",
       "    {\n",
       "        \"xaxis\": \"x\",\n",
       "        \"colorbar\": {\n",
       "            \"title\": \"\"\n",
       "        },\n",
       "        \"yaxis\": \"y\",\n",
       "        \"x\": [\n",
       "            -0.09862311595720927\n",
       "        ],\n",
       "        \"showlegend\": false,\n",
       "        \"mode\": \"markers\",\n",
       "        \"name\": \"y1\",\n",
       "        \"zmin\": 0.0019723865877712033,\n",
       "        \"legendgroup\": \"y1\",\n",
       "        \"marker\": {\n",
       "            \"symbol\": \"circle\",\n",
       "            \"color\": \"rgba(242, 242, 242, 1.000)\",\n",
       "            \"line\": {\n",
       "                \"color\": \"rgba(0, 0, 0, 1.000)\",\n",
       "                \"width\": 0\n",
       "            },\n",
       "            \"size\": 10\n",
       "        },\n",
       "        \"zmax\": 0.398422090729783,\n",
       "        \"y\": [\n",
       "            -0.0034369841308780815\n",
       "        ],\n",
       "        \"type\": \"scatter\"\n",
       "    },\n",
       "    {\n",
       "        \"xaxis\": \"x\",\n",
       "        \"colorbar\": {\n",
       "            \"title\": \"\"\n",
       "        },\n",
       "        \"yaxis\": \"y\",\n",
       "        \"x\": [\n",
       "            -0.12751346107846745\n",
       "        ],\n",
       "        \"showlegend\": false,\n",
       "        \"mode\": \"markers\",\n",
       "        \"name\": \"y1\",\n",
       "        \"zmin\": 0.0019723865877712033,\n",
       "        \"legendgroup\": \"y1\",\n",
       "        \"marker\": {\n",
       "            \"symbol\": \"circle\",\n",
       "            \"color\": \"rgba(242, 242, 242, 1.000)\",\n",
       "            \"line\": {\n",
       "                \"color\": \"rgba(0, 0, 0, 1.000)\",\n",
       "                \"width\": 0\n",
       "            },\n",
       "            \"size\": 10\n",
       "        },\n",
       "        \"zmax\": 0.398422090729783,\n",
       "        \"y\": [\n",
       "            -0.08983404112111884\n",
       "        ],\n",
       "        \"type\": \"scatter\"\n",
       "    },\n",
       "    {\n",
       "        \"xaxis\": \"x\",\n",
       "        \"colorbar\": {\n",
       "            \"title\": \"\"\n",
       "        },\n",
       "        \"yaxis\": \"y\",\n",
       "        \"x\": [\n",
       "            0.10050782546592402\n",
       "        ],\n",
       "        \"showlegend\": false,\n",
       "        \"mode\": \"markers\",\n",
       "        \"name\": \"y1\",\n",
       "        \"zmin\": 0.0019723865877712033,\n",
       "        \"legendgroup\": \"y1\",\n",
       "        \"marker\": {\n",
       "            \"symbol\": \"circle\",\n",
       "            \"color\": \"rgba(238, 238, 238, 1.000)\",\n",
       "            \"line\": {\n",
       "                \"color\": \"rgba(0, 0, 0, 1.000)\",\n",
       "                \"width\": 0\n",
       "            },\n",
       "            \"size\": 10\n",
       "        },\n",
       "        \"zmax\": 0.398422090729783,\n",
       "        \"y\": [\n",
       "            0.014990966154367524\n",
       "        ],\n",
       "        \"type\": \"scatter\"\n",
       "    },\n",
       "    {\n",
       "        \"xaxis\": \"x\",\n",
       "        \"colorbar\": {\n",
       "            \"title\": \"\"\n",
       "        },\n",
       "        \"yaxis\": \"y\",\n",
       "        \"x\": [\n",
       "            0.09537656615869902\n",
       "        ],\n",
       "        \"showlegend\": false,\n",
       "        \"mode\": \"markers\",\n",
       "        \"name\": \"y1\",\n",
       "        \"zmin\": 0.0019723865877712033,\n",
       "        \"legendgroup\": \"y1\",\n",
       "        \"marker\": {\n",
       "            \"symbol\": \"circle\",\n",
       "            \"color\": \"rgba(234, 234, 234, 1.000)\",\n",
       "            \"line\": {\n",
       "                \"color\": \"rgba(0, 0, 0, 1.000)\",\n",
       "                \"width\": 0\n",
       "            },\n",
       "            \"size\": 10\n",
       "        },\n",
       "        \"zmax\": 0.398422090729783,\n",
       "        \"y\": [\n",
       "            0.008717197363667792\n",
       "        ],\n",
       "        \"type\": \"scatter\"\n",
       "    },\n",
       "    {\n",
       "        \"xaxis\": \"x\",\n",
       "        \"colorbar\": {\n",
       "            \"title\": \"\"\n",
       "        },\n",
       "        \"yaxis\": \"y\",\n",
       "        \"x\": [\n",
       "            0.34157167533757343\n",
       "        ],\n",
       "        \"showlegend\": false,\n",
       "        \"mode\": \"markers\",\n",
       "        \"name\": \"y1\",\n",
       "        \"zmin\": 0.0019723865877712033,\n",
       "        \"legendgroup\": \"y1\",\n",
       "        \"marker\": {\n",
       "            \"symbol\": \"circle\",\n",
       "            \"color\": \"rgba(84, 84, 84, 1.000)\",\n",
       "            \"line\": {\n",
       "                \"color\": \"rgba(0, 0, 0, 1.000)\",\n",
       "                \"width\": 0\n",
       "            },\n",
       "            \"size\": 10\n",
       "        },\n",
       "        \"zmax\": 0.398422090729783,\n",
       "        \"y\": [\n",
       "            0.005591730225528068\n",
       "        ],\n",
       "        \"type\": \"scatter\"\n",
       "    },\n",
       "    {\n",
       "        \"xaxis\": \"x\",\n",
       "        \"colorbar\": {\n",
       "            \"title\": \"\"\n",
       "        },\n",
       "        \"yaxis\": \"y\",\n",
       "        \"x\": [\n",
       "            -0.09900201271608612\n",
       "        ],\n",
       "        \"showlegend\": false,\n",
       "        \"mode\": \"markers\",\n",
       "        \"name\": \"y1\",\n",
       "        \"zmin\": 0.0019723865877712033,\n",
       "        \"legendgroup\": \"y1\",\n",
       "        \"marker\": {\n",
       "            \"symbol\": \"circle\",\n",
       "            \"color\": \"rgba(210, 210, 210, 1.000)\",\n",
       "            \"line\": {\n",
       "                \"color\": \"rgba(0, 0, 0, 1.000)\",\n",
       "                \"width\": 0\n",
       "            },\n",
       "            \"size\": 10\n",
       "        },\n",
       "        \"zmax\": 0.398422090729783,\n",
       "        \"y\": [\n",
       "            0.10846105133896386\n",
       "        ],\n",
       "        \"type\": \"scatter\"\n",
       "    },\n",
       "    {\n",
       "        \"xaxis\": \"x\",\n",
       "        \"colorbar\": {\n",
       "            \"title\": \"\"\n",
       "        },\n",
       "        \"yaxis\": \"y\",\n",
       "        \"x\": [\n",
       "            -0.1581881286387548\n",
       "        ],\n",
       "        \"showlegend\": false,\n",
       "        \"mode\": \"markers\",\n",
       "        \"name\": \"y1\",\n",
       "        \"zmin\": 0.0019723865877712033,\n",
       "        \"legendgroup\": \"y1\",\n",
       "        \"marker\": {\n",
       "            \"symbol\": \"circle\",\n",
       "            \"color\": \"rgba(240, 240, 240, 1.000)\",\n",
       "            \"line\": {\n",
       "                \"color\": \"rgba(0, 0, 0, 1.000)\",\n",
       "                \"width\": 0\n",
       "            },\n",
       "            \"size\": 10\n",
       "        },\n",
       "        \"zmax\": 0.398422090729783,\n",
       "        \"y\": [\n",
       "            0.14356147777851183\n",
       "        ],\n",
       "        \"type\": \"scatter\"\n",
       "    },\n",
       "    {\n",
       "        \"xaxis\": \"x\",\n",
       "        \"colorbar\": {\n",
       "            \"title\": \"\"\n",
       "        },\n",
       "        \"yaxis\": \"y\",\n",
       "        \"x\": [\n",
       "            -0.12445798730172442\n",
       "        ],\n",
       "        \"showlegend\": false,\n",
       "        \"mode\": \"markers\",\n",
       "        \"name\": \"y1\",\n",
       "        \"zmin\": 0.0019723865877712033,\n",
       "        \"legendgroup\": \"y1\",\n",
       "        \"marker\": {\n",
       "            \"symbol\": \"circle\",\n",
       "            \"color\": \"rgba(13, 13, 13, 1.000)\",\n",
       "            \"line\": {\n",
       "                \"color\": \"rgba(0, 0, 0, 1.000)\",\n",
       "                \"width\": 0\n",
       "            },\n",
       "            \"size\": 10\n",
       "        },\n",
       "        \"zmax\": 0.398422090729783,\n",
       "        \"y\": [\n",
       "            -0.14305654994648345\n",
       "        ],\n",
       "        \"type\": \"scatter\"\n",
       "    },\n",
       "    {\n",
       "        \"xaxis\": \"x\",\n",
       "        \"colorbar\": {\n",
       "            \"title\": \"\"\n",
       "        },\n",
       "        \"yaxis\": \"y\",\n",
       "        \"x\": [\n",
       "            -0.0669333825714802\n",
       "        ],\n",
       "        \"showlegend\": false,\n",
       "        \"mode\": \"markers\",\n",
       "        \"name\": \"y1\",\n",
       "        \"zmin\": 0.0019723865877712033,\n",
       "        \"legendgroup\": \"y1\",\n",
       "        \"marker\": {\n",
       "            \"symbol\": \"circle\",\n",
       "            \"color\": \"rgba(138, 138, 138, 1.000)\",\n",
       "            \"line\": {\n",
       "                \"color\": \"rgba(0, 0, 0, 1.000)\",\n",
       "                \"width\": 0\n",
       "            },\n",
       "            \"size\": 10\n",
       "        },\n",
       "        \"zmax\": 0.398422090729783,\n",
       "        \"y\": [\n",
       "            -0.11766928801576787\n",
       "        ],\n",
       "        \"type\": \"scatter\"\n",
       "    },\n",
       "    {\n",
       "        \"xaxis\": \"x\",\n",
       "        \"colorbar\": {\n",
       "            \"title\": \"\"\n",
       "        },\n",
       "        \"yaxis\": \"y\",\n",
       "        \"x\": [\n",
       "            -0.14898740510997996\n",
       "        ],\n",
       "        \"showlegend\": false,\n",
       "        \"mode\": \"markers\",\n",
       "        \"name\": \"y1\",\n",
       "        \"zmin\": 0.0019723865877712033,\n",
       "        \"legendgroup\": \"y1\",\n",
       "        \"marker\": {\n",
       "            \"symbol\": \"circle\",\n",
       "            \"color\": \"rgba(239, 239, 239, 1.000)\",\n",
       "            \"line\": {\n",
       "                \"color\": \"rgba(0, 0, 0, 1.000)\",\n",
       "                \"width\": 0\n",
       "            },\n",
       "            \"size\": 10\n",
       "        },\n",
       "        \"zmax\": 0.398422090729783,\n",
       "        \"y\": [\n",
       "            -0.1444708358876986\n",
       "        ],\n",
       "        \"type\": \"scatter\"\n",
       "    },\n",
       "    {\n",
       "        \"xaxis\": \"x\",\n",
       "        \"colorbar\": {\n",
       "            \"title\": \"\"\n",
       "        },\n",
       "        \"yaxis\": \"y\",\n",
       "        \"x\": [\n",
       "            -0.16965401087225085\n",
       "        ],\n",
       "        \"showlegend\": false,\n",
       "        \"mode\": \"markers\",\n",
       "        \"name\": \"y1\",\n",
       "        \"zmin\": 0.0019723865877712033,\n",
       "        \"legendgroup\": \"y1\",\n",
       "        \"marker\": {\n",
       "            \"symbol\": \"circle\",\n",
       "            \"color\": \"rgba(240, 240, 240, 1.000)\",\n",
       "            \"line\": {\n",
       "                \"color\": \"rgba(0, 0, 0, 1.000)\",\n",
       "                \"width\": 0\n",
       "            },\n",
       "            \"size\": 10\n",
       "        },\n",
       "        \"zmax\": 0.398422090729783,\n",
       "        \"y\": [\n",
       "            -0.14750691936877147\n",
       "        ],\n",
       "        \"type\": \"scatter\"\n",
       "    },\n",
       "    {\n",
       "        \"xaxis\": \"x\",\n",
       "        \"colorbar\": {\n",
       "            \"title\": \"\"\n",
       "        },\n",
       "        \"yaxis\": \"y\",\n",
       "        \"x\": [\n",
       "            -0.16992951342159374\n",
       "        ],\n",
       "        \"showlegend\": false,\n",
       "        \"mode\": \"markers\",\n",
       "        \"name\": \"y1\",\n",
       "        \"zmin\": 0.0019723865877712033,\n",
       "        \"legendgroup\": \"y1\",\n",
       "        \"marker\": {\n",
       "            \"symbol\": \"circle\",\n",
       "            \"color\": \"rgba(240, 240, 240, 1.000)\",\n",
       "            \"line\": {\n",
       "                \"color\": \"rgba(0, 0, 0, 1.000)\",\n",
       "                \"width\": 0\n",
       "            },\n",
       "            \"size\": 10\n",
       "        },\n",
       "        \"zmax\": 0.398422090729783,\n",
       "        \"y\": [\n",
       "            0.13779031913030584\n",
       "        ],\n",
       "        \"type\": \"scatter\"\n",
       "    },\n",
       "    {\n",
       "        \"xaxis\": \"x\",\n",
       "        \"colorbar\": {\n",
       "            \"title\": \"\"\n",
       "        },\n",
       "        \"yaxis\": \"y\",\n",
       "        \"x\": [\n",
       "            -0.15440798977197287\n",
       "        ],\n",
       "        \"showlegend\": false,\n",
       "        \"mode\": \"markers\",\n",
       "        \"name\": \"y1\",\n",
       "        \"zmin\": 0.0019723865877712033,\n",
       "        \"legendgroup\": \"y1\",\n",
       "        \"marker\": {\n",
       "            \"symbol\": \"circle\",\n",
       "            \"color\": \"rgba(240, 240, 240, 1.000)\",\n",
       "            \"line\": {\n",
       "                \"color\": \"rgba(0, 0, 0, 1.000)\",\n",
       "                \"width\": 0\n",
       "            },\n",
       "            \"size\": 10\n",
       "        },\n",
       "        \"zmax\": 0.398422090729783,\n",
       "        \"y\": [\n",
       "            -0.132821983978835\n",
       "        ],\n",
       "        \"type\": \"scatter\"\n",
       "    },\n",
       "    {\n",
       "        \"xaxis\": \"x\",\n",
       "        \"colorbar\": {\n",
       "            \"title\": \"\"\n",
       "        },\n",
       "        \"yaxis\": \"y\",\n",
       "        \"x\": [\n",
       "            -0.013970340213282858\n",
       "        ],\n",
       "        \"showlegend\": false,\n",
       "        \"mode\": \"markers\",\n",
       "        \"name\": \"y1\",\n",
       "        \"zmin\": 0.0019723865877712033,\n",
       "        \"legendgroup\": \"y1\",\n",
       "        \"marker\": {\n",
       "            \"symbol\": \"circle\",\n",
       "            \"color\": \"rgba(242, 242, 242, 1.000)\",\n",
       "            \"line\": {\n",
       "                \"color\": \"rgba(0, 0, 0, 1.000)\",\n",
       "                \"width\": 0\n",
       "            },\n",
       "            \"size\": 10\n",
       "        },\n",
       "        \"zmax\": 0.398422090729783,\n",
       "        \"y\": [\n",
       "            0.07875287173870898\n",
       "        ],\n",
       "        \"type\": \"scatter\"\n",
       "    },\n",
       "    {\n",
       "        \"xaxis\": \"x\",\n",
       "        \"colorbar\": {\n",
       "            \"title\": \"\"\n",
       "        },\n",
       "        \"yaxis\": \"y\",\n",
       "        \"x\": [\n",
       "            -0.19274557194002553\n",
       "        ],\n",
       "        \"showlegend\": false,\n",
       "        \"mode\": \"markers\",\n",
       "        \"name\": \"y1\",\n",
       "        \"zmin\": 0.0019723865877712033,\n",
       "        \"legendgroup\": \"y1\",\n",
       "        \"marker\": {\n",
       "            \"symbol\": \"circle\",\n",
       "            \"color\": \"rgba(242, 242, 242, 1.000)\",\n",
       "            \"line\": {\n",
       "                \"color\": \"rgba(0, 0, 0, 1.000)\",\n",
       "                \"width\": 0\n",
       "            },\n",
       "            \"size\": 10\n",
       "        },\n",
       "        \"zmax\": 0.398422090729783,\n",
       "        \"y\": [\n",
       "            0.14988128293342642\n",
       "        ],\n",
       "        \"type\": \"scatter\"\n",
       "    },\n",
       "    {\n",
       "        \"xaxis\": \"x\",\n",
       "        \"colorbar\": {\n",
       "            \"title\": \"\"\n",
       "        },\n",
       "        \"yaxis\": \"y\",\n",
       "        \"x\": [\n",
       "            -0.022147425192061806\n",
       "        ],\n",
       "        \"showlegend\": false,\n",
       "        \"mode\": \"markers\",\n",
       "        \"name\": \"y1\",\n",
       "        \"zmin\": 0.0019723865877712033,\n",
       "        \"legendgroup\": \"y1\",\n",
       "        \"marker\": {\n",
       "            \"symbol\": \"circle\",\n",
       "            \"color\": \"rgba(242, 242, 242, 1.000)\",\n",
       "            \"line\": {\n",
       "                \"color\": \"rgba(0, 0, 0, 1.000)\",\n",
       "                \"width\": 0\n",
       "            },\n",
       "            \"size\": 10\n",
       "        },\n",
       "        \"zmax\": 0.398422090729783,\n",
       "        \"y\": [\n",
       "            -0.002155675767910818\n",
       "        ],\n",
       "        \"type\": \"scatter\"\n",
       "    },\n",
       "    {\n",
       "        \"xaxis\": \"x\",\n",
       "        \"colorbar\": {\n",
       "            \"title\": \"\"\n",
       "        },\n",
       "        \"yaxis\": \"y\",\n",
       "        \"x\": [\n",
       "            0.29997251018361626\n",
       "        ],\n",
       "        \"showlegend\": false,\n",
       "        \"mode\": \"markers\",\n",
       "        \"name\": \"y1\",\n",
       "        \"zmin\": 0.0019723865877712033,\n",
       "        \"legendgroup\": \"y1\",\n",
       "        \"marker\": {\n",
       "            \"symbol\": \"circle\",\n",
       "            \"color\": \"rgba(242, 242, 242, 1.000)\",\n",
       "            \"line\": {\n",
       "                \"color\": \"rgba(0, 0, 0, 1.000)\",\n",
       "                \"width\": 0\n",
       "            },\n",
       "            \"size\": 10\n",
       "        },\n",
       "        \"zmax\": 0.398422090729783,\n",
       "        \"y\": [\n",
       "            0.0037845240717888913\n",
       "        ],\n",
       "        \"type\": \"scatter\"\n",
       "    },\n",
       "    {\n",
       "        \"xaxis\": \"x\",\n",
       "        \"colorbar\": {\n",
       "            \"title\": \"\"\n",
       "        },\n",
       "        \"yaxis\": \"y\",\n",
       "        \"x\": [\n",
       "            0.33139943268351707\n",
       "        ],\n",
       "        \"showlegend\": false,\n",
       "        \"mode\": \"markers\",\n",
       "        \"name\": \"y1\",\n",
       "        \"zmin\": 0.0019723865877712033,\n",
       "        \"legendgroup\": \"y1\",\n",
       "        \"marker\": {\n",
       "            \"symbol\": \"circle\",\n",
       "            \"color\": \"rgba(242, 242, 242, 1.000)\",\n",
       "            \"line\": {\n",
       "                \"color\": \"rgba(0, 0, 0, 1.000)\",\n",
       "                \"width\": 0\n",
       "            },\n",
       "            \"size\": 10\n",
       "        },\n",
       "        \"zmax\": 0.398422090729783,\n",
       "        \"y\": [\n",
       "            0.0010453182877318223\n",
       "        ],\n",
       "        \"type\": \"scatter\"\n",
       "    },\n",
       "    {\n",
       "        \"xaxis\": \"x\",\n",
       "        \"colorbar\": {\n",
       "            \"title\": \"\"\n",
       "        },\n",
       "        \"yaxis\": \"y\",\n",
       "        \"x\": [\n",
       "            0.3704987902753526\n",
       "        ],\n",
       "        \"showlegend\": false,\n",
       "        \"mode\": \"markers\",\n",
       "        \"name\": \"y1\",\n",
       "        \"zmin\": 0.0019723865877712033,\n",
       "        \"legendgroup\": \"y1\",\n",
       "        \"marker\": {\n",
       "            \"symbol\": \"circle\",\n",
       "            \"color\": \"rgba(242, 242, 242, 1.000)\",\n",
       "            \"line\": {\n",
       "                \"color\": \"rgba(0, 0, 0, 1.000)\",\n",
       "                \"width\": 0\n",
       "            },\n",
       "            \"size\": 10\n",
       "        },\n",
       "        \"zmax\": 0.398422090729783,\n",
       "        \"y\": [\n",
       "            0.0029411756043315374\n",
       "        ],\n",
       "        \"type\": \"scatter\"\n",
       "    },\n",
       "    {\n",
       "        \"xaxis\": \"x\",\n",
       "        \"colorbar\": {\n",
       "            \"title\": \"\"\n",
       "        },\n",
       "        \"yaxis\": \"y\",\n",
       "        \"x\": [\n",
       "            0.17239873159266156\n",
       "        ],\n",
       "        \"showlegend\": false,\n",
       "        \"mode\": \"markers\",\n",
       "        \"name\": \"y1\",\n",
       "        \"zmin\": 0.0019723865877712033,\n",
       "        \"marker\": {\n",
       "            \"color\": [\n",
       "                0.5\n",
       "            ],\n",
       "            \"cmin\": 0.0019723865877712033,\n",
       "            \"opacity\": 1.0e-10,\n",
       "            \"size\": 1.0e-10,\n",
       "            \"colorscale\": [\n",
       "                [\n",
       "                    0.0,\n",
       "                    \"rgba(242, 242, 242, 1.000)\"\n",
       "                ],\n",
       "                [\n",
       "                    1.0,\n",
       "                    \"rgba(13, 13, 13, 1.000)\"\n",
       "                ]\n",
       "            ],\n",
       "            \"cmax\": 0.398422090729783,\n",
       "            \"showscale\": true\n",
       "        },\n",
       "        \"zmax\": 0.398422090729783,\n",
       "        \"y\": [\n",
       "            -0.011370552769986109\n",
       "        ],\n",
       "        \"type\": \"scatter\",\n",
       "        \"hoverinfo\": \"none\"\n",
       "    },\n",
       "    {\n",
       "        \"xaxis\": \"x\",\n",
       "        \"colorbar\": {\n",
       "            \"title\": \"\"\n",
       "        },\n",
       "        \"yaxis\": \"y\",\n",
       "        \"x\": [\n",
       "            0.17239873159266156\n",
       "        ],\n",
       "        \"showlegend\": true,\n",
       "        \"mode\": \"markers\",\n",
       "        \"name\": \"y2\",\n",
       "        \"zmin\": 0.0019723865877712033,\n",
       "        \"legendgroup\": \"y2\",\n",
       "        \"marker\": {\n",
       "            \"symbol\": \"diamond\",\n",
       "            \"color\": \"rgba(76, 204, 76, 0.300)\",\n",
       "            \"line\": {\n",
       "                \"color\": \"rgba(0, 0, 0, 0.300)\",\n",
       "                \"width\": 0\n",
       "            },\n",
       "            \"size\": 14\n",
       "        },\n",
       "        \"zmax\": 0.398422090729783,\n",
       "        \"y\": [\n",
       "            -0.011370552769986109\n",
       "        ],\n",
       "        \"type\": \"scatter\"\n",
       "    },\n",
       "    {\n",
       "        \"xaxis\": \"x\",\n",
       "        \"colorbar\": {\n",
       "            \"title\": \"\"\n",
       "        },\n",
       "        \"yaxis\": \"y\",\n",
       "        \"x\": [\n",
       "            0.3704987902753526\n",
       "        ],\n",
       "        \"showlegend\": true,\n",
       "        \"mode\": \"markers\",\n",
       "        \"name\": \"y3\",\n",
       "        \"zmin\": 0.0019723865877712033,\n",
       "        \"legendgroup\": \"y3\",\n",
       "        \"marker\": {\n",
       "            \"symbol\": \"diamond\",\n",
       "            \"color\": \"rgba(255, 76, 76, 0.300)\",\n",
       "            \"line\": {\n",
       "                \"color\": \"rgba(0, 0, 0, 0.300)\",\n",
       "                \"width\": 0\n",
       "            },\n",
       "            \"size\": 14\n",
       "        },\n",
       "        \"zmax\": 0.398422090729783,\n",
       "        \"y\": [\n",
       "            0.0029411756043315374\n",
       "        ],\n",
       "        \"type\": \"scatter\"\n",
       "    }\n",
       "]\n",
       ", {\n",
       "    \"showlegend\": false,\n",
       "    \"xaxis\": {\n",
       "        \"showticklabels\": true,\n",
       "        \"gridwidth\": 0.5,\n",
       "        \"tickvals\": [\n",
       "            -0.2,\n",
       "            -0.1,\n",
       "            0.0,\n",
       "            0.1,\n",
       "            0.2,\n",
       "            0.30000000000000004\n",
       "        ],\n",
       "        \"range\": [\n",
       "            -0.20964290280648687,\n",
       "            0.38739612114181393\n",
       "        ],\n",
       "        \"domain\": [\n",
       "            0.10609871682706327,\n",
       "            0.9934383202099737\n",
       "        ],\n",
       "        \"mirror\": false,\n",
       "        \"tickangle\": 0,\n",
       "        \"showline\": true,\n",
       "        \"ticktext\": [\n",
       "            \"-0.2\",\n",
       "            \"-0.1\",\n",
       "            \"0.0\",\n",
       "            \"0.1\",\n",
       "            \"0.2\",\n",
       "            \"0.3\"\n",
       "        ],\n",
       "        \"zeroline\": false,\n",
       "        \"tickfont\": {\n",
       "            \"color\": \"rgba(0, 0, 0, 1.000)\",\n",
       "            \"family\": \"sans-serif\",\n",
       "            \"size\": 11\n",
       "        },\n",
       "        \"zerolinecolor\": \"rgba(0, 0, 0, 1.000)\",\n",
       "        \"anchor\": \"y\",\n",
       "        \"visible\": true,\n",
       "        \"ticks\": \"inside\",\n",
       "        \"tickmode\": \"array\",\n",
       "        \"linecolor\": \"rgba(0, 0, 0, 1.000)\",\n",
       "        \"showgrid\": true,\n",
       "        \"title\": \"X\",\n",
       "        \"gridcolor\": \"rgba(0, 0, 0, 0.100)\",\n",
       "        \"titlefont\": {\n",
       "            \"color\": \"rgba(0, 0, 0, 1.000)\",\n",
       "            \"family\": \"sans-serif\",\n",
       "            \"size\": 15\n",
       "        },\n",
       "        \"tickcolor\": \"rgb(0, 0, 0)\",\n",
       "        \"type\": \"-\"\n",
       "    },\n",
       "    \"paper_bgcolor\": \"rgba(255, 255, 255, 1.000)\",\n",
       "    \"annotations\": [],\n",
       "    \"height\": 400,\n",
       "    \"margin\": {\n",
       "        \"l\": 0,\n",
       "        \"b\": 20,\n",
       "        \"r\": 0,\n",
       "        \"t\": 20\n",
       "    },\n",
       "    \"plot_bgcolor\": \"rgba(255, 255, 255, 1.000)\",\n",
       "    \"yaxis\": {\n",
       "        \"showticklabels\": true,\n",
       "        \"gridwidth\": 0.5,\n",
       "        \"tickvals\": [\n",
       "            -0.15000000000000002,\n",
       "            -0.1,\n",
       "            -0.05,\n",
       "            0.0,\n",
       "            0.05,\n",
       "            0.1,\n",
       "            0.15000000000000002\n",
       "        ],\n",
       "        \"range\": [\n",
       "            -0.1564285654378374,\n",
       "            0.15880292900249235\n",
       "        ],\n",
       "        \"domain\": [\n",
       "            0.07581474190726165,\n",
       "            0.9901574803149606\n",
       "        ],\n",
       "        \"mirror\": false,\n",
       "        \"tickangle\": 0,\n",
       "        \"showline\": true,\n",
       "        \"ticktext\": [\n",
       "            \"-0.15\",\n",
       "            \"-0.10\",\n",
       "            \"-0.05\",\n",
       "            \"0.00\",\n",
       "            \"0.05\",\n",
       "            \"0.10\",\n",
       "            \"0.15\"\n",
       "        ],\n",
       "        \"zeroline\": false,\n",
       "        \"tickfont\": {\n",
       "            \"color\": \"rgba(0, 0, 0, 1.000)\",\n",
       "            \"family\": \"sans-serif\",\n",
       "            \"size\": 11\n",
       "        },\n",
       "        \"zerolinecolor\": \"rgba(0, 0, 0, 1.000)\",\n",
       "        \"anchor\": \"x\",\n",
       "        \"visible\": true,\n",
       "        \"ticks\": \"inside\",\n",
       "        \"tickmode\": \"array\",\n",
       "        \"linecolor\": \"rgba(0, 0, 0, 1.000)\",\n",
       "        \"showgrid\": true,\n",
       "        \"title\": \"Y\",\n",
       "        \"gridcolor\": \"rgba(0, 0, 0, 0.100)\",\n",
       "        \"titlefont\": {\n",
       "            \"color\": \"rgba(0, 0, 0, 1.000)\",\n",
       "            \"family\": \"sans-serif\",\n",
       "            \"size\": 15\n",
       "        },\n",
       "        \"tickcolor\": \"rgb(0, 0, 0)\",\n",
       "        \"type\": \"-\"\n",
       "    },\n",
       "    \"width\": 600\n",
       "}\n",
       ");\n",
       "\n",
       "    \n",
       "    </script>\n"
      ]
     },
     "metadata": {},
     "output_type": "display_data"
    }
   ],
   "source": [
    "# 2D\n",
    "plotlyjs()\n",
    "plot()\n",
    "\n",
    "scatter!(X,Y,zcolor=occp,m=cgrad(:grays,rev=true),markerstrokewidth=0,markersize=5,legend=false)\n",
    "\n",
    "plot!([X[1]],[Y[1]], seriestype = :scatter, markersize=7,markerstrokewidth=0,\n",
    "        color=color=palette(:lighttest)[4],markershape=:diamond,opacity=0.3) # Green for Si\n",
    "plot!([X[end]],[Y[end]], seriestype = :scatter, markersize=7,markerstrokewidth=0,\n",
    "        color=color=palette(:lighttest)[7],markershape=:diamond,opacity=0.3) # Red for Sf\n",
    "plot!(xlabel=\"X\", ylabel=\"Y\")"
   ]
  },
  {
   "cell_type": "code",
   "execution_count": null,
   "metadata": {},
   "outputs": [],
   "source": []
  }
 ],
 "metadata": {
  "kernelspec": {
   "display_name": "Julia 1.7.1",
   "language": "julia",
   "name": "julia-1.7"
  },
  "language_info": {
   "file_extension": ".jl",
   "mimetype": "application/julia",
   "name": "julia",
   "version": "1.7.1"
  },
  "orig_nbformat": 4,
  "vscode": {
   "interpreter": {
    "hash": "ea74b93ac9e7811602c08a361774dd63978ccb77fd41741e44bac173bcf29139"
   }
  }
 },
 "nbformat": 4,
 "nbformat_minor": 2
}
