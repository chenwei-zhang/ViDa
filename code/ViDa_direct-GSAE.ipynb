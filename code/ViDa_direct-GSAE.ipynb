{
 "cells": [
  {
   "cell_type": "code",
   "execution_count": null,
   "metadata": {},
   "outputs": [],
   "source": [
    "%matplotlib inline\n",
    "\n",
    "import numpy as np\n",
    "import pickle\n",
    "import json\n",
    "from argparse import Namespace\n",
    "import plotly.express as px\n",
    "import matplotlib.pyplot as plt\n",
    "import time\n",
    "import yaml\n",
    "\n",
    "import torch\n",
    "import torch.nn as nn\n",
    "import torch.nn.functional as F\n",
    "from torch.utils.tensorboard import SummaryWriter\n",
    "\n",
    "import networkx as nx\n",
    "from pyvis.network import Network\n",
    "\n",
    "from sklearn.decomposition import PCA\n",
    "import phate\n",
    "from umap import UMAP\n",
    "from sklearn.manifold import TSNE"
   ]
  },
  {
   "attachments": {},
   "cell_type": "markdown",
   "metadata": {},
   "source": [
    "# Load simulated data"
   ]
  },
  {
   "cell_type": "code",
   "execution_count": null,
   "metadata": {},
   "outputs": [],
   "source": [
    "\"\"\"load saved trajectories data for npz file\n",
    "\"\"\"\n",
    "# SEQ = \"PT4\"\n",
    "SEQ = \"PT4_hairpin\"\n",
    "\n",
    "# multiple trajectories\n",
    "fnpz_data = \"./data/pretraining/pretraining_{}.npz\".format(SEQ)\n",
    "\n",
    "data_npz = np.load(fnpz_data)\n",
    "\n",
    "# asssign data to variables\n",
    "for var in data_npz.files:\n",
    "     locals()[var] = data_npz[var]\n",
    "\n",
    "# recover full data based on coord_id, indices, and unique data\n",
    "SIMS_adj = SIMS_adj_uniq[coord_id_S]\n",
    "SIMS_scar = SIMS_scar_uniq[coord_id_S]\n",
    "SIMS_G = SIMS_G_uniq[coord_id_S]\n",
    "SIMS_pair = SIMS_pair_uniq[coord_id_S]\n",
    "\n",
    "# print(SIMS_T.shape,SIMS_HT.shape,SIMS_HT_uniq.shape)\n",
    "# print(SIMS_adj.shape,SIMS_scar.shape,SIMS_G.shape,SIMS_HT.shape,SIMS_pair.shape)\n",
    "# print(SIMS_adj_uniq.shape,SIMS_scar_uniq.shape,SIMS_G_uniq.shape,SIMS_pair_uniq.shape) \n",
    "# print(SIMS_dict.shape,SIMS_dict_uniq.shape)\n",
    "# print(coord_id_S.shape,indices_S.shape,trj_id.shape,data_embed.shape,occ_density_S.shape)\n",
    "# print(pca_coords.shape,pca_all_coords.shape)\n",
    "# print(phate_coords.shape,phate_all_coords.shape)\n",
    "# print(umap_coord_2d.shape,umap_all_coord_2d.shape,umap_coord_3d.shape,umap_all_coord_3d.shape)\n",
    "# print(tsne_coord_2d.shape,tsne_all_coord_2d.shape,tsne_coord_3d.shape,tsne_all_coord_3d.shape)"
   ]
  },
  {
   "attachments": {},
   "cell_type": "markdown",
   "metadata": {},
   "source": [
    "# ViDa Model"
   ]
  },
  {
   "attachments": {},
   "cell_type": "markdown",
   "metadata": {},
   "source": [
    "### Make dataset"
   ]
  },
  {
   "cell_type": "code",
   "execution_count": null,
   "metadata": {},
   "outputs": [],
   "source": [
    "data_tup = (torch.Tensor(SIMS_scar_uniq),\n",
    "            torch.Tensor(SIMS_G_uniq),\n",
    "            )\n",
    "data_dataset = torch.utils.data.TensorDataset(*data_tup)"
   ]
  },
  {
   "cell_type": "code",
   "execution_count": null,
   "metadata": {},
   "outputs": [],
   "source": [
    "# split the dataset into train and validation\n",
    "data_size = len(data_dataset)\n",
    "train_size = int(0.7 * data_size)\n",
    "val_size = data_size - train_size\n",
    "\n",
    "train_data, val_data = torch.utils.data.random_split(data_dataset, [train_size, val_size], \n",
    "                                                     generator=torch.Generator().manual_seed(42))\n",
    "\n",
    "print(data_size, len(train_data), len(val_data))"
   ]
  },
  {
   "attachments": {},
   "cell_type": "markdown",
   "metadata": {},
   "source": [
    "### Set up configurations"
   ]
  },
  {
   "cell_type": "code",
   "execution_count": null,
   "metadata": {},
   "outputs": [],
   "source": [
    "# set up hyperparameters\n",
    "input_dim = data_tup[0].shape[-1]\n",
    "\n",
    "config = Namespace(\n",
    "    seq = SEQ,\n",
    "    type = 'vida-gsae',\n",
    "    device = 'mps', # change to cuda if using GPU\n",
    "    batch_size = 256,\n",
    "    input_dim = input_dim,\n",
    "    output_dim = input_dim,\n",
    "    latent_dim = 25, # bottleneck dimension\n",
    "    hidden_dim = 400,\n",
    "    n_epochs = 60, # 60 for PT4_hairpin, PT0, 100 for others\n",
    "    learning_rate = 0.0001, # learning rate\n",
    "    log_interval = 10, # how many batches to wait before logging training status    \n",
    "    \n",
    "    # hyperparameters for loss function\n",
    "    alpha = 1.0,\n",
    "    beta = 1e-5,\n",
    "    gamma = 1.0\n",
    ")"
   ]
  },
  {
   "attachments": {},
   "cell_type": "markdown",
   "metadata": {},
   "source": [
    "### Make datalaoder"
   ]
  },
  {
   "cell_type": "code",
   "execution_count": null,
   "metadata": {},
   "outputs": [],
   "source": [
    "data_loader = torch.utils.data.DataLoader(data_dataset, batch_size=config.batch_size,\n",
    "                                          shuffle=False)\n",
    "train_loader = torch.utils.data.DataLoader(train_data, batch_size=config.batch_size, \n",
    "                                           shuffle=True)\n",
    "val_loader = torch.utils.data.DataLoader(val_data, batch_size=config.batch_size,\n",
    "                                         shuffle=False)"
   ]
  },
  {
   "cell_type": "code",
   "execution_count": null,
   "metadata": {},
   "outputs": [],
   "source": [
    "print('train_loader: ', len(train_loader.dataset), len(train_loader), train_loader.batch_size)\n",
    "print('val_loader: ', len(val_loader.dataset), len(val_loader), val_loader.batch_size)"
   ]
  },
  {
   "attachments": {},
   "cell_type": "markdown",
   "metadata": {},
   "source": [
    "### Encoder"
   ]
  },
  {
   "cell_type": "code",
   "execution_count": null,
   "metadata": {},
   "outputs": [],
   "source": [
    "class Encoder(nn.Module):\n",
    "    \n",
    "    def __init__(self, input_dim, hidden_dim, latent_dim):\n",
    "        '''\n",
    "        Args:\n",
    "        ----\n",
    "            - input_dim: the dimension of the input node feature\n",
    "            - hiddent_dim: the dimension of the hidden layer\n",
    "            - latent_dim: the dimension of the latent space (bottleneck layer)\n",
    "        '''\n",
    "        super(Encoder, self).__init__()\n",
    "        self.input_dim = input_dim\n",
    "        self.hidden_dim = hidden_dim\n",
    "        self.latent_dim = latent_dim\n",
    "        \n",
    "        self.fc1 = nn.Linear(self.input_dim, self.hidden_dim)\n",
    "        self.bn1 = nn.BatchNorm1d(self.hidden_dim)\n",
    "        self.fc2 = nn.Linear(400, 400)\n",
    "        self.bn2 = nn.BatchNorm1d(400)\n",
    "        \n",
    "        # Split the result into mu and var components\n",
    "        # of the latent Gaussian distribution, note how we only output\n",
    "        # diagonal values of covariance matrix. Here we assume\n",
    "        # they are conditionally independent\n",
    "        self.hid2mu = nn.Linear(400, self.latent_dim)\n",
    "        self.hid2logvar = nn.Linear(400, self.latent_dim)\n",
    "        \n",
    "    def forward(self, x):\n",
    "        x = self.bn1(F.relu(self.fc1(x)))\n",
    "        x = self.bn2(F.relu(self.fc2(x)))\n",
    "        mu = self.hid2mu(x)\n",
    "        logvar = self.hid2logvar(x)\n",
    "        return mu, logvar\n"
   ]
  },
  {
   "attachments": {},
   "cell_type": "markdown",
   "metadata": {},
   "source": [
    "### Decoder"
   ]
  },
  {
   "cell_type": "code",
   "execution_count": null,
   "metadata": {},
   "outputs": [],
   "source": [
    "class Decoder(nn.Module):\n",
    "    \n",
    "    def __init__(self, latent_dim, hidden_dim, output_dim):\n",
    "        '''\n",
    "        Args:\n",
    "        ----\n",
    "            - latent_dim: the dimension of the latent space (bottleneck layer)\n",
    "            - hiddent_dim: the dimension of the hidden layer\n",
    "            - output_dim: the dimension of the output node feature\n",
    "        '''\n",
    "        super(Decoder, self).__init__()\n",
    "        self.latent_dim = latent_dim\n",
    "        self.hidden_dim = hidden_dim\n",
    "        self.output_dim = output_dim\n",
    "        \n",
    "        self.fc1 = nn.Linear(self.latent_dim, 400)\n",
    "        # self.bn1 = nn.BatchNorm1d(self.hidden_dim)\n",
    "        # self.fc2 = nn.Linear(400, 400)\n",
    "        # self.bn2 = nn.BatchNorm1d(400)\n",
    "        self.fc3 = nn.Linear(400, self.output_dim)\n",
    "        \n",
    "    def forward(self, z):\n",
    "        x = F.relu(self.fc1(z))\n",
    "        x = self.fc3(x)\n",
    "        return x"
   ]
  },
  {
   "attachments": {},
   "cell_type": "markdown",
   "metadata": {},
   "source": [
    "### Regressor"
   ]
  },
  {
   "cell_type": "code",
   "execution_count": null,
   "metadata": {},
   "outputs": [],
   "source": [
    "class Regressor(nn.Module):\n",
    "    \n",
    "    def __init__(self, latent_dim):\n",
    "        '''\n",
    "        The regressor is used to predict the energy of the node\n",
    "        \n",
    "        Args:\n",
    "        ----\n",
    "            - latent_dim: the dimension of the latent space (bottleneck layer)\n",
    "        '''\n",
    "        super(Regressor, self).__init__()\n",
    "        self.latent_dim = latent_dim\n",
    "        \n",
    "        self.regfc1 = nn.Linear(self.latent_dim, 15)\n",
    "        self.regfc2 = nn.Linear(15, 1)\n",
    "        \n",
    "    def forward(self, z):\n",
    "        y = F.relu(self.regfc1(z))\n",
    "        y = self.regfc2(y)\n",
    "        return y"
   ]
  },
  {
   "attachments": {},
   "cell_type": "markdown",
   "metadata": {},
   "source": [
    "### VIDA model"
   ]
  },
  {
   "cell_type": "code",
   "execution_count": null,
   "metadata": {},
   "outputs": [],
   "source": [
    "class VIDA(nn.Module):\n",
    "    \n",
    "    def __init__(self, encoder, decoder, regressor):\n",
    "        '''\n",
    "        Args:\n",
    "        ----\n",
    "            - input_dim: the dimension of the input node feature\n",
    "            - hiddent_dim: the dimension of the hidden layer\n",
    "            - latent_dim: the dimension of the latent space (bottleneck layer)\n",
    "            - output_dim: the dimension of the output node feature (same as input_dim)\n",
    "        '''\n",
    "        super(VIDA, self).__init__()\n",
    "        self.encoder = encoder\n",
    "        self.decoder = decoder\n",
    "        self.regressor = regressor\n",
    "        \n",
    "    def reparameterize(self, mu, logvar):\n",
    "        std = torch.exp(0.5*logvar)\n",
    "        eps = torch.randn_like(std)\n",
    "        z = mu + eps*std\n",
    "        return z\n",
    "        \n",
    "    def forward(self, x):\n",
    "        mu, logvar = self.encoder(x)\n",
    "        z = self.reparameterize(mu, logvar)\n",
    "        x_recon = self.decoder(z)\n",
    "        y_pred = self.regressor(z)\n",
    "        return x_recon, y_pred, z, mu, logvar"
   ]
  },
  {
   "attachments": {},
   "cell_type": "markdown",
   "metadata": {},
   "source": [
    "### Loss functions"
   ]
  },
  {
   "cell_type": "code",
   "execution_count": null,
   "metadata": {},
   "outputs": [],
   "source": [
    "def vae_loss(x_recon, x, mu, logvar):\n",
    "    '''\n",
    "    Compute the VAE loss\n",
    "    \n",
    "    Args:\n",
    "        - x_recon: the reconstructed node feature\n",
    "        - x: the original node feature\n",
    "        - mu: the mean of the latent space\n",
    "        - logvar: the log variance of the latent space\n",
    "    \n",
    "    Returns:\n",
    "    - loss: PyTorch Tensor containing (scalar) the loss for the VAE\n",
    "    '''\n",
    "    BCE = F.mse_loss(x_recon.flatten(), x.flatten())\n",
    "    KLD = -0.5 * torch.sum(1 + logvar - mu.pow(2) - logvar.exp())\n",
    "    # return BCE + KLD\n",
    "    return BCE, KLD\n",
    "\n",
    "\n",
    "def pred_loss(y_pred, y):\n",
    "    '''\n",
    "    Compute the energy prediction loss\n",
    "    \n",
    "    Args:\n",
    "    ----\n",
    "        - y_pred: the predicted energy of the node\n",
    "        - y: the true energy of the node\n",
    "    \n",
    "    Returns:\n",
    "        - loss: PyTorch Tensor containing (scalar) the loss for the prediction\n",
    "    '''\n",
    "    return F.mse_loss(y_pred.flatten(), y.flatten())"
   ]
  },
  {
   "attachments": {},
   "cell_type": "markdown",
   "metadata": {},
   "source": [
    "### Train VIDA"
   ]
  },
  {
   "cell_type": "code",
   "execution_count": null,
   "metadata": {},
   "outputs": [],
   "source": [
    "# validation function\n",
    "def validate(config, model, val_loader, vae_loss, pred_loss):\n",
    "    model.to(config.device)\n",
    "    model.eval()\n",
    "    \n",
    "    val_loss = []; val_bce = []; val_kld = []; val_pred = []\n",
    "    \n",
    "    # Disable gradient calculation to speed up inference\n",
    "    with torch.no_grad():\n",
    "        for batch_idx, (x, y) in enumerate(val_loader):\n",
    "            \n",
    "            # Configure input\n",
    "            x = x.to(config.device)\n",
    "            y = y.to(config.device)\n",
    "            \n",
    "            # embedding\n",
    "            x_recon, y_pred, z, mu, logvar = model(x)\n",
    "            \n",
    "            recon_loss, kl_loss = vae_loss(x_recon, x, mu, logvar)\n",
    "            \n",
    "            p_loss = pred_loss(y_pred, y)\n",
    "            \n",
    "            # scaling the loss\n",
    "            recon_loss = config.alpha * recon_loss\n",
    "            kl_loss = config.beta * kl_loss\n",
    "            p_loss = config.gamma * p_loss\n",
    "            \n",
    "            loss = recon_loss + kl_loss + p_loss # total loss\n",
    "            \n",
    "            val_loss.append(loss.item())\n",
    "            val_bce.append(recon_loss.item())\n",
    "            val_kld.append(kl_loss.item())\n",
    "            val_pred.append(p_loss.item())\n",
    "            \n",
    "    print('Validation Loss: {:.4f}'.format(np.mean(val_loss)))\n",
    "    \n",
    "    return np.mean(val_loss), np.mean(val_bce), np.mean(val_kld), np.mean(val_pred)\n",
    "            "
   ]
  },
  {
   "cell_type": "code",
   "execution_count": null,
   "metadata": {},
   "outputs": [],
   "source": [
    "def train(config, model, train_loader, val_loader,\n",
    "          optimizer, vae_loss, pred_loss,\n",
    "          ):\n",
    "    '''\n",
    "    Train VIDA!\n",
    "    \n",
    "    Args:\n",
    "    ----\n",
    "        - config: Experiment configurations\n",
    "        - model: Pytorch VIDA model\n",
    "        - train_loader: Pytorch DataLoader for training set\n",
    "        - val_loader: Pytorch DataLoader for validation set\n",
    "        - optimizer: Pytorch optimizer\n",
    "        - vae_loss: the VAE loss function\n",
    "        - pred_loss: the energy prediction loss function\n",
    "    '''\n",
    "    \n",
    "    model.to(config.device)\n",
    "    model.train()\n",
    "    \n",
    "    log_dir = f'./model_config/{time.strftime(\"%m%d-%H%M\")}'\n",
    "    writer = SummaryWriter(log_dir=log_dir)\n",
    "    \n",
    "    # save the config file\n",
    "    with open(f'{log_dir}/hparams.yaml','w') as f:\n",
    "        yaml.dump(config,f)\n",
    "            \n",
    "    print('\\n ------- Start Training -------')\n",
    "    for epoch in range(config.n_epochs):\n",
    "        \n",
    "        training_loss = []\n",
    "        \n",
    "        for batch_idx, (x, y) in enumerate(train_loader):  # mini batch\n",
    "            \n",
    "            # Configure input\n",
    "            x = x.to(config.device)\n",
    "            y = y.to(config.device)\n",
    "            \n",
    "            # ------------------------------------------\n",
    "            #  Train VIDA\n",
    "            # ------------------------------------------\n",
    "            optimizer.zero_grad()\n",
    "            \n",
    "            # get the reconstructed nodes, predicted energy, and the embeddings\n",
    "            x_recon, y_pred, z, mu, logvar = model(x)\n",
    " \n",
    "            # compute the total loss\n",
    "            recon_loss, kl_loss = vae_loss(x_recon, x, mu, logvar)\n",
    "            p_loss = pred_loss(y_pred, y)\n",
    "                        \n",
    "            # scaling the loss\n",
    "            recon_loss = config.alpha * recon_loss\n",
    "            kl_loss = config.beta * kl_loss\n",
    "            p_loss = config.gamma * p_loss\n",
    "    \n",
    "            # total loss\n",
    "            loss = recon_loss + kl_loss + p_loss \n",
    "            \n",
    "            training_loss.append(loss.item())\n",
    "            \n",
    "            # backpropagation and optimization\n",
    "            loss.backward()\n",
    "            optimizer.step()\n",
    "            \n",
    "            # ------------------------------------------\n",
    "            # Log Progress\n",
    "            # ------------------------------------------\n",
    "            if batch_idx % config.log_interval == 0:\n",
    "                print('Train Epoch: {} [{}/{} ({:.0f}%)]\\tLoss: {:.6f}'.format(\n",
    "                    epoch, batch_idx * len(x), len(train_loader.dataset),\n",
    "                    100. * batch_idx / len(train_loader),\n",
    "                    loss.item()))\n",
    "                \n",
    "                writer.add_scalar('training loss',\n",
    "                                  loss.item(),\n",
    "                                  epoch * len(train_loader) + batch_idx)\n",
    "                writer.add_scalar('recon loss',\n",
    "                                  recon_loss.item(),\n",
    "                                  epoch * len(train_loader) + batch_idx)\n",
    "                writer.add_scalar('kl loss',\n",
    "                                  kl_loss.item(),\n",
    "                                  epoch * len(train_loader) + batch_idx)\n",
    "                writer.add_scalar('pred loss',\n",
    "                                  p_loss.item(),\n",
    "                                  epoch * len(train_loader) + batch_idx)\n",
    "                    \n",
    "        print ('====> Epoch: {} Average loss: {:.4f}'.format(epoch, np.mean(training_loss)))\n",
    "        writer.add_scalar('epoch training loss', np.mean(training_loss), epoch)\n",
    "        \n",
    "        # validation\n",
    "        val_loss, val_bce, val_kld, val_pred = validate(config, model, val_loader, vae_loss, pred_loss)\n",
    "        writer.add_scalar('validation loss', val_loss, epoch)\n",
    "        writer.add_scalar('val_recon loss', val_bce, epoch)\n",
    "        writer.add_scalar('val_kl loss', val_kld, epoch)\n",
    "        writer.add_scalar('val_pred loss', val_pred, epoch)        \n",
    "    \n",
    "    writer.close()  \n",
    "    print('\\n ------- Finished Training -------')\n",
    "    \n",
    "    # save the model\n",
    "    torch.save(model.state_dict(), f'{log_dir}/model.pt')\n",
    "    "
   ]
  },
  {
   "cell_type": "code",
   "execution_count": null,
   "metadata": {},
   "outputs": [],
   "source": [
    "# define models\n",
    "encoder = Encoder(input_dim=config.input_dim, hidden_dim=config.hidden_dim, latent_dim=config.latent_dim)\n",
    "decoder = Decoder(latent_dim=config.latent_dim, hidden_dim=config.hidden_dim, output_dim=config.output_dim)\n",
    "regressor = Regressor(latent_dim=config.latent_dim)\n",
    "\n",
    "vida = VIDA(encoder, decoder, regressor)\n",
    "\n",
    "# define optimizer\n",
    "optimizer = torch.optim.Adam(vida.parameters(), lr=config.learning_rate)"
   ]
  },
  {
   "cell_type": "code",
   "execution_count": null,
   "metadata": {},
   "outputs": [],
   "source": [
    "# train VIDA\n",
    "train(config, vida, train_loader, val_loader, optimizer, vae_loss, pred_loss)"
   ]
  },
  {
   "cell_type": "code",
   "execution_count": null,
   "metadata": {},
   "outputs": [],
   "source": [
    "%load_ext tensorboard\n",
    "%tensorboard --logdir model_config/ --host localhost --port 8000\n",
    "#  http://localhost:8000"
   ]
  },
  {
   "cell_type": "markdown",
   "metadata": {},
   "source": [
    "### Load trained model"
   ]
  },
  {
   "cell_type": "code",
   "execution_count": null,
   "metadata": {},
   "outputs": [],
   "source": [
    "# model = VIDA(encoder, decoder, regressor)\n",
    "# model.load_state_dict(torch.load('./model_config/0223-1633/model.pt'))"
   ]
  },
  {
   "attachments": {},
   "cell_type": "markdown",
   "metadata": {},
   "source": [
    "### Get embeddings"
   ]
  },
  {
   "cell_type": "code",
   "execution_count": null,
   "metadata": {},
   "outputs": [],
   "source": [
    "model = VIDA(encoder, decoder, regressor)"
   ]
  },
  {
   "cell_type": "code",
   "execution_count": null,
   "metadata": {},
   "outputs": [],
   "source": [
    "# do inference\n",
    "model.to(config.device).eval()\n",
    "\n",
    "with torch.no_grad():\n",
    "        _, _, z, _, _ = model(data_loader.dataset.tensors[0].to(config.device))        "
   ]
  },
  {
   "cell_type": "code",
   "execution_count": null,
   "metadata": {},
   "outputs": [],
   "source": [
    "data_embed = z.to('cpu').numpy()\n",
    "data_embed.shape"
   ]
  },
  {
   "cell_type": "code",
   "execution_count": null,
   "metadata": {},
   "outputs": [],
   "source": [
    "print(data_embed.max(), data_embed.min(), data_embed.mean(), data_embed.std())"
   ]
  },
  {
   "attachments": {},
   "cell_type": "markdown",
   "metadata": {},
   "source": [
    "### PCA"
   ]
  },
  {
   "cell_type": "code",
   "execution_count": null,
   "metadata": {},
   "outputs": [],
   "source": [
    "# # do PCA for GSAE embeded data\n",
    "pca_coords = PCA(n_components=3).fit_transform(data_embed)\n",
    "\n",
    "# # get all pca embedded states coordinates\n",
    "pca_all_coords = pca_coords[coord_id_S]  # multiple trj\n",
    "\n",
    "pca_coords.shape, pca_all_coords.shape"
   ]
  },
  {
   "cell_type": "code",
   "execution_count": null,
   "metadata": {},
   "outputs": [],
   "source": [
    "(np.unique(pca_coords,axis=0)).shape, (np.unique(pca_all_coords,axis=0)).shape"
   ]
  },
  {
   "attachments": {},
   "cell_type": "markdown",
   "metadata": {},
   "source": [
    "### PHATE"
   ]
  },
  {
   "cell_type": "code",
   "execution_count": null,
   "metadata": {},
   "outputs": [],
   "source": [
    "from sklearn.preprocessing import StandardScaler\n",
    "scaler = StandardScaler()\n",
    "data_embed = scaler.fit_transform(data_embed)\n",
    "data_embed"
   ]
  },
  {
   "cell_type": "code",
   "execution_count": null,
   "metadata": {},
   "outputs": [],
   "source": [
    "# # do PHATE for GSAE embeded data\n",
    "phate_operator = phate.PHATE(n_jobs=-2)\n",
    "phate_coords = phate_operator.fit_transform(data_embed)\n",
    "\n",
    "# # get all phate embedded states coordinates\n",
    "phate_all_coords = phate_coords[coord_id_S]\n",
    "\n",
    "phate_coords.shape, phate_all_coords.shape"
   ]
  },
  {
   "cell_type": "code",
   "execution_count": null,
   "metadata": {},
   "outputs": [],
   "source": [
    "phate_coords.shape, (np.unique(phate_coords,axis=0)).shape, (np.unique(phate_all_coords,axis=0)).shape"
   ]
  },
  {
   "attachments": {},
   "cell_type": "markdown",
   "metadata": {},
   "source": [
    "### UMAP"
   ]
  },
  {
   "cell_type": "code",
   "execution_count": null,
   "metadata": {},
   "outputs": [],
   "source": [
    "# UMAP set\n",
    "umap_2d = UMAP(n_components=2, init='random', random_state=0)\n",
    "# umap_3d = UMAP(n_components=3, init='random', random_state=0)\n",
    "\n",
    "# UMAP 2D fit tranform\n",
    "umap_coord_2d = umap_2d.fit_transform(data_embed)\n",
    "umap_all_coord_2d = umap_coord_2d[coord_id_S]  \n",
    "\n",
    "# UMAP 3D fit tranform\n",
    "# umap_coord_3d = umap_3d.fit_transform(data_embed)\n",
    "# umap_all_coord_3d = umap_coord_3d[coord_id_S]\n",
    "\n",
    "print((np.unique(umap_coord_2d,axis=0)).shape, (np.unique(umap_coord_3d,axis=0)).shape)\n",
    "print(umap_all_coord_2d.shape, (np.unique(umap_all_coord_2d,axis=0)).shape)\n",
    "# print(umap_all_coord_3d.shape, (np.unique(umap_all_coord_3d,axis=0)).shape)"
   ]
  },
  {
   "attachments": {},
   "cell_type": "markdown",
   "metadata": {},
   "source": [
    "### Save DRs"
   ]
  },
  {
   "cell_type": "code",
   "execution_count": null,
   "metadata": {},
   "outputs": [],
   "source": [
    "\"\"\" Save all DRs\n",
    "\"\"\"\n",
    "# save for python\n",
    "fnpz_data = f\"data/vida_data/new_embed/{SEQ}_{config.n_epochs}epoch.npz\"\n",
    "with open(fnpz_data, 'wb') as f:\n",
    "    np.savez(f,\n",
    "            # SIMS data\n",
    "            SIMS_T=SIMS_T, SIMS_HT=SIMS_HT, SIMS_HT_uniq=np.array(avg_time, dtype=np.float64),\n",
    "            SIMS_adj_uniq=SIMS_adj_uniq, SIMS_scar_uniq=SIMS_scar_uniq,\n",
    "            SIMS_G_uniq=SIMS_G_uniq, SIMS_pair_uniq=SIMS_pair_uniq,\n",
    "            SIMS_dict=SIMS_dict, SIMS_dict_uniq=SIMS_dict_uniq,\n",
    "            # Indices\n",
    "            coord_id_S=coord_id_S, indices_S=indices_S,trj_id=trj_id,\n",
    "            # embed data and occpancy density\n",
    "            data_embed=data_embed, occ_density_S=occ_density_S,\n",
    "            # plotting data\n",
    "            pca_coords=pca_coords, pca_all_coords=pca_all_coords,\n",
    "            phate_coords=phate_coords, phate_all_coords=phate_all_coords,\n",
    "            umap_coord_2d=umap_coord_2d, umap_all_coord_2d=umap_all_coord_2d,\n",
    "            )"
   ]
  },
  {
   "attachments": {},
   "cell_type": "markdown",
   "metadata": {},
   "source": [
    "# Visualize"
   ]
  },
  {
   "cell_type": "code",
   "execution_count": null,
   "metadata": {},
   "outputs": [],
   "source": [
    "SEQ"
   ]
  },
  {
   "attachments": {},
   "cell_type": "markdown",
   "metadata": {},
   "source": [
    "### PCA Vis"
   ]
  },
  {
   "cell_type": "code",
   "execution_count": null,
   "metadata": {},
   "outputs": [],
   "source": [
    "%%script false --no-raise-error\n",
    "\n",
    "%matplotlib inline\n",
    "X = pca_all_coords[:,0]\n",
    "Y = pca_all_coords[:,1]\n",
    "Z = pca_all_coords[:,2]\n",
    "\n",
    "# PCA: 2 components\n",
    "fig,ax = plt.subplots(figsize=(8,6))\n",
    "im = ax.scatter(X, Y, \n",
    "          c=SIMS_G,\n",
    "          cmap='plasma',\n",
    "          s=20\n",
    "        )\n",
    "\n",
    "plt.colorbar(im)\n",
    "\n",
    "annotations=[\"I\",\"F\"]\n",
    "x = [X[0],X[-1]]\n",
    "y = [Y[0],Y[-1]]\n",
    "plt.scatter(x,y,s=150, c=\"green\", alpha=1)\n",
    "for i, label in enumerate(annotations):\n",
    "    plt.annotate(label, (x[i],y[i]*0.95),fontsize=15,c=\"yellow\", horizontalalignment='center')"
   ]
  },
  {
   "cell_type": "code",
   "execution_count": null,
   "metadata": {},
   "outputs": [],
   "source": [
    "%matplotlib inline\n",
    "X = pca_coords[:,0]\n",
    "Y = pca_coords[:,1]\n",
    "Z = pca_coords[:,2]\n",
    "\n",
    "# PCA: 2 components\n",
    "fig,ax = plt.subplots(figsize=(8,6))\n",
    "im = ax.scatter(X, Y, \n",
    "          c=SIMS_G_uniq, \n",
    "          cmap='plasma',\n",
    "        )\n",
    "\n",
    "plt.colorbar(im)\n",
    "\n",
    "\n",
    "annotations=[\"I\",\"F\"]\n",
    "x = [X[0],X[all_nodes[-1]]]\n",
    "y = [Y[0],Y[all_nodes[-1]]]\n",
    "plt.scatter(x,y,s=150, c=\"green\", alpha=1)\n",
    "for i, label in enumerate(annotations):\n",
    "    plt.annotate(label, (x[i]-0.3,y[i]-0.3),fontsize=15,c=\"black\")"
   ]
  },
  {
   "cell_type": "code",
   "execution_count": null,
   "metadata": {},
   "outputs": [],
   "source": [
    "%%script false --no-raise-error\n",
    "\n",
    "X = pca_coords[:,0]\n",
    "Y = pca_coords[:,1]\n",
    "Z = pca_coords[:,2]\n",
    "\n",
    "# PCA: 3 components\n",
    "fig,ax = plt.subplots(figsize=(8,6))\n",
    "ax = plt.axes(projection =\"3d\")\n",
    "\n",
    "im = ax.scatter3D(X,Y,Z,\n",
    "          c=SIMS_G_uniq,      \n",
    "          cmap='plasma')\n",
    "ax.set_xlabel(\"X\")\n",
    "ax.set_ylabel(\"Y\")\n",
    "ax.set_zlabel(\"Z\")\n",
    "plt.colorbar(im)\n",
    "\n",
    "annotations=[\"I\",\"F\"]\n",
    "x = [X[0],X[-1]]\n",
    "y = [Y[0],Y[-1]]\n",
    "z = [Z[0], Z[-1]]\n",
    "ax.scatter(x,y,z,s=100,c=\"green\",alpha=1)"
   ]
  },
  {
   "cell_type": "code",
   "execution_count": null,
   "metadata": {},
   "outputs": [],
   "source": [
    "%%script false --no-raise-error\n",
    "\n",
    "X = pca_coords[:,0]\n",
    "Y = pca_coords[:,1]\n",
    "Z = pca_coords[:,2]\n",
    "\n",
    "\n",
    "# PCA: 2 components\n",
    "fig,ax = plt.subplots(figsize=(8,6))\n",
    "im = ax.scatter(X, Y,\n",
    "          c=SIMS_pair_uniq,\n",
    "          cmap='plasma',\n",
    "          s=15\n",
    "        )\n",
    "\n",
    "plt.colorbar(im)\n",
    "\n",
    "annotations=[\"I\",\"F\"]\n",
    "x = [X[0],X[-1]]\n",
    "y = [Y[0],Y[-1]]\n",
    "plt.scatter(x,y,s=150, c=\"green\", alpha=1)\n",
    "for i, label in enumerate(annotations):\n",
    "    plt.annotate(label, (x[i]-0.3,y[i]-0.3),fontsize=15,c=\"yellow\")"
   ]
  },
  {
   "cell_type": "markdown",
   "metadata": {},
   "source": [
    "#### Try use PCA directly without AE"
   ]
  },
  {
   "cell_type": "code",
   "execution_count": null,
   "metadata": {},
   "outputs": [],
   "source": [
    "pca_coords1 = PCA(n_components=3).fit_transform(SIMS_scar_uniq)   # multiple trj\n",
    "\n",
    "X = pca_coords1[:,0]\n",
    "Y = pca_coords1[:,1]\n",
    "Z = pca_coords1[:,2]\n",
    "\n",
    "# PCA: 2 components\n",
    "fig,ax = plt.subplots(figsize=(8,6))\n",
    "im = ax.scatter(X, Y, \n",
    "          c=SIMS_G_uniq, \n",
    "          cmap='plasma',\n",
    "        )\n",
    "\n",
    "plt.colorbar(im)\n",
    "\n",
    "annotations=[\"I\",\"F\"]\n",
    "x = [X[0],X[-1]]\n",
    "y = [Y[0],Y[-1]]\n",
    "plt.scatter(x,y,s=150, c=\"green\", alpha=1)\n",
    "for i, label in enumerate(annotations):\n",
    "    plt.annotate(label, (x[i]-0.3,y[i]-0.3),fontsize=15,c=\"black\")"
   ]
  },
  {
   "cell_type": "code",
   "execution_count": null,
   "metadata": {},
   "outputs": [],
   "source": [
    "cm = PCA(n_components=25)\n",
    "cm.fit(data_embed)\n",
    "\n",
    "PC_values = np.arange(cm.n_components_) + 1\n",
    "plt.plot(PC_values, np.cumsum(cm.explained_variance_ratio_), 'ro-', linewidth=2)\n",
    "plt.title('Scree Plot: PCA')\n",
    "plt.xlabel('Number of principal components')\n",
    "plt.ylabel('Cumulative explained variance');\n",
    "# plt.xticks(np.arange(0, data_embed.shape[-1]+1, 1))\n",
    "\n",
    "plt.show()"
   ]
  },
  {
   "cell_type": "code",
   "execution_count": null,
   "metadata": {},
   "outputs": [],
   "source": [
    "np.cumsum(cm.explained_variance_ratio_)"
   ]
  },
  {
   "attachments": {},
   "cell_type": "markdown",
   "metadata": {},
   "source": [
    "### PHATE Vis"
   ]
  },
  {
   "cell_type": "code",
   "execution_count": null,
   "metadata": {},
   "outputs": [],
   "source": [
    "%%script false --no-raise-error\n",
    "\n",
    "X_phate = phate_all_coords[:,0]\n",
    "Y_phate = phate_all_coords[:,1]\n",
    "\n",
    "fig,ax = plt.subplots(figsize=(8,6))\n",
    "im = ax.scatter(X_phate,Y_phate,\n",
    "                c=SIMS_G,   # multiple trj               \n",
    "                cmap='plasma',\n",
    "               )\n",
    "\n",
    "plt.colorbar(im)\n",
    "\n",
    "annotations=[\"I\",\"F\"]\n",
    "x = [X_phate[0],X_phate[-1]]\n",
    "y = [Y_phate[0],Y_phate[-1]]\n",
    "plt.scatter(x,y,s=50, c=\"green\", alpha=1)\n",
    "for i, label in enumerate(annotations):\n",
    "    plt.annotate(label, (x[i],y[i]),fontsize=30,c=\"black\")"
   ]
  },
  {
   "cell_type": "code",
   "execution_count": null,
   "metadata": {},
   "outputs": [],
   "source": [
    "X_phate = phate_coords[:,0]\n",
    "Y_phate = phate_coords[:,1]\n",
    "\n",
    "fig,ax = plt.subplots(figsize=(8,6))\n",
    "im = ax.scatter(X_phate,Y_phate,\n",
    "                c=SIMS_G_uniq,            \n",
    "                cmap='plasma',\n",
    "               )\n",
    "\n",
    "plt.colorbar(im)\n",
    "\n",
    "annotations=[\"I\",\"F\"]\n",
    "x = [X_phate[0],X_phate[all_nodes[-1]]]\n",
    "y = [Y_phate[0],Y_phate[all_nodes[-1]]]\n",
    "plt.scatter(x,y,s=50, c=\"green\", alpha=1)\n",
    "for i, label in enumerate(annotations):\n",
    "    plt.annotate(label, (x[i],y[i]),fontsize=30,c=\"black\")"
   ]
  },
  {
   "cell_type": "markdown",
   "metadata": {},
   "source": [
    "#### PHATE without AE"
   ]
  },
  {
   "cell_type": "code",
   "execution_count": null,
   "metadata": {},
   "outputs": [],
   "source": [
    "phate_operator = phate.PHATE(n_jobs=-2)\n",
    "phate1 = phate_operator.fit_transform(SIMS_scar_uniq)   # multiple trj\n",
    "\n",
    "fig,ax = plt.subplots(figsize=(8,6))\n",
    "im = ax.scatter(phate1[:,0],\n",
    "          phate1[:,1],\n",
    "          c=SIMS_G_uniq, \n",
    "          cmap='plasma',\n",
    "        )\n",
    "\n",
    "plt.colorbar(im)\n",
    "\n",
    "annotations=[\"I\",\"F\"]\n",
    "x = [phate1[:,0][0],phate1[:,0][-1]]\n",
    "y = [phate1[:,1][0],phate1[:,1][-1]]\n",
    "plt.scatter(x,y,s=50, c=\"green\", alpha=1)\n",
    "for i, label in enumerate(annotations):\n",
    "    plt.annotate(label, (x[i],y[i]),fontsize=20,c=\"black\")"
   ]
  },
  {
   "attachments": {},
   "cell_type": "markdown",
   "metadata": {},
   "source": [
    "### UMAP Vis"
   ]
  },
  {
   "cell_type": "code",
   "execution_count": null,
   "metadata": {},
   "outputs": [],
   "source": [
    "X = umap_coord_2d[:,0]\n",
    "Y = umap_coord_2d[:,1]\n",
    "cmap = plt.cm.plasma\n",
    "cmap_r = plt.cm.get_cmap('plasma_r')\n",
    "\n",
    "# PCA: 2 components\n",
    "fig,ax = plt.subplots(figsize=(8,6))\n",
    "im = ax.scatter(X, Y, \n",
    "          c = SIMS_G_uniq,\n",
    "          cmap=cmap,\n",
    "          s=10\n",
    "        )\n",
    " \n",
    "plt.colorbar(im)\n",
    "\n",
    "annotations=[\"I\",\"F\"]\n",
    "x = [X[0],X[all_nodes[-1]]]\n",
    "y = [Y[0],Y[all_nodes[-1]]]\n",
    "plt.scatter(x,y,s=150, c=\"green\", alpha=1)\n",
    "for i, label in enumerate(annotations):\n",
    "    plt.annotate(label, (x[i]-0.3,y[i]-0.3),fontsize=15,c=\"yellow\")"
   ]
  },
  {
   "cell_type": "code",
   "execution_count": null,
   "metadata": {},
   "outputs": [],
   "source": [
    "%%script false --no-raise-error\n",
    "\n",
    "# directly UMAP 2D\n",
    "umap_coord_2dscar = umap_2d.fit_transform(SIMS_scar_uniq)\n",
    "\n",
    "fig_2d = px.scatter(\n",
    "    umap_coord_2dscar, x=0, y=1,color=SIMS_G_uniq\n",
    ")\n",
    "fig_2d.update_traces(marker_size=3)\n",
    "fig_2d.show()\n",
    "\n"
   ]
  },
  {
   "cell_type": "code",
   "execution_count": null,
   "metadata": {},
   "outputs": [],
   "source": [
    "%%script false --no-raise-error\n",
    "\n",
    "fig_2d = px.scatter(\n",
    "    umap_coord_2d, x=0, y=1,color=SIMS_G_uniq\n",
    ")\n",
    "fig_2d.update_traces(marker_size=3)\n",
    "\n",
    "\n",
    "fig_3d = px.scatter_3d(\n",
    "    umap_coord_3d, x=0, y=1, z=2,color=SIMS_G_uniq\n",
    ")\n",
    "\n",
    "fig_3d.update_traces(marker_size=2)\n",
    "\n",
    "fig_2d.show()\n",
    "fig_3d.show()\n",
    "\n"
   ]
  },
  {
   "cell_type": "code",
   "execution_count": null,
   "metadata": {},
   "outputs": [],
   "source": []
  }
 ],
 "metadata": {
  "kernelspec": {
   "display_name": "Python 3.8.13 ('vida')",
   "language": "python",
   "name": "python3"
  },
  "language_info": {
   "codemirror_mode": {
    "name": "ipython",
    "version": 3
   },
   "file_extension": ".py",
   "mimetype": "text/x-python",
   "name": "python",
   "nbconvert_exporter": "python",
   "pygments_lexer": "ipython3",
   "version": "3.8.13"
  },
  "vscode": {
   "interpreter": {
    "hash": "e442af4fad2330d8f4febe7e8e7250535e161341429a4f0b93cbf21b824330cc"
   }
  }
 },
 "nbformat": 4,
 "nbformat_minor": 2
}
