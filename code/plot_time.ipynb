{
 "cells": [
  {
   "cell_type": "markdown",
   "metadata": {},
   "source": [
    "# Plot embedded data"
   ]
  },
  {
   "cell_type": "code",
   "execution_count": null,
   "metadata": {},
   "outputs": [],
   "source": [
    "using NPZ, Printf, NNlib, Statistics, Plots, JLD2, LinearAlgebra, Distributions"
   ]
  },
  {
   "cell_type": "markdown",
   "metadata": {},
   "source": [
    "## PCA Vis"
   ]
  },
  {
   "cell_type": "code",
   "execution_count": null,
   "metadata": {},
   "outputs": [],
   "source": [
    "data_pca = npzread(\"data/I1_sim1_pca_uniq.npy\")"
   ]
  },
  {
   "cell_type": "code",
   "execution_count": null,
   "metadata": {},
   "outputs": [],
   "source": [
    "X = data_pca[\"pca\"][:,1]; Y = data_pca[\"pca\"][:,2]; Z = data_pca[\"pca\"][:,3]\n",
    "time_fract = data_pca[\"time_fract\"]; time_HT = data_pca[\"time_HT\"]\n",
    "energy = data_pca[\"energy\"]\n",
    "occp = data_pca[\"occp\"];"
   ]
  },
  {
   "cell_type": "markdown",
   "metadata": {},
   "source": [
    "#### Plot PCA with 2 components X,Y-axes and time fraction as Z-axis with color"
   ]
  },
  {
   "cell_type": "code",
   "execution_count": null,
   "metadata": {},
   "outputs": [],
   "source": [
    "# 2D\n",
    "plotlyjs()\n",
    "plot()\n",
    "\n",
    "scatter!(X,Y,zcolor=time_fract,m=cgrad(:plasma,rev=true),markerstrokewidth=0,markersize=5,legend=false)\n",
    "\n",
    "plot!([X[1]],[Y[1]], seriestype = :scatter, markersize=7,markerstrokewidth=0,\n",
    "        color=color=palette(:lighttest)[4],markershape=:diamond,opacity=0.3) # Green for Si\n",
    "plot!([X[end]],[Y[end]], seriestype = :scatter, markersize=7,markerstrokewidth=0,\n",
    "        color=color=palette(:lighttest)[7],markershape=:diamond,opacity=0.3) # Red for Sf\n",
    "\n",
    "xlims!(floor(minimum(X)),ceil(maximum(X)))\n",
    "ylims!(floor(minimum(Y)),ceil(maximum(Y)))\n",
    "\n",
    "plot!(xlabel=\"X\", ylabel=\"Y\")"
   ]
  },
  {
   "cell_type": "code",
   "execution_count": null,
   "metadata": {},
   "outputs": [],
   "source": [
    "# 3D\n",
    "plotlyjs()\n",
    "plot()\n",
    "\n",
    "scatter!(X,Y,time_fract,zcolor=time_fract,m=cgrad(:plasma,rev=true),markerstrokewidth=0,markersize=2.5,legend=false)\n",
    "\n",
    "plot!([X[1]],[Y[1]],[time_fract[1]], seriestype = :scatter, markersize=3,\n",
    "        color=color=palette(:lighttest)[4],markershape=:diamond,opacity=0.8) # Green for Si\n",
    "plot!([X[end]],[Y[end]],[time_fract[end]], seriestype = :scatter, markersize=3,\n",
    "        color=color=palette(:lighttest)[7],markershape=:diamond,opacity=0.8) # Red for Sf\n",
    "\n",
    "xlims!(minimum(X)*1.01,maximum(X)*1.01) \n",
    "ylims!(minimum(Y)*1.01,maximum(Y)*1.01)\n",
    "zlims!(minimum(time_fract)*1.01,maximum(time_fract)*1.01)\n",
    "\n",
    "plot!(xlabel=\"X\", ylabel=\"Y\", zlabel = \"Time fraction\")\n",
    "\n"
   ]
  },
  {
   "cell_type": "markdown",
   "metadata": {},
   "source": [
    "#### Plot PCA with 3 components X,Y,Z-axes, and time as color "
   ]
  },
  {
   "cell_type": "code",
   "execution_count": null,
   "metadata": {},
   "outputs": [],
   "source": [
    "# 3D\n",
    "plotlyjs()\n",
    "plot()\n",
    "\n",
    "scatter!(X,Y,Z,zcolor=time_fract,m=cgrad(:plasma,rev=true),markerstrokewidth=0,markersize=2.5,legend=false)\n",
    "\n",
    "plot!([X[1]],[Y[1]],[Z[1]], seriestype = :scatter, markersize=3,\n",
    "        color=palette(:lighttest)[4],markershape=:diamond,opacity=0.8) # Green for Si\n",
    "plot!([X[end]],[Y[end]],[Z[end]], seriestype = :scatter, markersize=3,\n",
    "        color=palette(:lighttest)[7],markershape=:diamond,opacity=0.8) # Red for Sf\n",
    "\n",
    "xlims!(minimum(X)*1.01,maximum(X)*1.01) \n",
    "ylims!(minimum(Y)*1.01,maximum(Y)*1.01)\n",
    "zlims!(minimum(Z)*1.01,maximum(Z)*1.01)\n",
    "\n",
    "plot!(xlabel=\"X\", ylabel=\"Y\", zlabel = \"Z\")\n"
   ]
  },
  {
   "cell_type": "code",
   "execution_count": null,
   "metadata": {},
   "outputs": [],
   "source": []
  },
  {
   "cell_type": "markdown",
   "metadata": {},
   "source": [
    "## PHATE Vis"
   ]
  },
  {
   "cell_type": "code",
   "execution_count": null,
   "metadata": {},
   "outputs": [],
   "source": [
    "data_phate = npzread(\"data/I1_sim1_phate_uniq.npy\")"
   ]
  },
  {
   "cell_type": "code",
   "execution_count": null,
   "metadata": {},
   "outputs": [],
   "source": [
    "X = data_phate[\"phate\"][:,1]; Y = data_phate[\"phate\"][:,2]\n",
    "time_fract = data_phate[\"time_fract\"]; time_HT = data_phate[\"time_HT\"]\n",
    "energy = data_phate[\"energy\"]\n",
    "occp = data_phate[\"occp\"];"
   ]
  },
  {
   "cell_type": "code",
   "execution_count": null,
   "metadata": {},
   "outputs": [],
   "source": [
    "# 2D\n",
    "plotlyjs()\n",
    "plot()\n",
    "\n",
    "scatter!(X,Y,zcolor=time_fract,m=cgrad(:plasma,rev=true),markerstrokewidth=0,markersize=5,legend=false)\n",
    "\n",
    "plot!([X[1]],[Y[1]], seriestype = :scatter, markersize=7,markerstrokewidth=0,\n",
    "        color=color=palette(:lighttest)[4],markershape=:diamond,opacity=0.2) # Green for Si\n",
    "plot!([X[end]],[Y[end]], seriestype = :scatter, markersize=7,markerstrokewidth=0,\n",
    "        color=color=palette(:lighttest)[7],markershape=:diamond,opacity=0.2) # Red for Sf\n",
    "plot!(xlabel=\"X\", ylabel=\"Y\")"
   ]
  },
  {
   "cell_type": "code",
   "execution_count": null,
   "metadata": {},
   "outputs": [],
   "source": []
  }
 ],
 "metadata": {
  "kernelspec": {
   "display_name": "Julia 1.7.1",
   "language": "julia",
   "name": "julia-1.7"
  },
  "language_info": {
   "file_extension": ".jl",
   "mimetype": "application/julia",
   "name": "julia",
   "version": "1.7.1"
  },
  "vscode": {
   "interpreter": {
    "hash": "ea74b93ac9e7811602c08a361774dd63978ccb77fd41741e44bac173bcf29139"
   }
  }
 },
 "nbformat": 4,
 "nbformat_minor": 2
}
