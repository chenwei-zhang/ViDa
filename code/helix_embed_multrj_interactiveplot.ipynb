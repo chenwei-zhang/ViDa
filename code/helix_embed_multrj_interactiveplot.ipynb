{
 "cells": [
  {
   "cell_type": "code",
   "execution_count": null,
   "metadata": {},
   "outputs": [],
   "source": [
    "%matplotlib inline\n",
    "import numpy as np\n",
    "import plotly.io as pio\n",
    "from misc import *\n",
    "from interplot import *\n",
    "import plotly.express as px\n"
   ]
  },
  {
   "cell_type": "code",
   "execution_count": null,
   "metadata": {},
   "outputs": [],
   "source": [
    "import imp, interplot\n",
    "imp.reload(interplot)\n",
    "from interplot import *"
   ]
  },
  {
   "cell_type": "markdown",
   "metadata": {},
   "source": [
    "## Import/generate Data"
   ]
  },
  {
   "cell_type": "code",
   "execution_count": null,
   "metadata": {},
   "outputs": [],
   "source": [
    "\"\"\"load saved trajectories data for npz file\n",
    "\"\"\"\n",
    "# SEQ = \"PT4\"\n",
    "SEQ = \"PT4_hairpin\"\n",
    "\n",
    "# multiple trajectories\n",
    "fnpz_data = \"data/helix_assoc/helix_assoc_{}_multrj_100epoch_py.npz\".format(SEQ)\n",
    "data_npz = np.load(fnpz_data)\n",
    "\n",
    "# asssign data to variables\n",
    "for var in data_npz.files:\n",
    "     locals()[var] = data_npz[var]\n",
    "\n",
    "# recover full data based on coord_id, indices, and unique data\n",
    "SIMS_adj = SIMS_adj_uniq[coord_id_S]\n",
    "SIMS_scar = SIMS_scar_uniq[coord_id_S]\n",
    "SIMS_G = SIMS_G_uniq[coord_id_S]\n",
    "SIMS_pair = SIMS_pair_uniq[coord_id_S]\n",
    "\n",
    "print(SIMS_T.shape,SIMS_HT.shape,SIMS_HT_uniq.shape)\n",
    "print(SIMS_adj.shape,SIMS_scar.shape,SIMS_G.shape,SIMS_HT.shape,SIMS_pair.shape)\n",
    "print(SIMS_adj_uniq.shape,SIMS_scar_uniq.shape,SIMS_G_uniq.shape,SIMS_pair_uniq.shape) \n",
    "print(SIMS_dict.shape,SIMS_dict_uniq.shape)\n",
    "print(coord_id_S.shape,indices_S.shape,trj_id.shape,data_embed.shape,occ_density_S.shape)\n",
    "print(pca_coords.shape,pca_all_coords.shape)\n",
    "print(phate_coords.shape,phate_all_coords.shape)\n",
    "print(umap_coord_2d.shape,umap_all_coord_2d.shape,umap_coord_3d.shape,umap_all_coord_3d.shape)\n",
    "print(tsne_coord_2d.shape,tsne_all_coord_2d.shape,tsne_coord_3d.shape,tsne_all_coord_3d.shape)"
   ]
  },
  {
   "cell_type": "code",
   "execution_count": null,
   "metadata": {},
   "outputs": [],
   "source": [
    "\"\"\"make pd dataframe for plotting\n",
    "\"\"\"\n",
    "df = pd.DataFrame(data={\n",
    "        \"Energy\": SIMS_G_uniq, \"Occp\": occ_density_S, \"Pair\": SIMS_pair_uniq, \"DP\": SIMS_dict_uniq[:,0],\"HT\": SIMS_HT_uniq,\n",
    "        \"PCA 1\": pca_coords[:,0], \"PCA 2\": pca_coords[:,1],\n",
    "        \"PCA X\": pca_coords[:,0], \"PCA Y\": pca_coords[:,1], \"PCA Z\": pca_coords[:,2],\n",
    "        \"PHATE 1\": phate_coords[:,0], \"PHATE 2\": phate_coords[:,1],\n",
    "        \"t-SNE 1\": tsne_coord_2d[:,0],\"t-SNE 2\": tsne_coord_2d[:,1],\n",
    "        \"t-SNE X\": tsne_coord_3d[:,0],\"t-SNE Y\": tsne_coord_3d[:,1],\"t-SNE Z\": tsne_coord_3d[:,2],\n",
    "        \"UMAP 1\": umap_coord_2d[:,0],\"UMAP 2\": umap_coord_2d[:,1],\n",
    "        \"UMAP X\": umap_coord_3d[:,0],\"UMAP Y\": umap_coord_3d[:,1],\"UMAP Z\": umap_coord_3d[:,2],\n",
    "        }\n",
    "        )\n",
    "\n",
    "# make dataframe for plotting\n",
    "dfall = pd.DataFrame(data={\n",
    "        \"Energy\": SIMS_G, \"Pair\": SIMS_pair,\"DP\": SIMS_dict[:,0],\"HT\": SIMS_HT,\"TotalT\": SIMS_T,\n",
    "        \"PCA 1\": pca_all_coords[:,0], \"PCA 2\": pca_all_coords[:,1],\n",
    "        \"PCA X\": pca_all_coords[:,0], \"PCA Y\": pca_all_coords[:,1], \"PCA Z\": pca_all_coords[:,2],\n",
    "        \"PHATE 1\": phate_all_coords[:,0], \"PHATE 2\": phate_all_coords[:,1],\n",
    "        \"t-SNE 1\": tsne_all_coord_2d[:,0],\"t-SNE 2\": tsne_all_coord_2d[:,1],\n",
    "        \"t-SNE X\": tsne_all_coord_3d[:,0],\"t-SNE Y\": tsne_all_coord_3d[:,1],\"t-SNE Z\": tsne_all_coord_3d[:,2],\n",
    "        \"UMAP 1\": umap_all_coord_2d[:,0],\"UMAP 2\": umap_all_coord_2d[:,1],\n",
    "        \"UMAP X\": umap_all_coord_3d[:,0],\"UMAP Y\": umap_all_coord_3d[:,1],\"UMAP Z\": umap_all_coord_3d[:,2],\n",
    "        }\n",
    "        )\n",
    "\n",
    "df0 = df[df[\"Pair\"] == 0]\n",
    "df1 = df[df[\"Pair\"] == 1]\n",
    "\n",
    "dfall0 = dfall[dfall[\"Pair\"] == 0]\n",
    "dfall1 = dfall[dfall[\"Pair\"] == 1]"
   ]
  },
  {
   "cell_type": "markdown",
   "metadata": {},
   "source": [
    "## Visualize"
   ]
  },
  {
   "cell_type": "markdown",
   "metadata": {},
   "source": [
    "### Interactive plots 2D"
   ]
  },
  {
   "cell_type": "code",
   "execution_count": null,
   "metadata": {},
   "outputs": [],
   "source": [
    "# make interactive plotly 2D plot for different visualization methods\n",
    "n_trace = len(trj_id)\n",
    "VIS_METHOD = [\"PCA\", \"PHATE\", \"UMAP\", \"t-SNE\"]\n",
    "print(SEQ)\n",
    "\n",
    "for vis in VIS_METHOD: \n",
    "    fig = interactive_plotly_2D(SEQ,n_trace,df,dfall,trj_id,vis)\n",
    "    print(\"DONE: \", vis)\n",
    "    pio.write_html(fig, file=\"../interactive_plot/{}_{}_2D.html\".format(SEQ,vis), auto_open=True)\n",
    "\n",
    "\n",
    "# n_trace = 3\n",
    "# vis = VIS_METHOD[0]\n",
    "# fig = interactive_plotly_2D(SEQ,n_trace,df,dfall,trj_id,vis)\n",
    "# pio.write_html(fig, file=\"{}_{}_2D.html\".format(SEQ,vis), auto_open=True)"
   ]
  },
  {
   "cell_type": "markdown",
   "metadata": {},
   "source": [
    "### Seperate Paired and Unpaired"
   ]
  },
  {
   "cell_type": "code",
   "execution_count": null,
   "metadata": {},
   "outputs": [],
   "source": [
    "vis = VIS_METHOD[0]\n",
    "n_trace = len(trj_id)\n",
    "print(SEQ)\n",
    "\n",
    "for vis in VIS_METHOD: \n",
    "    fig = interactive_plotly_2D_01(SEQ,n_trace,df0,df1,dfall,trj_id,vis)\n",
    "    print(\"DONE: \", vis)\n",
    "    pio.write_html(fig, file=\"../interactive_plot/{}_{}_2D_01.html\".format(SEQ,vis), auto_open=True)\n",
    "\n",
    "\n",
    "# n_trace=3\n",
    "# fig = interactive_plotly_2D_01(SEQ,n_trace,df0,df1,dfall,trj_id,vis)\n",
    "# # fig.show()\n",
    "# pio.write_html(fig, file=\"{}_{}_2D_01.html\".format(SEQ,vis), auto_open=True)"
   ]
  },
  {
   "cell_type": "markdown",
   "metadata": {},
   "source": [
    "### Interactive plots 3D"
   ]
  },
  {
   "cell_type": "code",
   "execution_count": null,
   "metadata": {},
   "outputs": [],
   "source": [
    "# make interactive plotly 3D plot for different visualization methods\n",
    "VIS_METHOD = [\"PCA\", \"UMAP\", \"t-SNE\"]\n",
    "print(SEQ)\n",
    "\n",
    "# for vis in VIS_METHOD: \n",
    "#     fig = interactive_plotly_3D(SEQ,df,dfall,trj_id,vis)\n",
    "#     print(\"DONE: \", vis)\n",
    "#     pio.write_html(fig, file=\"../interactive_plot/{}_{}_3D.html\".format(SEQ,vis), auto_open=True)\n",
    "    \n",
    "\n",
    "vis = VIS_METHOD[0]\n",
    "fig = interactive_plotly_3D(SEQ,df,dfall,trj_id,vis)\n",
    "# fig.show()\n",
    "pio.write_html(fig, file=\"{}_{}_3D.html\".format(SEQ,vis), auto_open=True)\n"
   ]
  },
  {
   "cell_type": "markdown",
   "metadata": {},
   "source": [
    "### Self maded interactive plot (not use)"
   ]
  },
  {
   "cell_type": "code",
   "execution_count": null,
   "metadata": {},
   "outputs": [],
   "source": [
    "# %matplotlib qt\n",
    "\n",
    "# SEQ = \"PT0\"\n",
    "# fnpz_data = \"data/helix_assoc/helix_assoc_{}_multrj_100epoch_py.npz\".format(SEQ)\n",
    "# data_npz = np.load(fnpz_data)\n",
    "# # make plots\n",
    "# interactive_plot_old(data_npz,SEQ,vis=\"PHATE\")"
   ]
  },
  {
   "cell_type": "markdown",
   "metadata": {},
   "source": [
    "## Desity Coutour"
   ]
  },
  {
   "cell_type": "markdown",
   "metadata": {},
   "source": [
    "#### Density heatmap "
   ]
  },
  {
   "cell_type": "code",
   "execution_count": null,
   "metadata": {},
   "outputs": [],
   "source": [
    "# get unique structure density heatmap\n",
    "VIS_METHOD = [\"PCA\", \"PHATE\", \"UMAP\", \"t-SNE\"]\n",
    "print(SEQ)\n",
    "\n",
    "for vis in VIS_METHOD: \n",
    "    fig = interactive_density_heatmap(SEQ,df,dfall,trj_id,vis)\n",
    "    pio.write_html(fig, file=f\"../interactive_plot/{SEQ}_density_heatmap_{vis}_uniq.html\", auto_open=True)\n",
    "    print(\"DONE: \", vis)\n",
    "\n",
    "\n",
    "# vis = VIS_METHOD[1]\n",
    "# interactive_density_heatmap(SEQ,df,dfall,trj_id,vis)\n",
    "# pio.write_html(fig, file=\"{}_density_heatmap_uniq.html\".format(SEQ), auto_open=True)\n"
   ]
  },
  {
   "cell_type": "code",
   "execution_count": null,
   "metadata": {},
   "outputs": [],
   "source": []
  },
  {
   "cell_type": "markdown",
   "metadata": {},
   "source": [
    "#### Pair vs Unpaired Contour Density"
   ]
  },
  {
   "cell_type": "code",
   "execution_count": null,
   "metadata": {},
   "outputs": [],
   "source": [
    "VIS_METHOD = [\"PCA\", \"PHATE\", \"UMAP\", \"t-SNE\"]"
   ]
  },
  {
   "cell_type": "code",
   "execution_count": null,
   "metadata": {},
   "outputs": [],
   "source": [
    "# paired vs unpaired contuours\n",
    "vis = VIS_METHOD[0]\n",
    "\n",
    "fig = px.density_contour(dfall, x=\"{} 1\".format(vis), y=\"{} 2\".format(vis),\n",
    "                        marginal_x=\"histogram\", marginal_y=\"histogram\",\n",
    "                        color=\"Pair\",\n",
    "                        # facet_col=\"Pair\",\n",
    "                        title=\"{}\".format(SEQ),\n",
    "                        )\n",
    "fig.update_layout(hovermode=\"x\")\n",
    "\n",
    "pio.write_html(fig, file=\"{}_desitycontour_pair.html\".format(SEQ), auto_open=True)"
   ]
  },
  {
   "cell_type": "code",
   "execution_count": null,
   "metadata": {},
   "outputs": [],
   "source": [
    "fig = go.Figure()\n",
    "fig.add_trace(go.Contour(\n",
    "        x = dfall[\"PCA 1\"],\n",
    "        y = dfall[\"PCA 2\"],\n",
    "        z = dfall[\"PCA Z\"],\n",
    "        colorscale = 'Blues',\n",
    "        # colorscale = dfall[\"Pair\"],\n",
    "        \n",
    "))\n",
    "pio.write_html(fig, file=\"{}_desitycontour.html\".format(SEQ), auto_open=True)"
   ]
  },
  {
   "cell_type": "code",
   "execution_count": null,
   "metadata": {},
   "outputs": [],
   "source": [
    "# # too large, not work well.\n",
    "# # scatter layout lay on the Histogram2d plots\n",
    "# fig = go.Figure()\n",
    "\n",
    "# fig.add_trace(go.Scatter(\n",
    "#     x=df[\"PCA 1\"],\n",
    "#     y=df[\"PCA 2\"],\n",
    "#     mode='markers',\n",
    "#     showlegend=False,\n",
    "#     marker=dict(\n",
    "#         symbol='x',\n",
    "#         opacity=0.7,\n",
    "#         color='white',\n",
    "#         size=8,\n",
    "#         line=dict(width=1),\n",
    "#     )\n",
    "# ))\n",
    "# # fig.add_trace(go.Scatter(\n",
    "# #     x=x1,\n",
    "# #     y=y1,\n",
    "# #     mode='markers',\n",
    "# #     showlegend=False,\n",
    "# #     marker=dict(\n",
    "# #         symbol='circle',\n",
    "# #         opacity=0.7,\n",
    "# #         color='white',\n",
    "# #         size=8,\n",
    "# #         line=dict(width=1),\n",
    "# #     )\n",
    "# # ))\n",
    "# fig.add_trace(go.Histogram2d(\n",
    "#     x=dfall[\"PCA 1\"],\n",
    "#     y=dfall[\"PCA 2\"],\n",
    "#     colorscale='YlGnBu',\n",
    "#     zmax=10,\n",
    "#     nbinsx=14,\n",
    "#     nbinsy=14,\n",
    "#     zauto=False,\n",
    "# ))\n",
    "\n",
    "# fig.update_layout(\n",
    "#     xaxis=dict( ticks='', showgrid=False, zeroline=False, nticks=20 ),\n",
    "#     yaxis=dict( ticks='', showgrid=False, zeroline=False, nticks=20 ),\n",
    "#     autosize=False,\n",
    "#     height=550,\n",
    "#     width=550,\n",
    "#     hovermode='closest',\n",
    "\n",
    "# )\n",
    "\n",
    "# pio.write_html(fig, file=\"{}_Histogram2d.html\".format(SEQ), auto_open=True)"
   ]
  },
  {
   "cell_type": "code",
   "execution_count": null,
   "metadata": {},
   "outputs": [],
   "source": []
  },
  {
   "cell_type": "markdown",
   "metadata": {},
   "source": [
    "## Draw helix structure"
   ]
  },
  {
   "cell_type": "code",
   "execution_count": null,
   "metadata": {},
   "outputs": [],
   "source": [
    "import networkx as nx\n",
    "from networkx.drawing.nx_pylab import draw_networkx\n",
    "from networkx.drawing.layout import *\n",
    "import matplotlib.pyplot as plt"
   ]
  },
  {
   "cell_type": "code",
   "execution_count": null,
   "metadata": {},
   "outputs": [],
   "source": [
    "for j in range(-20,0,5):\n",
    "    fig, ax = plt.subplots(1,5, figsize=(20,5))\n",
    "    ex_neighborhood_graphs = [nx.convert_matrix.from_numpy_matrix(x) for x in SIMS_adj[j:j+5]]\n",
    "    if j+5 == 0:\n",
    "        ex_neighborhood_graphs = [nx.convert_matrix.from_numpy_matrix(x) for x in SIMS_adj[j:]]\n",
    "\n",
    "    for i, g in enumerate(ex_neighborhood_graphs):\n",
    "        nx.draw(g, ax=ax[i], node_size=30, with_labels=True, pos=kamada_kawai_layout(g),font_size=8)  # pos=circular_layout(g)\n"
   ]
  },
  {
   "cell_type": "code",
   "execution_count": null,
   "metadata": {},
   "outputs": [],
   "source": [
    "s12 = \"....((((.....(.....).....))..))..(...........)....\"\n",
    "print(s12,len(s12))\n",
    "\n",
    "d_a2 = dot2adj(s12,helix=True)\n",
    "print(s12,len(s12),d_a2[24,25])\n",
    "\n",
    "g = nx.convert_matrix.from_numpy_matrix(d_a2)\n",
    "\n",
    "nx.draw(g, node_size=90, pos=kamada_kawai_layout(g),with_labels=True,font_size=10) "
   ]
  },
  {
   "cell_type": "code",
   "execution_count": null,
   "metadata": {},
   "outputs": [],
   "source": []
  },
  {
   "cell_type": "code",
   "execution_count": null,
   "metadata": {},
   "outputs": [],
   "source": []
  },
  {
   "cell_type": "code",
   "execution_count": null,
   "metadata": {},
   "outputs": [],
   "source": []
  },
  {
   "cell_type": "code",
   "execution_count": null,
   "metadata": {},
   "outputs": [],
   "source": [
    "OB1 = \"CTTTCCTACA\"\n",
    "OB2 = \"CCTACGTCTCCAACTAACTTACGG\"\n",
    "\n",
    "F2 = \"CCTACGTCTCCAACTAACTTACGG\"\n",
    "F3 = \"CCCT\"\n",
    "F4 = \"CATTCAATACCCTACG\" \n",
    "\n",
    "C4 = \"CATTCAATACCCTACG\"\n",
    "C5 = \"TCTCCA\"\n"
   ]
  },
  {
   "cell_type": "code",
   "execution_count": null,
   "metadata": {},
   "outputs": [],
   "source": [
    "len(OB2+F3+C4+C5)"
   ]
  },
  {
   "cell_type": "code",
   "execution_count": null,
   "metadata": {},
   "outputs": [],
   "source": [
    "OB2+F3+C4+C5"
   ]
  },
  {
   "cell_type": "code",
   "execution_count": null,
   "metadata": {},
   "outputs": [],
   "source": [
    "LB = \"TGGAGACGTAGGGTATTGAATGAGGGCCGTAAGTTAGTTGGAGACGTAGG\" # I4_bot\n",
    "len(LB)"
   ]
  },
  {
   "cell_type": "code",
   "execution_count": null,
   "metadata": {},
   "outputs": [],
   "source": [
    "\n",
    "#  Define Fig.2 sequences and their structures\n",
    "OB1 = \"CTTTCCTACA\"\n",
    "OB2 = \"CCTACGTCTCCAACTAACTTACGG\"\n",
    "\n",
    "F2 = \"CCTACGTCTCCAACTAACTTACGG\"\n",
    "F3 = \"CCCT\"\n",
    "F4 = \"CATTCAATACCCTACG\" \n",
    "\n",
    "C4 = \"CATTCAATACCCTACG\"\n",
    "C5 = \"TCTCCA\"\n",
    "\n",
    "OB = OB1 + OB2\n",
    "F = F2 + F3 + F4\n",
    "LB = \"TGGAGACGTAGGGTATTGAATGAGGGCCGTAAGTTAGTTGGAGACGTAGG\" # I4_bot, sustrate\n",
    "C = C4 + C5\n",
    "\n",
    "I4_dp = \".\"*len(OB1)+\"(\"*len(OB2)+ \"+\" + \".\"*len(F2)+\"(\"*len(F3)+\".\"*len(F4) + \"+\" + \")\"*(len(OB2)+len(F3))+\"(\"*len(C) + \"+\" + \")\"*len(C)\n",
    "\n",
    "\n",
    "dm_OB = Domain(name=\"OB\",sequence=OB,length=len(OB))\n",
    "dm_F = Domain(name=\"F\",sequence=F,length=len(F))\n",
    "dm_LB = Domain(name=\"LB\",sequence=LB,length=len(LB))\n",
    "dm_C = Domain(name=\"C\",sequence=C,length=len(C))\n",
    "\n",
    "start_complex = Complex(strands=[dm_OB, dm_F, dm_LB, dm_C], structure=I4_dp)\n",
    "\n",
    "\n",
    "\n",
    "\n",
    "# I4_top = \"CCTACGTCTCCAACTAACTTACGGCCCTCATTCAATACCCTACGTCTCCA\" #OB2+F3+C4+C5\n"
   ]
  },
  {
   "cell_type": "code",
   "execution_count": null,
   "metadata": {},
   "outputs": [],
   "source": []
  }
 ],
 "metadata": {
  "kernelspec": {
   "display_name": "Python 3.8.13 ('GSAE')",
   "language": "python",
   "name": "python3"
  },
  "language_info": {
   "codemirror_mode": {
    "name": "ipython",
    "version": 3
   },
   "file_extension": ".py",
   "mimetype": "text/x-python",
   "name": "python",
   "nbconvert_exporter": "python",
   "pygments_lexer": "ipython3",
   "version": "3.8.13"
  },
  "vscode": {
   "interpreter": {
    "hash": "960be4cf653645892f8c5040dafd36ede801108a57618a05d934dc04f8033a0a"
   }
  }
 },
 "nbformat": 4,
 "nbformat_minor": 2
}
