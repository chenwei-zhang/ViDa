{
 "cells": [
  {
   "cell_type": "code",
   "execution_count": null,
   "metadata": {},
   "outputs": [],
   "source": [
    "%matplotlib inline\n",
    "\n",
    "import numpy as np\n",
    "from argparse import Namespace\n",
    "import matplotlib.pyplot as plt\n",
    "\n",
    "from sklearn.preprocessing import MinMaxScaler\n",
    "from sklearn.neighbors import NearestNeighbors\n",
    "from sklearn.preprocessing import StandardScaler\n",
    "\n",
    "from sklearn.decomposition import PCA\n",
    "import phate"
   ]
  },
  {
   "attachments": {},
   "cell_type": "markdown",
   "metadata": {},
   "source": [
    "# Prepared embedded data"
   ]
  },
  {
   "cell_type": "code",
   "execution_count": null,
   "metadata": {},
   "outputs": [],
   "source": [
    "\"\"\"load saved trajectories data for npz file\n",
    "\"\"\"\n",
    "SEQ = \"PT4\"\n",
    "# SEQ = \"PT4_hairpin\"\n",
    "\n",
    "# laod pre-training data\n",
    "fnpz_data = \"./data/pretraining/pretraining_{}.npz\".format(SEQ)\n",
    "data_npz = np.load(fnpz_data)\n",
    "\n",
    "# asssign data to variables\n",
    "for var in data_npz.files:\n",
    "     locals()[var] = data_npz[var]\n",
    "     print(var, locals()[var].shape)\n",
    "\n",
    "# # recover full data based on coord_id, indices, and unique data\n",
    "# SIMS_adj = SIMS_adj_uniq[coord_id_S]\n",
    "# SIMS_scar = SIMS_scar_uniq[coord_id_S]\n",
    "# SIMS_G = SIMS_G_uniq[coord_id_S]\n",
    "# SIMS_pair = SIMS_pair_uniq[coord_id_S]\n",
    "\n",
    "# print(SIMS_T.shape,SIMS_HT.shape,SIMS_HT_uniq.shape)\n",
    "# print(SIMS_adj.shape,SIMS_scar.shape,SIMS_G.shape,SIMS_HT.shape,SIMS_pair.shape)\n",
    "# print(SIMS_adj_uniq.shape,SIMS_scar_uniq.shape,SIMS_G_uniq.shape,SIMS_pair_uniq.shape) \n",
    "# print(SIMS_dict.shape,SIMS_dict_uniq.shape)\n",
    "# print(coord_id_S.shape,indices_S.shape,trj_id.shape,occ_density_S.shape)"
   ]
  },
  {
   "cell_type": "code",
   "execution_count": null,
   "metadata": {},
   "outputs": [],
   "source": [
    "X_j = np.array(np.load(f'./data/graph/{SEQ}/shortestpath_knn=100.npz',allow_pickle=True)[\"X_j\"], dtype=int)\n",
    "D_ij = np.array(np.load(f'./data/graph/{SEQ}/shortestpath_knn=100.npz',allow_pickle=True)[\"D_ij\"], dtype=float)\n",
    "print(\"X_j\", X_j.shape)\n",
    "print(\"D_ij\", D_ij.shape)"
   ]
  },
  {
   "cell_type": "code",
   "execution_count": null,
   "metadata": {},
   "outputs": [],
   "source": [
    "# load embedding plot data\n",
    "\n",
    "fnpz_data_embed = f\"./data/vida_data/{SEQ}_0304-0216.npz\"\n",
    "# fnpz_data_embed = f\"./data/vida_data/{SEQ}_usePT4_03040216.npz\"\n",
    "data_npz_embed = np.load(fnpz_data_embed,allow_pickle=True)\n",
    "# asssign data to variables\n",
    "for var in data_npz_embed.files:\n",
    "    globals()[var] = data_npz_embed[var]\n",
    "    print(var, globals()[var].shape)\n",
    "print(\"data_embed\", data_embed.max(), data_embed.min(), data_embed.mean(), data_embed.std())"
   ]
  },
  {
   "cell_type": "code",
   "execution_count": null,
   "metadata": {},
   "outputs": [],
   "source": [
    "# calculate the probability of being visited during a simulated trajectory \n",
    "# from the initial state\n",
    "split_id = trj_id + 1 # index for split to each trajectory\n",
    "P_tot = np.zeros(len(SIMS_dict_uniq))\n",
    "\n",
    "for i in range(len(split_id)):\n",
    "    if i == 0:\n",
    "        trj = set(SIMS_dict[0:split_id[i],4].astype(int))\n",
    "    else:\n",
    "        trj = set(SIMS_dict[split_id[i-1]:split_id[i],4].astype(int))\n",
    "\n",
    "    P_tot[list(trj)] += 1\n",
    "\n",
    "P_tot = P_tot / 100\n",
    "\n",
    "print(\"P_tot\", P_tot.shape, P_tot.max(), P_tot.min())"
   ]
  },
  {
   "attachments": {},
   "cell_type": "markdown",
   "metadata": {},
   "source": [
    "# Evaluate embedding"
   ]
  },
  {
   "attachments": {},
   "cell_type": "markdown",
   "metadata": {},
   "source": [
    "### Metric distance"
   ]
  },
  {
   "cell_type": "code",
   "execution_count": null,
   "metadata": {},
   "outputs": [],
   "source": [
    "def metric_dist(X_j, D_ij, P_tot, z):\n",
    "    \"\"\"\n",
    "    Metric to calculate the distance \n",
    "    \"\"\"\n",
    "    z_re = z.reshape(-1,1,z.shape[-1])\n",
    "    zj = z[X_j]\n",
    "    l2_zizj = np.sqrt(np.sum((z_re-zj)**2, axis=-1))\n",
    "    \n",
    "    # normalize the distance\n",
    "    scaler = MinMaxScaler(feature_range=(1,3)) \n",
    "    l2_zizj = scaler.fit_transform(l2_zizj)\n",
    "    D_ij = scaler.fit_transform(D_ij)\n",
    "    \n",
    "    dist_diff = (l2_zizj - D_ij)**2\n",
    "    wij = (P_tot.reshape(-1,1) * P_tot[X_j])\n",
    "    dist_loss = np.sum(wij * dist_diff)/len(dist_diff)\n",
    "    return dist_loss"
   ]
  },
  {
   "cell_type": "code",
   "execution_count": null,
   "metadata": {},
   "outputs": [],
   "source": [
    "pca_dist = metric_dist(X_j, D_ij, P_tot, pca_coords[:,:2])\n",
    "phate_dist = metric_dist(X_j, D_ij, P_tot, phate_coords)\n",
    "print (f'PCA distance loss: {pca_dist:.4f}')\n",
    "print (f'PHATE distance loss: {phate_dist:.4f}')"
   ]
  },
  {
   "attachments": {},
   "cell_type": "markdown",
   "metadata": {},
   "source": [
    "### Neighboring preservation rate"
   ]
  },
  {
   "cell_type": "code",
   "execution_count": null,
   "metadata": {},
   "outputs": [],
   "source": [
    "from sklearn.neighbors import NearestNeighbors\n",
    "\n",
    "def neighboring_preservation_rate(X, X_j, k):\n",
    "    \"\"\"\n",
    "    Metric to calculate the neighboring preservation rate \n",
    "    \"\"\"\n",
    "    # Compute the k-nearest neighbors for both X and Y.\n",
    "    nn_X = NearestNeighbors(n_neighbors=k+1).fit(X) # k+1 because we don't want to include the point itself\n",
    "    indices_X = nn_X.kneighbors(X,return_distance=False)[:,1:] # exclude the point itself\n",
    "    \n",
    "    # compute the rate of each point\n",
    "    rate_list = []\n",
    "    for i in range(len(indices_X)):\n",
    "        count = len(np.intersect1d(indices_X[i], X_j[i,:k]))\n",
    "        rate_i = count/k\n",
    "        rate_list.append(rate_i)\n",
    "        \n",
    "    # Compute the overall neighboring preservation rate\n",
    "    return np.mean(rate_list)"
   ]
  },
  {
   "cell_type": "code",
   "execution_count": null,
   "metadata": {},
   "outputs": [],
   "source": [
    "knnn = 100\n",
    "print(\"PCA rate: \", neighboring_preservation_rate(pca_coords[:,:2], X_j, k=knnn))\n",
    "print(\"PHATE rate: \", neighboring_preservation_rate(phate_coords, X_j, k=knnn))"
   ]
  },
  {
   "cell_type": "code",
   "execution_count": null,
   "metadata": {},
   "outputs": [],
   "source": [
    "print(\"Direct PCA rate: \", neighboring_preservation_rate(pca_coords_direct[:,:2], X_j, k=knnn))\n",
    "print(\"Direct PHATE rate: \", neighboring_preservation_rate(phate_coords_direct, X_j, k=knnn))"
   ]
  },
  {
   "attachments": {},
   "cell_type": "markdown",
   "metadata": {},
   "source": [
    "### PCA explained variance"
   ]
  },
  {
   "cell_type": "code",
   "execution_count": null,
   "metadata": {},
   "outputs": [],
   "source": [
    "cm = PCA(n_components=25)\n",
    "cm.fit(data_embed)\n",
    "\n",
    "PC_values = np.arange(cm.n_components_) + 1\n",
    "plt.plot(PC_values, np.cumsum(cm.explained_variance_ratio_), 'ro-', linewidth=2)\n",
    "plt.title('Scree Plot: PCA')\n",
    "plt.xlabel('Number of principal components')\n",
    "plt.ylabel('Cumulative explained variance');\n",
    "# plt.xticks(np.arange(0, data_embed.shape[-1]+1, 1))\n",
    "\n",
    "plt.show()"
   ]
  },
  {
   "cell_type": "code",
   "execution_count": null,
   "metadata": {},
   "outputs": [],
   "source": [
    "np.cumsum(cm.explained_variance_ratio_)"
   ]
  },
  {
   "attachments": {},
   "cell_type": "markdown",
   "metadata": {},
   "source": [
    "# Visualize"
   ]
  },
  {
   "cell_type": "code",
   "execution_count": null,
   "metadata": {},
   "outputs": [],
   "source": [
    "SEQ"
   ]
  },
  {
   "attachments": {},
   "cell_type": "markdown",
   "metadata": {},
   "source": [
    "### PCA Vis"
   ]
  },
  {
   "cell_type": "code",
   "execution_count": null,
   "metadata": {},
   "outputs": [],
   "source": [
    "%matplotlib inline\n",
    "X = pca_coords[:,0]\n",
    "Y = pca_coords[:,1]\n",
    "Z = pca_coords[:,2]\n",
    "\n",
    "# PCA: 2 components\n",
    "fig,ax = plt.subplots(figsize=(8,6))\n",
    "im = ax.scatter(X, Y, \n",
    "          c=SIMS_G_uniq, \n",
    "          cmap='plasma',\n",
    "        )\n",
    "\n",
    "plt.colorbar(im)\n",
    "\n",
    "# annotations=[\"I\",\"F\"]\n",
    "# x = [X[0],X[all_nodes[-1]]]\n",
    "# y = [Y[0],Y[all_nodes[-1]]]\n",
    "# plt.scatter(x,y,s=150, c=\"green\", alpha=1)\n",
    "# for i, label in enumerate(annotations):\n",
    "#     plt.annotate(label, (x[i]-0.3,y[i]-0.3),fontsize=15,c=\"yellow\")"
   ]
  },
  {
   "cell_type": "markdown",
   "metadata": {},
   "source": [
    "#### Try use PCA directly without AE"
   ]
  },
  {
   "cell_type": "code",
   "execution_count": null,
   "metadata": {},
   "outputs": [],
   "source": [
    "# %%script false --no-raise-error\n",
    "\n",
    "pca_coords_direct = PCA(n_components=3).fit_transform(SIMS_scar_uniq)   # multiple trj\n",
    "\n",
    "X = pca_coords_direct[:,0]\n",
    "Y = pca_coords_direct[:,1]\n",
    "Z = pca_coords_direct[:,2]\n",
    "\n",
    "# PCA: 2 components\n",
    "fig,ax = plt.subplots(figsize=(8,6))\n",
    "im = ax.scatter(X, Y, \n",
    "          c=SIMS_G_uniq, \n",
    "          cmap='plasma',\n",
    "        )\n",
    "\n",
    "plt.colorbar(im)\n",
    "\n",
    "annotations=[\"I\",\"F\"]\n",
    "x = [X[0],X[-1]]\n",
    "y = [Y[0],Y[-1]]\n",
    "plt.scatter(x,y,s=150, c=\"green\", alpha=1)\n",
    "for i, label in enumerate(annotations):\n",
    "    plt.annotate(label, (x[i]-0.3,y[i]-0.3),fontsize=15,c=\"black\")"
   ]
  },
  {
   "cell_type": "code",
   "execution_count": null,
   "metadata": {},
   "outputs": [],
   "source": [
    "cm = PCA(n_components=25)\n",
    "cm.fit(SIMS_scar_uniq)\n",
    "\n",
    "PC_values = np.arange(cm.n_components_) + 1\n",
    "plt.plot(PC_values, np.cumsum(cm.explained_variance_ratio_), 'ro-', linewidth=2)\n",
    "plt.title('Scree Plot: PCA')\n",
    "plt.xlabel('Number of principal components')\n",
    "plt.ylabel('Cumulative explained variance');\n",
    "# plt.xticks(np.arange(0, data_embed.shape[-1]+1, 1))\n",
    "\n",
    "plt.show()"
   ]
  },
  {
   "cell_type": "code",
   "execution_count": null,
   "metadata": {},
   "outputs": [],
   "source": [
    "np.cumsum(cm.explained_variance_ratio_)"
   ]
  },
  {
   "attachments": {},
   "cell_type": "markdown",
   "metadata": {},
   "source": [
    "### PHATE Vis"
   ]
  },
  {
   "cell_type": "code",
   "execution_count": null,
   "metadata": {},
   "outputs": [],
   "source": [
    "X_phate = phate_coords[:,0]\n",
    "Y_phate = phate_coords[:,1]\n",
    "\n",
    "fig,ax = plt.subplots(figsize=(8,6))\n",
    "im = ax.scatter(X_phate,Y_phate,\n",
    "                c=SIMS_G_uniq,            \n",
    "                cmap='plasma',\n",
    "               )\n",
    "\n",
    "plt.colorbar(im)\n",
    "\n",
    "# annotations=[\"I\",\"F\"]\n",
    "# x = [X_phate[0],X_phate[all_nodes[-1]]]\n",
    "# y = [Y_phate[0],Y_phate[all_nodes[-1]]]\n",
    "# plt.scatter(x,y,s=50, c=\"green\", alpha=1)\n",
    "# for i, label in enumerate(annotations):\n",
    "#     plt.annotate(label, (x[i],y[i]),fontsize=30,c=\"black\")"
   ]
  },
  {
   "cell_type": "markdown",
   "metadata": {},
   "source": [
    "#### PHATE without AE"
   ]
  },
  {
   "cell_type": "code",
   "execution_count": null,
   "metadata": {},
   "outputs": [],
   "source": [
    "# %%script false --no-raise-error\n",
    "\n",
    "phate_operator = phate.PHATE(n_jobs=-2)\n",
    "phate_coords_direct = phate_operator.fit_transform(SIMS_scar_uniq)\n",
    "\n",
    "fig,ax = plt.subplots(figsize=(8,6))\n",
    "im = ax.scatter(phate_coords_direct[:,0],\n",
    "          phate_coords_direct[:,1],\n",
    "          c=SIMS_G_uniq, \n",
    "          cmap='plasma',\n",
    "        )\n",
    "\n",
    "plt.colorbar(im)\n",
    "\n",
    "annotations=[\"I\",\"F\"]\n",
    "x = [phate_coords_direct[:,0][0],phate_coords_direct[:,0][-1]]\n",
    "y = [phate_coords_direct[:,1][0],phate_coords_direct[:,1][-1]]\n",
    "plt.scatter(x,y,s=50, c=\"green\", alpha=1)\n",
    "for i, label in enumerate(annotations):\n",
    "    plt.annotate(label, (x[i],y[i]),fontsize=20,c=\"black\")"
   ]
  },
  {
   "cell_type": "code",
   "execution_count": null,
   "metadata": {},
   "outputs": [],
   "source": []
  }
 ],
 "metadata": {
  "kernelspec": {
   "display_name": "Python 3.8.13 ('vida')",
   "language": "python",
   "name": "python3"
  },
  "language_info": {
   "codemirror_mode": {
    "name": "ipython",
    "version": 3
   },
   "file_extension": ".py",
   "mimetype": "text/x-python",
   "name": "python",
   "nbconvert_exporter": "python",
   "pygments_lexer": "ipython3",
   "version": "3.8.13"
  },
  "vscode": {
   "interpreter": {
    "hash": "e442af4fad2330d8f4febe7e8e7250535e161341429a4f0b93cbf21b824330cc"
   }
  }
 },
 "nbformat": 4,
 "nbformat_minor": 2
}
