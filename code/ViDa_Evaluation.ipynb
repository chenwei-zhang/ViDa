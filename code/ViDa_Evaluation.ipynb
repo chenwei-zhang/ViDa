{
 "cells": [
  {
   "cell_type": "code",
   "execution_count": null,
   "metadata": {},
   "outputs": [],
   "source": [
    "%matplotlib inline\n",
    "\n",
    "import numpy as np\n",
    "from argparse import Namespace\n",
    "import matplotlib.pyplot as plt\n",
    "\n",
    "from sklearn.preprocessing import MinMaxScaler\n",
    "from sklearn.neighbors import NearestNeighbors\n",
    "from sklearn.preprocessing import StandardScaler\n",
    "\n",
    "from sklearn.decomposition import PCA\n",
    "import phate"
   ]
  },
  {
   "attachments": {},
   "cell_type": "markdown",
   "metadata": {},
   "source": [
    "# Prepared embedded data"
   ]
  },
  {
   "cell_type": "code",
   "execution_count": null,
   "metadata": {},
   "outputs": [],
   "source": [
    "\"\"\"load saved trajectories data for npz file\n",
    "\"\"\"\n",
    "SEQ = \"PT4\"\n",
    "# SEQ = \"PT4_hairpin\"\n",
    "\n",
    "# laod pre-training data\n",
    "fnpz_data = \"./data/pretraining/pretraining_{}.npz\".format(SEQ)\n",
    "data_npz = np.load(fnpz_data)\n",
    "\n",
    "# asssign data to variables\n",
    "for var in data_npz.files:\n",
    "     locals()[var] = data_npz[var]\n",
    "     print(var, locals()[var].shape)"
   ]
  },
  {
   "cell_type": "code",
   "execution_count": null,
   "metadata": {},
   "outputs": [],
   "source": [
    "X_j = np.array(np.load(f'./data/graph/{SEQ}/shortestpath_knn=100.npz',allow_pickle=True)[\"X_j\"], dtype=int)\n",
    "D_ij = np.array(np.load(f'./data/graph/{SEQ}/shortestpath_knn=100.npz',allow_pickle=True)[\"D_ij\"], dtype=float)\n",
    "print(\"X_j\", X_j.shape)\n",
    "print(\"D_ij\", D_ij.shape)"
   ]
  },
  {
   "cell_type": "code",
   "execution_count": null,
   "metadata": {},
   "outputs": [],
   "source": [
    "# load embedding WITHOUT vida plot data\n",
    "SEQ = \"PT4_hairpin\"\n",
    "fnpz_noViDa = f\"./data/vida_data/noViDa-noEnergy/{SEQ}_noViDa.npz\"\n",
    "data_noViDa = np.load(fnpz_noViDa,allow_pickle=True)\n",
    "for var in data_noViDa.files:\n",
    "    globals()[var] = data_noViDa[var]\n",
    "    print(var, globals()[var].shape)"
   ]
  },
  {
   "cell_type": "code",
   "execution_count": null,
   "metadata": {},
   "outputs": [],
   "source": [
    "# load ViDa embedding plot data\n",
    "SEQ_embed = \"PT0_0305-2258\"\n",
    "\n",
    "fnpz_data_embed = f\"./data/vida_data/{SEQ_embed}.npz\"\n",
    "# fnpz_data_embed = f\"./data/vida_data/{SEQ}_usePT4_03040216.npz\"\n",
    "data_npz_embed = np.load(fnpz_data_embed,allow_pickle=True)\n",
    "\n",
    "# asssign data to variables\n",
    "for var in data_npz_embed.files:\n",
    "    globals()[var] = data_npz_embed[var]\n",
    "    print(var, globals()[var].shape)\n",
    "print(\"data_embed\", data_embed.max(), data_embed.min(), data_embed.mean(), data_embed.std())"
   ]
  },
  {
   "cell_type": "code",
   "execution_count": null,
   "metadata": {},
   "outputs": [],
   "source": [
    "# load GSAE embedding plot data\n",
    "\n",
    "fnpz_data_embed = f\"./data/gsae_data/helix_assoc_PT0_multrj_60epoch_py.npz\"\n",
    "\n",
    "data_npz_embed = np.load(fnpz_data_embed,allow_pickle=True)\n",
    "# asssign data to variables\n",
    "for var in data_npz_embed.files:\n",
    "    globals()[var] = data_npz_embed[var]\n",
    "    print(var, globals()[var].shape)\n",
    "print(\"data_embed\", data_embed.max(), data_embed.min(), data_embed.mean(), data_embed.std())"
   ]
  },
  {
   "cell_type": "code",
   "execution_count": null,
   "metadata": {},
   "outputs": [],
   "source": [
    "# calculate the probability of being visited during a simulated trajectory \n",
    "# from the initial state\n",
    "split_id = trj_id + 1 # index for split to each trajectory\n",
    "P_tot = np.zeros(len(SIMS_dict_uniq))\n",
    "\n",
    "for i in range(len(split_id)):\n",
    "    if i == 0:\n",
    "        trj = set(SIMS_dict[0:split_id[i],4].astype(int))\n",
    "    else:\n",
    "        trj = set(SIMS_dict[split_id[i-1]:split_id[i],4].astype(int))\n",
    "\n",
    "    P_tot[list(trj)] += 1\n",
    "\n",
    "P_tot = P_tot / 100\n",
    "\n",
    "print(\"P_tot\", P_tot.shape, P_tot.max(), P_tot.min())"
   ]
  },
  {
   "attachments": {},
   "cell_type": "markdown",
   "metadata": {},
   "source": [
    "# Evaluate embedding"
   ]
  },
  {
   "attachments": {},
   "cell_type": "markdown",
   "metadata": {},
   "source": [
    "### Metric distance"
   ]
  },
  {
   "cell_type": "code",
   "execution_count": null,
   "metadata": {},
   "outputs": [],
   "source": [
    "def metric_dist(X_j, D_ij, P_tot, z):\n",
    "    \"\"\"\n",
    "    Metric to calculate the distance \n",
    "    \"\"\"\n",
    "    z_re = z.reshape(-1,1,z.shape[-1])\n",
    "    zj = z[X_j]\n",
    "    l2_zizj = np.sqrt(np.sum((z_re-zj)**2, axis=-1))\n",
    "    \n",
    "    # normalize the distance\n",
    "    scaler = MinMaxScaler(feature_range=(1,3)) \n",
    "    l2_zizj = scaler.fit_transform(l2_zizj)\n",
    "    D_ij = scaler.fit_transform(D_ij)\n",
    "    \n",
    "    dist_diff = (l2_zizj - D_ij)**2\n",
    "    wij = (P_tot.reshape(-1,1) * P_tot[X_j])\n",
    "    dist_loss = np.sum(wij * dist_diff)/len(dist_diff)\n",
    "    return dist_loss"
   ]
  },
  {
   "cell_type": "code",
   "execution_count": null,
   "metadata": {},
   "outputs": [],
   "source": [
    "pca_dist = metric_dist(X_j, D_ij, P_tot, pca_coords[:,:2])\n",
    "phate_dist = metric_dist(X_j, D_ij, P_tot, phate_coords)\n",
    "print (f'PCA distance loss: {pca_dist:.4f}')\n",
    "print (f'PHATE distance loss: {phate_dist:.4f}')"
   ]
  },
  {
   "attachments": {},
   "cell_type": "markdown",
   "metadata": {},
   "source": [
    "### Neighboring preservation rate"
   ]
  },
  {
   "cell_type": "code",
   "execution_count": null,
   "metadata": {},
   "outputs": [],
   "source": [
    "from sklearn.neighbors import NearestNeighbors\n",
    "\n",
    "def neighboring_preservation_rate(X, X_j, P_tot, k):\n",
    "    \"\"\"\n",
    "    Metric to calculate the neighboring preservation rate \n",
    "    \"\"\"\n",
    "    # Compute the k-nearest neighbors for both X and Y.\n",
    "    nn_X = NearestNeighbors(n_neighbors=k+1).fit(X) # k+1 because we don't want to include the point itself\n",
    "    indices_X = nn_X.kneighbors(X,return_distance=False)[:,1:] # exclude the point itself\n",
    "    \n",
    "    # compute the rate of each point\n",
    "    rate_list = []\n",
    "    for i in range(len(indices_X)):\n",
    "        count = len(np.intersect1d(indices_X[i], X_j[i,:k]))\n",
    "        rate_i = count/k\n",
    "        rate_list.append(rate_i)\n",
    "    \n",
    "    # Compute the overall neighbsoring preservation rate\n",
    "    \n",
    "    # rate = np.mean(rate_list) # average\n",
    "    rate = (rate_list * P_tot / P_tot.sum()).sum() # weighted average\n",
    "    \n",
    "    return rate"
   ]
  },
  {
   "cell_type": "code",
   "execution_count": null,
   "metadata": {},
   "outputs": [],
   "source": [
    "# ViDa embedding\n",
    "knn = 10000\n",
    "print(\"ViDa PCA rate: {:.4f}\".format(neighboring_preservation_rate(pca_coords[:,:2], X_j_all, P_tot, k=knn)))\n",
    "print(\"ViDa PHATE rate: {:.4f}\".format(neighboring_preservation_rate(phate_coords, X_j_all, P_tot, k=knn)))"
   ]
  },
  {
   "cell_type": "code",
   "execution_count": null,
   "metadata": {},
   "outputs": [],
   "source": [
    "# Pretrained ViDa embedding\n",
    "knn = 10000\n",
    "print(\"Pretrained ViDa PCA rate: {:.4f}\".format(neighboring_preservation_rate(pca_coords[:,:2], X_j_all, P_tot, k=knn)))\n",
    "print(\"Pretrained ViDa PHATE rate: {:.4f}\".format(neighboring_preservation_rate(phate_coords, X_j_all, P_tot, k=knn)))"
   ]
  },
  {
   "cell_type": "code",
   "execution_count": null,
   "metadata": {},
   "outputs": [],
   "source": [
    "# GSAE embedding\n",
    "knn = 10000\n",
    "print(\"GSAE PCA rate: {:.4f}\".format(neighboring_preservation_rate(pca_coords[:,:2], X_j_all, P_tot, k=knn)))\n",
    "print(\"GSAE PHATE rate: {:.4f}\".format(neighboring_preservation_rate(phate_coords, X_j_all, P_tot, k=knn)))"
   ]
  },
  {
   "cell_type": "code",
   "execution_count": null,
   "metadata": {},
   "outputs": [],
   "source": [
    "# Direct embedding\n",
    "knn = 10000\n",
    "print(\"Direct PCA rate: {:.4f}\".format(neighboring_preservation_rate(pca_coords_direct[:,:2], X_j_all, P_tot, k=knn)))\n",
    "print(\"Direct PHATE rate: {:.4f}\".format(neighboring_preservation_rate(phate_coords_direct, X_j_all, P_tot, k=knn)))\n",
    "print(\"MDS with distance rate: {:.4f}\".format(neighboring_preservation_rate(mds_coords, X_j_all, P_tot, k=knn)))"
   ]
  },
  {
   "cell_type": "code",
   "execution_count": null,
   "metadata": {},
   "outputs": [],
   "source": [
    "# D_ij_all = []\n",
    "# X_j_all = []\n",
    "\n",
    "# for i in range(len(SIMS_HT_uniq)):\n",
    "#     dij = np.array(list(np.load(f'./data/graph/{SEQ}/allpath_{SEQ}/path_{i}.npy',allow_pickle=True)[0].values()), dtype=float)\n",
    "#     xj = np.array(list(np.load(f'./data/graph/{SEQ}/allpath_{SEQ}/path_{i}.npy',allow_pickle=True)[0].keys()), dtype=int)\n",
    "    \n",
    "#     D_ij_all.append(dij)\n",
    "#     X_j_all.append(xj)\n",
    "\n",
    "# D_ij_all = np.stack(D_ij_all)\n",
    "# X_j_all = np.stack(X_j_all)\n",
    "\n",
    "# # save npz file for shortest path\n",
    "# with open(f'./data/graph/{SEQ}_allpath.npz', 'wb') as f:\n",
    "#     np.savez(f,\n",
    "#              X_j_all = np.stack(X_j_all),\n",
    "#              D_ij_all = np.stack(D_ij_all),\n",
    "#          )"
   ]
  },
  {
   "attachments": {},
   "cell_type": "markdown",
   "metadata": {},
   "source": [
    "### PCA explained variance"
   ]
  },
  {
   "cell_type": "code",
   "execution_count": null,
   "metadata": {},
   "outputs": [],
   "source": [
    "cm = PCA(n_components=25)\n",
    "cm.fit(data_embed)\n",
    "\n",
    "PC_values = np.arange(cm.n_components_) + 1\n",
    "plt.plot(PC_values, np.cumsum(cm.explained_variance_ratio_), 'ro-', linewidth=2)\n",
    "plt.title('Scree Plot: PCA')\n",
    "plt.xlabel('Number of principal components')\n",
    "plt.ylabel('Cumulative explained variance');\n",
    "# plt.xticks(np.arange(0, data_embed.shape[-1]+1, 1))\n",
    "plt.show()\n",
    "\n",
    "print(np.cumsum(cm.explained_variance_ratio_))"
   ]
  },
  {
   "attachments": {},
   "cell_type": "markdown",
   "metadata": {},
   "source": [
    "### MDS for distance matrix"
   ]
  },
  {
   "cell_type": "code",
   "execution_count": null,
   "metadata": {},
   "outputs": [],
   "source": [
    "# PT4_hairpin all path\n",
    "X_j_all = np.array(np.load(f'./data/graph/{SEQ}_allpath.npz',allow_pickle=True)[\"X_j_all\"])\n",
    "D_ij_all = np.array(np.load(f'./data/graph/{SEQ}_allpath.npz',allow_pickle=True)[\"D_ij_all\"])\n",
    "print(\"X_j_all\", X_j_all.shape)\n",
    "print(\"D_ij_all\", D_ij_all.shape)"
   ]
  },
  {
   "cell_type": "code",
   "execution_count": null,
   "metadata": {},
   "outputs": [],
   "source": [
    "# make precomputed distance matrix for MDS with \n",
    "MDS_dist = np.ones((D_ij_all.shape[0],D_ij_all.shape[0]))\n",
    "for i in range(len(D_ij_all)):\n",
    "    MDS_dist[i,X_j_all[i]] = D_ij_all[i]"
   ]
  },
  {
   "cell_type": "code",
   "execution_count": null,
   "metadata": {},
   "outputs": [],
   "source": [
    "MDS_dist.shape"
   ]
  },
  {
   "cell_type": "code",
   "execution_count": null,
   "metadata": {},
   "outputs": [],
   "source": [
    "# not necessary if the distance matrix includes all the neighbors\n",
    "def makeSymmetric(mat):\n",
    "    # Loop to traverse lower triangular\n",
    "    # elements of the given matrix\n",
    "    for i in range(0, len(mat)):\n",
    "        for j in range(0, len(mat)):\n",
    "            if (j < i):\n",
    "                mat[i][j] = mat[j][i] = min(mat[i][j], mat[j][i])\n",
    "    return mat"
   ]
  },
  {
   "cell_type": "code",
   "execution_count": null,
   "metadata": {},
   "outputs": [],
   "source": [
    "MDS_dist_symm = makeSymmetric(MDS_dist)\n",
    "MDS_dist_symm.shape"
   ]
  },
  {
   "cell_type": "code",
   "execution_count": null,
   "metadata": {},
   "outputs": [],
   "source": [
    "# %%script false --no-raise-error\n",
    "\n",
    "from sklearn.manifold import MDS\n",
    "mds = MDS(n_components=2, dissimilarity='precomputed')\n",
    "mds_coords = mds.fit_transform(MDS_dist)"
   ]
  },
  {
   "cell_type": "code",
   "execution_count": null,
   "metadata": {},
   "outputs": [],
   "source": [
    "# # save for python\n",
    "# pca_all_coords_direct = pca_coords_direct[coord_id_S]  \n",
    "# phate_all_coords_direct = phate_coords_direct[coord_id_S]\n",
    "# mds_all_coords = mds_coords[coord_id_S]\n",
    "\n",
    "# fnpz_data = f\"data/vida_data/noViDa-noEnergy/{SEQ}_noViDa.npz\"\n",
    "# with open(fnpz_data, 'wb') as f:\n",
    "#     np.savez(f,\n",
    "#             pca_coords_direct=pca_coords_direct, pca_all_coords_direct=pca_all_coords_direct,\n",
    "#             phate_coords_direct=phate_coords_direct, phate_all_coords_direct=phate_all_coords_direct,\n",
    "#             mds_coords=mds_coords, mds_all_coords=mds_all_coords,\n",
    "#             )"
   ]
  },
  {
   "attachments": {},
   "cell_type": "markdown",
   "metadata": {},
   "source": [
    "# Visualize"
   ]
  },
  {
   "cell_type": "code",
   "execution_count": null,
   "metadata": {},
   "outputs": [],
   "source": [
    "SEQ"
   ]
  },
  {
   "attachments": {},
   "cell_type": "markdown",
   "metadata": {},
   "source": [
    "### PCA Vis"
   ]
  },
  {
   "cell_type": "code",
   "execution_count": null,
   "metadata": {},
   "outputs": [],
   "source": [
    "%matplotlib inline\n",
    "X = pca_coords[:,0]\n",
    "Y = pca_coords[:,1]\n",
    "Z = pca_coords[:,2]\n",
    "\n",
    "# PCA: 2 components\n",
    "fig,ax = plt.subplots(figsize=(8,6))\n",
    "im = ax.scatter(X, Y, \n",
    "          c=SIMS_G_uniq, \n",
    "          cmap='plasma',\n",
    "        )\n",
    "\n",
    "plt.colorbar(im)\n",
    "\n",
    "annotations=[\"I\",\"F\"]\n",
    "x = [X[0],X[int(SIMS_dict[-1,-1])]]\n",
    "y = [Y[0],Y[int(SIMS_dict[-1,-1])]]\n",
    "plt.scatter(x,y,s=150, c=\"green\", alpha=1)\n",
    "for i, label in enumerate(annotations):\n",
    "    plt.annotate(label, (x[i],y[i]),fontsize=20,c=\"black\")"
   ]
  },
  {
   "cell_type": "markdown",
   "metadata": {},
   "source": [
    "#### Try use PCA directly without AE"
   ]
  },
  {
   "cell_type": "code",
   "execution_count": null,
   "metadata": {},
   "outputs": [],
   "source": [
    "# %%script false --no-raise-error\n",
    "\n",
    "pca_coords_direct = PCA(n_components=3).fit_transform(SIMS_scar_uniq)   # multiple trj\n",
    "\n",
    "X = pca_coords_direct[:,0]\n",
    "Y = pca_coords_direct[:,1]\n",
    "Z = pca_coords_direct[:,2]\n",
    "\n",
    "# PCA: 2 components\n",
    "fig,ax = plt.subplots(figsize=(8,6))\n",
    "im = ax.scatter(X, Y, \n",
    "          c=SIMS_G_uniq, \n",
    "          cmap='plasma',\n",
    "        )\n",
    "\n",
    "plt.colorbar(im)\n",
    "\n",
    "annotations=[\"I\",\"F\"]\n",
    "x = [X[0],X[-1]]\n",
    "y = [Y[0],Y[-1]]\n",
    "plt.scatter(x,y,s=150, c=\"green\", alpha=1)\n",
    "for i, label in enumerate(annotations):\n",
    "    plt.annotate(label, (x[i]-0.3,y[i]-0.3),fontsize=20,c=\"black\")"
   ]
  },
  {
   "cell_type": "code",
   "execution_count": null,
   "metadata": {},
   "outputs": [],
   "source": [
    "cm = PCA(n_components=25)\n",
    "cm.fit(SIMS_scar_uniq)\n",
    "\n",
    "PC_values = np.arange(cm.n_components_) + 1\n",
    "plt.plot(PC_values, np.cumsum(cm.explained_variance_ratio_), 'ro-', linewidth=2)\n",
    "plt.title('Scree Plot: PCA')\n",
    "plt.xlabel('Number of principal components')\n",
    "plt.ylabel('Cumulative explained variance');\n",
    "# plt.xticks(np.arange(0, data_embed.shape[-1]+1, 1))\n",
    "plt.show()\n",
    "\n",
    "print(np.cumsum(cm.explained_variance_ratio_))"
   ]
  },
  {
   "attachments": {},
   "cell_type": "markdown",
   "metadata": {},
   "source": [
    "### PHATE Vis"
   ]
  },
  {
   "cell_type": "code",
   "execution_count": null,
   "metadata": {},
   "outputs": [],
   "source": [
    "X_phate = phate_coords[:,0]\n",
    "Y_phate = phate_coords[:,1]\n",
    "\n",
    "fig,ax = plt.subplots(figsize=(8,6))\n",
    "im = ax.scatter(X_phate,Y_phate,\n",
    "                c=SIMS_G_uniq,            \n",
    "                cmap='plasma',\n",
    "               )\n",
    "\n",
    "plt.colorbar(im)\n",
    "\n",
    "annotations=[\"I\",\"F\"]\n",
    "x = [X_phate[0],X_phate[int(SIMS_dict[-1,-1])]]\n",
    "y = [Y_phate[0],Y_phate[int(SIMS_dict[-1,-1])]]\n",
    "plt.scatter(x,y,s=50, c=\"green\", alpha=1)\n",
    "for i, label in enumerate(annotations):\n",
    "    plt.annotate(label, (x[i],y[i]),fontsize=20,c=\"black\")"
   ]
  },
  {
   "cell_type": "markdown",
   "metadata": {},
   "source": [
    "#### PHATE without AE"
   ]
  },
  {
   "cell_type": "code",
   "execution_count": null,
   "metadata": {},
   "outputs": [],
   "source": [
    "# %%script false --no-raise-error\n",
    "\n",
    "phate_operator = phate.PHATE(n_jobs=-2)\n",
    "phate_coords_direct = phate_operator.fit_transform(SIMS_scar_uniq)\n",
    "\n",
    "fig,ax = plt.subplots(figsize=(8,6))\n",
    "im = ax.scatter(phate_coords_direct[:,0],\n",
    "          phate_coords_direct[:,1],\n",
    "          c=SIMS_G_uniq, \n",
    "          cmap='plasma',\n",
    "        )\n",
    "\n",
    "plt.colorbar(im)\n",
    "\n",
    "annotations=[\"I\",\"F\"]\n",
    "x = [phate_coords_direct[:,0][0],phate_coords_direct[:,0][-1]]\n",
    "y = [phate_coords_direct[:,1][0],phate_coords_direct[:,1][-1]]\n",
    "plt.scatter(x,y,s=50, c=\"green\", alpha=1)\n",
    "for i, label in enumerate(annotations):\n",
    "    plt.annotate(label, (x[i],y[i]),fontsize=20,c=\"black\")"
   ]
  },
  {
   "attachments": {},
   "cell_type": "markdown",
   "metadata": {},
   "source": [
    "### MDS with distance matrix"
   ]
  },
  {
   "cell_type": "code",
   "execution_count": null,
   "metadata": {},
   "outputs": [],
   "source": [
    "X = mds_coords[:,0]\n",
    "Y = mds_coords[:,1]\n",
    "cmap = plt.cm.plasma\n",
    "cmap_r = plt.cm.get_cmap('plasma_r')\n",
    "\n",
    "fig,ax = plt.subplots(figsize=(8,6))\n",
    "im = ax.scatter(X, Y, \n",
    "          c = SIMS_G_uniq,\n",
    "          cmap=cmap,\n",
    "          s=10\n",
    "        )\n",
    " \n",
    "plt.colorbar(im)\n",
    "\n",
    "annotations=[\"I\",\"F\"]\n",
    "x = [X[0],X[int(SIMS_dict[-1,-1])]]\n",
    "y = [Y[0],Y[int(SIMS_dict[-1,-1])]]\n",
    "plt.scatter(x,y,s=150, c=\"green\", alpha=1)\n",
    "for i, label in enumerate(annotations):\n",
    "    plt.annotate(label, (x[i],y[i]),fontsize=20,c=\"black\")"
   ]
  },
  {
   "cell_type": "code",
   "execution_count": null,
   "metadata": {},
   "outputs": [],
   "source": []
  },
  {
   "cell_type": "code",
   "execution_count": null,
   "metadata": {},
   "outputs": [],
   "source": []
  }
 ],
 "metadata": {
  "kernelspec": {
   "display_name": "Python 3.8.13 ('vida')",
   "language": "python",
   "name": "python3"
  },
  "language_info": {
   "codemirror_mode": {
    "name": "ipython",
    "version": 3
   },
   "file_extension": ".py",
   "mimetype": "text/x-python",
   "name": "python",
   "nbconvert_exporter": "python",
   "pygments_lexer": "ipython3",
   "version": "3.8.13"
  },
  "vscode": {
   "interpreter": {
    "hash": "e442af4fad2330d8f4febe7e8e7250535e161341429a4f0b93cbf21b824330cc"
   }
  }
 },
 "nbformat": 4,
 "nbformat_minor": 2
}
