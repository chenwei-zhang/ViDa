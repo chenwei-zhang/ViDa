{
 "cells": [
  {
   "cell_type": "code",
   "execution_count": null,
   "metadata": {},
   "outputs": [],
   "source": [
    "%matplotlib inline\n",
    "\n",
    "import numpy as np\n",
    "import matplotlib.pyplot as plt\n",
    "import pickle\n",
    "import h5py\n",
    "from misc import *\n",
    "import plotly.express as px\n",
    "import pandas as pd \n",
    "\n",
    "from sklearn.decomposition import PCA\n",
    "import phate\n",
    "from umap import UMAP\n",
    "from sklearn.manifold import TSNE"
   ]
  },
  {
   "cell_type": "markdown",
   "metadata": {},
   "source": [
    "## 1. Import/generate Data"
   ]
  },
  {
   "cell_type": "code",
   "execution_count": null,
   "metadata": {},
   "outputs": [],
   "source": [
    "\"\"\"load saved trajectories data for npz file\n",
    "\"\"\"\n",
    "# SEQ = \"PT3\"\n",
    "SEQ = \"PT4_hairpin\"\n",
    "\n",
    "# multiple trajectories\n",
    "if SEQ in [\"PT3\", \"PT4\", \"PT3_hairpin\"]:\n",
    "     fnpz_data = \"data/helix_assoc/helix_assoc_{}_multrj_100epoch_py.npz\".format(SEQ)\n",
    "elif SEQ in [\"PT0\", \"PT4_hairpin\"]:\n",
    "     fnpz_data = \"data/helix_assoc/helix_assoc_{}_multrj_60epoch_py.npz\".format(SEQ)\n",
    "\n",
    "data_npz = np.load(fnpz_data)\n",
    "\n",
    "# asssign data to variables\n",
    "for var in data_npz.files:\n",
    "     locals()[var] = data_npz[var]\n",
    "\n",
    "# recover full data based on coord_id, indices, and unique data\n",
    "SIMS_adj = SIMS_adj_uniq[coord_id_S]\n",
    "SIMS_scar = SIMS_scar_uniq[coord_id_S]\n",
    "SIMS_G = SIMS_G_uniq[coord_id_S]\n",
    "SIMS_pair = SIMS_pair_uniq[coord_id_S]\n",
    "\n",
    "print(SIMS_T.shape,SIMS_HT.shape,SIMS_HT_uniq.shape)\n",
    "print(SIMS_adj.shape,SIMS_scar.shape,SIMS_G.shape,SIMS_HT.shape,SIMS_pair.shape)\n",
    "print(SIMS_adj_uniq.shape,SIMS_scar_uniq.shape,SIMS_G_uniq.shape,SIMS_pair_uniq.shape) \n",
    "print(SIMS_dict.shape,SIMS_dict_uniq.shape)\n",
    "print(coord_id_S.shape,indices_S.shape,trj_id.shape,data_embed.shape,occ_density_S.shape)\n",
    "print(pca_coords.shape,pca_all_coords.shape)\n",
    "print(phate_coords.shape,phate_all_coords.shape)\n",
    "print(umap_coord_2d.shape,umap_all_coord_2d.shape,umap_coord_3d.shape,umap_all_coord_3d.shape)\n",
    "print(tsne_coord_2d.shape,tsne_all_coord_2d.shape,tsne_coord_3d.shape,tsne_all_coord_3d.shape)"
   ]
  },
  {
   "cell_type": "markdown",
   "metadata": {},
   "source": [
    "### 1.1 Load multiple simulated trajectory from Mulistrand"
   ]
  },
  {
   "cell_type": "code",
   "execution_count": null,
   "metadata": {},
   "outputs": [],
   "source": [
    "# load multiple trajectories from multiple files\n",
    "SEQ = \"PT4_hairpin\"\n",
    "# SEQ = \"PT4\"\n",
    "\n",
    "folder_name = \"data/helix_assoc_{}/assoc_{}_1sim_20C\".format(SEQ,SEQ)\n",
    "\n",
    "# define absorbing (final) state structure\n",
    "FINAL_STRUCTURE = \"(((((((((((((((((((((((((+)))))))))))))))))))))))))\"\n",
    "num_files = 100\n",
    "\n",
    "SIMS,SIMS_retrieve,SIMS_concat = load_multitrj(folder_name,FINAL_STRUCTURE,num_files)\n",
    "\n",
    "print(\"SIMS: \", len(SIMS))\n",
    "print(\"SIMS_retrieve: \", SIMS_retrieve.shape)\n",
    "print(\"SIMS_concat: \", len(SIMS_concat))"
   ]
  },
  {
   "cell_type": "markdown",
   "metadata": {},
   "source": [
    "### 2. Convert dot-paren to adjacency matrix"
   ]
  },
  {
   "cell_type": "code",
   "execution_count": null,
   "metadata": {},
   "outputs": [],
   "source": [
    "\"\"\" Dimenstions of SIM_adj list \n",
    "SIM_adj: N*m*m\n",
    "    N: number of states in the trajectory\n",
    "    m: number of nucleotides in the state (strand)\n",
    "\"\"\"\n",
    "# get multiple trajectories' data\n",
    "SIMS_adj, SIMS_G, SIMS_T, SIMS_HT, SIMS_pair, trj_id = sim_adj(SIMS_concat)\n",
    "print(SIMS_adj.shape,SIMS_G.shape,SIMS_T.shape,SIMS_HT.shape,SIMS_pair.shape,trj_id.shape)"
   ]
  },
  {
   "cell_type": "markdown",
   "metadata": {},
   "source": [
    "### 3.1 Get unique data except holding time"
   ]
  },
  {
   "cell_type": "code",
   "execution_count": null,
   "metadata": {},
   "outputs": [],
   "source": [
    "# get unique states adjacency matrix with their occupancy density, get unique energy, time, if paired;\n",
    "# and their corresponding indices\n",
    "\n",
    "# multiple trajectories\n",
    "indices_S,occ_density_S,SIMS_adj_uniq,SIMS_G_uniq,SIMS_pair_uniq \\\n",
    "     = get_unique(SIMS_concat,SIMS_adj,SIMS_G,SIMS_pair) \n",
    "print(indices_S.shape, occ_density_S.shape, SIMS_adj_uniq.shape,SIMS_G_uniq.shape,SIMS_pair_uniq.shape)"
   ]
  },
  {
   "cell_type": "markdown",
   "metadata": {},
   "source": [
    "### 3.2. Get labeled trajectory data"
   ]
  },
  {
   "cell_type": "code",
   "execution_count": null,
   "metadata": {},
   "outputs": [],
   "source": [
    "# # get trajectory data with its corresponding labels \n",
    "# # multiple trajectories\n",
    "SIMS_dict = label_structures(SIMS,indices_S)\n",
    "coord_id_S = SIMS_dict[:,-1].astype(int)\n",
    "SIMS_dict_uniq = np.array(SIMS)[indices_S]\n",
    "print(SIMS_dict.shape, coord_id_S.shape, SIMS_dict_uniq.shape)\n",
    "\n",
    "# find the structure having the largest occupancy density\n",
    "print(SIMS_retrieve[indices_S[occ_density_S.argmax()]])"
   ]
  },
  {
   "cell_type": "markdown",
   "metadata": {},
   "source": [
    "### 3.3 Get unique holding time for each state"
   ]
  },
  {
   "cell_type": "code",
   "execution_count": null,
   "metadata": {},
   "outputs": [],
   "source": [
    "# get unique holding time of unique states\n",
    "SIMS_HT_uniq = mean_holdingtime(SIMS_HT, indices_S, coord_id_S)\n",
    "print(SIMS_HT_uniq.shape)"
   ]
  },
  {
   "cell_type": "markdown",
   "metadata": {},
   "source": [
    "### 4. Convert adjacency matrix scattering coefficients"
   ]
  },
  {
   "cell_type": "markdown",
   "metadata": {},
   "source": [
    "#### SIMS_scar_uniq"
   ]
  },
  {
   "cell_type": "code",
   "execution_count": null,
   "metadata": {},
   "outputs": [],
   "source": [
    "# # Multiple trajectories\n",
    "scat_coeff_array_S = transform_dataset(SIMS_adj_uniq)\n",
    "SIMS_scar_uniq = get_normalized_moments(scat_coeff_array_S).squeeze()\n",
    "\n",
    "# get SIMS_scar based on SIMS_scar_uniq\n",
    "SIMS_scar = SIMS_scar_uniq[coord_id_S]"
   ]
  },
  {
   "cell_type": "code",
   "execution_count": null,
   "metadata": {},
   "outputs": [],
   "source": [
    "# print(SIMS_scar.shape, (np.unique(SIMS_scar,axis=0)).shape)\n",
    "print(SIMS_scar_uniq.shape, (np.unique(SIMS_scar_uniq,axis=0)).shape)"
   ]
  },
  {
   "cell_type": "code",
   "execution_count": null,
   "metadata": {},
   "outputs": [],
   "source": [
    "# # For large trajectories states\n",
    "# SIMS_scar_uniq1 = get_normalized_moments(transform_dataset(SIMS_adj_uniq[:60000])).squeeze()\n",
    "# SIMS_scar_uniq2 = get_normalized_moments(transform_dataset(SIMS_adj_uniq[60000:])).squeeze()\n",
    "# SIMS_scar_uniq = np.concatenate((SIMS_scar_uniq1,SIMS_scar_uniq2))\n",
    "\n",
    "# # get SIMS_scar based on SIMS_scar_uniq\n",
    "# SIMS_scar = SIMS_scar_uniq[coord_id_S]\n",
    "\n",
    "# print(SIMS_scar.shape, (np.unique(SIMS_scar,axis=0)).shape)\n",
    "# print(SIMS_scar_uniq.shape, (np.unique(SIMS_scar_uniq,axis=0)).shape)"
   ]
  },
  {
   "cell_type": "code",
   "execution_count": null,
   "metadata": {},
   "outputs": [],
   "source": [
    "\"\"\" Save all obtained data to npz file for python,\n",
    "    Multiple trajectories\n",
    "\"\"\"\n",
    "# # save for python\n",
    "# fnpz_data = \"data/helix_assoc/helix_assoc_{}_multrj_100epoch_py_temp.npz\".format(SEQ)\n",
    "# with open(fnpz_data, 'wb') as f:\n",
    "#     np.savez(f,\n",
    "#             # SIMS data\n",
    "#             SIMS_T=SIMS_T, SIMS_HT=SIMS_HT, SIMS_HT_uniq=SIMS_HT_uniq,\n",
    "#             SIMS_adj_uniq=SIMS_adj_uniq, SIMS_scar_uniq=SIMS_scar_uniq,\n",
    "#             SIMS_G_uniq=SIMS_G_uniq, SIMS_pair_uniq=SIMS_pair_uniq,\n",
    "#             SIMS_dict=SIMS_dict, SIMS_dict_uniq=SIMS_dict_uniq,\n",
    "#             # Indices\n",
    "#             coord_id_S=coord_id_S, indices_S=indices_S,trj_id=trj_id, occ_density_S=occ_density_S,\n",
    "#             # # embed data and occpancy density\n",
    "#             # data_embed=data_embed,\n",
    "#             # # plotting data\n",
    "#             # pca_coords=pca_coords, pca_all_coords=pca_all_coords,\n",
    "#             # phate_coords=phate_coords, phate_all_coords=phate_all_coords,\n",
    "#             # umap_coord_2d=umap_coord_2d, umap_all_coord_2d=umap_all_coord_2d,\n",
    "#             # umap_coord_3d=umap_coord_3d, umap_all_coord_3d=umap_all_coord_3d,\n",
    "#             # tsne_coord_2d=tsne_coord_2d, tsne_all_coord_2d=tsne_all_coord_2d,\n",
    "#             # tsne_coord_3d=tsne_coord_3d, tsne_all_coord_3d=tsne_all_coord_3d,\n",
    "#             )\n",
    "    \n",
    "# # multiple trajectories\n",
    "# fnpz_data = \"data/helix_assoc/helix_assoc_PT4_multrj_100epoch_py_temp.npz\"\n",
    "# data_npz = np.load(fnpz_data)\n",
    "\n",
    "# # asssign data to variables\n",
    "# for var in data_npz.files:\n",
    "#      locals()[var] = data_npz[var]\n",
    "\n",
    "# # recover full data based on coord_id, indices, and unique data\n",
    "# SIMS_adj = SIMS_adj_uniq[coord_id_S]\n",
    "# SIMS_scar = SIMS_scar_uniq[coord_id_S]\n",
    "# SIMS_G = SIMS_G_uniq[coord_id_S]\n",
    "# SIMS_pair = SIMS_pair_uniq[coord_id_S]\n",
    "\n",
    "\n",
    "# print(SIMS_T.shape,SIMS_HT.shape,SIMS_HT_uniq.shape)\n",
    "# print(SIMS_adj.shape,SIMS_scar.shape,SIMS_G.shape,SIMS_HT.shape,SIMS_pair.shape)\n",
    "# print(SIMS_adj_uniq.shape,SIMS_scar_uniq.shape,SIMS_G_uniq.shape,SIMS_pair_uniq.shape) \n",
    "# print(SIMS_dict.shape,SIMS_dict_uniq.shape)\n",
    "# print(coord_id_S.shape,indices_S.shape,trj_id.shape,occ_density_S.shape)"
   ]
  },
  {
   "cell_type": "markdown",
   "metadata": {},
   "source": [
    "### 5. Split data into tranning and test sets"
   ]
  },
  {
   "cell_type": "code",
   "execution_count": null,
   "metadata": {},
   "outputs": [],
   "source": [
    "\"\"\"Shape of split data\n",
    "    train_data: [tr_adjs, tr_coeffs, tr_energies]\n",
    "    test_data: [te_adjs, te_coeffs, te_energies]\n",
    "\"\"\"\n",
    "train_data,test_data = split_data(SIMS_adj_uniq,SIMS_scar_uniq,SIMS_G_uniq)  # multiple trj"
   ]
  },
  {
   "cell_type": "markdown",
   "metadata": {},
   "source": [
    "### 6. Train and test dataloader"
   ]
  },
  {
   "cell_type": "code",
   "execution_count": null,
   "metadata": {},
   "outputs": [],
   "source": [
    "\"\"\"Structure of train_tup when gnn=False\n",
    "    train_tup: [train_coeffs,train_energy] \n",
    "\"\"\"\n",
    "train_loader, train_tup, test_tup, valid_loader,early_stop_callback = load_trte(train_data,test_data,\n",
    "                                              batch_size=64)\n",
    "train_tup[0].shape, test_tup[0].shape, train_loader.batch_size"
   ]
  },
  {
   "cell_type": "markdown",
   "metadata": {},
   "source": [
    "## 2.1 Load Model"
   ]
  },
  {
   "cell_type": "code",
   "execution_count": null,
   "metadata": {},
   "outputs": [],
   "source": [
    "# set up hyperparameters\n",
    "input_dim = train_tup[0].shape[-1]\n",
    "len_epoch = len(train_loader)\n",
    "\n",
    "hparams = {\n",
    "    'input_dim':  input_dim,\n",
    "    'bottle_dim': 25,\n",
    "    'hidden_dim': 400, #not used in model\n",
    "    \n",
    "    'len_epoch': len_epoch,\n",
    "    'learning_rate': 0.0001,\n",
    "    'max_epochs': 30, # 60 for PT4_hairpin, PT0, 100 for others\n",
    "    'n_gpus': 0,\n",
    "    'batch_size': 64, #not used in model\n",
    "    \n",
    "    'alpha':1.0,\n",
    "    'beta':0.0001,\n",
    "\n",
    "}\n",
    "\n",
    "hparams = argparse.Namespace(**hparams)\n",
    "\n",
    "model = GSAE(hparams)\n",
    "print(model)"
   ]
  },
  {
   "cell_type": "markdown",
   "metadata": {},
   "source": [
    "## 2.2 Train Model"
   ]
  },
  {
   "cell_type": "code",
   "execution_count": null,
   "metadata": {},
   "outputs": [],
   "source": [
    "trainer = pl.Trainer.from_argparse_args(hparams,\n",
    "                                        max_epochs=hparams.max_epochs,\n",
    "                                        gpus=hparams.n_gpus,\n",
    "                                        # callbacks=[early_stop_callback],\n",
    "                                        )\n",
    "trainer.fit(model=model,\n",
    "            train_dataloader=train_loader,\n",
    "            val_dataloaders=valid_loader,)"
   ]
  },
  {
   "cell_type": "code",
   "execution_count": null,
   "metadata": {},
   "outputs": [],
   "source": [
    "model"
   ]
  },
  {
   "cell_type": "code",
   "execution_count": null,
   "metadata": {},
   "outputs": [],
   "source": [
    "%load_ext tensorboard\n",
    "%tensorboard --logdir lightning_logs/ --host localhost --port 8000\n",
    "#  http://localhost:8000"
   ]
  },
  {
   "cell_type": "code",
   "execution_count": null,
   "metadata": {},
   "outputs": [],
   "source": [
    "# # save the trained model\n",
    "# fname_model = \"models/helix_assoc_{}_multrj_model_{}epoch.pickle\".format(SEQ,hparams.max_epochs) # multiple trj\n",
    "\n",
    "# pickle.dump(model, open(fname_model, 'wb'))\n",
    "# print('Trained model saved.')"
   ]
  },
  {
   "cell_type": "markdown",
   "metadata": {},
   "source": [
    "## 3. Load Pretrained Models"
   ]
  },
  {
   "cell_type": "code",
   "execution_count": null,
   "metadata": {},
   "outputs": [],
   "source": [
    "fname_model = \"models/helix_assoc_{}_multrj_model_100epoch.pickle\".format(SEQ)\n",
    "model = pickle.load(open(fname_model, 'rb'))\n",
    "model"
   ]
  },
  {
   "cell_type": "markdown",
   "metadata": {},
   "source": [
    "## 4. Get Embeddings"
   ]
  },
  {
   "cell_type": "code",
   "execution_count": null,
   "metadata": {},
   "outputs": [],
   "source": [
    "# # multiple trajectories\n",
    "with torch.no_grad():\n",
    "        data_embed = model.embed(torch.Tensor(SIMS_scar_uniq))[0]"
   ]
  },
  {
   "cell_type": "markdown",
   "metadata": {},
   "source": [
    "### 1. PCA"
   ]
  },
  {
   "cell_type": "code",
   "execution_count": null,
   "metadata": {},
   "outputs": [],
   "source": [
    "# # do PCA for GSAE embeded data\n",
    "pca_coords = PCA(n_components=3).fit_transform(data_embed)\n",
    "\n",
    "# # get all pca embedded states coordinates\n",
    "pca_all_coords = pca_coords[coord_id_S]  # multiple trj\n",
    "\n",
    "pca_coords.shape, pca_all_coords.shape"
   ]
  },
  {
   "cell_type": "code",
   "execution_count": null,
   "metadata": {},
   "outputs": [],
   "source": [
    "(np.unique(pca_coords,axis=0)).shape, (np.unique(pca_all_coords,axis=0)).shape"
   ]
  },
  {
   "cell_type": "markdown",
   "metadata": {},
   "source": [
    "### 2. PHATE"
   ]
  },
  {
   "cell_type": "code",
   "execution_count": null,
   "metadata": {},
   "outputs": [],
   "source": [
    "from sklearn.preprocessing import StandardScaler\n",
    "scaler = StandardScaler()\n",
    "data_embed = scaler.fit_transform(data_embed)\n",
    "data_embed"
   ]
  },
  {
   "cell_type": "code",
   "execution_count": null,
   "metadata": {},
   "outputs": [],
   "source": [
    "# # do PHATE for GSAE embeded data\n",
    "phate_operator = phate.PHATE(n_jobs=-2)\n",
    "phate_coords = phate_operator.fit_transform(data_embed)\n",
    "\n",
    "# # get all phate embedded states coordinates\n",
    "phate_all_coords = phate_coords[coord_id_S]\n",
    "\n",
    "phate_coords.shape, phate_all_coords.shape"
   ]
  },
  {
   "cell_type": "code",
   "execution_count": null,
   "metadata": {},
   "outputs": [],
   "source": [
    "(np.unique(phate_coords,axis=0)).shape, (np.unique(phate_all_coords,axis=0)).shape"
   ]
  },
  {
   "cell_type": "markdown",
   "metadata": {},
   "source": [
    "### 3. UMAP"
   ]
  },
  {
   "cell_type": "code",
   "execution_count": null,
   "metadata": {},
   "outputs": [],
   "source": [
    "# UMAP set\n",
    "umap_2d = UMAP(n_components=2, init='random', random_state=0)\n",
    "# umap_3d = UMAP(n_components=3, init='random', random_state=0)\n",
    "\n",
    "# UMAP 2D fit tranform\n",
    "umap_coord_2d = umap_2d.fit_transform(data_embed)\n",
    "umap_all_coord_2d = umap_coord_2d[coord_id_S]  \n",
    "\n",
    "# UMAP 3D fit tranform\n",
    "# umap_coord_3d = umap_3d.fit_transform(data_embed)\n",
    "# umap_all_coord_3d = umap_coord_3d[coord_id_S]\n",
    "\n",
    "print((np.unique(umap_coord_2d,axis=0)).shape, (np.unique(umap_coord_3d,axis=0)).shape)\n",
    "print(umap_all_coord_2d.shape, (np.unique(umap_all_coord_2d,axis=0)).shape)\n",
    "# print(umap_all_coord_3d.shape, (np.unique(umap_all_coord_3d,axis=0)).shape)"
   ]
  },
  {
   "cell_type": "markdown",
   "metadata": {},
   "source": [
    "### 4. t-SNE"
   ]
  },
  {
   "cell_type": "code",
   "execution_count": null,
   "metadata": {},
   "outputs": [],
   "source": [
    "# tsne set\n",
    "tsne_2d = TSNE(n_components=2, perplexity=1000.0, random_state=0)\n",
    "# tsne_3d = TSNE(n_components=3, random_state=0)\n",
    "\n",
    "# tsne 2D fit tranform\n",
    "tsne_coord_2d = tsne_2d.fit_transform(data_embed)\n",
    "tsne_all_coord_2d = tsne_coord_2d[coord_id_S] \n",
    "\n",
    "# # tsne 3D fit tranform\n",
    "# tsne_coord_3d = tsne_3d.fit_transform(data_embed)\n",
    "# tsne_all_coord_3d = tsne_coord_3d[coord_id_S] \n",
    "\n",
    " \n",
    "print((np.unique(tsne_coord_2d,axis=0)).shape, (np.unique(tsne_coord_3d,axis=0)).shape)\n",
    "print(tsne_all_coord_2d.shape, (np.unique(tsne_all_coord_2d,axis=0)).shape)\n",
    "# print(tsne_all_coord_3d.shape, (np.unique(tsne_all_coord_3d,axis=0)).shape)"
   ]
  },
  {
   "cell_type": "markdown",
   "metadata": {},
   "source": [
    "### Save all dats to npz-py and h5-jl"
   ]
  },
  {
   "cell_type": "code",
   "execution_count": null,
   "metadata": {},
   "outputs": [],
   "source": [
    "# \"\"\" Save all obtained data to npz file for python,\n",
    "#     Multiple trajectories\n",
    "# \"\"\"\n",
    "# # save for python\n",
    "# fnpz_data = \"data/helix_assoc/helix_assoc_{}_multrj_30epoch_py.npz\".format(SEQ)\n",
    "# with open(fnpz_data, 'wb') as f:\n",
    "#     np.savez(f,\n",
    "#             # SIMS data\n",
    "#             SIMS_T=SIMS_T, SIMS_HT=SIMS_HT, SIMS_HT_uniq=SIMS_HT_uniq,\n",
    "#             SIMS_adj_uniq=SIMS_adj_uniq, SIMS_scar_uniq=SIMS_scar_uniq,\n",
    "#             SIMS_G_uniq=SIMS_G_uniq, SIMS_pair_uniq=SIMS_pair_uniq,\n",
    "#             SIMS_dict=SIMS_dict, SIMS_dict_uniq=SIMS_dict_uniq,\n",
    "#             # Indices\n",
    "#             coord_id_S=coord_id_S, indices_S=indices_S,trj_id=trj_id,\n",
    "#             # embed data and occpancy density\n",
    "#             data_embed=data_embed, occ_density_S=occ_density_S,\n",
    "#             # plotting data\n",
    "#             pca_coords=pca_coords, pca_all_coords=pca_all_coords,\n",
    "#             phate_coords=phate_coords, phate_all_coords=phate_all_coords,\n",
    "#             umap_coord_2d=umap_coord_2d, umap_all_coord_2d=umap_all_coord_2d,\n",
    "#             umap_coord_3d=umap_coord_3d, umap_all_coord_3d=umap_all_coord_3d,\n",
    "#             tsne_coord_2d=tsne_coord_2d, tsne_all_coord_2d=tsne_all_coord_2d,\n",
    "#             tsne_coord_3d=tsne_coord_3d, tsne_all_coord_3d=tsne_all_coord_3d,\n",
    "#             )"
   ]
  },
  {
   "cell_type": "code",
   "execution_count": null,
   "metadata": {},
   "outputs": [],
   "source": [
    "# \"\"\" Save plotting data to h5 file for julia,\n",
    "#     Multiple trajectories\n",
    "# \"\"\"\n",
    "# fh5_data = \"data/helix_assoc/helix_assoc_{}_multrj_30epoch_jl.h5\".format(SEQ)\n",
    "# save_h5(fh5_data,\n",
    "#         SIMS_G_uniq, SIMS_pair_uniq, occ_density_S, \n",
    "#         pca_coords, pca_all_coords,\n",
    "#         phate_coords, phate_all_coords,\n",
    "#         umap_coord_2d, umap_all_coord_2d,\n",
    "#         umap_coord_3d, umap_all_coord_3d,\n",
    "#         tsne_coord_2d, tsne_all_coord_2d,\n",
    "#         tsne_coord_3d, tsne_all_coord_3d,\n",
    "#         )\n"
   ]
  },
  {
   "cell_type": "markdown",
   "metadata": {},
   "source": [
    "## 5. Visualize"
   ]
  },
  {
   "cell_type": "code",
   "execution_count": null,
   "metadata": {},
   "outputs": [],
   "source": [
    "SEQ"
   ]
  },
  {
   "cell_type": "markdown",
   "metadata": {},
   "source": [
    "### 1. PCA Vis"
   ]
  },
  {
   "cell_type": "code",
   "execution_count": null,
   "metadata": {},
   "outputs": [],
   "source": [
    "# data_embed ##before shuflle"
   ]
  },
  {
   "cell_type": "code",
   "execution_count": null,
   "metadata": {},
   "outputs": [],
   "source": [
    "# from sklearn.utils import shuffle\n",
    "\n",
    "# data_embed = shuffle(data_embed, random_state=0)\n",
    "# data_embed"
   ]
  },
  {
   "cell_type": "code",
   "execution_count": null,
   "metadata": {},
   "outputs": [],
   "source": [
    "%matplotlib inline\n",
    "X = pca_all_coords[:,0]\n",
    "Y = pca_all_coords[:,1]\n",
    "Z = pca_all_coords[:,2]\n",
    "\n",
    "# PCA: 2 components\n",
    "fig,ax = plt.subplots(figsize=(8,6))\n",
    "im = ax.scatter(X, Y, \n",
    "          c=SIMS_G,\n",
    "          cmap='plasma',\n",
    "          s=20\n",
    "        )\n",
    "\n",
    "plt.colorbar(im)\n",
    "\n",
    "annotations=[\"I\",\"F\"]\n",
    "x = [X[0],X[-1]]\n",
    "y = [Y[0],Y[-1]]\n",
    "plt.scatter(x,y,s=150, c=\"green\", alpha=1)\n",
    "for i, label in enumerate(annotations):\n",
    "    plt.annotate(label, (x[i],y[i]*0.95),fontsize=15,c=\"yellow\", horizontalalignment='center')"
   ]
  },
  {
   "cell_type": "code",
   "execution_count": null,
   "metadata": {},
   "outputs": [],
   "source": [
    "%matplotlib inline\n",
    "X = pca_coords[:,0]\n",
    "Y = pca_coords[:,1]\n",
    "Z = pca_coords[:,2]\n",
    "\n",
    "# PCA: 2 components\n",
    "fig,ax = plt.subplots(figsize=(8,6))\n",
    "im = ax.scatter(X, Y, \n",
    "          c=SIMS_G_uniq, \n",
    "          cmap='plasma',\n",
    "        )\n",
    "\n",
    "plt.colorbar(im)\n",
    "\n",
    "annotations=[\"I\",\"F\"]\n",
    "x = [X[0],X[-1]]\n",
    "y = [Y[0],Y[-1]]\n",
    "plt.scatter(x,y,s=150, c=\"green\", alpha=1)\n",
    "for i, label in enumerate(annotations):\n",
    "    plt.annotate(label, (x[i]-0.3,y[i]-0.3),fontsize=15,c=\"yellow\")"
   ]
  },
  {
   "cell_type": "code",
   "execution_count": null,
   "metadata": {},
   "outputs": [],
   "source": [
    "X = pca_coords[:,0]\n",
    "Y = pca_coords[:,1]\n",
    "Z = pca_coords[:,2]\n",
    "\n",
    "# PCA: 3 components\n",
    "fig,ax = plt.subplots(figsize=(8,6))\n",
    "ax = plt.axes(projection =\"3d\")\n",
    "\n",
    "im = ax.scatter3D(X,Y,Z,\n",
    "          c=SIM_G_uniq,      \n",
    "          cmap='plasma')\n",
    "ax.set_xlabel(\"X\")\n",
    "ax.set_ylabel(\"Y\")\n",
    "ax.set_zlabel(\"Z\")\n",
    "plt.colorbar(im)\n",
    "\n",
    "annotations=[\"I\",\"F\"]\n",
    "x = [X[0],X[-1]]\n",
    "y = [Y[0],Y[-1]]\n",
    "z = [Z[0], Z[-1]]\n",
    "ax.scatter(x,y,z,s=100,c=\"green\",alpha=1)"
   ]
  },
  {
   "cell_type": "code",
   "execution_count": null,
   "metadata": {},
   "outputs": [],
   "source": [
    "X = pca_coords[:,0]\n",
    "Y = pca_coords[:,1]\n",
    "Z = pca_coords[:,2]\n",
    "\n",
    "\n",
    "# PCA: 2 components\n",
    "fig,ax = plt.subplots(figsize=(8,6))\n",
    "im = ax.scatter(X, Y,\n",
    "          c=SIMS_pair_uniq,\n",
    "          cmap='plasma',\n",
    "          s=15\n",
    "        )\n",
    "\n",
    "plt.colorbar(im)\n",
    "\n",
    "annotations=[\"I\",\"F\"]\n",
    "x = [X[0],X[-1]]\n",
    "y = [Y[0],Y[-1]]\n",
    "plt.scatter(x,y,s=150, c=\"green\", alpha=1)\n",
    "for i, label in enumerate(annotations):\n",
    "    plt.annotate(label, (x[i]-0.3,y[i]-0.3),fontsize=15,c=\"yellow\")"
   ]
  },
  {
   "cell_type": "markdown",
   "metadata": {},
   "source": [
    "#### Try use PCA directly without AE"
   ]
  },
  {
   "cell_type": "code",
   "execution_count": null,
   "metadata": {},
   "outputs": [],
   "source": [
    "pca_coords1 = PCA(n_components=3).fit_transform(SIMS_scar_uniq)   # multiple trj\n",
    "\n",
    "X = pca_coords1[:,0]\n",
    "Y = pca_coords1[:,1]\n",
    "Z = pca_coords1[:,2]\n",
    "\n",
    "# PCA: 2 components\n",
    "fig,ax = plt.subplots(figsize=(8,6))\n",
    "im = ax.scatter(X, Y, \n",
    "          c=SIMS_G_uniq, \n",
    "          cmap='plasma',\n",
    "        )\n",
    "\n",
    "plt.colorbar(im)\n",
    "\n",
    "annotations=[\"I\",\"F\"]\n",
    "x = [X[0],X[-1]]\n",
    "y = [Y[0],Y[-1]]\n",
    "plt.scatter(x,y,s=150, c=\"green\", alpha=1)\n",
    "for i, label in enumerate(annotations):\n",
    "    plt.annotate(label, (x[i]-0.3,y[i]-0.3),fontsize=15,c=\"black\")"
   ]
  },
  {
   "cell_type": "code",
   "execution_count": null,
   "metadata": {},
   "outputs": [],
   "source": [
    "cm = PCA(n_components=25)\n",
    "cm.fit(data_embed)\n",
    "\n",
    "PC_values = np.arange(cm.n_components_) + 1\n",
    "plt.plot(PC_values, np.cumsum(cm.explained_variance_ratio_), 'ro-', linewidth=2)\n",
    "plt.title('Scree Plot: PCA')\n",
    "plt.xlabel('Number of principal components')\n",
    "plt.ylabel('Cumulative explained variance');\n",
    "# plt.xticks(np.arange(0, data_embed.shape[-1]+1, 1))\n",
    "\n",
    "plt.show()"
   ]
  },
  {
   "cell_type": "code",
   "execution_count": null,
   "metadata": {},
   "outputs": [],
   "source": [
    "np.cumsum(cm.explained_variance_ratio_)"
   ]
  },
  {
   "cell_type": "markdown",
   "metadata": {},
   "source": [
    "### 2. PHATE Vis"
   ]
  },
  {
   "cell_type": "code",
   "execution_count": null,
   "metadata": {},
   "outputs": [],
   "source": [
    "X_phate = phate_all_coords[:,0]\n",
    "Y_phate = phate_all_coords[:,1]\n",
    "\n",
    "fig,ax = plt.subplots(figsize=(8,6))\n",
    "im = ax.scatter(X_phate,Y_phate,\n",
    "                c=SIMS_G,   # multiple trj               \n",
    "                cmap='plasma',\n",
    "               )\n",
    "\n",
    "plt.colorbar(im)\n",
    "\n",
    "annotations=[\"I\",\"F\"]\n",
    "x = [X_phate[0],X_phate[-1]]\n",
    "y = [Y_phate[0],Y_phate[-1]]\n",
    "plt.scatter(x,y,s=50, c=\"green\", alpha=1)\n",
    "for i, label in enumerate(annotations):\n",
    "    plt.annotate(label, (x[i],y[i]),fontsize=30,c=\"black\")"
   ]
  },
  {
   "cell_type": "code",
   "execution_count": null,
   "metadata": {},
   "outputs": [],
   "source": [
    "X_phate = phate_coords[:,0]\n",
    "Y_phate = phate_coords[:,1]\n",
    "\n",
    "fig,ax = plt.subplots(figsize=(8,6))\n",
    "im = ax.scatter(X_phate,Y_phate,\n",
    "                c=SIMS_G_uniq,                 \n",
    "                cmap='plasma',\n",
    "               )\n",
    "\n",
    "plt.colorbar(im)\n",
    "\n",
    "annotations=[\"I\",\"F\"]\n",
    "x = [X_phate[0],X_phate[-1]]\n",
    "y = [Y_phate[0],Y_phate[-1]]\n",
    "plt.scatter(x,y,s=50, c=\"green\", alpha=1)\n",
    "for i, label in enumerate(annotations):\n",
    "    plt.annotate(label, (x[i],y[i]),fontsize=30,c=\"black\")"
   ]
  },
  {
   "cell_type": "markdown",
   "metadata": {},
   "source": [
    "#### PHATE without AE"
   ]
  },
  {
   "cell_type": "code",
   "execution_count": null,
   "metadata": {},
   "outputs": [],
   "source": [
    "phate_operator = phate.PHATE(n_jobs=-2)\n",
    "phate1 = phate_operator.fit_transform(SIMS_scar_uniq)   # multiple trj\n",
    "\n",
    "fig,ax = plt.subplots(figsize=(8,6))\n",
    "im = ax.scatter(phate1[:,0],\n",
    "          phate1[:,1],\n",
    "          c=SIMS_G_uniq, \n",
    "          cmap='plasma',\n",
    "        )\n",
    "\n",
    "plt.colorbar(im)\n",
    "\n",
    "annotations=[\"I\",\"F\"]\n",
    "x = [phate1[:,0][0],phate1[:,0][-1]]\n",
    "y = [phate1[:,1][0],phate1[:,1][-1]]\n",
    "plt.scatter(x,y,s=50, c=\"green\", alpha=1)\n",
    "for i, label in enumerate(annotations):\n",
    "    plt.annotate(label, (x[i],y[i]),fontsize=20,c=\"black\")"
   ]
  },
  {
   "cell_type": "markdown",
   "metadata": {},
   "source": [
    "### 3. UMAP Vis"
   ]
  },
  {
   "cell_type": "code",
   "execution_count": null,
   "metadata": {},
   "outputs": [],
   "source": [
    "X = umap_coord_2d[:,0]\n",
    "Y = umap_coord_2d[:,1]\n",
    "cmap = plt.cm.plasma\n",
    "cmap_r = plt.cm.get_cmap('plasma_r')\n",
    "\n",
    "# PCA: 2 components\n",
    "fig,ax = plt.subplots(figsize=(8,6))\n",
    "im = ax.scatter(X, Y, \n",
    "          c = SIMS_G_uniq,\n",
    "          cmap=cmap,\n",
    "          s=10\n",
    "        )\n",
    "\n",
    "plt.colorbar(im)\n",
    "\n",
    "annotations=[\"I\",\"F\"]\n",
    "x = [X[0],X[-1]]\n",
    "y = [Y[0],Y[-1]]\n",
    "plt.scatter(x,y,s=150, c=\"green\", alpha=1)\n",
    "for i, label in enumerate(annotations):\n",
    "    plt.annotate(label, (x[i]-0.3,y[i]-0.3),fontsize=15,c=\"yellow\")"
   ]
  },
  {
   "cell_type": "code",
   "execution_count": null,
   "metadata": {},
   "outputs": [],
   "source": [
    "# directly UMAP 2D\n",
    "umap_coord_2dscar = umap_2d.fit_transform(SIMS_scar_uniq)\n",
    "\n",
    "fig_2d = px.scatter(\n",
    "    umap_coord_2dscar, x=0, y=1,color=SIMS_G_uniq\n",
    ")\n",
    "fig_2d.update_traces(marker_size=3)\n",
    "fig_2d.show()\n",
    "\n"
   ]
  },
  {
   "cell_type": "code",
   "execution_count": null,
   "metadata": {},
   "outputs": [],
   "source": [
    "fig_2d = px.scatter(\n",
    "    umap_coord_2d, x=0, y=1,color=SIMS_G_uniq\n",
    ")\n",
    "fig_2d.update_traces(marker_size=3)\n",
    "\n",
    "\n",
    "fig_3d = px.scatter_3d(\n",
    "    umap_coord_3d, x=0, y=1, z=2,color=SIMS_G_uniq\n",
    ")\n",
    "\n",
    "fig_3d.update_traces(marker_size=2)\n",
    "\n",
    "fig_2d.show()\n",
    "fig_3d.show()\n",
    "\n"
   ]
  },
  {
   "cell_type": "markdown",
   "metadata": {},
   "source": [
    "### 4. t-SNE Vis"
   ]
  },
  {
   "cell_type": "code",
   "execution_count": null,
   "metadata": {},
   "outputs": [],
   "source": [
    "fig_2d = px.scatter(\n",
    "    tsne_coord_2d, x=0, y=1,color=SIMS_G_uniq,\n",
    "    hover_data = {\"SIMS_G_uniq\":SIMS_G_uniq, \n",
    "                  \"SIMS_HT_uniq\":SIMS_HT_uniq,\n",
    "                  }\n",
    ")\n",
    "fig_2d.update_traces(marker_size=3)\n",
    "fig_2d.show()\n",
    "\n",
    "\n",
    "# fig_3d = px.scatter_3d(\n",
    "#     tsne_coord_3d, x=0, y=1, z=2,color=SIMS_G_uniq\n",
    "# )\n",
    "# fig_3d.update_traces(marker_size=2)\n",
    "\n"
   ]
  },
  {
   "cell_type": "code",
   "execution_count": null,
   "metadata": {},
   "outputs": [],
   "source": []
  }
 ],
 "metadata": {
  "kernelspec": {
   "display_name": "Python 3.8.13 ('GSAE')",
   "language": "python",
   "name": "python3"
  },
  "language_info": {
   "codemirror_mode": {
    "name": "ipython",
    "version": 3
   },
   "file_extension": ".py",
   "mimetype": "text/x-python",
   "name": "python",
   "nbconvert_exporter": "python",
   "pygments_lexer": "ipython3",
   "version": "3.8.13"
  },
  "vscode": {
   "interpreter": {
    "hash": "960be4cf653645892f8c5040dafd36ede801108a57618a05d934dc04f8033a0a"
   }
  }
 },
 "nbformat": 4,
 "nbformat_minor": 2
}
