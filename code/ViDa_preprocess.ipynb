{
 "cells": [
  {
   "cell_type": "code",
   "execution_count": null,
   "metadata": {},
   "outputs": [],
   "source": [
    "%matplotlib inline\n",
    "\n",
    "import numpy as np\n",
    "import matplotlib.pyplot as plt\n",
    "import pickle\n",
    "import pandas as pd \n",
    "\n",
    "from vida.data_processing.load_data import *\n",
    "from vida.data_processing.convertor import *\n",
    "from vida.data_processing.misc import *\n",
    "from vida.data_processing.split_data import *\n",
    "\n",
    "from vida.model.scatter_transform import transform_dataset, get_normalized_moments"
   ]
  },
  {
   "attachments": {},
   "cell_type": "markdown",
   "metadata": {},
   "source": [
    "# Import and Pre-processing Data"
   ]
  },
  {
   "attachments": {},
   "cell_type": "markdown",
   "metadata": {},
   "source": [
    "### 1.1 Load multiple simulated trajectories from Mulistrand"
   ]
  },
  {
   "cell_type": "code",
   "execution_count": null,
   "metadata": {},
   "outputs": [],
   "source": [
    "# load multiple trajectories from multiple files\n",
    "SEQ = \"PT4_hairpin\"\n",
    "# SEQ = \"PT4\"\n",
    "\n",
    "folder_name = \"data/raw_data/helix_assoc/helix_assoc_{}/assoc_{}_1sim_20C\".format(SEQ,SEQ)\n",
    "\n",
    "# define absorbing (final) state structure\n",
    "FINAL_STRUCTURE = \"(((((((((((((((((((((((((+)))))))))))))))))))))))))\"\n",
    "num_files = 100\n",
    "\n",
    "SIMS,SIMS_retrieve,SIMS_concat = load_multitrj(folder_name,FINAL_STRUCTURE,num_files)\n",
    "\n",
    "print(\"SIMS: \", len(SIMS))\n",
    "print(\"SIMS_retrieve: \", SIMS_retrieve.shape)\n",
    "print(\"SIMS_concat: \", len(SIMS_concat))"
   ]
  },
  {
   "attachments": {},
   "cell_type": "markdown",
   "metadata": {},
   "source": [
    "### 1.2 Load multiple simulated trajectories from CTMC"
   ]
  },
  {
   "cell_type": "code",
   "execution_count": null,
   "metadata": {},
   "outputs": [],
   "source": [
    "# 1k trajectories, each have multiple states\n",
    "with open('./data/jordan/trajs_reaction28_1000_sims.pkl', 'rb') as fp:\n",
    "    trajs = pickle.load(fp)\n",
    "    print('loaded trajectories dictionary')\n",
    "\n",
    "trajs_states = trajs[\"trajs_states\"]\n",
    "trajs_times = trajs[\"trajs_times\"]\n",
    "trajs_energies = trajs[\"trajs_energies\"]\n",
    "\n",
    "len(trajs_states), len(trajs_times), len(trajs_energies[0])"
   ]
  },
  {
   "attachments": {},
   "cell_type": "markdown",
   "metadata": {},
   "source": [
    "#### Concatenate all structures"
   ]
  },
  {
   "cell_type": "code",
   "execution_count": null,
   "metadata": {},
   "outputs": [],
   "source": [
    "# convert concantenate two individual structures to one structure\n",
    "def concat_helix_structures(dp):\n",
    "    \"\"\"concatenate two individual structures to one structure\n",
    "    Args:\n",
    "        SIM: list of individual structures\n",
    "    Returns:\n",
    "        SIM_concat: concatenated structure\n",
    "    \"\"\"\n",
    "    dp_concat = copy.deepcopy(dp)\n",
    "    dp_pair = []\n",
    "    for i in range(len(dp_concat)):\n",
    "        if \"&\" in dp_concat[i]:\n",
    "            dp_concat[i] = dp_concat[i].replace(\"&\",\"\")\n",
    "            dp_pair.append(0)\n",
    "            \n",
    "        if \"+\" in dp_concat[i]:\n",
    "            dp_concat[i] = dp_concat[i].replace(\"+\",\"\")\n",
    "            dp_pair.append(1)\n",
    "            \n",
    "    return np.array(dp_concat), np.array(dp_pair)\n",
    "\n",
    "# cooncatanate all sturcutres: \n",
    "def concat_all(states, times, energies):\n",
    "    SIMS_concat = []\n",
    "    \n",
    "    # for i in range(len(states)):\n",
    "    for i in range(100):\n",
    "        sims_dp, sims_pair = concat_helix_structures(states[i])\n",
    "        SIMS_stack = np.stack([sims_dp, times[i], energies[i], sims_pair], axis=1)\n",
    "        SIMS_concat.extend(SIMS_stack.tolist())\n",
    "    return SIMS_concat "
   ]
  },
  {
   "cell_type": "code",
   "execution_count": null,
   "metadata": {},
   "outputs": [],
   "source": [
    "SIMS_concat = concat_all(trajs_states, trajs_times, trajs_energies)\n",
    "len(SIMS_concat)"
   ]
  },
  {
   "attachments": {},
   "cell_type": "markdown",
   "metadata": {},
   "source": [
    "### 2. Convert dot-paren to adjacency matrix"
   ]
  },
  {
   "cell_type": "code",
   "execution_count": null,
   "metadata": {},
   "outputs": [],
   "source": [
    "\"\"\" Dimenstions of SIM_adj list \n",
    "SIM_adj: N*m*m\n",
    "    N: number of states in the trajectory\n",
    "    m: number of nucleotides in the state (strand)\n",
    "\"\"\"\n",
    "# get multiple trajectories' data\n",
    "SIMS_adj, SIMS_G, SIMS_T, SIMS_HT, SIMS_pair, trj_id = sim_adj(SIMS_concat)\n",
    "print(SIMS_adj.shape,SIMS_G.shape,SIMS_T.shape,SIMS_HT.shape,SIMS_pair.shape,trj_id.shape)"
   ]
  },
  {
   "attachments": {},
   "cell_type": "markdown",
   "metadata": {},
   "source": [
    "### 3.1 Get unique data except holding time"
   ]
  },
  {
   "cell_type": "code",
   "execution_count": null,
   "metadata": {},
   "outputs": [],
   "source": [
    "# get unique states adjacency matrix with their occupancy density, get unique energy, time, if paired;\n",
    "# and their corresponding indices\n",
    "\n",
    "# multiple trajectories\n",
    "indices_S,occ_density_S,SIMS_adj_uniq,SIMS_G_uniq,SIMS_pair_uniq \\\n",
    "     = get_unique(SIMS_concat,SIMS_adj,SIMS_G,SIMS_pair) \n",
    "print(indices_S.shape, occ_density_S.shape, SIMS_adj_uniq.shape,SIMS_G_uniq.shape,SIMS_pair_uniq.shape)"
   ]
  },
  {
   "attachments": {},
   "cell_type": "markdown",
   "metadata": {},
   "source": [
    "### 3.2. Get labeled trajectory data"
   ]
  },
  {
   "cell_type": "code",
   "execution_count": null,
   "metadata": {},
   "outputs": [],
   "source": [
    "# # get trajectory data with its corresponding labels \n",
    "# # multiple trajectories\n",
    "SIMS_dict = label_structures(SIMS,indices_S)\n",
    "coord_id_S = SIMS_dict[:,-1].astype(int)\n",
    "SIMS_dict_uniq = np.array(SIMS)[indices_S]\n",
    "print(SIMS_dict.shape, coord_id_S.shape, SIMS_dict_uniq.shape)\n",
    "\n",
    "# find the structure having the largest occupancy density\n",
    "print(SIMS_retrieve[indices_S[occ_density_S.argmax()]])"
   ]
  },
  {
   "attachments": {},
   "cell_type": "markdown",
   "metadata": {},
   "source": [
    "### 3.3 Get unique holding time for each state"
   ]
  },
  {
   "cell_type": "code",
   "execution_count": null,
   "metadata": {},
   "outputs": [],
   "source": [
    "# get unique holding time of unique states\n",
    "SIMS_HT_uniq = mean_holdingtime(SIMS_HT, indices_S, coord_id_S)\n",
    "print(SIMS_HT_uniq.shape)"
   ]
  },
  {
   "attachments": {},
   "cell_type": "markdown",
   "metadata": {},
   "source": [
    "### 4. Convert adjacency matrix scattering coefficients"
   ]
  },
  {
   "attachments": {},
   "cell_type": "markdown",
   "metadata": {},
   "source": [
    "#### SIMS_scar_uniq"
   ]
  },
  {
   "cell_type": "code",
   "execution_count": null,
   "metadata": {},
   "outputs": [],
   "source": [
    "# # Multiple trajectories\n",
    "scat_coeff_array_S = transform_dataset(SIMS_adj_uniq)\n",
    "SIMS_scar_uniq = get_normalized_moments(scat_coeff_array_S).squeeze()\n",
    "\n",
    "# get SIMS_scar based on SIMS_scar_uniq\n",
    "SIMS_scar = SIMS_scar_uniq[coord_id_S]"
   ]
  },
  {
   "cell_type": "code",
   "execution_count": null,
   "metadata": {},
   "outputs": [],
   "source": [
    "# print(SIMS_scar.shape, (np.unique(SIMS_scar,axis=0)).shape)\n",
    "print(SIMS_scar_uniq.shape, (np.unique(SIMS_scar_uniq,axis=0)).shape)"
   ]
  },
  {
   "cell_type": "code",
   "execution_count": null,
   "metadata": {},
   "outputs": [],
   "source": [
    "# # For large trajectories states\n",
    "# SIMS_scar_uniq1 = get_normalized_moments(transform_dataset(SIMS_adj_uniq[:60000])).squeeze()\n",
    "# SIMS_scar_uniq2 = get_normalized_moments(transform_dataset(SIMS_adj_uniq[60000:])).squeeze()\n",
    "# SIMS_scar_uniq = np.concatenate((SIMS_scar_uniq1,SIMS_scar_uniq2))\n",
    "\n",
    "# # get SIMS_scar based on SIMS_scar_uniq\n",
    "# SIMS_scar = SIMS_scar_uniq[coord_id_S]\n",
    "\n",
    "# print(SIMS_scar.shape, (np.unique(SIMS_scar,axis=0)).shape)\n",
    "# print(SIMS_scar_uniq.shape, (np.unique(SIMS_scar_uniq,axis=0)).shape)"
   ]
  },
  {
   "cell_type": "code",
   "execution_count": null,
   "metadata": {},
   "outputs": [],
   "source": [
    "\"\"\" Save/load all obtained data to npz file for python,\n",
    "    Multiple trajectories\n",
    "\"\"\"\n",
    "# # save for python\n",
    "# fnpz_data = \"data/vida_data/helix_assoc/helix_assoc_{}_multrj_100epoch_py_temp.npz\".format(SEQ)\n",
    "# with open(fnpz_data, 'wb') as f:\n",
    "#     np.savez(f,\n",
    "#             # SIMS data\n",
    "#             SIMS_T=SIMS_T, SIMS_HT=SIMS_HT, SIMS_HT_uniq=SIMS_HT_uniq,\n",
    "#             SIMS_adj_uniq=SIMS_adj_uniq, SIMS_scar_uniq=SIMS_scar_uniq,\n",
    "#             SIMS_G_uniq=SIMS_G_uniq, SIMS_pair_uniq=SIMS_pair_uniq,\n",
    "#             SIMS_dict=SIMS_dict, SIMS_dict_uniq=SIMS_dict_uniq,\n",
    "#             # Indices\n",
    "#             coord_id_S=coord_id_S, indices_S=indices_S,trj_id=trj_id, occ_density_S=occ_density_S,\n",
    "#             # # embed data and occpancy density\n",
    "#             # data_embed=data_embed,\n",
    "#             # # plotting data\n",
    "#             # pca_coords=pca_coords, pca_all_coords=pca_all_coords,\n",
    "#             # phate_coords=phate_coords, phate_all_coords=phate_all_coords,\n",
    "#             # umap_coord_2d=umap_coord_2d, umap_all_coord_2d=umap_all_coord_2d,\n",
    "#             # umap_coord_3d=umap_coord_3d, umap_all_coord_3d=umap_all_coord_3d,\n",
    "#             # tsne_coord_2d=tsne_coord_2d, tsne_all_coord_2d=tsne_all_coord_2d,\n",
    "#             # tsne_coord_3d=tsne_coord_3d, tsne_all_coord_3d=tsne_all_coord_3d,\n",
    "#             )\n",
    "    \n",
    "# # multiple trajectories\n",
    "# fnpz_data = \"data/vida_data/helix_assoc/helix_assoc_PT4_multrj_100epoch_py_temp.npz\"\n",
    "# data_npz = np.load(fnpz_data)\n",
    "\n",
    "# # asssign data to variables\n",
    "# for var in data_npz.files:\n",
    "#      locals()[var] = data_npz[var]\n",
    "\n",
    "# # recover full data based on coord_id, indices, and unique data\n",
    "# SIMS_adj = SIMS_adj_uniq[coord_id_S]\n",
    "# SIMS_scar = SIMS_scar_uniq[coord_id_S]\n",
    "# SIMS_G = SIMS_G_uniq[coord_id_S]\n",
    "# SIMS_pair = SIMS_pair_uniq[coord_id_S]\n",
    "\n",
    "\n",
    "# print(SIMS_T.shape,SIMS_HT.shape,SIMS_HT_uniq.shape)\n",
    "# print(SIMS_adj.shape,SIMS_scar.shape,SIMS_G.shape,SIMS_HT.shape,SIMS_pair.shape)\n",
    "# print(SIMS_adj_uniq.shape,SIMS_scar_uniq.shape,SIMS_G_uniq.shape,SIMS_pair_uniq.shape) \n",
    "# print(SIMS_dict.shape,SIMS_dict_uniq.shape)\n",
    "# print(coord_id_S.shape,indices_S.shape,trj_id.shape,occ_density_S.shape)"
   ]
  },
  {
   "cell_type": "code",
   "execution_count": null,
   "metadata": {},
   "outputs": [],
   "source": [
    "\"\"\"Shape of split data\n",
    "    train_data: [tr_adjs, tr_coeffs, tr_energies]\n",
    "    test_data: [te_adjs, te_coeffs, te_energies]\n",
    "\"\"\"\n",
    "train_data,test_data = split_data(SIMS_adj_uniq,SIMS_scar_uniq,SIMS_G_uniq)  # multiple trj"
   ]
  },
  {
   "cell_type": "code",
   "execution_count": null,
   "metadata": {},
   "outputs": [],
   "source": []
  }
 ],
 "metadata": {
  "kernelspec": {
   "display_name": "Python 3.8.13 ('vida')",
   "language": "python",
   "name": "python3"
  },
  "language_info": {
   "codemirror_mode": {
    "name": "ipython",
    "version": 3
   },
   "file_extension": ".py",
   "mimetype": "text/x-python",
   "name": "python",
   "nbconvert_exporter": "python",
   "pygments_lexer": "ipython3",
   "version": "3.8.13"
  },
  "vscode": {
   "interpreter": {
    "hash": "e442af4fad2330d8f4febe7e8e7250535e161341429a4f0b93cbf21b824330cc"
   }
  }
 },
 "nbformat": 4,
 "nbformat_minor": 2
}
