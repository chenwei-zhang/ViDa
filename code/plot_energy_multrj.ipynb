{
 "cells": [
  {
   "cell_type": "markdown",
   "metadata": {},
   "source": [
    "# Plot embedded data"
   ]
  },
  {
   "cell_type": "code",
   "execution_count": null,
   "metadata": {},
   "outputs": [],
   "source": [
    "using NPZ, Printf, NNlib, Statistics, Plots, JLD2, LinearAlgebra, Distributions\n",
    "default(fmt = :png)"
   ]
  },
  {
   "cell_type": "code",
   "execution_count": null,
   "metadata": {},
   "outputs": [],
   "source": [
    "fname = \"helix_assos_PT0_multrj_100epoch\"\n",
    "\n",
    "data_h5 =load(\"data/helix_assos/$fname.h5\")"
   ]
  },
  {
   "cell_type": "markdown",
   "metadata": {},
   "source": [
    "## PCA Vis"
   ]
  },
  {
   "cell_type": "code",
   "execution_count": null,
   "metadata": {},
   "outputs": [],
   "source": [
    "# X=data_h5[\"pca_all_coords\"][1,:]; Y=data_h5[\"pca_all_coords\"][2,:]; Z=data_h5[\"pca_all_coords\"][3,:]; energy=data_h5[\"SIM_G\"];\n",
    "X=data_h5[\"pca_coords\"][1,:]; Y=data_h5[\"pca_coords\"][2,:]; Z=data_h5[\"pca_coords\"][3,:]; energy=data_h5[\"SIM_G_uniq\"]; occp=data_h5[\"occp\"]\n",
    "x = data_h5[\"pca_all_coords\"][1,:]; y = data_h5[\"pca_all_coords\"][2,:]; z = data_h5[\"pca_all_coords\"][3,:]\n",
    "size(X),size(Y),size(Z),size(energy),size(occp),size(x),size(y),size(z)"
   ]
  },
  {
   "cell_type": "code",
   "execution_count": null,
   "metadata": {},
   "outputs": [],
   "source": [
    "A = data_h5[\"pca_all_coords\"]\n",
    "a = data_h5[\"pca_all_coords\"][:,end]\n",
    "\n",
    "count=0\n",
    "trj_id = Int[]\n",
    "for i in 1:size(A)[2]\n",
    "    if A[:,i] == a\n",
    "        count = count + 1\n",
    "        append!(trj_id,i)\n",
    "    end\n",
    "end\n",
    "trj_id, count"
   ]
  },
  {
   "cell_type": "code",
   "execution_count": null,
   "metadata": {},
   "outputs": [],
   "source": [
    "# 2D\n",
    "# plotlyjs()\n",
    "gr()\n",
    "plot() \n",
    "\n",
    "scatter!(X,Y,zcolor=energy,m=cgrad(:plasma),markerstrokewidth=0,\n",
    "        markersize=4,legend=false)\n",
    "\n",
    "xlims!(minimum(X)*1.05,maximum(X)*1.05) \n",
    "ylims!(minimum(Y)*1.05,maximum(Y)*1.05)\n",
    "\n",
    "plot!([x[1]],[y[1]], seriestype = :scatter, markersize=8, color=cgrad(:greens)[.25],\n",
    "        series_annotations = [(\"I\",:center,10)])\n",
    "plot!([x[end]],[y[end]], seriestype = :scatter, markersize=8, color=cgrad(:greens)[.25],\n",
    "        series_annotations = [(\"F\",:center,10)])\n",
    "\n",
    "plot!(xlabel=\"X\", ylabel=\"Y\")\n",
    "\n",
    "# savefig(\"../plot/helix_assos/$(fname)_PCA.png\")"
   ]
  },
  {
   "cell_type": "code",
   "execution_count": null,
   "metadata": {},
   "outputs": [],
   "source": [
    "# 2D\n",
    "# plotlyjs()\n",
    "gr()\n",
    "plot()\n",
    "\n",
    "scatter!(X,Y,zcolor=occp,m=cgrad(:grays,rev=true),markerstrokewidth=0,markersize=4,legend=false)\n",
    "\n",
    "xlims!(minimum(X)*1.05,maximum(X)*1.05) \n",
    "ylims!(minimum(Y)*1.05,maximum(Y)*1.05)\n",
    "\n",
    "plot!([x[1]],[y[1]], seriestype = :scatter, markersize=8, color=cgrad(:greens)[.25],\n",
    "        series_annotations = [(\"I\",:center,10)])\n",
    "plot!([x[end]],[y[end]], seriestype = :scatter, markersize=8, color=cgrad(:greens)[.25],\n",
    "        series_annotations = [(\"F\",:center,10)])\n",
    "\n",
    "plot!(xlabel=\"X\", ylabel=\"Y\")\n",
    "\n",
    "# savefig(\"../plot/helix_assos/$(fname)_PCA.png\")"
   ]
  },
  {
   "cell_type": "code",
   "execution_count": null,
   "metadata": {},
   "outputs": [],
   "source": [
    "maximum(occp), argmax(occp), size(occp)"
   ]
  },
  {
   "cell_type": "code",
   "execution_count": null,
   "metadata": {},
   "outputs": [],
   "source": [
    "X[313], Y[313], occp[313]"
   ]
  },
  {
   "cell_type": "code",
   "execution_count": null,
   "metadata": {},
   "outputs": [],
   "source": [
    "x[439], y[439], occp[313]"
   ]
  },
  {
   "cell_type": "code",
   "execution_count": null,
   "metadata": {},
   "outputs": [],
   "source": [
    "# 2D\n",
    "# plotlyjs()\n",
    "gr()\n",
    "plot() \n",
    "\n",
    "scatter!(X,Y,zcolor=energy,m=cgrad(:plasma),markerstrokewidth=0,markersize=4,legend=false)\n",
    "\n",
    "xlims!(minimum(X)*1.05,maximum(X)*1.05) \n",
    "ylims!(minimum(Y)*1.05,maximum(Y)*1.05)\n",
    "\n",
    "XX = data_h5[\"pca_all_coords\"][1,1:trj_id[1]]\n",
    "YY = data_h5[\"pca_all_coords\"][2,1:trj_id[1]]\n",
    "plot!(XX,YY,color=palette(:grays)[1],linewidth=0.6,alpha=0.95)\n",
    "\n",
    "plot!([x[1]],[y[1]], seriestype = :scatter, markersize=8, color=cgrad(:greens)[.25],\n",
    "        series_annotations = [(\"I\",:center,10)])\n",
    "plot!([x[end]],[y[end]], seriestype = :scatter, markersize=8, color=cgrad(:greens)[.25],\n",
    "        series_annotations = [(\"F\",:center,10)])\n",
    "\n",
    "plot!(xlabel=\"X\", ylabel=\"Y\")\n",
    "\n",
    "# savefig(\"../plot/helix_assos/$(fname)_PCA.png\")"
   ]
  },
  {
   "cell_type": "code",
   "execution_count": null,
   "metadata": {},
   "outputs": [],
   "source": [
    "# 2D\n",
    "# plotlyjs()\n",
    "gr()\n",
    "plot() \n",
    "\n",
    "scatter!(X,Y,zcolor=energy,m=cgrad(:plasma),markerstrokewidth=0,markersize=4,legend=false)\n",
    "\n",
    "xlims!(minimum(X)*1.05,maximum(X)*1.05) \n",
    "ylims!(minimum(Y)*1.05,maximum(Y)*1.05)\n",
    "\n",
    "XX = data_h5[\"pca_all_coords\"][1,trj_id[2]+1:trj_id[3]]\n",
    "YY = data_h5[\"pca_all_coords\"][2,trj_id[2]+1:trj_id[3]]\n",
    "plot!(XX,YY,color=palette(:grays)[1],linewidth=0.9,alpha=1)\n",
    "\n",
    "plot!([x[1]],[y[1]], seriestype = :scatter, markersize=8, color=cgrad(:greens)[.25],\n",
    "        series_annotations = [(\"I\",:center,10)])\n",
    "plot!([x[end]],[y[end]], seriestype = :scatter, markersize=8, color=cgrad(:greens)[.25],\n",
    "        series_annotations = [(\"F\",:center,10)])\n",
    "\n",
    "plot!(xlabel=\"X\", ylabel=\"Y\")\n",
    "\n",
    "# savefig(\"../plot/helix_assos/$(fname)_PCA.png\")"
   ]
  },
  {
   "cell_type": "code",
   "execution_count": null,
   "metadata": {},
   "outputs": [],
   "source": [
    "# 2D\n",
    "# plotlyjs()\n",
    "gr()\n",
    "plot() \n",
    "\n",
    "scatter!(X,Y,zcolor=energy,m=cgrad(:plasma),markerstrokewidth=0,markersize=4,legend=false)\n",
    "\n",
    "xlims!(minimum(X)*1.05,maximum(X)*1.05) \n",
    "ylims!(minimum(Y)*1.05,maximum(Y)*1.05)\n",
    "\n",
    "XX = data_h5[\"pca_all_coords\"][1,trj_id[3]+1:trj_id[4]]\n",
    "YY = data_h5[\"pca_all_coords\"][2,trj_id[3]+1:trj_id[4]]\n",
    "plot!(XX,YY,color=palette(:grays)[1],linewidth=0.9,alpha=1)\n",
    "\n",
    "plot!([x[1]],[y[1]], seriestype = :scatter, markersize=8, color=cgrad(:greens)[.25],\n",
    "        series_annotations = [(\"I\",:center,10)])\n",
    "plot!([x[end]],[y[end]], seriestype = :scatter, markersize=8, color=cgrad(:greens)[.25],\n",
    "        series_annotations = [(\"F\",:center,10)])\n",
    "\n",
    "plot!(xlabel=\"X\", ylabel=\"Y\")\n",
    "\n",
    "# savefig(\"../plot/helix_assos/$(fname)_PCA.png\")"
   ]
  },
  {
   "cell_type": "code",
   "execution_count": null,
   "metadata": {},
   "outputs": [],
   "source": [
    "# 2D\n",
    "# plotlyjs()\n",
    "gr()\n",
    "plot() \n",
    "\n",
    "scatter!(X,Y,zcolor=energy,m=cgrad(:plasma),markerstrokewidth=0,markersize=4,legend=false)\n",
    "\n",
    "xlims!(minimum(X)*1.05,maximum(X)*1.05) \n",
    "ylims!(minimum(Y)*1.05,maximum(Y)*1.05)\n",
    "\n",
    "XX = data_h5[\"pca_all_coords\"][1,trj_id[1]+1:trj_id[2]]\n",
    "YY = data_h5[\"pca_all_coords\"][2,trj_id[1]+1:trj_id[2]]\n",
    "plot!(XX,YY,color=palette(:grays)[1],linewidth=0.9,alpha=1)\n",
    "\n",
    "plot!([x[1]],[y[1]], seriestype = :scatter, markersize=8, color=cgrad(:greens)[.25],\n",
    "        series_annotations = [(\"I\",:center,10)])\n",
    "plot!([x[end]],[y[end]], seriestype = :scatter, markersize=8, color=cgrad(:greens)[.25],\n",
    "        series_annotations = [(\"F\",:center,10)])\n",
    "\n",
    "plot!(xlabel=\"X\", ylabel=\"Y\")\n",
    "\n",
    "# savefig(\"../plot/helix_assos/$(fname)_PCA.png\")"
   ]
  },
  {
   "cell_type": "code",
   "execution_count": null,
   "metadata": {},
   "outputs": [],
   "source": [
    "# 2D\n",
    "# plotlyjs()\n",
    "gr()\n",
    "plot() \n",
    "\n",
    "scatter!(X,Y,zcolor=energy,m=cgrad(:plasma),markerstrokewidth=0,markersize=4,legend=false)\n",
    "\n",
    "xlims!(minimum(X)*1.05,maximum(X)*1.05) \n",
    "ylims!(minimum(Y)*1.05,maximum(Y)*1.05)\n",
    "\n",
    "XX = data_h5[\"pca_all_coords\"][1,trj_id[4]+1:trj_id[5]]\n",
    "YY = data_h5[\"pca_all_coords\"][2,trj_id[4]+1:trj_id[5]]\n",
    "plot!(XX,YY,color=palette(:grays)[1],linewidth=0.9,alpha=1)\n",
    "\n",
    "plot!([x[1]],[y[1]], seriestype = :scatter, markersize=8, color=cgrad(:greens)[.25],\n",
    "        series_annotations = [(\"I\",:center,10)])\n",
    "plot!([x[end]],[y[end]], seriestype = :scatter, markersize=8, color=cgrad(:greens)[.25],\n",
    "        series_annotations = [(\"F\",:center,10)])\n",
    "\n",
    "plot!(xlabel=\"X\", ylabel=\"Y\")\n",
    "\n",
    "# savefig(\"../plot/helix_assos/$(fname)_PCA.png\")"
   ]
  },
  {
   "cell_type": "code",
   "execution_count": null,
   "metadata": {},
   "outputs": [],
   "source": [
    "# 2D\n",
    "# plotlyjs()\n",
    "gr()\n",
    "plot() \n",
    "\n",
    "scatter!(X,Y,zcolor=energy,m=cgrad(:plasma),markerstrokewidth=0,markersize=4,legend=false)\n",
    "\n",
    "xlims!(minimum(X)*1.05,maximum(X)*1.05) \n",
    "ylims!(minimum(Y)*1.05,maximum(Y)*1.05)\n",
    "\n",
    "XX = data_h5[\"pca_all_coords\"][1,trj_id[6]+1:trj_id[7]]\n",
    "YY = data_h5[\"pca_all_coords\"][2,trj_id[6]+1:trj_id[7]]\n",
    "plot!(XX,YY,color=palette(:grays)[1],linewidth=0.9,alpha=1)\n",
    "\n",
    "plot!([x[1]],[y[1]], seriestype = :scatter, markersize=8, color=cgrad(:greens)[.25],\n",
    "        series_annotations = [(\"I\",:center,10)])\n",
    "plot!([x[end]],[y[end]], seriestype = :scatter, markersize=8, color=cgrad(:greens)[.25],\n",
    "        series_annotations = [(\"F\",:center,10)])\n",
    "\n",
    "plot!(xlabel=\"X\", ylabel=\"Y\")\n",
    "\n",
    "# savefig(\"../plot/helix_assos/$(fname)_PCA.png\")"
   ]
  },
  {
   "cell_type": "code",
   "execution_count": null,
   "metadata": {},
   "outputs": [],
   "source": [
    "# 3D\n",
    "gr()\n",
    "plot()\n",
    "\n",
    "scatter!(X,Y,Z,zcolor=energy,m=cgrad(:plasma),markerstrokewidth=0,markersize=3.5,legend=false)\n",
    "\n",
    "plot!([x[1]],[y[1]],[z[1]], seriestype = :scatter, markersize=8, color=cgrad(:greens)[.25],\n",
    "        series_annotations = [(\"I\",:center,10)])\n",
    "plot!([x[end]],[y[end]],[z[end]], seriestype = :scatter, markersize=8, color=cgrad(:reds)[.25],\n",
    "        series_annotations = [(\"F\",:center,10)]) \n",
    "\n",
    "#         plot!([x[1]],[y[1]], seriestype = :scatter, markersize=8, color=cgrad(:greens)[.25],\n",
    "#         series_annotations = [(\"I\",:center,10)])\n",
    "# plot!([x[end]],[y[end]], seriestype = :scatter, markersize=8, color=cgrad(:greens)[.25],\n",
    "#         series_annotations = [(\"F\",:center,10)])\n",
    "\n",
    "\n",
    "xlims!(minimum(X)*1.05,maximum(X)*1.05)\n",
    "ylims!(minimum(Y)*1.05,maximum(Y)*1.05)\n",
    "zlims!(minimum(Z)*1.05,maximum(Z)*1.05)\n",
    "        \n",
    "plot!(xlabel=\"X\", ylabel=\"Y\", zlabel = \"Energy\")\n",
    "\n",
    "# savefig(\"../plot/helix_assos/$(fname)_PCA_3D.png\")"
   ]
  },
  {
   "cell_type": "markdown",
   "metadata": {},
   "source": [
    "## PHATE Vis"
   ]
  },
  {
   "cell_type": "code",
   "execution_count": null,
   "metadata": {},
   "outputs": [],
   "source": [
    "X = data_h5[\"phate_coords\"][1,:]; Y = data_h5[\"phate_coords\"][2,:]; Z = data_h5[\"SIM_G_uniq\"]\n",
    "x = data_h5[\"phate_all_coords\"][1,:]; y = data_h5[\"phate_all_coords\"][2,:];"
   ]
  },
  {
   "cell_type": "code",
   "execution_count": null,
   "metadata": {},
   "outputs": [],
   "source": [
    "# 2D\n",
    "gr()\n",
    "plot()\n",
    "\n",
    "scatter!(X,Y,zcolor=Z,m=cgrad(:plasma),markerstrokewidth=0,markersize=4,legend=false)\n",
    "\n",
    "XX = data_h5[\"phate_all_coords\"][1,trj_id[3]+1:trj_id[4]]\n",
    "YY = data_h5[\"phate_all_coords\"][2,trj_id[3]+1:trj_id[4]]\n",
    "plot!(XX,YY,color=palette(:grays)[1],linewidth=0.9,alpha=1)\n",
    "\n",
    "plot!([x[1]],[y[1]], seriestype = :scatter, markersize=8, color=cgrad(:greens)[.25],\n",
    "        series_annotations = [(\"I\",:center,10)])\n",
    "plot!([x[end]],[y[end]], seriestype = :scatter, markersize=8, color=cgrad(:greens)[.25],\n",
    "        series_annotations = [(\"F\",:center,10)])\n",
    "\n",
    "plot!(xlabel=\"X\", ylabel=\"Y\")\n",
    "\n",
    "# savefig(\"../plot/helix_assos/$(fname)_PHATE.png\")"
   ]
  },
  {
   "cell_type": "code",
   "execution_count": null,
   "metadata": {},
   "outputs": [],
   "source": [
    "# 2D\n",
    "gr()\n",
    "plot()\n",
    "\n",
    "scatter!(X,Y,zcolor=occp,m=cgrad(:grays,rev=true),markerstrokewidth=0,markersize=4,legend=false)\n",
    "\n",
    "\n",
    "plot!([x[1]],[y[1]], seriestype = :scatter, markersize=8, color=cgrad(:greens)[.25],\n",
    "        series_annotations = [(\"I\",:center,10)])\n",
    "plot!([x[end]],[y[end]], seriestype = :scatter, markersize=8, color=cgrad(:greens)[.25],\n",
    "        series_annotations = [(\"F\",:center,10)])\n",
    "\n",
    "plot!(xlabel=\"X\", ylabel=\"Y\")\n",
    "\n",
    "# savefig(\"../plot/helix_assos/$(fname)_PHATE_occp.png\")"
   ]
  },
  {
   "cell_type": "code",
   "execution_count": null,
   "metadata": {},
   "outputs": [],
   "source": [
    "X[313], Y[313], occp[313]"
   ]
  },
  {
   "cell_type": "code",
   "execution_count": null,
   "metadata": {},
   "outputs": [],
   "source": []
  }
 ],
 "metadata": {
  "kernelspec": {
   "display_name": "Julia 1.7.1",
   "language": "julia",
   "name": "julia-1.7"
  },
  "language_info": {
   "file_extension": ".jl",
   "mimetype": "application/julia",
   "name": "julia",
   "version": "1.7.1"
  },
  "vscode": {
   "interpreter": {
    "hash": "960be4cf653645892f8c5040dafd36ede801108a57618a05d934dc04f8033a0a"
   }
  }
 },
 "nbformat": 4,
 "nbformat_minor": 2
}
