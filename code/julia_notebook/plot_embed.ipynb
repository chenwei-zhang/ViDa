{
 "cells": [
  {
   "cell_type": "markdown",
   "metadata": {},
   "source": [
    "# Plot embedded data"
   ]
  },
  {
   "cell_type": "code",
   "execution_count": null,
   "metadata": {},
   "outputs": [],
   "source": [
    "using NPZ, Printf, NNlib, Statistics, Plots, JLD2, LinearAlgebra, Distributions"
   ]
  },
  {
   "cell_type": "code",
   "execution_count": null,
   "metadata": {},
   "outputs": [],
   "source": [
    "pwd()"
   ]
  },
  {
   "cell_type": "markdown",
   "metadata": {},
   "source": [
    "## PCA Vis"
   ]
  },
  {
   "cell_type": "code",
   "execution_count": null,
   "metadata": {},
   "outputs": [],
   "source": [
    "data_npy = npzread(\"data/I1_0_pcaplot.npy\")"
   ]
  },
  {
   "cell_type": "markdown",
   "metadata": {},
   "source": [
    "### Plot PCA with 2 components X,Y-axes and energy as Z-axis with color"
   ]
  },
  {
   "cell_type": "code",
   "execution_count": null,
   "metadata": {},
   "outputs": [],
   "source": [
    "X = data_npy[\"pca1\"]; Y = data_npy[\"pca2\"]; Z = data_npy[\"energy\"];"
   ]
  },
  {
   "cell_type": "code",
   "execution_count": null,
   "metadata": {},
   "outputs": [],
   "source": [
    "# 2D\n",
    "plotlyjs()\n",
    "plot()\n",
    "\n",
    "scatter!(X,Y,zcolor=Z,m=cgrad(:plasma),markerstrokewidth=0,markersize=4,legend=false)\n",
    "\n",
    "plot!([X[1]],[Y[1]], seriestype = :scatter, markersize=7,markerstrokewidth=0,\n",
    "        color=color=palette(:lighttest)[4],markershape=:diamond,opacity=1) # Green for Si\n",
    "plot!([X[end]],[Y[end]], seriestype = :scatter, markersize=7,markerstrokewidth=0,\n",
    "        color=color=palette(:lighttest)[3],markershape=:diamond,opacity=1) # Blue for Sf\n",
    "plot!(xlabel=\"X\", ylabel=\"Y\")"
   ]
  },
  {
   "cell_type": "code",
   "execution_count": null,
   "metadata": {},
   "outputs": [],
   "source": [
    "# 2D gif\n",
    "gr()\n",
    "plot()\n",
    "\n",
    "anim = @animate for i in 1:length(X)\n",
    "    plot!([X[1]],[Y[1]], seriestype = :scatter, markersize=6,\n",
    "        color=palette(:lighttest)[4],markershape=:diamond,opacity=1,\n",
    "        markerstrokewidth=0) # Green for Si\n",
    "    plot!([X[end]],[Y[end]], seriestype = :scatter, markersize=6,\n",
    "        color=palette(:lighttest)[7],markershape=:diamond,opacity=1,\n",
    "        markerstrokewidth=0) # Red for Sf\n",
    "    scatter!([X[i]],[Y[i]],color=palette(:lighttest)[1],\n",
    "            markersize=5,markerstrokewidth=0,\n",
    "            legend=false,display_option=Plots.GR.OPTION_LINES,)#fps=5)\n",
    "    if i > 1\n",
    "        scatter!([X[i-1]],[Y[i-1]],color=cgrad(:Blues)[0.1],\n",
    "            markersize=5,markerstrokewidth=0,\n",
    "            legend=false,)#fps=1)\n",
    "    end\n",
    "    xlims!(floor(minimum(X)),ceil(maximum(X))) \n",
    "    ylims!(floor(minimum(Y)),ceil(maximum(Y)))\n",
    "    plot!(xlabel=\"X\", ylabel=\"Y\")\n",
    "    \n",
    "end #every 100\n",
    "\n",
    "gif(anim,\"../plot/pca2_2d_fps5.gif\", fps=5)"
   ]
  },
  {
   "cell_type": "code",
   "execution_count": null,
   "metadata": {},
   "outputs": [],
   "source": [
    "# 2D landscape gif\n",
    "gr()\n",
    "plot()\n",
    "\n",
    "anim = @animate for i in 1:length(X)\n",
    "    scatter!(X,Y,zcolor=Z,m=cgrad(:plasma),markerstrokewidth=0,markersize=5,legend=false)\n",
    "\n",
    "    plot!([X[1]],[Y[1]], seriestype = :scatter, markersize=7,\n",
    "        color=palette(:lighttest)[4],markershape=:diamond,opacity=1,\n",
    "        markerstrokewidth=0) # Green for Si\n",
    "    plot!([X[end]],[Y[end]], seriestype = :scatter, markersize=7,\n",
    "        color=palette(:lighttest)[3],markershape=:diamond,opacity=1,\n",
    "        markerstrokewidth=0) # Blue for Sf\n",
    "    scatter!([X[i]],[Y[i]],color=palette(:grays)[2],\n",
    "            markersize=4.5,markerstrokewidth=0,\n",
    "            legend=false,)#fps=5)\n",
    "\n",
    "    xlims!(floor(minimum(X)),ceil(maximum(X))) \n",
    "    ylims!(floor(minimum(Y)),ceil(maximum(Y)))\n",
    "    plot!(xlabel=\"X\", ylabel=\"Y\")\n",
    "    \n",
    "end #every 100\n",
    "\n",
    "gif(anim,\"../plot/pca2_gifland_fps5.gif\", fps=5)"
   ]
  },
  {
   "cell_type": "code",
   "execution_count": null,
   "metadata": {},
   "outputs": [],
   "source": [
    "# 3D\n",
    "plotlyjs()\n",
    "plot()\n",
    "\n",
    "scatter!(X,Y,Z,zcolor=Z,m=cgrad(:plasma),markerstrokewidth=0,markersize=2,legend=false)\n",
    "\n",
    "plot!([X[1]],[Y[1]],[Z[1]], seriestype = :scatter, markersize=3,\n",
    "        color=color=palette(:lighttest)[4],markershape=:diamond,opacity=0.8) # Green for Si\n",
    "plot!([X[end]],[Y[end]],[Z[end]], seriestype = :scatter, markersize=3,\n",
    "        color=color=palette(:lighttest)[7],markershape=:diamond,opacity=0.8) # Red for Sf\n",
    "plot!(xlabel=\"X\", ylabel=\"Y\", zlabel = \"Energy\")\n"
   ]
  },
  {
   "cell_type": "code",
   "execution_count": null,
   "metadata": {},
   "outputs": [],
   "source": [
    "# 3D gif\n",
    "gr()\n",
    "plot()\n",
    "\n",
    "anim = @animate for i in 1:length(X)\n",
    "    plot!([X[1]],[Y[1]],[Z[1]], seriestype = :scatter, markersize=6,\n",
    "        color=palette(:lighttest)[4],markershape=:diamond,opacity=1,\n",
    "        markerstrokewidth=0) # Green for Si\n",
    "    plot!([X[end]],[Y[end]],[Z[end]], seriestype = :scatter, markersize=6,\n",
    "        color=palette(:lighttest)[7],markershape=:diamond,opacity=1,\n",
    "        markerstrokewidth=0) # Red for Sf\n",
    "    scatter!([X[i]],[Y[i]],[Z[i]],color=palette(:lighttest)[1],\n",
    "            markersize=5,markerstrokewidth=0,\n",
    "            legend=false,)#fps=5)\n",
    "    if i > 1\n",
    "        scatter!([X[i-1]],[Y[i-1]],[Z[i-1]],color=cgrad(:Blues)[0.1],\n",
    "            markersize=5,markerstrokewidth=0,\n",
    "            legend=false,)#fps=1)\n",
    "    end\n",
    "    xlims!(floor(minimum(X)),ceil(maximum(X))); ylims!(floor(minimum(Y)),ceil(maximum(Y))),\n",
    "        zlims!(floor(minimum(Z)),ceil(maximum(Z)))\n",
    "    plot!(xlabel=\"X\", ylabel=\"Y\", zlabel = \"Energy\")\n",
    "    \n",
    "end #every 100\n",
    "\n",
    "gif(anim,\"../plot/pca2_zcolorG_fps5.gif\", fps=5)"
   ]
  },
  {
   "cell_type": "markdown",
   "metadata": {},
   "source": [
    "### Plot PCA with 3 components X,Y,Z-axes, and energy as color "
   ]
  },
  {
   "cell_type": "code",
   "execution_count": null,
   "metadata": {},
   "outputs": [],
   "source": [
    "X=data_npy[\"pca1\"]; Y=data_npy[\"pca2\"]; Z=data_npy[\"pca3\"]; energy=data_npy[\"energy\"];"
   ]
  },
  {
   "cell_type": "code",
   "execution_count": null,
   "metadata": {},
   "outputs": [],
   "source": [
    "# 3D\n",
    "plotlyjs()\n",
    "plot()\n",
    "\n",
    "scatter!(X,Y,Z,zcolor=energy,m=cgrad(:plasma),markerstrokewidth=0,markersize=2,legend=false)\n",
    "\n",
    "plot!([X[1]],[Y[1]],[Z[1]], seriestype = :scatter, markersize=3,\n",
    "        color=palette(:lighttest)[4],markershape=:diamond,opacity=0.8) # Green for Si\n",
    "plot!([X[end]],[Y[end]],[Z[end]], seriestype = :scatter, markersize=3,\n",
    "        color=palette(:lighttest)[7],markershape=:diamond,opacity=0.8) # Red for Sf\n",
    "plot!(xlabel=\"X\", ylabel=\"Y\", zlabel = \"Energy\")\n"
   ]
  },
  {
   "cell_type": "markdown",
   "metadata": {},
   "source": []
  },
  {
   "cell_type": "code",
   "execution_count": null,
   "metadata": {},
   "outputs": [],
   "source": [
    "# 3D gif\n",
    "gr()\n",
    "plot()\n",
    "\n",
    "anim = @animate for i in 1:length(X)\n",
    "    plot!([X[1]],[Y[1]],[Z[1]], seriestype = :scatter, markersize=6,\n",
    "        color=palette(:lighttest)[4],markershape=:diamond,opacity=1,\n",
    "        markerstrokewidth=0) # Green for Si\n",
    "    plot!([X[end]],[Y[end]],[Z[end]], seriestype = :scatter, markersize=6,\n",
    "        color=palette(:lighttest)[7],markershape=:diamond,opacity=1,\n",
    "        markerstrokewidth=0) # Red for Sf\n",
    "    scatter!([X[i]],[Y[i]],[Z[i]],color=palette(:lighttest)[1],\n",
    "            markersize=5,markerstrokewidth=0,\n",
    "            legend=false,display_option=Plots.GR.OPTION_LINES,)#fps=5)\n",
    "    if i > 1\n",
    "        scatter!([X[i-1]],[Y[i-1]],[Z[i-1]],color=cgrad(:Blues)[0.1],\n",
    "            markersize=5,markerstrokewidth=0,\n",
    "            legend=false,)#fps=1)\n",
    "    end\n",
    "    xlims!(floor(minimum(X)),ceil(maximum(X))); ylims!(floor(minimum(Y)),ceil(maximum(Y))),\n",
    "        zlims!(floor(minimum(Z)),ceil(maximum(Z)))\n",
    "    plot!(xlabel=\"X\", ylabel=\"Y\", zlabel = \"Energy\") # camera=(32,3)\n",
    "    \n",
    "end #every 100\n",
    "\n",
    "gif(anim,\"../plot/pca3_zcolorG_fps5.gif\", fps=5)"
   ]
  },
  {
   "cell_type": "code",
   "execution_count": null,
   "metadata": {},
   "outputs": [],
   "source": []
  },
  {
   "cell_type": "markdown",
   "metadata": {},
   "source": [
    "## PHATE Vis"
   ]
  },
  {
   "cell_type": "code",
   "execution_count": null,
   "metadata": {},
   "outputs": [],
   "source": [
    "phate_npy = npzread(\"data/I1_0_phateplot.npy\")"
   ]
  },
  {
   "cell_type": "code",
   "execution_count": null,
   "metadata": {},
   "outputs": [],
   "source": [
    "X = phate_npy[\"phate\"][:,1]; Y = phate_npy[\"phate\"][:,2]; Z = phate_npy[\"energy\"];"
   ]
  },
  {
   "cell_type": "code",
   "execution_count": null,
   "metadata": {},
   "outputs": [],
   "source": [
    "# 2D\n",
    "plotlyjs()\n",
    "plot()\n",
    "\n",
    "scatter!(X,Y,zcolor=Z,m=cgrad(:plasma),markerstrokewidth=0,markersize=4,legend=false)\n",
    "\n",
    "plot!([X[1]],[Y[1]], seriestype = :scatter, markersize=7,markerstrokewidth=0,\n",
    "        color=color=palette(:lighttest)[4],markershape=:diamond,opacity=1) # Green for Si\n",
    "plot!([X[end]],[Y[end]], seriestype = :scatter, markersize=7,markerstrokewidth=0,\n",
    "        color=color=palette(:lighttest)[3],markershape=:diamond,opacity=1) # Blue for Sf\n",
    "plot!(xlabel=\"X\", ylabel=\"Y\")"
   ]
  },
  {
   "cell_type": "code",
   "execution_count": null,
   "metadata": {},
   "outputs": [],
   "source": [
    "minimum(X),maximum(X),minimum(Y),maximum(Y)"
   ]
  },
  {
   "cell_type": "code",
   "execution_count": null,
   "metadata": {},
   "outputs": [],
   "source": [
    "# 2D gif\n",
    "gr()\n",
    "plot()\n",
    "\n",
    "anim = @animate for i in 1:length(X)\n",
    "    plot!([X[1]],[Y[1]], seriestype = :scatter, markersize=6,\n",
    "        color=palette(:lighttest)[4],markershape=:diamond,opacity=1,\n",
    "        markerstrokewidth=0) # Green for Si\n",
    "    plot!([X[end]],[Y[end]], seriestype = :scatter, markersize=6,\n",
    "        color=palette(:lighttest)[7],markershape=:diamond,opacity=1,\n",
    "        markerstrokewidth=0) # Red for Sf\n",
    "    scatter!([X[i]],[Y[i]],color=palette(:lighttest)[1],\n",
    "            markersize=5,markerstrokewidth=0,\n",
    "            legend=false,)#fps=5)\n",
    "    if i > 1\n",
    "        scatter!([X[i-1]],[Y[i-1]],color=cgrad(:Blues)[0.1],\n",
    "            markersize=5,markerstrokewidth=0,\n",
    "            legend=false,)#fps=1)\n",
    "    end\n",
    "    xlims!(-0.055,0.055) \n",
    "    ylims!(-0.035,0.055)\n",
    "    plot!(xlabel=\"X\", ylabel=\"Y\")\n",
    "    \n",
    "end #every 100\n",
    "\n",
    "gif(anim,\"../plot/phate2_2d_fps5.gif\", fps=5)"
   ]
  },
  {
   "cell_type": "code",
   "execution_count": null,
   "metadata": {},
   "outputs": [],
   "source": [
    "# 2D landscape gif\n",
    "gr()\n",
    "plot()\n",
    "\n",
    "anim = @animate for i in 1:length(X)\n",
    "    scatter!(X,Y,zcolor=Z,m=cgrad(:plasma),markerstrokewidth=0,markersize=5,legend=false)\n",
    "\n",
    "    plot!([X[1]],[Y[1]], seriestype = :scatter, markersize=7,\n",
    "        color=palette(:lighttest)[4],markershape=:diamond,opacity=1,\n",
    "        markerstrokewidth=0) # Green for Si\n",
    "    plot!([X[end]],[Y[end]], seriestype = :scatter, markersize=7,\n",
    "        color=palette(:lighttest)[3],markershape=:diamond,opacity=1,\n",
    "        markerstrokewidth=0) # Blue for Sf\n",
    "    scatter!([X[i]],[Y[i]],color=palette(:grays)[2],\n",
    "            markersize=4.5,markerstrokewidth=0,\n",
    "            legend=false,)#fps=5)\n",
    "\n",
    "    # if i > 1\n",
    "    #     scatter!([X[i-1]],[Y[i-1]],color=cgrad(:Blues)[0.1],\n",
    "    #         markersize=5,markerstrokewidth=0,\n",
    "    #         legend=false,)#fps=1)\n",
    "    # end\n",
    "    xlims!(-0.055,0.055) \n",
    "    ylims!(-0.035,0.055)\n",
    "    plot!(xlabel=\"X\", ylabel=\"Y\")\n",
    "    \n",
    "end #every 100\n",
    "\n",
    "gif(anim,\"../plot/phate2_gifland_fps5.gif\", fps=5)"
   ]
  },
  {
   "cell_type": "code",
   "execution_count": null,
   "metadata": {},
   "outputs": [],
   "source": []
  },
  {
   "cell_type": "code",
   "execution_count": null,
   "metadata": {},
   "outputs": [],
   "source": []
  },
  {
   "cell_type": "code",
   "execution_count": null,
   "metadata": {},
   "outputs": [],
   "source": [
    "# 2D gif test \n",
    "plotlyjs()\n",
    "plot()\n",
    "\n",
    "scatter!(X,Y,zcolor=Z,m=cgrad(:plasma),markerstrokewidth=0,markersize=4,legend=false)\n",
    "\n",
    "plot!([X[1]],[Y[1]], seriestype = :scatter, markersize=7,markerstrokewidth=0,\n",
    "        color=color=palette(:lighttest)[4],markershape=:diamond,opacity=1) # Green for Si\n",
    "plot!([X[end]],[Y[end]], seriestype = :scatter, markersize=7,markerstrokewidth=0,\n",
    "        color=color=palette(:lighttest)[3],markershape=:diamond,opacity=1) # Blue for Sf\n",
    "plot!(xlabel=\"X\", ylabel=\"Y\")"
   ]
  },
  {
   "cell_type": "code",
   "execution_count": null,
   "metadata": {},
   "outputs": [],
   "source": []
  }
 ],
 "metadata": {
  "kernelspec": {
   "display_name": "Julia 1.7.1",
   "language": "julia",
   "name": "julia-1.7"
  },
  "language_info": {
   "file_extension": ".jl",
   "mimetype": "application/julia",
   "name": "julia",
   "version": "1.7.1"
  }
 },
 "nbformat": 4,
 "nbformat_minor": 2
}
